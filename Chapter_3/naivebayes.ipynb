{
 "cells": [
  {
   "cell_type": "code",
   "execution_count": 14,
   "outputs": [],
   "source": [
    "import pandas as pd\n",
    "from pgmpy.models import NaiveBayes"
   ],
   "metadata": {
    "collapsed": false,
    "ExecuteTime": {
     "end_time": "2023-11-04T05:00:27.983216Z",
     "start_time": "2023-11-04T05:00:27.976629Z"
    }
   },
   "id": "9eca7d6ad6e4170"
  },
  {
   "cell_type": "markdown",
   "source": [
    "weather = NaiveBayes()\n",
    "values = pd.read_csv(\"play.csv\")\n",
    "print(values)\n"
   ],
   "metadata": {
    "collapsed": false
   },
   "id": "66d20295f58f25f0"
  },
  {
   "cell_type": "code",
   "execution_count": 15,
   "outputs": [
    {
     "name": "stdout",
     "output_type": "stream",
     "text": [
      "+-----------+----------+\n",
      "| play(no)  | 0.357143 |\n",
      "+-----------+----------+\n",
      "| play(yes) | 0.642857 |\n",
      "+-----------+----------+\n",
      "+-------------------+----------+--------------------+\n",
      "| play              | play(no) | play(yes)          |\n",
      "+-------------------+----------+--------------------+\n",
      "| outlook(overcast) | 0.0      | 0.4444444444444444 |\n",
      "+-------------------+----------+--------------------+\n",
      "| outlook(rainy)    | 0.4      | 0.3333333333333333 |\n",
      "+-------------------+----------+--------------------+\n",
      "| outlook(sunny)    | 0.6      | 0.2222222222222222 |\n",
      "+-------------------+----------+--------------------+\n",
      "+-------------------+----------+--------------------+\n",
      "| play              | play(no) | play(yes)          |\n",
      "+-------------------+----------+--------------------+\n",
      "| temperature(cool) | 0.2      | 0.3333333333333333 |\n",
      "+-------------------+----------+--------------------+\n",
      "| temperature(hot ) | 0.4      | 0.2222222222222222 |\n",
      "+-------------------+----------+--------------------+\n",
      "| temperature(mild) | 0.4      | 0.4444444444444444 |\n",
      "+-------------------+----------+--------------------+\n",
      "+------------------+----------+--------------------+\n",
      "| play             | play(no) | play(yes)          |\n",
      "+------------------+----------+--------------------+\n",
      "| humidity(high)   | 0.8      | 0.3333333333333333 |\n",
      "+------------------+----------+--------------------+\n",
      "| humidity(normal) | 0.2      | 0.6666666666666666 |\n",
      "+------------------+----------+--------------------+\n",
      "+--------------+----------+--------------------+\n",
      "| play         | play(no) | play(yes)          |\n",
      "+--------------+----------+--------------------+\n",
      "| windy(False) | 0.4      | 0.6666666666666666 |\n",
      "+--------------+----------+--------------------+\n",
      "| windy(True)  | 0.6      | 0.3333333333333333 |\n",
      "+--------------+----------+--------------------+\n"
     ]
    }
   ],
   "source": [
    "weather.fit(values, \"play\")\n",
    "for cpd in weather.get_cpds():\n",
    "    print(cpd)"
   ],
   "metadata": {
    "collapsed": false,
    "ExecuteTime": {
     "end_time": "2023-11-04T05:02:11.197713Z",
     "start_time": "2023-11-04T05:02:11.108649Z"
    }
   },
   "id": "fe63156ca80b848f"
  },
  {
   "cell_type": "code",
   "execution_count": 12,
   "outputs": [],
   "source": [
    "from pgmpy.models import BayesianNetwork\n",
    "classifier: BayesianNetwork = BayesianNetwork()\n",
    "classifier.add_nodes_from([\"outlook\", \"temperature\", \"humidity\", \"windy\", \"play\"])\n",
    "classifier.add_edges_from(\n",
    "    [\n",
    "        (\"play\", \"outlook\"),\n",
    "        (\"play\", \"temperature\"),\n",
    "        (\"play\", \"humidity\"),\n",
    "        (\"play\", \"windy\"),\n",
    "    ]\n",
    ")"
   ],
   "metadata": {
    "collapsed": false,
    "ExecuteTime": {
     "end_time": "2023-09-16T06:27:02.334639Z",
     "start_time": "2023-09-16T06:27:02.299712Z"
    }
   },
   "id": "8141120eac3464e1"
  },
  {
   "cell_type": "code",
   "execution_count": 13,
   "outputs": [],
   "source": [
    "from graphics import dagviz\n",
    "dagviz(classifier.nodes(), classifier.edges(), \"weather\")"
   ],
   "metadata": {
    "collapsed": false,
    "ExecuteTime": {
     "end_time": "2023-09-16T06:28:00.470295Z",
     "start_time": "2023-09-16T06:27:59.637214Z"
    }
   },
   "id": "9e07c517d759474c"
  },
  {
   "cell_type": "code",
   "execution_count": 15,
   "outputs": [
    {
     "name": "stdout",
     "output_type": "stream",
     "text": [
      "[0.36 0.64]\n",
      "['play']\n",
      "True\n"
     ]
    }
   ],
   "source": [
    "from pgmpy.factors.discrete import TabularCPD\n",
    "cpd_play = TabularCPD(variable=\"play\", variable_card=2, values=[[0.36], [0.64]])\n",
    "print(cpd_play.values)\n",
    "print(cpd_play.variables)\n",
    "print(cpd_play.is_valid_cpd())"
   ],
   "metadata": {
    "collapsed": false,
    "ExecuteTime": {
     "end_time": "2023-09-16T06:31:01.510036Z",
     "start_time": "2023-09-16T06:31:01.432800Z"
    }
   },
   "id": "a02b8e2016645a78"
  },
  {
   "cell_type": "code",
   "execution_count": 16,
   "outputs": [
    {
     "name": "stdout",
     "output_type": "stream",
     "text": [
      "[[0.   0.45]\n",
      " [0.4  0.33]\n",
      " [0.6  0.22]]\n",
      "['outlook', 'play']\n",
      "True\n"
     ]
    }
   ],
   "source": [
    "cpd_outlook = TabularCPD(\n",
    "    variable=\"outlook\",\n",
    "    variable_card=3,\n",
    "    values=[\n",
    "        [0.0, 0.45],\n",
    "        [0.4, 0.33],\n",
    "        [0.6, 0.22],\n",
    "    ],\n",
    "    evidence=[\"play\"],\n",
    "    evidence_card=[2],\n",
    ")\n",
    "print(cpd_outlook.values)\n",
    "print(cpd_outlook.variables)\n",
    "print(cpd_outlook.is_valid_cpd())"
   ],
   "metadata": {
    "collapsed": false,
    "ExecuteTime": {
     "end_time": "2023-09-16T06:31:29.766278Z",
     "start_time": "2023-09-16T06:31:29.718006Z"
    }
   },
   "id": "ffd2795bb80b6fc3"
  },
  {
   "cell_type": "code",
   "execution_count": 17,
   "outputs": [
    {
     "name": "stdout",
     "output_type": "stream",
     "text": [
      "[[0.2  0.33]\n",
      " [0.4  0.22]\n",
      " [0.4  0.45]]\n",
      "['temperature', 'play']\n",
      "True\n"
     ]
    }
   ],
   "source": [
    "cpd_temperature = TabularCPD(\n",
    "    variable=\"temperature\",\n",
    "    variable_card=3,\n",
    "    values=[\n",
    "        [0.2, 0.33],\n",
    "        [0.4, 0.22],\n",
    "        [0.4, 0.45],\n",
    "    ],\n",
    "    evidence=[\"play\"],\n",
    "    evidence_card=[2],\n",
    ")\n",
    "print(cpd_temperature.values)\n",
    "print(cpd_temperature.variables)\n",
    "print(cpd_temperature.is_valid_cpd())"
   ],
   "metadata": {
    "collapsed": false,
    "ExecuteTime": {
     "end_time": "2023-09-16T06:31:57.045283Z",
     "start_time": "2023-09-16T06:31:57.009726Z"
    }
   },
   "id": "ebe90d38a1a083c2"
  },
  {
   "cell_type": "code",
   "execution_count": 18,
   "outputs": [
    {
     "name": "stdout",
     "output_type": "stream",
     "text": [
      "[[0.8  0.33]\n",
      " [0.2  0.67]]\n",
      "['humidity', 'play']\n",
      "True\n"
     ]
    }
   ],
   "source": [
    "cpd_humidity = TabularCPD(\n",
    "    variable=\"humidity\",\n",
    "    variable_card=2,\n",
    "    values=[\n",
    "        [0.8, 0.33],\n",
    "        [0.2, 0.67],\n",
    "    ],\n",
    "    evidence=[\"play\"],\n",
    "    evidence_card=[2],\n",
    ")\n",
    "print(cpd_humidity.values)\n",
    "print(cpd_humidity.variables)\n",
    "print(cpd_humidity.is_valid_cpd())"
   ],
   "metadata": {
    "collapsed": false,
    "ExecuteTime": {
     "end_time": "2023-09-16T06:32:22.937537Z",
     "start_time": "2023-09-16T06:32:22.903077Z"
    }
   },
   "id": "d438162b84477cf5"
  },
  {
   "cell_type": "code",
   "execution_count": 19,
   "outputs": [
    {
     "name": "stdout",
     "output_type": "stream",
     "text": [
      "[[0.4  0.67]\n",
      " [0.6  0.33]]\n",
      "['windy', 'play']\n",
      "True\n"
     ]
    }
   ],
   "source": [
    "cpd_windy = TabularCPD(\n",
    "    variable=\"windy\",\n",
    "    variable_card=2,\n",
    "    values=[\n",
    "        [0.4, 0.67],\n",
    "        [0.6, 0.33],\n",
    "    ],\n",
    "    evidence=[\"play\"],\n",
    "    evidence_card=[2],\n",
    ")\n",
    "print(cpd_windy.values)\n",
    "print(cpd_windy.variables)\n",
    "print(cpd_windy.is_valid_cpd())\n"
   ],
   "metadata": {
    "collapsed": false,
    "ExecuteTime": {
     "end_time": "2023-09-16T06:32:50.341119Z",
     "start_time": "2023-09-16T06:32:50.300526Z"
    }
   },
   "id": "b86d0de4a5e33582"
  },
  {
   "cell_type": "code",
   "execution_count": 20,
   "outputs": [
    {
     "name": "stdout",
     "output_type": "stream",
     "text": [
      "True\n"
     ]
    }
   ],
   "source": [
    "classifier.add_cpds(cpd_play, cpd_outlook, cpd_temperature, cpd_humidity, cpd_windy)\n",
    "print(classifier.check_model())"
   ],
   "metadata": {
    "collapsed": false,
    "ExecuteTime": {
     "end_time": "2023-09-16T06:33:36.464682Z",
     "start_time": "2023-09-16T06:33:36.427692Z"
    }
   },
   "id": "2de774e519b871c1"
  },
  {
   "cell_type": "code",
   "execution_count": 16,
   "outputs": [],
   "source": [
    "states = {\n",
    "    \"play\": {\"no\": 0, \"yes\": 1},\n",
    "    \"outlook\": {\"overcast\": 0, \"rainy\": 1, \"sunny\": 2},\n",
    "    \"temperature\": {\"cool\": 0, \"hot\": 1, \"mild\": 2},\n",
    "    \"humidity\": {\"high\": 0, \"normal\": 1},\n",
    "    \"windy\": {\"False\": 0, \"True\": 1},\n",
    "}"
   ],
   "metadata": {
    "collapsed": false,
    "ExecuteTime": {
     "end_time": "2023-11-04T05:55:42.689055Z",
     "start_time": "2023-11-04T05:55:42.659562Z"
    }
   },
   "id": "353b55245c3cd59"
  },
  {
   "cell_type": "code",
   "execution_count": 17,
   "outputs": [],
   "source": [
    "def state_dict(var):\n",
    "    return states[var]"
   ],
   "metadata": {
    "collapsed": false,
    "ExecuteTime": {
     "end_time": "2023-11-04T05:55:47.905756Z",
     "start_time": "2023-11-04T05:55:47.896966Z"
    }
   },
   "id": "ddf5240019c4266f"
  },
  {
   "cell_type": "code",
   "execution_count": 18,
   "outputs": [
    {
     "name": "stdout",
     "output_type": "stream",
     "text": [
      "{'no': 0, 'yes': 1}\n"
     ]
    }
   ],
   "source": [
    "print(state_dict(\"play\"))"
   ],
   "metadata": {
    "collapsed": false,
    "ExecuteTime": {
     "end_time": "2023-11-04T05:56:26.476182Z",
     "start_time": "2023-11-04T05:56:26.457259Z"
    }
   },
   "id": "b894c28d46759b49"
  },
  {
   "cell_type": "code",
   "execution_count": 22,
   "outputs": [],
   "source": [
    "def get_var_state_dict(var):\n",
    "    states = {\n",
    "        \"play\": {\"no\": 0, \"yes\": 1},\n",
    "        \"outlook\": {\"overcast\": 0, \"rainy\": 1, \"sunny\": 2},\n",
    "        \"temperature\": {\"cool\": 0, \"hot\": 1, \"mild\": 2},\n",
    "        \"humidity\": {\"high\": 0, \"normal\": 1},\n",
    "        \"windy\": {\"False\": 0, \"True\": 1},\n",
    "    }\n",
    "    dict = states[var]\n",
    "    return dict"
   ],
   "metadata": {
    "collapsed": false,
    "ExecuteTime": {
     "end_time": "2023-11-04T05:58:34.109827Z",
     "start_time": "2023-11-04T05:58:34.102964Z"
    }
   },
   "id": "fd43f6ff34ce13e0"
  },
  {
   "cell_type": "code",
   "execution_count": 23,
   "outputs": [
    {
     "name": "stdout",
     "output_type": "stream",
     "text": [
      "{'no': 0, 'yes': 1}\n"
     ]
    }
   ],
   "source": [
    "print(get_var_state_dict(\"play\"))"
   ],
   "metadata": {
    "collapsed": false,
    "ExecuteTime": {
     "end_time": "2023-11-04T05:58:38.981275Z",
     "start_time": "2023-11-04T05:58:38.960214Z"
    }
   },
   "id": "6ec173d891916805"
  },
  {
   "cell_type": "code",
   "execution_count": 22,
   "outputs": [],
   "source": [
    "def state_index(var, state):\n",
    "    dict = state_dict(var)\n",
    "    return dict[state]"
   ],
   "metadata": {
    "collapsed": false,
    "ExecuteTime": {
     "end_time": "2023-09-16T07:14:47.693921Z",
     "start_time": "2023-09-16T07:14:47.633769Z"
    }
   },
   "id": "c5d78e40b2f1d987"
  },
  {
   "cell_type": "code",
   "execution_count": 28,
   "outputs": [],
   "source": [
    "def map_evidence(dict):\n",
    "    for k in dict:\n",
    "        val = dict[k]\n",
    "        val2 = state_index(k, val)\n",
    "        dict[k] = val2\n",
    "    return dict"
   ],
   "metadata": {
    "collapsed": false,
    "ExecuteTime": {
     "end_time": "2023-09-16T07:19:49.940255Z",
     "start_time": "2023-09-16T07:19:49.860995Z"
    }
   },
   "id": "3a36653427703cea"
  },
  {
   "cell_type": "code",
   "execution_count": 29,
   "outputs": [
    {
     "name": "stdout",
     "output_type": "stream",
     "text": [
      "{'outlook': 1, 'windy': 0}\n"
     ]
    }
   ],
   "source": [
    "print(map_evidence({\"outlook\": \"rainy\", \"windy\": \"False\"}))"
   ],
   "metadata": {
    "collapsed": false,
    "ExecuteTime": {
     "end_time": "2023-09-16T07:19:53.139163Z",
     "start_time": "2023-09-16T07:19:53.122381Z"
    }
   },
   "id": "4cd6f149ee4ff8ab"
  },
  {
   "cell_type": "code",
   "execution_count": 34,
   "outputs": [],
   "source": [
    "from pgmpy.inference import BeliefPropagation\n",
    "def classify(evidence):\n",
    "    belief_propagation = BeliefPropagation(classifier)\n",
    "    evidence2 = map_evidence(evidence)\n",
    "    res = belief_propagation.query(\n",
    "        # variables=[\"play\"], evidence={\"outlook\": 2, \"humidity\": 0}\n",
    "        variables=[\"play\"],\n",
    "        evidence=evidence2,\n",
    "    )\n",
    "    return res"
   ],
   "metadata": {
    "collapsed": false,
    "ExecuteTime": {
     "end_time": "2023-09-16T11:12:08.557860Z",
     "start_time": "2023-09-16T11:12:08.502641Z"
    }
   },
   "id": "2e6f1a77207f7fd8"
  },
  {
   "cell_type": "code",
   "execution_count": 35,
   "outputs": [
    {
     "name": "stdout",
     "output_type": "stream",
     "text": [
      "If outlook = sunny and humidity = high then \n",
      " +---------+-------------+\n",
      "| play    |   phi(play) |\n",
      "+=========+=============+\n",
      "| play(0) |      0.7881 |\n",
      "+---------+-------------+\n",
      "| play(1) |      0.2119 |\n",
      "+---------+-------------+\n"
     ]
    }
   ],
   "source": [
    "# If outlook = sunny and humidity = high then play = no\n",
    "res1 = classify({\"outlook\": \"sunny\", \"humidity\": \"high\"})\n",
    "print(\"If outlook = sunny and humidity = high then \\n\", res1)"
   ],
   "metadata": {
    "collapsed": false,
    "ExecuteTime": {
     "end_time": "2023-09-16T11:12:13.347359Z",
     "start_time": "2023-09-16T11:12:13.310177Z"
    }
   },
   "id": "6a4b97923ad29476"
  },
  {
   "cell_type": "code",
   "execution_count": 36,
   "outputs": [
    {
     "name": "stdout",
     "output_type": "stream",
     "text": [
      "If outlook = overcast and temperature = mild and windy = False then \n",
      " +---------+-------------+\n",
      "| play    |   phi(play) |\n",
      "+=========+=============+\n",
      "| play(0) |      0.0000 |\n",
      "+---------+-------------+\n",
      "| play(1) |      1.0000 |\n",
      "+---------+-------------+\n"
     ]
    }
   ],
   "source": [
    "# If outlook = overcast and temperature = mild and windy = False then play = no\n",
    "res2 = classify({\"outlook\": \"overcast\", \"temperature\": \"mild\", \"windy\": \"False\"})\n",
    "print(\"If outlook = overcast and temperature = mild and windy = False then \\n\", res2)"
   ],
   "metadata": {
    "collapsed": false,
    "ExecuteTime": {
     "end_time": "2023-09-16T11:29:42.860375Z",
     "start_time": "2023-09-16T11:29:42.760489Z"
    }
   },
   "id": "d892a3626687b668"
  },
  {
   "cell_type": "code",
   "execution_count": 37,
   "outputs": [
    {
     "name": "stdout",
     "output_type": "stream",
     "text": [
      "If outlook = overcast and temperature = mild and windy = False then \n",
      " +---------+-------------+\n",
      "| play    |   phi(play) |\n",
      "+=========+=============+\n",
      "| play(0) |      0.0000 |\n",
      "+---------+-------------+\n",
      "| play(1) |      1.0000 |\n",
      "+---------+-------------+\n"
     ]
    }
   ],
   "source": [
    "# If outlook = overcast and temperature = mild and windy = False then play = no\n",
    "res2 = classify({\"outlook\": \"overcast\", \"temperature\": \"mild\", \"windy\": \"False\"})\n",
    "print(\"If outlook = overcast and temperature = mild and windy = False then \\n\", res2)"
   ],
   "metadata": {
    "collapsed": false,
    "ExecuteTime": {
     "end_time": "2023-09-16T11:31:29.929915Z",
     "start_time": "2023-09-16T11:31:29.855892Z"
    }
   },
   "id": "80ffc341433eec6f"
  },
  {
   "cell_type": "code",
   "execution_count": null,
   "outputs": [],
   "source": [],
   "metadata": {
    "collapsed": false
   },
   "id": "d969ba14e17821e0"
  }
 ],
 "metadata": {
  "kernelspec": {
   "display_name": "Python 3",
   "language": "python",
   "name": "python3"
  },
  "language_info": {
   "codemirror_mode": {
    "name": "ipython",
    "version": 2
   },
   "file_extension": ".py",
   "mimetype": "text/x-python",
   "name": "python",
   "nbconvert_exporter": "python",
   "pygments_lexer": "ipython2",
   "version": "2.7.6"
  }
 },
 "nbformat": 4,
 "nbformat_minor": 5
}
