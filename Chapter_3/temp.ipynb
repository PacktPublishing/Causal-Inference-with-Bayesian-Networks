{
 "cells": [
  {
   "cell_type": "code",
   "execution_count": null,
   "id": "initial_id",
   "metadata": {
    "collapsed": true
   },
   "outputs": [],
   "source": []
  },
  {
   "cell_type": "code",
   "execution_count": 12,
   "outputs": [],
   "source": [
    "\n",
    "states = {\n",
    "    \"play\":{\"no\": 0, \"yes\": 1},\n",
    "    \"outlook\":{\"overcast\": 0, \"rainy\": 1, \"sunny\": 2},\n",
    "    \"temperature\":{\"cool\": 0, \"hot\": 1, \"mild\": 2},\n",
    "    \"humidity\":{\"high\": 0, \"normal\": 1},\n",
    "    \"windy\" :{\"False\": 0, \"True\": 1}\n",
    "}"
   ],
   "metadata": {
    "collapsed": false,
    "ExecuteTime": {
     "end_time": "2023-09-15T09:14:47.604178Z",
     "start_time": "2023-09-15T09:14:47.552870Z"
    }
   },
   "id": "6fd2ad355333f831"
  },
  {
   "cell_type": "code",
   "execution_count": 14,
   "outputs": [
    {
     "name": "stdout",
     "output_type": "stream",
     "text": [
      "0\n"
     ]
    }
   ],
   "source": [
    "d = states[\"windy\"]\n",
    "print(d[\"False\"])"
   ],
   "metadata": {
    "collapsed": false,
    "ExecuteTime": {
     "end_time": "2023-09-15T09:15:06.422326Z",
     "start_time": "2023-09-15T09:15:06.380723Z"
    }
   },
   "id": "9d05d457fe55dd4e"
  },
  {
   "cell_type": "code",
   "execution_count": 15,
   "outputs": [],
   "source": [
    "def state_dict(var):\n",
    "    return states[var]\n",
    "\n",
    "\n",
    "def state_index(var, state):\n",
    "    dict = state_dict(var)\n",
    "    return dict[state]"
   ],
   "metadata": {
    "collapsed": false,
    "ExecuteTime": {
     "end_time": "2023-09-15T09:15:17.381346Z",
     "start_time": "2023-09-15T09:15:17.366165Z"
    }
   },
   "id": "481ae6916b933d46"
  },
  {
   "cell_type": "code",
   "execution_count": 16,
   "outputs": [
    {
     "name": "stdout",
     "output_type": "stream",
     "text": [
      "1\n"
     ]
    }
   ],
   "source": [
    "print(state_index(\"temperature\", \"hot\"))"
   ],
   "metadata": {
    "collapsed": false,
    "ExecuteTime": {
     "end_time": "2023-09-15T09:15:19.730912Z",
     "start_time": "2023-09-15T09:15:19.717708Z"
    }
   },
   "id": "d0dbf5c4cefedc04"
  },
  {
   "cell_type": "code",
   "execution_count": 19,
   "outputs": [
    {
     "name": "stdout",
     "output_type": "stream",
     "text": [
      "play\n",
      "{'no': 0, 'yes': 1}\n",
      "outlook\n",
      "{'overcast': 0, 'rainy': 1, 'sunny': 2}\n",
      "temperature\n",
      "{'cool': 0, 'hot': 1, 'mild': 2}\n",
      "humidity\n",
      "{'high': 0, 'normal': 1}\n",
      "windy\n",
      "{'False': 0, 'True': 1}\n",
      "{'no': 0, 'yes': 1}\n",
      "{'overcast': 0, 'rainy': 1, 'sunny': 2}\n",
      "{'cool': 0, 'hot': 1, 'mild': 2}\n",
      "{'high': 0, 'normal': 1}\n",
      "{'False': 0, 'True': 1}\n"
     ]
    }
   ],
   "source": [
    "for k in states:\n",
    "    print(k)\n",
    "    print(states[k])\n",
    "    \n",
    "val = states.values()\n",
    "for v in val:\n",
    "    print(v)\n",
    " "
   ],
   "metadata": {
    "collapsed": false,
    "ExecuteTime": {
     "end_time": "2023-09-15T09:53:27.251695Z",
     "start_time": "2023-09-15T09:53:27.223873Z"
    }
   },
   "id": "1cb29c0df0cb54a5"
  },
  {
   "cell_type": "code",
   "execution_count": 35,
   "outputs": [
    {
     "name": "stdout",
     "output_type": "stream",
     "text": [
      "outlook\n",
      "rainy\n",
      "1\n",
      "windy\n",
      "False\n",
      "0\n",
      "{'outlook': 1, 'windy': 0}\n"
     ]
    }
   ],
   "source": [
    "def map_evidence(dict):\n",
    "    for k in dict: \n",
    "        print(k)\n",
    "        val = dict[k]\n",
    "        print(val)\n",
    "        val2 = state_index(k, val)\n",
    "        print(val2)\n",
    "        dict[k]=val2\n",
    "    return dict\n",
    "        \n",
    "        \n",
    "print(map_evidence({\"outlook\":'rainy', \"windy\":'False'}))"
   ],
   "metadata": {
    "collapsed": false,
    "ExecuteTime": {
     "end_time": "2023-09-15T10:38:13.114853Z",
     "start_time": "2023-09-15T10:38:13.077494Z"
    }
   },
   "id": "1f7038e7033b36c0"
  },
  {
   "cell_type": "code",
   "execution_count": 30,
   "outputs": [
    {
     "name": "stdout",
     "output_type": "stream",
     "text": [
      "dict_values(['False'])\n",
      "1\n",
      "0\n",
      "False\n",
      "{'windy': 0}\n"
     ]
    }
   ],
   "source": [
    "d ={\"windy\": \"False\"}\n",
    "print(d.values())\n",
    "print(state_index(\"temperature\", \"hot\"))\n",
    "val = state_index(\"windy\", 'False')\n",
    "print(val)\n",
    "print(d[\"windy\"])\n",
    "d[\"windy\"]=0\n",
    "print(d)\n",
    "# dict.update(\"outlook\"= str(val))"
   ],
   "metadata": {
    "collapsed": false,
    "ExecuteTime": {
     "end_time": "2023-09-15T10:27:49.683059Z",
     "start_time": "2023-09-15T10:27:49.569113Z"
    }
   },
   "id": "fd3daa71d108306a"
  },
  {
   "cell_type": "code",
   "execution_count": 36,
   "outputs": [
    {
     "name": "stdout",
     "output_type": "stream",
     "text": [
      "If outlook = sunny and humidity = high then \n",
      "\n"
     ]
    }
   ],
   "source": [
    "print(\"If outlook = sunny and humidity = high then \\n\")\n"
   ],
   "metadata": {
    "collapsed": false,
    "ExecuteTime": {
     "end_time": "2023-09-16T04:13:36.694835Z",
     "start_time": "2023-09-16T04:13:36.601966Z"
    }
   },
   "id": "6e73f236bdec9c55"
  },
  {
   "cell_type": "code",
   "execution_count": null,
   "outputs": [],
   "source": [],
   "metadata": {
    "collapsed": false
   },
   "id": "a62d603cecee1583"
  }
 ],
 "metadata": {
  "kernelspec": {
   "display_name": "Python 3",
   "language": "python",
   "name": "python3"
  },
  "language_info": {
   "codemirror_mode": {
    "name": "ipython",
    "version": 2
   },
   "file_extension": ".py",
   "mimetype": "text/x-python",
   "name": "python",
   "nbconvert_exporter": "python",
   "pygments_lexer": "ipython2",
   "version": "2.7.6"
  }
 },
 "nbformat": 4,
 "nbformat_minor": 5
}
