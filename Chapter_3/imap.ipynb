{
 "cells": [
  {
   "cell_type": "code",
   "execution_count": 136,
   "outputs": [],
   "source": [
    "from pgmpy.models import BayesianNetwork\n",
    "from pgmpy.factors.discrete import TabularCPD\n",
    "m1 = BayesianNetwork()\n",
    "m1.add_nodes_from(['X','Y','Z'])\n",
    "m1.get_independencies()\n",
    "cpd_X = TabularCPD(variable=\"X\", variable_card=2, values=[[0.4], [0.6]])\n",
    "cpd_Y = TabularCPD(variable=\"Y\", variable_card=2, values=[[0.7], [0.3]])\n",
    "cpd_Z = TabularCPD(variable=\"Z\", variable_card=2, values=[[0.1], [0.9]])\n",
    "m1.add_cpds(cpd_X,cpd_Y,cpd_Z)"
   ],
   "metadata": {
    "collapsed": false,
    "ExecuteTime": {
     "end_time": "2023-11-01T03:58:39.169100Z",
     "start_time": "2023-11-01T03:58:39.166050Z"
    }
   },
   "id": "610cf79ef916687e"
  },
  {
   "cell_type": "code",
   "execution_count": 29,
   "outputs": [
    {
     "name": "stdout",
     "output_type": "stream",
     "text": [
      "[0.027999999999999997, 0.252, 0.012, 0.108, 0.042, 0.378, 0.018, 0.162]\n"
     ]
    },
    {
     "data": {
      "text/plain": "True"
     },
     "execution_count": 29,
     "metadata": {},
     "output_type": "execute_result"
    }
   ],
   "source": [
    "import numpy as np\n",
    "from pgmpy.factors.discrete import JointProbabilityDistribution\n",
    "p1 = [0.4, 0.6]\n",
    "p2 = [0.7, 0.3]\n",
    "p3 = [0.1, 0.9]\n",
    "jp = []\n",
    "for i in p1:\n",
    "    for j in p2:\n",
    "        for k in p3:\n",
    "            jp.append(i*j*k)        \n",
    "print(jp)\n",
    "JPD = JointProbabilityDistribution([\"X\",'Y','Z'],[2,2,2], jp)\n",
    "m1.is_imap(JPD)"
   ],
   "metadata": {
    "collapsed": false,
    "ExecuteTime": {
     "end_time": "2023-10-27T13:20:08.268061Z",
     "start_time": "2023-10-27T13:20:08.213106Z"
    }
   },
   "id": "4be57467451bc22e"
  },
  {
   "cell_type": "code",
   "execution_count": 53,
   "outputs": [
    {
     "name": "stdout",
     "output_type": "stream",
     "text": [
      "True True True\n"
     ]
    },
    {
     "data": {
      "text/plain": "(Z ⟂ X | Y)\n(X ⟂ Z | Y)"
     },
     "execution_count": 53,
     "metadata": {},
     "output_type": "execute_result"
    }
   ],
   "source": [
    "m2 = BayesianNetwork()\n",
    "m2.add_nodes_from(['X','Y','Z'])\n",
    "m2.add_edge('Y','X')\n",
    "m2.add_edge('Y','Z')\n",
    "cpd_Y = TabularCPD(variable=\"Y\", variable_card=2, values=[[0.7], [0.3]])\n",
    "cpd_X = TabularCPD(\n",
    "        variable=\"X\",\n",
    "        variable_card=2,\n",
    "        values=[\n",
    "            [0.4, 0.2],\n",
    "            [0.6, 0.8],\n",
    "        ],\n",
    "        evidence=[\"Y\"],\n",
    "        evidence_card=[2],\n",
    "    )\n",
    "cpd_Z = TabularCPD(\n",
    "        variable=\"Z\",\n",
    "        variable_card=2,\n",
    "        values=[\n",
    "            [0.5, 0.4],\n",
    "            [0.5, 0.6],\n",
    "        ],\n",
    "        evidence=[\"Y\"],\n",
    "        evidence_card=[2],\n",
    "    )\n",
    "print(cpd_X.is_valid_cpd(),cpd_Y.is_valid_cpd(),cpd_Z.is_valid_cpd())\n",
    "m2.add_cpds(cpd_X,cpd_Y,cpd_Z)\n",
    "m2.get_independencies()"
   ],
   "metadata": {
    "collapsed": false,
    "ExecuteTime": {
     "end_time": "2023-10-28T01:56:44.182055Z",
     "start_time": "2023-10-28T01:56:44.156100Z"
    }
   },
   "id": "bbc4752c9ef9444b"
  },
  {
   "cell_type": "code",
   "execution_count": 31,
   "outputs": [],
   "source": [
    "from pgmpy.base import DAG\n",
    "G = DAG()\n",
    "G.add_nodes_from(m2.nodes)\n",
    "G.add_edges_from(m2.edges)"
   ],
   "metadata": {
    "collapsed": false,
    "ExecuteTime": {
     "end_time": "2023-10-27T13:20:08.282623Z",
     "start_time": "2023-10-27T13:20:08.231487Z"
    }
   },
   "id": "42dcf6d7288bc2f5"
  },
  {
   "cell_type": "code",
   "execution_count": 32,
   "outputs": [
    {
     "name": "stdout",
     "output_type": "stream",
     "text": [
      "(Z ⟂ X | Y)\n",
      "(X ⟂ Z | Y)\n"
     ]
    }
   ],
   "source": [
    "print(G.get_independencies())"
   ],
   "metadata": {
    "collapsed": false,
    "ExecuteTime": {
     "end_time": "2023-10-27T13:20:08.302207Z",
     "start_time": "2023-10-27T13:20:08.249833Z"
    }
   },
   "id": "beb668d028a876cf"
  },
  {
   "cell_type": "code",
   "execution_count": 60,
   "outputs": [
    {
     "name": "stdout",
     "output_type": "stream",
     "text": [
      "0 0 0 [0.14]\n",
      "0 0 1 [0.14]\n",
      "0 1 0 [0.21]\n",
      "0 1 1 [0.21]\n",
      "1 0 0 [0.024]\n",
      "1 0 1 [0.036]\n",
      "1 1 0 [0.096]\n",
      "1 1 1 [0.144]\n",
      "[0.13999999999999999, 0.13999999999999999, 0.21, 0.21, 0.024, 0.036, 0.096, 0.144]\n",
      "1.0\n",
      "True\n"
     ]
    }
   ],
   "source": [
    "import numpy as np\n",
    "P_Y = np.array([[0.7], [0.3]])\n",
    "P_X_Y = np.array([\n",
    "            [0.4, 0.2],\n",
    "            [0.6, 0.8],\n",
    "        ])\n",
    "P_Z_Y = np.array([\n",
    "            [0.5, 0.4],\n",
    "            [0.5, 0.6],\n",
    "        ])\n",
    "jpd = []\n",
    "for Y in [0,1]:\n",
    "    for X in [0,1]:\n",
    "        for Z in [0,1]:\n",
    "            p_yxz =  np.multiply(\n",
    "                np.multiply(P_Y[Y], P_X_Y[X,Y]),\n",
    "                P_Z_Y[Z,Y])\n",
    "            jpd.append(p_yxz[0])\n",
    "            print(Y,X,Z, p_yxz)\n",
    "print(jpd)\n",
    "print(sum(jpd))\n",
    "prob = JointProbabilityDistribution([\"Y\",'X','Z'],[2,2,2], jpd)\n",
    "print(m2.is_imap(prob))"
   ],
   "metadata": {
    "collapsed": false,
    "ExecuteTime": {
     "end_time": "2023-10-28T02:17:16.996154Z",
     "start_time": "2023-10-28T02:17:16.986570Z"
    }
   },
   "id": "eade47cac7b9b6bf"
  },
  {
   "cell_type": "code",
   "execution_count": 39,
   "outputs": [
    {
     "data": {
      "text/plain": "(x ⟂ z | y)\n(z ⟂ x | y)"
     },
     "execution_count": 39,
     "metadata": {},
     "output_type": "execute_result"
    }
   ],
   "source": [
    "m3 = BayesianNetwork()\n",
    "m3.add_nodes_from(['x','y','z'])\n",
    "m3.add_edge('x','y')\n",
    "m3.add_edge('y','z')\n",
    "m3.get_independencies()"
   ],
   "metadata": {
    "collapsed": false,
    "ExecuteTime": {
     "end_time": "2023-10-28T00:18:43.199558Z",
     "start_time": "2023-10-28T00:18:43.121411Z"
    }
   },
   "id": "7270ccf94d29de39"
  },
  {
   "cell_type": "code",
   "execution_count": null,
   "outputs": [],
   "source": [
    "m4 = BayesianNetwork()\n",
    "m4.add_nodes_from(['x','y','z'])\n",
    "m4.add_edge('z','y')\n",
    "m4.add_edge('y','x')\n",
    "m4.get_independencies()"
   ],
   "metadata": {
    "collapsed": false,
    "ExecuteTime": {
     "start_time": "2023-10-27T13:20:08.326366Z"
    }
   },
   "id": "b287b62d81f0a7bc"
  },
  {
   "cell_type": "code",
   "execution_count": null,
   "outputs": [],
   "source": [
    "m5 = BayesianNetwork()\n",
    "m5.add_nodes_from(['x','y','z'])\n",
    "m5.add_edge('y','x')\n",
    "m5.add_edge('y','z')\n",
    "m5.add_edge('x','z')\n",
    "m5.get_independencies()"
   ],
   "metadata": {
    "collapsed": false,
    "ExecuteTime": {
     "start_time": "2023-10-27T13:20:08.328428Z"
    }
   },
   "id": "bc599973ae5ab209"
  },
  {
   "cell_type": "code",
   "execution_count": null,
   "outputs": [],
   "source": [
    "m6 = BayesianNetwork()\n",
    "m6.add_nodes_from(['x','y','z'])\n",
    "m6.add_edge('x','y')\n",
    "m6.add_edge('y','z')\n",
    "m6.add_edge('x','z')\n",
    "m6.get_independencies()"
   ],
   "metadata": {
    "collapsed": false,
    "ExecuteTime": {
     "start_time": "2023-10-27T13:20:08.330007Z"
    }
   },
   "id": "f8dc2d63a8d0318f"
  },
  {
   "cell_type": "code",
   "execution_count": null,
   "outputs": [],
   "source": [
    "m7 = BayesianNetwork()\n",
    "m7.add_nodes_from(['x','y','z'])\n",
    "m7.add_edge('y','x')\n",
    "m7.add_edge('z','y')\n",
    "m7.add_edge('z','x')\n",
    "m7.get_independencies()"
   ],
   "metadata": {
    "collapsed": false,
    "ExecuteTime": {
     "start_time": "2023-10-27T13:20:08.331798Z"
    }
   },
   "id": "844039622487b1d5"
  },
  {
   "cell_type": "code",
   "execution_count": null,
   "outputs": [],
   "source": [
    "m8 = BayesianNetwork()\n",
    "m8.add_nodes_from(['x','y','z'])\n",
    "m8.add_edge('y','x')\n",
    "m8.add_edge('y','z')\n",
    "m8.add_edge('z','x')\n",
    "m8.get_independencies()"
   ],
   "metadata": {
    "collapsed": false,
    "ExecuteTime": {
     "start_time": "2023-10-27T13:20:08.333449Z"
    }
   },
   "id": "49607603e10fde22"
  },
  {
   "cell_type": "code",
   "execution_count": null,
   "outputs": [],
   "source": [
    "m9 = BayesianNetwork()\n",
    "m9.add_nodes_from(['x','y','z'])\n",
    "m9.add_edge('x','y')\n",
    "m9.add_edge('z','y')\n",
    "m9.add_edge('x','z')\n",
    "m9.get_independencies()"
   ],
   "metadata": {
    "collapsed": false,
    "ExecuteTime": {
     "start_time": "2023-10-27T13:20:08.334871Z"
    }
   },
   "id": "3b26d16940e31530"
  },
  {
   "cell_type": "code",
   "execution_count": null,
   "outputs": [],
   "source": [
    "m10 = BayesianNetwork()\n",
    "m10.add_nodes_from(['x','y','z'])\n",
    "m10.add_edge('x','y')\n",
    "m10.add_edge('z','y')\n",
    "m10.add_edge('x','z')\n",
    "m10.get_independencies()"
   ],
   "metadata": {
    "collapsed": false,
    "ExecuteTime": {
     "start_time": "2023-10-27T13:20:08.335986Z"
    }
   },
   "id": "a725b3fa95e64911"
  },
  {
   "cell_type": "code",
   "execution_count": null,
   "outputs": [],
   "source": [
    "import pygraphviz as pgv\n",
    "def dagviz(nodes, edges, name):\n",
    "    G = pgv.AGraph(strict=False, directed=True)\n",
    "    G.add_nodes_from(nodes)\n",
    "    for edge in edges:\n",
    "        G.add_edge(edge)\n",
    "    G.write(name + \".dot\")\n",
    "    # use dot\n",
    "    G.layout(prog=\"dot\")\n",
    "    # write previously positioned graph to PNG file\n",
    "    G.draw(name + \".png\")"
   ],
   "metadata": {
    "collapsed": false,
    "ExecuteTime": {
     "start_time": "2023-10-27T13:20:08.337004Z"
    }
   },
   "id": "3c83df8e2d5b700f"
  },
  {
   "cell_type": "code",
   "execution_count": null,
   "outputs": [],
   "source": [
    "def viz_model(model, filename):\n",
    "    dagviz(model.nodes, model.edges, filename)"
   ],
   "metadata": {
    "collapsed": false,
    "ExecuteTime": {
     "start_time": "2023-10-27T13:20:08.338284Z"
    }
   },
   "id": "3ee059edf9f181a2"
  },
  {
   "cell_type": "code",
   "execution_count": null,
   "outputs": [],
   "source": [
    "i = 1\n",
    "for model in [m1,m2,m3,m4,m5,m6,m7,m8,m9,m10]:\n",
    "    viz_model(model, \"m\" + str(i))\n",
    "    i = i+1"
   ],
   "metadata": {
    "collapsed": false,
    "ExecuteTime": {
     "start_time": "2023-10-27T13:20:08.339350Z"
    }
   },
   "id": "a7376e5dc9adcc20"
  },
  {
   "cell_type": "code",
   "execution_count": 83,
   "outputs": [
    {
     "name": "stdout",
     "output_type": "stream",
     "text": [
      "[0.028 0.252 0.012 0.108 0.042 0.378 0.018 0.162]\n"
     ]
    }
   ],
   "source": [
    "import numpy as np\n",
    "px = np.array([[0.4], [0.6]])\n",
    "py = np.array([[0.7], [0.3]])\n",
    "pz = np.array([[0.1], [0.9]])\n",
    "pxy = np.multiply(px, py.transpose())\n",
    "pxyz = np.multiply(pz, pxy.flatten())\n",
    "print(pxyz.transpose().flatten())\n"
   ],
   "metadata": {
    "collapsed": false,
    "ExecuteTime": {
     "end_time": "2023-10-29T06:59:12.805987Z",
     "start_time": "2023-10-29T06:59:12.788512Z"
    }
   },
   "id": "f948491401944d02"
  },
  {
   "cell_type": "code",
   "execution_count": 82,
   "outputs": [
    {
     "data": {
      "text/plain": "array([0.028, 0.252, 0.012, 0.108, 0.042, 0.378, 0.018, 0.162])"
     },
     "execution_count": 82,
     "metadata": {},
     "output_type": "execute_result"
    }
   ],
   "source": [
    "pxyz.transpose().flatten().transpose()"
   ],
   "metadata": {
    "collapsed": false,
    "ExecuteTime": {
     "end_time": "2023-10-29T06:57:53.945903Z",
     "start_time": "2023-10-29T06:57:53.881076Z"
    }
   },
   "id": "9078ddb87d2b7278"
  },
  {
   "cell_type": "code",
   "execution_count": 67,
   "outputs": [
    {
     "name": "stdout",
     "output_type": "stream",
     "text": [
      "[0.027999999999999997, 0.252, 0.012, 0.108, 0.042, 0.378, 0.018, 0.162]\n"
     ]
    }
   ],
   "source": [
    "p1 = [0.4, 0.6]\n",
    "p2 = [0.7, 0.3]\n",
    "p3 = [0.1, 0.9]\n",
    "jpd = []\n",
    "for i in p1:\n",
    "    for j in p2:\n",
    "        for k in p3:\n",
    "            jpd.append(i * j * k)\n",
    "print(jpd)"
   ],
   "metadata": {
    "collapsed": false,
    "ExecuteTime": {
     "end_time": "2023-10-29T05:56:23.905856Z",
     "start_time": "2023-10-29T05:56:23.864536Z"
    }
   },
   "id": "4e94a510881c6b3f"
  },
  {
   "cell_type": "code",
   "execution_count": 80,
   "outputs": [],
   "source": [
    "def create_bn(nodes, edges):\n",
    "    model = BayesianNetwork()\n",
    "    model.add_nodes_from(nodes)\n",
    "    model.add_edges_from(edges)\n",
    "    return model\n",
    "    \n",
    "def imap_demo1():\n",
    "    m1 = create_bn([\"X\", \"Y\", \"Z\"], [])\n",
    "    px = [[0.4], [0.6]]\n",
    "    py = [[0.7], [0.3]]\n",
    "    pz = [[0.1], [0.9]]\n",
    "    cpd_X = TabularCPD(variable=\"X\", variable_card=2, values=px)\n",
    "    cpd_Y = TabularCPD(variable=\"Y\", variable_card=2, values=py)\n",
    "    cpd_Z = TabularCPD(variable=\"Z\", variable_card=2, values=pz)\n",
    "    print(cpd_Z.is_valid_cpd(), cpd_Y.is_valid_cpd(), cpd_X.is_valid_cpd())\n",
    "    m1.add_cpds(cpd_X, cpd_Y, cpd_Z)\n",
    "  \n",
    "    pxy = np.multiply(px, py.transpose())\n",
    "    pxyz = np.multiply(pz, pxy.flatten())\n",
    "    print(pxyz)\n",
    "    jpd = pxyz.transpose().flatten()\n",
    "    print(jpd)\n",
    "    JPD = JointProbabilityDistribution([\"X\", \"Y\", \"Z\"], [2, 2, 2], pxyz)\n",
    "    check_imap = m1.is_imap(JPD)\n",
    "    print(f\"Bayesian network m1 has \\n nodes: {m1.nodes} edges: {m1.edges} \")\n",
    "    print(\n",
    "        f\"the model represents the following joint probability distribution on {m1.nodes}\"\n",
    "    )\n",
    "\n",
    "    print(f\"Conditional independencies are:\")\n",
    "    print(m1.get_independencies())\n",
    "    print(f\"Is m1 an I-map of the joint distribution?\\nAnswer: {check_imap}\")\n"
   ],
   "metadata": {
    "collapsed": false,
    "ExecuteTime": {
     "end_time": "2023-10-29T06:55:22.552230Z",
     "start_time": "2023-10-29T06:55:22.506365Z"
    }
   },
   "id": "c246eef962fe1844"
  },
  {
   "cell_type": "code",
   "execution_count": 81,
   "outputs": [
    {
     "name": "stdout",
     "output_type": "stream",
     "text": [
      "True True True\n"
     ]
    },
    {
     "ename": "AttributeError",
     "evalue": "'list' object has no attribute 'transpose'",
     "output_type": "error",
     "traceback": [
      "\u001B[0;31m---------------------------------------------------------------------------\u001B[0m",
      "\u001B[0;31mAttributeError\u001B[0m                            Traceback (most recent call last)",
      "Cell \u001B[0;32mIn[81], line 1\u001B[0m\n\u001B[0;32m----> 1\u001B[0m \u001B[43mimap_demo1\u001B[49m\u001B[43m(\u001B[49m\u001B[43m)\u001B[49m\n",
      "Cell \u001B[0;32mIn[80], line 18\u001B[0m, in \u001B[0;36mimap_demo1\u001B[0;34m()\u001B[0m\n\u001B[1;32m     15\u001B[0m \u001B[38;5;28mprint\u001B[39m(cpd_Z\u001B[38;5;241m.\u001B[39mis_valid_cpd(), cpd_Y\u001B[38;5;241m.\u001B[39mis_valid_cpd(), cpd_X\u001B[38;5;241m.\u001B[39mis_valid_cpd())\n\u001B[1;32m     16\u001B[0m m1\u001B[38;5;241m.\u001B[39madd_cpds(cpd_X, cpd_Y, cpd_Z)\n\u001B[0;32m---> 18\u001B[0m pxy \u001B[38;5;241m=\u001B[39m np\u001B[38;5;241m.\u001B[39mmultiply(px, \u001B[43mpy\u001B[49m\u001B[38;5;241;43m.\u001B[39;49m\u001B[43mtranspose\u001B[49m())\n\u001B[1;32m     19\u001B[0m pxyz \u001B[38;5;241m=\u001B[39m np\u001B[38;5;241m.\u001B[39mmultiply(pz, pxy\u001B[38;5;241m.\u001B[39mflatten())\n\u001B[1;32m     20\u001B[0m \u001B[38;5;28mprint\u001B[39m(pxyz)\n",
      "\u001B[0;31mAttributeError\u001B[0m: 'list' object has no attribute 'transpose'"
     ]
    }
   ],
   "source": [
    "imap_demo1()"
   ],
   "metadata": {
    "collapsed": false,
    "ExecuteTime": {
     "end_time": "2023-10-29T06:55:52.000804Z",
     "start_time": "2023-10-29T06:55:51.930020Z"
    }
   },
   "id": "3ea15691b6e28bdf"
  },
  {
   "cell_type": "code",
   "execution_count": 86,
   "outputs": [
    {
     "name": "stdout",
     "output_type": "stream",
     "text": [
      "[0.028 0.252 0.012 0.108 0.042 0.378 0.018 0.162]\n"
     ]
    }
   ],
   "source": [
    "px = np.array([[0.4], [0.6]])\n",
    "py = np.array([[0.7], [0.3]])\n",
    "pz = np.array([[0.1], [0.9]])\n",
    "jpd = (np.multiply(pz, (np.multiply(px, py.transpose())).flatten())).transpose().flatten()\n",
    "print(jpd)"
   ],
   "metadata": {
    "collapsed": false,
    "ExecuteTime": {
     "end_time": "2023-10-29T09:01:00.167429Z",
     "start_time": "2023-10-29T09:01:00.150218Z"
    }
   },
   "id": "5cfd2515b85d0f7d"
  },
  {
   "cell_type": "code",
   "execution_count": 95,
   "outputs": [],
   "source": [
    "def bn2(p_y, p_x_y, p_z_y):\n",
    "    m2 = BayesianNetwork()\n",
    "    m2.add_nodes_from([\"X\", \"Y\", \"Z\"])\n",
    "    m2.add_edge(\"Y\", \"X\")\n",
    "    m2.add_edge(\"Y\", \"Z\")\n",
    "    cpd_Y = TabularCPD(variable=\"Y\", variable_card=2, values=  p_y)    \n",
    "    cpd_X = TabularCPD(\n",
    "        variable=\"X\",\n",
    "        variable_card=2,\n",
    "        values=p_x_y,\n",
    "        evidence=[\"Y\"],\n",
    "        evidence_card=[2],\n",
    "    )\n",
    "    cpd_Z = TabularCPD(\n",
    "        variable=\"Z\",\n",
    "        variable_card=2,\n",
    "        values=p_z_y,\n",
    "        evidence=[\"Y\"],\n",
    "        evidence_card=[2],\n",
    "    )\n",
    "    # print(cpd_X.is_valid_cpd(), cpd_Y.is_valid_cpd(), cpd_Z.is_valid_cpd())\n",
    "    m2.add_cpds(cpd_X, cpd_Y, cpd_Z)\n",
    "    return m2"
   ],
   "metadata": {
    "collapsed": false,
    "ExecuteTime": {
     "end_time": "2023-10-29T10:49:56.172669Z",
     "start_time": "2023-10-29T10:49:56.161909Z"
    }
   },
   "id": "f9aedf01c1994d37"
  },
  {
   "cell_type": "code",
   "execution_count": 96,
   "outputs": [],
   "source": [
    "def imap_demo2():\n",
    "    P_Y = np.array([[0.7], [0.3]])\n",
    "    P_X_Y = np.array(\n",
    "        [\n",
    "            [0.4, 0.2],\n",
    "            [0.6, 0.8],\n",
    "        ]\n",
    "    )\n",
    "    P_Z_Y = np.array(\n",
    "        [\n",
    "            [0.5, 0.4],\n",
    "            [0.5, 0.6],\n",
    "        ]\n",
    "    )\n",
    "    m2 = bn2(P_Y, P_X_Y, P_Z_Y)\n",
    "    jpd = []\n",
    "    for Y in [0, 1]:\n",
    "        for X in [0, 1]:\n",
    "            for Z in [0, 1]:\n",
    "                p_yxz = np.multiply(np.multiply(P_Y[Y], P_X_Y[X, Y]), P_Z_Y[Z, Y])\n",
    "                print(p_yxz)\n",
    "                jpd.append(p_yxz[0])\n",
    "                print(Y, X, Z, p_yxz)\n",
    "    print(jpd)\n",
    "    print(sum(jpd))\n",
    "    prob = JointProbabilityDistribution([\"Y\", \"X\", \"Z\"], [2, 2, 2], jpd)\n",
    "    check_imap = m2.is_imap(prob)\n",
    "    print(f\"Bayesian network m1 has \\n nodes: {m2.nodes} edges: {m2.edges} \")\n",
    "    print(\n",
    "        f\"the model represents the following joint probability distribution on {m2.nodes}\"\n",
    "    )\n",
    "    print(jpd)\n",
    "    print(f\"Conditional independencies are:\")\n",
    "    print(m2.get_independencies())\n",
    "    print(f\"Is m2 an I-map of the joint distribution?\\nAnswer: {check_imap}\")"
   ],
   "metadata": {
    "collapsed": false,
    "ExecuteTime": {
     "end_time": "2023-10-29T10:49:59.380330Z",
     "start_time": "2023-10-29T10:49:59.367907Z"
    }
   },
   "id": "86677081aacbb07e"
  },
  {
   "cell_type": "code",
   "execution_count": 97,
   "outputs": [
    {
     "name": "stdout",
     "output_type": "stream",
     "text": [
      "[0.14]\n",
      "0 0 0 [0.14]\n",
      "[0.14]\n",
      "0 0 1 [0.14]\n",
      "[0.21]\n",
      "0 1 0 [0.21]\n",
      "[0.21]\n",
      "0 1 1 [0.21]\n",
      "[0.024]\n",
      "1 0 0 [0.024]\n",
      "[0.036]\n",
      "1 0 1 [0.036]\n",
      "[0.096]\n",
      "1 1 0 [0.096]\n",
      "[0.144]\n",
      "1 1 1 [0.144]\n",
      "[0.13999999999999999, 0.13999999999999999, 0.21, 0.21, 0.024, 0.036, 0.096, 0.144]\n",
      "1.0\n",
      "Bayesian network m1 has \n",
      " nodes: ['X', 'Y', 'Z'] edges: [('Y', 'X'), ('Y', 'Z')] \n",
      "the model represents the following joint probability distribution on ['X', 'Y', 'Z']\n",
      "[0.13999999999999999, 0.13999999999999999, 0.21, 0.21, 0.024, 0.036, 0.096, 0.144]\n",
      "Conditional independencies are:\n",
      "(Z ⟂ X | Y)\n",
      "(X ⟂ Z | Y)\n",
      "Is m2 an I-map of the joint distribution?\n",
      "Answer: True\n"
     ]
    }
   ],
   "source": [
    "imap_demo2()"
   ],
   "metadata": {
    "collapsed": false,
    "ExecuteTime": {
     "end_time": "2023-10-29T10:50:02.186906Z",
     "start_time": "2023-10-29T10:50:02.174915Z"
    }
   },
   "id": "c4e708f0c6ef4810"
  },
  {
   "cell_type": "code",
   "execution_count": 98,
   "outputs": [
    {
     "name": "stdout",
     "output_type": "stream",
     "text": [
      "[0.13999999999999999, 0.13999999999999999, 0.21, 0.21, 0.024, 0.036, 0.096, 0.144]\n"
     ]
    }
   ],
   "source": [
    "jpd = []\n",
    "for Y in [0, 1]:\n",
    "    for X in [0, 1]:\n",
    "        for Z in [0, 1]:\n",
    "            p_yxz = np.multiply(np.multiply(P_Y[Y], P_X_Y[X, Y]), P_Z_Y[Z, Y])\n",
    "            jpd.append(p_yxz[0])\n",
    "print(jpd)"
   ],
   "metadata": {
    "collapsed": false,
    "ExecuteTime": {
     "end_time": "2023-10-29T11:08:29.309578Z",
     "start_time": "2023-10-29T11:08:29.271344Z"
    }
   },
   "id": "fe4c29b51fc3be7c"
  },
  {
   "cell_type": "code",
   "execution_count": 101,
   "outputs": [
    {
     "name": "stdout",
     "output_type": "stream",
     "text": [
      "[0.028 0.252 0.012 0.108 0.042 0.378 0.018 0.162]\n"
     ]
    }
   ],
   "source": [
    "px = np.array([[0.4], [0.6]])\n",
    "py = np.array([[0.7], [0.3]])\n",
    "pz = np.array([[0.1], [0.9]])\n",
    "jpd = (np.multiply(pz, (np.multiply(px, py.transpose())).flatten())).transpose().flatten()\n",
    "print(jpd)"
   ],
   "metadata": {
    "collapsed": false,
    "ExecuteTime": {
     "end_time": "2023-10-29T11:19:39.285439Z",
     "start_time": "2023-10-29T11:19:39.263166Z"
    }
   },
   "id": "582aa59701e8d9da"
  },
  {
   "cell_type": "code",
   "execution_count": 108,
   "outputs": [
    {
     "name": "stdout",
     "output_type": "stream",
     "text": [
      "[[0.2  0.1  0.3  0.4 ]\n",
      " [0.16 0.08 0.24 0.32]\n",
      " [0.2  0.1  0.3  0.4 ]\n",
      " [0.24 0.12 0.36 0.48]]\n"
     ]
    }
   ],
   "source": [
    "P_Y = np.array([[0.7], [0.3]])\n",
    "P_X_Y = np.array(\n",
    "        [\n",
    "            [0.4, 0.2],\n",
    "            [0.6, 0.8],\n",
    "        ]\n",
    "    )\n",
    "P_Z_Y = np.array(\n",
    "        [\n",
    "            [0.5, 0.4],\n",
    "            [0.5, 0.6],\n",
    "        ]\n",
    "    )\n",
    "pxy = P_X_Y.flatten()\n",
    "pzy = P_Z_Y.flatten().reshape(4,1)\n",
    "print(np.multiply(pxy, pzy))"
   ],
   "metadata": {
    "collapsed": false,
    "ExecuteTime": {
     "end_time": "2023-10-29T11:35:26.731745Z",
     "start_time": "2023-10-29T11:35:26.656769Z"
    }
   },
   "id": "3d0097e2908e277c"
  },
  {
   "cell_type": "code",
   "execution_count": 115,
   "outputs": [
    {
     "name": "stdout",
     "output_type": "stream",
     "text": [
      "3\n"
     ]
    }
   ],
   "source": [
    "from math import comb\n",
    "print(comb(3,2))\n"
   ],
   "metadata": {
    "collapsed": false,
    "ExecuteTime": {
     "end_time": "2023-10-30T00:31:56.924315Z",
     "start_time": "2023-10-30T00:31:56.918356Z"
    }
   },
   "id": "b6af85fb2349fd6b"
  },
  {
   "cell_type": "code",
   "execution_count": 117,
   "outputs": [],
   "source": [
    "def create_bn(nodes, edges):\n",
    "    model = BayesianNetwork()\n",
    "    model.add_nodes_from(nodes)\n",
    "    model.add_edges_from(edges)\n",
    "    return model"
   ],
   "metadata": {
    "collapsed": false,
    "ExecuteTime": {
     "end_time": "2023-10-30T07:39:45.537929Z",
     "start_time": "2023-10-30T07:39:45.520462Z"
    }
   },
   "id": "c26f17be17abcfdd"
  },
  {
   "cell_type": "code",
   "execution_count": 118,
   "outputs": [],
   "source": [
    "m = create_bn(['A','B','C','D'],[('A','B'),('A','C'),('B','D'),('C','D')])"
   ],
   "metadata": {
    "collapsed": false,
    "ExecuteTime": {
     "end_time": "2023-10-30T07:42:34.517141Z",
     "start_time": "2023-10-30T07:42:34.449755Z"
    }
   },
   "id": "aecf6fde89723cb8"
  },
  {
   "cell_type": "code",
   "execution_count": 119,
   "outputs": [
    {
     "data": {
      "text/plain": "(B ⟂ C | A)\n(D ⟂ A | B, C)\n(C ⟂ B | A)\n(A ⟂ D | B, C)"
     },
     "execution_count": 119,
     "metadata": {},
     "output_type": "execute_result"
    }
   ],
   "source": [
    "m.get_independencies()"
   ],
   "metadata": {
    "collapsed": false,
    "ExecuteTime": {
     "end_time": "2023-10-30T07:42:53.187999Z",
     "start_time": "2023-10-30T07:42:53.141895Z"
    }
   },
   "id": "9f339b7a34551340"
  },
  {
   "cell_type": "code",
   "execution_count": 121,
   "outputs": [],
   "source": [
    "m = create_bn(['A','S','T','L','E','B','X','D'],\n",
    "              [('A','T'),('S','L'),('S','B'),('T','E'),('L','E'),('E','X'),('E','D'),('B','D')])"
   ],
   "metadata": {
    "collapsed": false,
    "ExecuteTime": {
     "end_time": "2023-10-30T08:04:42.188413Z",
     "start_time": "2023-10-30T08:04:42.146044Z"
    }
   },
   "id": "8c1afeb5326f0ff2"
  },
  {
   "cell_type": "code",
   "execution_count": 123,
   "outputs": [
    {
     "name": "stdout",
     "output_type": "stream",
     "text": [
      "no edge: (B, S) \n"
     ]
    },
    {
     "data": {
      "text/plain": "True"
     },
     "execution_count": 123,
     "metadata": {},
     "output_type": "execute_result"
    }
   ],
   "source": [
    "from util import d_sep\n",
    "d_sep(m,['B'],['S'],['T'])"
   ],
   "metadata": {
    "collapsed": false,
    "ExecuteTime": {
     "end_time": "2023-10-30T08:12:37.865997Z",
     "start_time": "2023-10-30T08:12:36.771614Z"
    }
   },
   "id": "9009a4a97371219"
  },
  {
   "cell_type": "code",
   "execution_count": 124,
   "outputs": [
    {
     "name": "stdout",
     "output_type": "stream",
     "text": [
      "no edge: (B, S) \n",
      "no edge: (B, T) \n"
     ]
    },
    {
     "data": {
      "text/plain": "True"
     },
     "execution_count": 124,
     "metadata": {},
     "output_type": "execute_result"
    }
   ],
   "source": [
    "d_sep(m,['B'],['S','T'],['A','L','E','X'])"
   ],
   "metadata": {
    "collapsed": false,
    "ExecuteTime": {
     "end_time": "2023-10-30T08:14:39.124412Z",
     "start_time": "2023-10-30T08:14:38.522582Z"
    }
   },
   "id": "299b7c42fb53bfc4"
  },
  {
   "cell_type": "code",
   "execution_count": 125,
   "outputs": [
    {
     "name": "stdout",
     "output_type": "stream",
     "text": [
      "no edge: (B, S) \n"
     ]
    },
    {
     "data": {
      "text/plain": "True"
     },
     "execution_count": 125,
     "metadata": {},
     "output_type": "execute_result"
    }
   ],
   "source": [
    "d_sep(m,['B'],['S'],['T','A','L','E','X'])"
   ],
   "metadata": {
    "collapsed": false,
    "ExecuteTime": {
     "end_time": "2023-10-30T08:16:00.755160Z",
     "start_time": "2023-10-30T08:16:00.370804Z"
    }
   },
   "id": "693a7cabb86d4114"
  },
  {
   "cell_type": "code",
   "execution_count": 134,
   "outputs": [],
   "source": [
    "from util import d_sep, viz_model\n",
    "def demo_graphoid_intersection():\n",
    "    nodes = [\"A\", \"S\", \"T\", \"L\", \"E\", \"B\", \"X\", \"D\"]\n",
    "    edges = [\n",
    "        (\"A\", \"T\"),\n",
    "        (\"S\", \"L\"),\n",
    "        (\"S\", \"B\"),\n",
    "        (\"T\", \"E\"),\n",
    "        (\"L\", \"E\"),\n",
    "        (\"E\", \"X\"),\n",
    "        (\"E\", \"D\"),\n",
    "        (\"B\", \"D\"),\n",
    "    ]\n",
    "    m = create_bn(nodes, edges)\n",
    "    print(f\"created Bayesian network model\")\n",
    "    name = \"graphoid_demo\"\n",
    "    viz_model(m, name)\n",
    "    print(f\"Nodes:\\n{nodes}\\nEdges\\n{edges}\")\n",
    "    X = [\"E\"]\n",
    "    Y = [\"A\"]\n",
    "    W = [\"S\"]\n",
    "    Z = [\"T\", \"D\", \"B\", \"X\",\"L\"]\n",
    "    print(f\"created graph layout inf files: {name}.dot and {name}.png\")\n",
    "    res1 = d_sep(m, [\"E\"], [\"A\"], [\"T\", \"D\", \"B\", \"X\",\"L\",\"S\"])\n",
    "    print(f\"I({X}, {Z} U {W}, {Y}) is {res1}\")\n",
    "    #%%\n",
    "    res2 = d_sep(m, [\"E\"], [\"S\"], [\"T\", \"D\", \"B\", \"X\",\"L\",\"A\"])\n",
    "    print(f\"I({X}, {Z} U {Y}, {W}) is {res2}\")\n",
    "    #%%\n",
    "    res3 = d_sep(m, [\"E\"], [\"S\",\"A\"], [\"T\", \"D\", \"B\", \"X\",\"L\"])\n",
    "    print(f\"I({X}, {Z}, {W} U {Y}) is {res3}\")\n",
    "    print(f\"verified intersection axiom\")"
   ],
   "metadata": {
    "collapsed": false,
    "ExecuteTime": {
     "end_time": "2023-10-31T02:31:20.823978Z",
     "start_time": "2023-10-31T02:31:20.766653Z"
    }
   },
   "id": "d11539114de5b3e0"
  },
  {
   "cell_type": "code",
   "execution_count": 135,
   "outputs": [
    {
     "name": "stdout",
     "output_type": "stream",
     "text": [
      "created Bayesian network model\n",
      "Nodes:\n",
      "['A', 'S', 'T', 'L', 'E', 'B', 'X', 'D']\n",
      "Edges\n",
      "[('A', 'T'), ('S', 'L'), ('S', 'B'), ('T', 'E'), ('L', 'E'), ('E', 'X'), ('E', 'D'), ('B', 'D')]\n",
      "created graph layout inf files: graphoid_demo.dot and graphoid_demo.png\n",
      "no edge: (E, A) \n",
      "I(['E'], ['T', 'D', 'B', 'X', 'L'] U ['S'], ['A']) is True\n",
      "no edge: (E, S) \n",
      "I(['E'], ['T', 'D', 'B', 'X', 'L'] U ['A'], ['S']) is True\n",
      "no edge: (E, S) \n",
      "no edge: (E, A) \n",
      "I(['E'], ['T', 'D', 'B', 'X', 'L'], ['S'] U ['A']) is True\n",
      "verified intersection axiom\n"
     ]
    }
   ],
   "source": [
    "demo_graphoid_intersection()"
   ],
   "metadata": {
    "collapsed": false,
    "ExecuteTime": {
     "end_time": "2023-10-31T02:31:26.951102Z",
     "start_time": "2023-10-31T02:31:25.576018Z"
    }
   },
   "id": "e9560b17b125974d"
  },
  {
   "cell_type": "code",
   "execution_count": 133,
   "outputs": [
    {
     "name": "stdout",
     "output_type": "stream",
     "text": [
      "no edge: (E, A) \n"
     ]
    },
    {
     "data": {
      "text/plain": "True"
     },
     "execution_count": 133,
     "metadata": {},
     "output_type": "execute_result"
    }
   ],
   "source": [
    "d_sep(m, [\"E\"], [\"A\"], [\"T\", \"D\", \"B\", \"X\",\"L\",\"S\"])"
   ],
   "metadata": {
    "collapsed": false,
    "ExecuteTime": {
     "end_time": "2023-10-31T02:29:55.563880Z",
     "start_time": "2023-10-31T02:29:54.954835Z"
    }
   },
   "id": "72595c5bde73e651"
  },
  {
   "cell_type": "code",
   "execution_count": 131,
   "outputs": [],
   "source": [
    "def demo_graphoid_contraction():\n",
    "    nodes = [\"A\", \"S\", \"T\", \"L\", \"E\", \"B\", \"X\", \"D\"]\n",
    "    edges = [\n",
    "        (\"A\", \"T\"),\n",
    "        (\"S\", \"L\"),\n",
    "        (\"S\", \"B\"),\n",
    "        (\"T\", \"E\"),\n",
    "        (\"L\", \"E\"),\n",
    "        (\"E\", \"X\"),\n",
    "        (\"E\", \"D\"),\n",
    "        (\"B\", \"D\"),\n",
    "    ]\n",
    "    m = create_bn(nodes, edges)\n",
    "    print(f\"created Bayesian network model\")\n",
    "    name = \"graphoid_demo\"\n",
    "    viz_model(m, name)\n",
    "    print(f\"Nodes:\\n{nodes}\\nEdges\\n{edges}\")\n",
    "    X = [\"B\"]\n",
    "    Y = [\"T\"]\n",
    "    Z = [\"S\"]\n",
    "    W = [\"A\", \"L\", \"E\", \"X\"]\n",
    "    print(f\"created graph layout inf files: {name}.dot and {name}.png\")\n",
    "    res1 = d_sep(m, [\"B\"], [\"S\"], [\"T\"])\n",
    "    print(f\"I({X}, {Z}, {Y}) is {res1}\")\n",
    "    #%%\n",
    "    res2 = d_sep(m, [\"B\"], [\"S\", \"T\"], [\"A\", \"L\", \"E\", \"X\"])\n",
    "    print(f\"I({X}, {Z} U {Y}, {W}) is {res2}\")\n",
    "    #%%\n",
    "    res3 = d_sep(m, [\"B\"], [\"S\"], [\"T\", \"A\", \"L\", \"E\", \"X\"])\n",
    "    print(f\"I({X}, {Z}, {W} U {Y}) is {res3}\")\n",
    "    print(f\"verified contraction axiom\")"
   ],
   "metadata": {
    "collapsed": false,
    "ExecuteTime": {
     "end_time": "2023-10-31T02:24:27.867229Z",
     "start_time": "2023-10-31T02:24:27.783053Z"
    }
   },
   "id": "53e11ff0f0b1c8af"
  },
  {
   "cell_type": "code",
   "execution_count": 132,
   "outputs": [
    {
     "name": "stdout",
     "output_type": "stream",
     "text": [
      "created Bayesian network model\n",
      "Nodes:\n",
      "['A', 'S', 'T', 'L', 'E', 'B', 'X', 'D']\n",
      "Edges\n",
      "[('A', 'T'), ('S', 'L'), ('S', 'B'), ('T', 'E'), ('L', 'E'), ('E', 'X'), ('E', 'D'), ('B', 'D')]\n",
      "created graph layout inf files: graphoid_demo.dot and graphoid_demo.png\n",
      "no edge: (B, S) \n",
      "I(['B'], ['S'], ['T']) is True\n",
      "no edge: (B, S) \n",
      "no edge: (B, T) \n",
      "I(['B'], ['S'] U ['T'], ['A', 'L', 'E', 'X']) is True\n",
      "no edge: (B, S) \n",
      "I(['B'], ['S'], ['A', 'L', 'E', 'X'] U ['T']) is True\n",
      "verified contraction axiom\n"
     ]
    }
   ],
   "source": [
    "demo_graphoid_contraction()"
   ],
   "metadata": {
    "collapsed": false,
    "ExecuteTime": {
     "end_time": "2023-10-31T02:24:49.487258Z",
     "start_time": "2023-10-31T02:24:48.087631Z"
    }
   },
   "id": "64110cc31dff8e"
  },
  {
   "cell_type": "code",
   "execution_count": 154,
   "outputs": [
    {
     "name": "stdout",
     "output_type": "stream",
     "text": [
      "{'D', 'A', 'E', 'S', 'B', 'X', 'T'}\n",
      "{'B', 'D', 'X', 'A'}\n"
     ]
    }
   ],
   "source": [
    "nodes = {'A', 'S', 'T', 'L', 'E', 'B', 'X', 'D'}\n",
    "node = 'L'\n",
    "nodes.remove(node)\n",
    "print(nodes)\n",
    "blanket = {'S', 'E', 'T'}\n",
    "\n",
    "print(nodes.difference(blanket))\n"
   ],
   "metadata": {
    "collapsed": false,
    "ExecuteTime": {
     "end_time": "2023-11-01T06:18:35.075341Z",
     "start_time": "2023-11-01T06:18:35.051884Z"
    }
   },
   "id": "ee463e5302f813b1"
  },
  {
   "cell_type": "code",
   "execution_count": 155,
   "outputs": [
    {
     "name": "stdout",
     "output_type": "stream",
     "text": [
      "['A', 'S', 'T', 'E', 'B', 'X', 'D']\n"
     ]
    },
    {
     "ename": "AttributeError",
     "evalue": "'list' object has no attribute 'difference'",
     "output_type": "error",
     "traceback": [
      "\u001B[0;31m---------------------------------------------------------------------------\u001B[0m",
      "\u001B[0;31mAttributeError\u001B[0m                            Traceback (most recent call last)",
      "Cell \u001B[0;32mIn[155], line 6\u001B[0m\n\u001B[1;32m      4\u001B[0m \u001B[38;5;28mprint\u001B[39m(nodes)\n\u001B[1;32m      5\u001B[0m blanket \u001B[38;5;241m=\u001B[39m [\u001B[38;5;124m'\u001B[39m\u001B[38;5;124mS\u001B[39m\u001B[38;5;124m'\u001B[39m, \u001B[38;5;124m'\u001B[39m\u001B[38;5;124mE\u001B[39m\u001B[38;5;124m'\u001B[39m, \u001B[38;5;124m'\u001B[39m\u001B[38;5;124mT\u001B[39m\u001B[38;5;124m'\u001B[39m]\n\u001B[0;32m----> 6\u001B[0m \u001B[38;5;28mprint\u001B[39m(\u001B[43mnodes\u001B[49m\u001B[38;5;241;43m.\u001B[39;49m\u001B[43mdifference\u001B[49m(blanket))\n",
      "\u001B[0;31mAttributeError\u001B[0m: 'list' object has no attribute 'difference'"
     ]
    }
   ],
   "source": [
    "nodes = ['A', 'S', 'T', 'L', 'E', 'B', 'X', 'D']\n",
    "node = 'L'\n",
    "nodes.remove(node)\n",
    "print(nodes)\n",
    "blanket = ['S', 'E', 'T']\n",
    "print(nodes.difference(blanket))"
   ],
   "metadata": {
    "collapsed": false,
    "ExecuteTime": {
     "end_time": "2023-11-01T06:21:36.640504Z",
     "start_time": "2023-11-01T06:21:36.632457Z"
    }
   },
   "id": "343134f5adff9178"
  },
  {
   "cell_type": "code",
   "execution_count": null,
   "outputs": [],
   "source": [],
   "metadata": {
    "collapsed": false
   },
   "id": "f6d976dde07d5e50"
  }
 ],
 "metadata": {
  "kernelspec": {
   "display_name": "Python 3",
   "language": "python",
   "name": "python3"
  },
  "language_info": {
   "codemirror_mode": {
    "name": "ipython",
    "version": 2
   },
   "file_extension": ".py",
   "mimetype": "text/x-python",
   "name": "python",
   "nbconvert_exporter": "python",
   "pygments_lexer": "ipython2",
   "version": "2.7.6"
  }
 },
 "nbformat": 4,
 "nbformat_minor": 5
}
