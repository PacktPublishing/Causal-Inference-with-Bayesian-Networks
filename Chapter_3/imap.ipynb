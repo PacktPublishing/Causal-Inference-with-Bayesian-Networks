{
 "cells": [
  {
   "cell_type": "code",
   "execution_count": 1,
   "outputs": [
    {
     "data": {
      "text/plain": "(y ⟂ z, x)\n(y ⟂ x | z)\n(y ⟂ z | x)\n(z ⟂ y, x)\n(z ⟂ x | y)\n(z ⟂ y | x)\n(x ⟂ y, z)\n(x ⟂ z | y)\n(x ⟂ y | z)"
     },
     "execution_count": 1,
     "metadata": {},
     "output_type": "execute_result"
    }
   ],
   "source": [
    "from pgmpy.models import BayesianNetwork\n",
    "m1 = BayesianNetwork()\n",
    "m1.add_nodes_from(['x','y','z'])\n",
    "m1.get_independencies()\n"
   ],
   "metadata": {
    "collapsed": false,
    "ExecuteTime": {
     "end_time": "2023-09-13T09:35:16.172191Z",
     "start_time": "2023-09-13T09:35:13.237929Z"
    }
   },
   "id": "610cf79ef916687e"
  },
  {
   "cell_type": "code",
   "execution_count": 3,
   "outputs": [
    {
     "data": {
      "text/plain": "(z ⟂ x | y)\n(x ⟂ z | y)"
     },
     "execution_count": 3,
     "metadata": {},
     "output_type": "execute_result"
    }
   ],
   "source": [
    "m2 = BayesianNetwork()\n",
    "m2.add_nodes_from(['x','y','z'])\n",
    "m2.add_edge('y','x')\n",
    "m2.add_edge('y','z')\n",
    "m2.get_independencies()"
   ],
   "metadata": {
    "collapsed": false,
    "ExecuteTime": {
     "end_time": "2023-09-13T09:38:22.651270Z",
     "start_time": "2023-09-13T09:38:22.587060Z"
    }
   },
   "id": "bbc4752c9ef9444b"
  },
  {
   "cell_type": "code",
   "execution_count": 4,
   "outputs": [
    {
     "data": {
      "text/plain": "(z ⟂ x | y)\n(x ⟂ z | y)"
     },
     "execution_count": 4,
     "metadata": {},
     "output_type": "execute_result"
    }
   ],
   "source": [
    "m3 = BayesianNetwork()\n",
    "m3.add_nodes_from(['x','y','z'])\n",
    "m3.add_edge('x','y')\n",
    "m3.add_edge('y','z')\n",
    "m3.get_independencies()"
   ],
   "metadata": {
    "collapsed": false,
    "ExecuteTime": {
     "end_time": "2023-09-13T09:40:08.728629Z",
     "start_time": "2023-09-13T09:40:08.690765Z"
    }
   },
   "id": "7270ccf94d29de39"
  },
  {
   "cell_type": "code",
   "execution_count": 5,
   "outputs": [
    {
     "data": {
      "text/plain": "(z ⟂ x | y)\n(x ⟂ z | y)"
     },
     "execution_count": 5,
     "metadata": {},
     "output_type": "execute_result"
    }
   ],
   "source": [
    "m4 = BayesianNetwork()\n",
    "m4.add_nodes_from(['x','y','z'])\n",
    "m4.add_edge('z','y')\n",
    "m4.add_edge('y','x')\n",
    "m4.get_independencies()"
   ],
   "metadata": {
    "collapsed": false,
    "ExecuteTime": {
     "end_time": "2023-09-13T09:43:04.013282Z",
     "start_time": "2023-09-13T09:43:03.958177Z"
    }
   },
   "id": "b287b62d81f0a7bc"
  },
  {
   "cell_type": "code",
   "execution_count": 31,
   "outputs": [
    {
     "data": {
      "text/plain": ""
     },
     "execution_count": 31,
     "metadata": {},
     "output_type": "execute_result"
    }
   ],
   "source": [
    "m5 = BayesianNetwork()\n",
    "m5.add_nodes_from(['x','y','z'])\n",
    "m5.add_edge('y','x')\n",
    "m5.add_edge('y','z')\n",
    "m5.add_edge('x','z')\n",
    "m5.get_independencies()"
   ],
   "metadata": {
    "collapsed": false,
    "ExecuteTime": {
     "end_time": "2023-09-14T04:40:58.942577Z",
     "start_time": "2023-09-14T04:40:58.906513Z"
    }
   },
   "id": "bc599973ae5ab209"
  },
  {
   "cell_type": "code",
   "execution_count": 32,
   "outputs": [
    {
     "data": {
      "text/plain": ""
     },
     "execution_count": 32,
     "metadata": {},
     "output_type": "execute_result"
    }
   ],
   "source": [
    "m6 = BayesianNetwork()\n",
    "m6.add_nodes_from(['x','y','z'])\n",
    "m6.add_edge('x','y')\n",
    "m6.add_edge('y','z')\n",
    "m6.add_edge('x','z')\n",
    "m6.get_independencies()"
   ],
   "metadata": {
    "collapsed": false,
    "ExecuteTime": {
     "end_time": "2023-09-14T04:50:37.289352Z",
     "start_time": "2023-09-14T04:50:37.151919Z"
    }
   },
   "id": "f8dc2d63a8d0318f"
  },
  {
   "cell_type": "code",
   "execution_count": 33,
   "outputs": [
    {
     "data": {
      "text/plain": ""
     },
     "execution_count": 33,
     "metadata": {},
     "output_type": "execute_result"
    }
   ],
   "source": [
    "m7 = BayesianNetwork()\n",
    "m7.add_nodes_from(['x','y','z'])\n",
    "m7.add_edge('y','x')\n",
    "m7.add_edge('z','y')\n",
    "m7.add_edge('z','x')\n",
    "m7.get_independencies()"
   ],
   "metadata": {
    "collapsed": false,
    "ExecuteTime": {
     "end_time": "2023-09-14T04:52:31.190775Z",
     "start_time": "2023-09-14T04:52:31.095333Z"
    }
   },
   "id": "844039622487b1d5"
  },
  {
   "cell_type": "code",
   "execution_count": 34,
   "outputs": [
    {
     "data": {
      "text/plain": ""
     },
     "execution_count": 34,
     "metadata": {},
     "output_type": "execute_result"
    }
   ],
   "source": [
    "m8 = BayesianNetwork()\n",
    "m8.add_nodes_from(['x','y','z'])\n",
    "m8.add_edge('y','x')\n",
    "m8.add_edge('y','z')\n",
    "m8.add_edge('z','x')\n",
    "m8.get_independencies()"
   ],
   "metadata": {
    "collapsed": false,
    "ExecuteTime": {
     "end_time": "2023-09-14T04:53:45.790032Z",
     "start_time": "2023-09-14T04:53:45.722665Z"
    }
   },
   "id": "49607603e10fde22"
  },
  {
   "cell_type": "code",
   "execution_count": 35,
   "outputs": [
    {
     "data": {
      "text/plain": ""
     },
     "execution_count": 35,
     "metadata": {},
     "output_type": "execute_result"
    }
   ],
   "source": [
    "m9 = BayesianNetwork()\n",
    "m9.add_nodes_from(['x','y','z'])\n",
    "m9.add_edge('x','y')\n",
    "m9.add_edge('z','y')\n",
    "m9.add_edge('x','z')\n",
    "m9.get_independencies()"
   ],
   "metadata": {
    "collapsed": false,
    "ExecuteTime": {
     "end_time": "2023-09-14T04:55:29.594863Z",
     "start_time": "2023-09-14T04:55:29.521159Z"
    }
   },
   "id": "3b26d16940e31530"
  },
  {
   "cell_type": "code",
   "execution_count": 36,
   "outputs": [
    {
     "data": {
      "text/plain": ""
     },
     "execution_count": 36,
     "metadata": {},
     "output_type": "execute_result"
    }
   ],
   "source": [
    "m10 = BayesianNetwork()\n",
    "m10.add_nodes_from(['x','y','z'])\n",
    "m10.add_edge('x','y')\n",
    "m10.add_edge('z','y')\n",
    "m10.add_edge('x','z')\n",
    "m10.get_independencies()"
   ],
   "metadata": {
    "collapsed": false,
    "ExecuteTime": {
     "end_time": "2023-09-14T04:56:31.357312Z",
     "start_time": "2023-09-14T04:56:31.283931Z"
    }
   },
   "id": "a725b3fa95e64911"
  },
  {
   "cell_type": "code",
   "execution_count": 37,
   "outputs": [],
   "source": [
    "import pygraphviz as pgv\n",
    "def dagviz(nodes, edges, name):\n",
    "    G = pgv.AGraph(strict=False, directed=True)\n",
    "    G.add_nodes_from(nodes)\n",
    "    for edge in edges:\n",
    "        G.add_edge(edge)\n",
    "    G.write(name + \".dot\")\n",
    "    # use dot\n",
    "    G.layout(prog=\"dot\")\n",
    "    # write previously positioned graph to PNG file\n",
    "    G.draw(name + \".png\")"
   ],
   "metadata": {
    "collapsed": false,
    "ExecuteTime": {
     "end_time": "2023-09-14T04:59:07.645289Z",
     "start_time": "2023-09-14T04:59:07.538011Z"
    }
   },
   "id": "3c83df8e2d5b700f"
  },
  {
   "cell_type": "code",
   "execution_count": 38,
   "outputs": [],
   "source": [
    "def viz_model(model, filename):\n",
    "    dagviz(model.nodes, model.edges, filename)"
   ],
   "metadata": {
    "collapsed": false,
    "ExecuteTime": {
     "end_time": "2023-09-14T04:59:10.741178Z",
     "start_time": "2023-09-14T04:59:10.714986Z"
    }
   },
   "id": "3ee059edf9f181a2"
  },
  {
   "cell_type": "code",
   "execution_count": 42,
   "outputs": [],
   "source": [
    "i = 1\n",
    "for model in [m1,m2,m3,m4,m5,m6,m7,m8,m9,m10]:\n",
    "    viz_model(model, \"m\" + str(i))\n",
    "    i = i+1"
   ],
   "metadata": {
    "collapsed": false,
    "ExecuteTime": {
     "end_time": "2023-09-14T05:07:09.761657Z",
     "start_time": "2023-09-14T05:07:07.935031Z"
    }
   },
   "id": "a7376e5dc9adcc20"
  },
  {
   "cell_type": "code",
   "execution_count": null,
   "outputs": [],
   "source": [],
   "metadata": {
    "collapsed": false
   },
   "id": "f948491401944d02"
  }
 ],
 "metadata": {
  "kernelspec": {
   "display_name": "Python 3",
   "language": "python",
   "name": "python3"
  },
  "language_info": {
   "codemirror_mode": {
    "name": "ipython",
    "version": 2
   },
   "file_extension": ".py",
   "mimetype": "text/x-python",
   "name": "python",
   "nbconvert_exporter": "python",
   "pygments_lexer": "ipython2",
   "version": "2.7.6"
  }
 },
 "nbformat": 4,
 "nbformat_minor": 5
}
