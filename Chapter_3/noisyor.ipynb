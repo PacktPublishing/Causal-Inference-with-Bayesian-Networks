{
 "cells": [
  {
   "cell_type": "code",
   "execution_count": 38,
   "outputs": [],
   "source": [
    "from pgmpy.models import BayesianNetwork\n",
    "noisyor: BayesianNetwork = BayesianNetwork()\n",
    "noisyor.add_nodes_from([\"x1\", \"x2\", \"x3\", \"y\"])\n",
    "noisyor.add_edge(\"x1\", \"y\")\n",
    "noisyor.add_edge(\"x2\", \"y\")\n",
    "noisyor.add_edge(\"x3\", \"y\")\n"
   ],
   "metadata": {
    "collapsed": false,
    "ExecuteTime": {
     "end_time": "2023-09-14T01:21:54.813837Z",
     "start_time": "2023-09-14T01:21:54.800953Z"
    }
   },
   "id": "b36163c5c861ab0e"
  },
  {
   "cell_type": "code",
   "execution_count": 39,
   "outputs": [],
   "source": [
    "from pgmpy.factors.discrete import TabularCPD\n",
    "cpd_1 = TabularCPD(\n",
    "    variable=\"x1\", variable_card=2, values=[[0.5], [0.5]]\n",
    ")\n",
    "cpd_2 = TabularCPD(\n",
    "    variable=\"x2\", variable_card=2, values=[[0.5], [0.5]]\n",
    ")\n",
    "cpd_3 = TabularCPD(\n",
    "    variable=\"x3\", variable_card=2, values=[[0.5], [0.5]]\n",
    ")\n",
    "cpd_y = TabularCPD(\n",
    "    variable=\"y\",\n",
    "    variable_card=2,\n",
    "    values=[\n",
    "            [1,0.1,0.2,0.02,0.6,0.06,0.12,0.012],\n",
    "            [0,0.9,0.8,0.98,0.4,0.94,0.88,0.988],\n",
    "    ],\n",
    "    evidence=[\"x1\", \"x2\", \"x3\"],\n",
    "    evidence_card=[2, 2, 2],\n",
    ")"
   ],
   "metadata": {
    "collapsed": false,
    "ExecuteTime": {
     "end_time": "2023-09-14T01:21:56.979108Z",
     "start_time": "2023-09-14T01:21:56.965127Z"
    }
   },
   "id": "a4c5ffc25b5d1f3d"
  },
  {
   "cell_type": "code",
   "execution_count": 40,
   "outputs": [
    {
     "data": {
      "text/plain": "True"
     },
     "execution_count": 40,
     "metadata": {},
     "output_type": "execute_result"
    }
   ],
   "source": [
    "noisyor.add_cpds(cpd_1,cpd_2,cpd_3, cpd_y)\n",
    "noisyor.check_model()"
   ],
   "metadata": {
    "collapsed": false,
    "ExecuteTime": {
     "end_time": "2023-09-14T01:22:02.875599Z",
     "start_time": "2023-09-14T01:22:02.855992Z"
    }
   },
   "id": "7398aeefdef305c"
  },
  {
   "cell_type": "code",
   "execution_count": 46,
   "outputs": [
    {
     "name": "stdout",
     "output_type": "stream",
     "text": [
      "[0.125  0.0125 0.025  0.0025 0.075  0.0075 0.015  0.0015 0.     0.1125\n",
      " 0.1    0.1225 0.05   0.1175 0.11   0.1235] 1.0\n"
     ]
    },
    {
     "data": {
      "text/plain": "True"
     },
     "execution_count": 46,
     "metadata": {},
     "output_type": "execute_result"
    }
   ],
   "source": [
    "import numpy as np\n",
    "from pgmpy.factors.discrete import JointProbabilityDistribution\n",
    "p = 0.5 * 0.5 * 0.5\n",
    "val = [1, 0.1, 0.2, 0.02, 0.6, 0.06, 0.12, 0.012, 0, 0.9, 0.8, 0.98, 0.4, 0.94, 0.88, 0.988]\n",
    "jp = p * np.array(val)\n",
    "print(jp, jp.sum())\n",
    "JPD = JointProbabilityDistribution(['y','x1','x2','x3'],[2,2,2,2], jp)\n",
    "noisyor.is_imap(JPD)"
   ],
   "metadata": {
    "collapsed": false,
    "ExecuteTime": {
     "end_time": "2023-09-14T02:04:49.537794Z",
     "start_time": "2023-09-14T02:04:49.522553Z"
    }
   },
   "id": "dc706b75efc4097"
  },
  {
   "cell_type": "code",
   "execution_count": 47,
   "outputs": [
    {
     "data": {
      "text/plain": "(x2 ⟂ x1, x3)\n(x2 ⟂ x3 | x1)\n(x2 ⟂ x1 | x3)\n(x1 ⟂ x2, x3)\n(x1 ⟂ x3 | x2)\n(x1 ⟂ x2 | x3)\n(x3 ⟂ x2, x1)\n(x3 ⟂ x1 | x2)\n(x3 ⟂ x2 | x1)"
     },
     "execution_count": 47,
     "metadata": {},
     "output_type": "execute_result"
    }
   ],
   "source": [
    "noisyor.get_independencies()"
   ],
   "metadata": {
    "collapsed": false,
    "ExecuteTime": {
     "end_time": "2023-09-14T02:14:02.165841Z",
     "start_time": "2023-09-14T02:14:02.128569Z"
    }
   },
   "id": "c7b9ce21cf751c45"
  },
  {
   "cell_type": "code",
   "execution_count": 25,
   "outputs": [
    {
     "name": "stdout",
     "output_type": "stream",
     "text": [
      "(x2 ⟂ x1, x3)\n",
      "(x2 ⟂ x3 | x1)\n",
      "(x2 ⟂ x1 | x3)\n",
      "(x1 ⟂ x2, x3)\n",
      "(x1 ⟂ x3 | x2)\n",
      "(x1 ⟂ x2 | x3)\n",
      "(x3 ⟂ x2, x1)\n",
      "(x3 ⟂ x1 | x2)\n",
      "(x3 ⟂ x2 | x1)\n"
     ]
    }
   ],
   "source": [
    "from pgmpy.base import DAG\n",
    "G = DAG()\n",
    "G.add_nodes_from(noisyor.nodes)\n",
    "G.add_edges_from(noisyor.edges())\n",
    "print(G.get_independencies())"
   ],
   "metadata": {
    "collapsed": false,
    "ExecuteTime": {
     "end_time": "2023-09-13T00:12:49.822536Z",
     "start_time": "2023-09-13T00:12:49.742136Z"
    }
   },
   "id": "834e622d8f0de0a9"
  },
  {
   "cell_type": "code",
   "execution_count": 48,
   "outputs": [
    {
     "data": {
      "text/plain": "(x1 ⟂ x2, x3)"
     },
     "execution_count": 48,
     "metadata": {},
     "output_type": "execute_result"
    }
   ],
   "source": [
    "G.local_independencies('x1')"
   ],
   "metadata": {
    "collapsed": false,
    "ExecuteTime": {
     "end_time": "2023-09-14T02:16:49.236833Z",
     "start_time": "2023-09-14T02:16:49.222658Z"
    }
   },
   "id": "7d7b790220bb6e3d"
  },
  {
   "cell_type": "code",
   "execution_count": 27,
   "outputs": [
    {
     "data": {
      "text/plain": "OutEdgeView([('x1', 'y'), ('x2', 'y'), ('x3', 'y')])"
     },
     "execution_count": 27,
     "metadata": {},
     "output_type": "execute_result"
    }
   ],
   "source": [
    "G.edges()"
   ],
   "metadata": {
    "collapsed": false,
    "ExecuteTime": {
     "end_time": "2023-09-13T00:27:04.640575Z",
     "start_time": "2023-09-13T00:27:04.569402Z"
    }
   },
   "id": "6f17d30981024d16"
  },
  {
   "cell_type": "code",
   "execution_count": 28,
   "outputs": [
    {
     "data": {
      "text/plain": "set()"
     },
     "execution_count": 28,
     "metadata": {},
     "output_type": "execute_result"
    }
   ],
   "source": [
    "G.minimal_dseparator('x1','x2')"
   ],
   "metadata": {
    "collapsed": false,
    "ExecuteTime": {
     "end_time": "2023-09-13T00:29:00.581920Z",
     "start_time": "2023-09-13T00:29:00.513656Z"
    }
   },
   "id": "97e8d187edc51a31"
  },
  {
   "cell_type": "markdown",
   "source": [],
   "metadata": {
    "collapsed": false
   },
   "id": "54cb25f5062ff8f0"
  },
  {
   "cell_type": "code",
   "execution_count": null,
   "outputs": [],
   "source": [],
   "metadata": {
    "collapsed": false
   },
   "id": "f196e0d3b01dd292"
  },
  {
   "cell_type": "code",
   "execution_count": null,
   "outputs": [],
   "source": [],
   "metadata": {
    "collapsed": false
   },
   "id": "c962e2214fef8d1a"
  }
 ],
 "metadata": {
  "kernelspec": {
   "display_name": "Python 3",
   "language": "python",
   "name": "python3"
  },
  "language_info": {
   "codemirror_mode": {
    "name": "ipython",
    "version": 2
   },
   "file_extension": ".py",
   "mimetype": "text/x-python",
   "name": "python",
   "nbconvert_exporter": "python",
   "pygments_lexer": "ipython2",
   "version": "2.7.6"
  }
 },
 "nbformat": 4,
 "nbformat_minor": 5
}
