{
 "cells": [
  {
   "cell_type": "code",
   "execution_count": null,
   "id": "initial_id",
   "metadata": {
    "collapsed": true
   },
   "outputs": [],
   "source": []
  },
  {
   "cell_type": "code",
   "execution_count": 3,
   "outputs": [],
   "source": [
    "from pgmpy.models import BayesianNetwork\n",
    "def construct_monty_model():\n",
    "    model: BayesianNetwork = BayesianNetwork()\n",
    "    model.add_nodes_from([\"guest\", \"car\", \"host\"])\n",
    "    model.add_edge(\"guest\", \"host\")\n",
    "    model.add_edge(\"car\", \"host\")\n",
    "    return model"
   ],
   "metadata": {
    "collapsed": false,
    "ExecuteTime": {
     "end_time": "2023-09-09T10:18:46.579291Z",
     "start_time": "2023-09-09T10:18:46.556752Z"
    }
   },
   "id": "a7eca8402018dc31"
  },
  {
   "cell_type": "markdown",
   "source": [],
   "metadata": {
    "collapsed": false
   },
   "id": "8e10d0772bce712f"
  },
  {
   "cell_type": "markdown",
   "source": [
    "monty = construct_monty_model()"
   ],
   "metadata": {
    "collapsed": false
   },
   "id": "7e06db9edf0b7711"
  },
  {
   "cell_type": "code",
   "execution_count": 6,
   "outputs": [],
   "source": [
    "from pgmpy.factors.discrete import TabularCPD\n",
    "cpd_g = TabularCPD(\n",
    "    variable=\"guest\", variable_card=3, values=[[0.33333], [0.33333], [0.33333]]\n",
    ")\n",
    "cpd_c = TabularCPD(\n",
    "    variable=\"car\", variable_card=3, values=[[0.33333], [0.33333], [0.33333]]\n",
    ")\n",
    "cpd_h = TabularCPD(\n",
    "    variable=\"host\",\n",
    "    variable_card=3,\n",
    "    values=[\n",
    "            [0, 0, 0, 0, 0.5, 1, 0, 1, 0.5],\n",
    "            [0.5, 0, 1, 0, 0, 0, 1, 0, 0.5],\n",
    "            [0.5, 1, 0, 1, 0.5, 0, 0, 0, 0],\n",
    "    ],\n",
    "    evidence=[\"guest\", \"car\"],\n",
    "    evidence_card=[3, 3],\n",
    ")"
   ],
   "metadata": {
    "collapsed": false,
    "ExecuteTime": {
     "end_time": "2023-09-09T10:21:44.787953Z",
     "start_time": "2023-09-09T10:21:44.632819Z"
    }
   },
   "id": "15df4ef5885fcec7"
  },
  {
   "cell_type": "code",
   "execution_count": 7,
   "outputs": [],
   "source": [
    "monty = construct_monty_model()\n",
    "monty.add_cpds(cpd_g, cpd_c, cpd_h)"
   ],
   "metadata": {
    "collapsed": false,
    "ExecuteTime": {
     "end_time": "2023-09-09T10:22:05.037211Z",
     "start_time": "2023-09-09T10:22:04.965482Z"
    }
   },
   "id": "156b191e3979e266"
  },
  {
   "cell_type": "code",
   "execution_count": 8,
   "outputs": [
    {
     "data": {
      "text/plain": "True"
     },
     "execution_count": 8,
     "metadata": {},
     "output_type": "execute_result"
    }
   ],
   "source": [
    "monty.check_model()"
   ],
   "metadata": {
    "collapsed": false,
    "ExecuteTime": {
     "end_time": "2023-09-09T10:23:09.332235Z",
     "start_time": "2023-09-09T10:23:09.274094Z"
    }
   },
   "id": "429a2b1e72ff2fc"
  },
  {
   "cell_type": "code",
   "execution_count": 10,
   "outputs": [],
   "source": [
    "import pygraphviz as pgv\n",
    "def dagviz(nodes, edges, name):\n",
    "    G = pgv.AGraph(strict=False, directed=True)\n",
    "    G.add_nodes_from(nodes)\n",
    "    for edge in edges:\n",
    "        G.add_edge(edge)\n",
    "    G.write(name + \".dot\")\n",
    "    # use dot\n",
    "    G.layout(prog=\"dot\")\n",
    "    # write previously positioned graph to PNG file\n",
    "    G.draw(name + \".png\")"
   ],
   "metadata": {
    "collapsed": false,
    "ExecuteTime": {
     "end_time": "2023-09-09T10:25:13.226614Z",
     "start_time": "2023-09-09T10:25:13.178036Z"
    }
   },
   "id": "70a4ef1971e5ffd3"
  },
  {
   "cell_type": "code",
   "execution_count": 11,
   "outputs": [],
   "source": [
    "def viz_model(model, filename):\n",
    "    dagviz(model.nodes, model.edges, filename)"
   ],
   "metadata": {
    "collapsed": false,
    "ExecuteTime": {
     "end_time": "2023-09-09T10:25:21.691052Z",
     "start_time": "2023-09-09T10:25:21.669859Z"
    }
   },
   "id": "31c4ecae418dd216"
  },
  {
   "cell_type": "code",
   "execution_count": 12,
   "outputs": [],
   "source": [
    "from pgmpy.inference import BeliefPropagation\n",
    "viz_model(monty, \"monty\")"
   ],
   "metadata": {
    "collapsed": false,
    "ExecuteTime": {
     "end_time": "2023-09-09T10:27:36.975773Z",
     "start_time": "2023-09-09T10:27:33.753558Z"
    }
   },
   "id": "347fc3acf174d314"
  },
  {
   "cell_type": "code",
   "execution_count": 14,
   "outputs": [
    {
     "name": "stdout",
     "output_type": "stream",
     "text": [
      "+--------+------------+\n",
      "| car    |   phi(car) |\n",
      "+========+============+\n",
      "| car(0) |     0.3333 |\n",
      "+--------+------------+\n",
      "| car(1) |     0.0000 |\n",
      "+--------+------------+\n",
      "| car(2) |     0.6667 |\n",
      "+--------+------------+\n"
     ]
    }
   ],
   "source": [
    "from pgmpy.inference import BeliefPropagation\n",
    "belief_propagation = BeliefPropagation(monty)\n",
    "res = belief_propagation.query(variables=[\"car\"], evidence={\"guest\": 0, \"host\": 1})\n",
    "print(res)"
   ],
   "metadata": {
    "collapsed": false,
    "ExecuteTime": {
     "end_time": "2023-09-09T10:28:59.500906Z",
     "start_time": "2023-09-09T10:28:59.463250Z"
    }
   },
   "id": "53716477a8b114b8"
  },
  {
   "cell_type": "code",
   "execution_count": null,
   "outputs": [],
   "source": [],
   "metadata": {
    "collapsed": false
   },
   "id": "8d24b45358c4bb12"
  }
 ],
 "metadata": {
  "kernelspec": {
   "display_name": "Python 3",
   "language": "python",
   "name": "python3"
  },
  "language_info": {
   "codemirror_mode": {
    "name": "ipython",
    "version": 2
   },
   "file_extension": ".py",
   "mimetype": "text/x-python",
   "name": "python",
   "nbconvert_exporter": "python",
   "pygments_lexer": "ipython2",
   "version": "2.7.6"
  }
 },
 "nbformat": 4,
 "nbformat_minor": 5
}
