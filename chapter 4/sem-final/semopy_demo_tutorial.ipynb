{
 "cells": [
  {
   "metadata": {},
   "cell_type": "markdown",
   "source": [
    "# semopy Tutorial: A Minimal CFA Demo (Step-by-Step)\n",
    "\n",
    "This notebook demonstrates a compact workflow for Structural Equation Modeling (SEM) with semopy.\n",
    "\n",
    "We will:\n",
    "1. Simulate a small dataset for a one-factor Confirmatory Factor Analysis (CFA).\n",
    "2. Specify the model in lavaan-like syntax.\n",
    "3. Fit the model and inspect results.\n",
    "4. Compute basic fit statistics.\n",
    "5. Draw a simple path diagram resembling the style used in the `bollen_semopy.ipynb` workbook.\n"
   ],
   "id": "dd570188ee5bf57d"
  },
  {
   "metadata": {
    "ExecuteTime": {
     "end_time": "2025-09-20T08:07:12.201704Z",
     "start_time": "2025-09-20T08:07:10.944036Z"
    }
   },
   "cell_type": "code",
   "source": [
    "# Imports and environment report\n",
    "from __future__ import annotations\n",
    "import os\n",
    "import numpy as np\n",
    "import pandas as pd\n",
    "import semopy\n",
    "from semopy import Model\n",
    "\n",
    "print('numpy:', np.__version__)\n",
    "print('pandas:', pd.__version__)\n",
    "print('semopy:', semopy.__version__)\n",
    "pd.set_option('display.float_format', lambda x: f'{x:,.4f}')\n"
   ],
   "id": "b0ae15cd18fb841d",
   "outputs": [
    {
     "name": "stdout",
     "output_type": "stream",
     "text": [
      "numpy: 2.3.3\n",
      "pandas: 2.3.2\n",
      "semopy: 2.3.11\n"
     ]
    }
   ],
   "execution_count": 1
  },
  {
   "metadata": {},
   "cell_type": "markdown",
   "source": [
    "## 1) Simulate data and specify a one-factor CFA model\n",
    "\n",
    "We simulate three observed indicators `y1`, `y2`, `y3` loading on a single latent factor `eta`.\n",
    "The model fixes the variance of `eta` to 1 for identification.\n"
   ],
   "id": "e7f0a8d87c9ece08"
  },
  {
   "metadata": {
    "ExecuteTime": {
     "end_time": "2025-09-20T08:07:12.281015Z",
     "start_time": "2025-09-20T08:07:12.272674Z"
    }
   },
   "cell_type": "code",
   "source": [
    "import pandas as pd\n",
    "import numpy as np\n",
    "\n",
    "def build_sample_data(n: int = 120, seed: int = 7) -> pd.DataFrame:\n",
    "    rng = np.random.default_rng(seed)\n",
    "    eta = rng.normal(size=n)  # latent factor with variance ~ 1\n",
    "    y1 = 0.8 * eta + rng.normal(scale=0.6, size=n)\n",
    "    y2 = 0.9 * eta + rng.normal(scale=0.5, size=n)\n",
    "    y3 = 0.7 * eta + rng.normal(scale=0.7, size=n)\n",
    "    return pd.DataFrame({'y1': y1, 'y2': y2, 'y3': y3})\n",
    "\n",
    "# Model specification (lavaan-like syntax)\n",
    "MODEL_SPEC = '''\n",
    "# Measurement model\n",
    "eta =~ y1 + y2 + y3\n",
    "\n",
    "# Fix latent variance to 1 for identifiability\n",
    "eta ~~ 1*eta\n",
    "'''\n",
    "\n",
    "data = build_sample_data()\n",
    "data.head()\n"
   ],
   "id": "3181470897781b39",
   "outputs": [
    {
     "data": {
      "text/plain": [
       "       y1      y2      y3\n",
       "0  0.0546 -0.2290  0.3533\n",
       "1 -0.1156  0.6405  1.5187\n",
       "2 -0.2905 -0.2880  0.2225\n",
       "3 -1.9111 -0.7610 -0.5843\n",
       "4 -1.0426 -0.5546 -1.4986"
      ],
      "text/html": [
       "<div>\n",
       "<style scoped>\n",
       "    .dataframe tbody tr th:only-of-type {\n",
       "        vertical-align: middle;\n",
       "    }\n",
       "\n",
       "    .dataframe tbody tr th {\n",
       "        vertical-align: top;\n",
       "    }\n",
       "\n",
       "    .dataframe thead th {\n",
       "        text-align: right;\n",
       "    }\n",
       "</style>\n",
       "<table border=\"1\" class=\"dataframe\">\n",
       "  <thead>\n",
       "    <tr style=\"text-align: right;\">\n",
       "      <th></th>\n",
       "      <th>y1</th>\n",
       "      <th>y2</th>\n",
       "      <th>y3</th>\n",
       "    </tr>\n",
       "  </thead>\n",
       "  <tbody>\n",
       "    <tr>\n",
       "      <th>0</th>\n",
       "      <td>0.0546</td>\n",
       "      <td>-0.2290</td>\n",
       "      <td>0.3533</td>\n",
       "    </tr>\n",
       "    <tr>\n",
       "      <th>1</th>\n",
       "      <td>-0.1156</td>\n",
       "      <td>0.6405</td>\n",
       "      <td>1.5187</td>\n",
       "    </tr>\n",
       "    <tr>\n",
       "      <th>2</th>\n",
       "      <td>-0.2905</td>\n",
       "      <td>-0.2880</td>\n",
       "      <td>0.2225</td>\n",
       "    </tr>\n",
       "    <tr>\n",
       "      <th>3</th>\n",
       "      <td>-1.9111</td>\n",
       "      <td>-0.7610</td>\n",
       "      <td>-0.5843</td>\n",
       "    </tr>\n",
       "    <tr>\n",
       "      <th>4</th>\n",
       "      <td>-1.0426</td>\n",
       "      <td>-0.5546</td>\n",
       "      <td>-1.4986</td>\n",
       "    </tr>\n",
       "  </tbody>\n",
       "</table>\n",
       "</div>"
      ]
     },
     "execution_count": 2,
     "metadata": {},
     "output_type": "execute_result"
    }
   ],
   "execution_count": 2
  },
  {
   "metadata": {},
   "cell_type": "markdown",
   "source": [
    "## 2) Fit the model\n",
    "\n",
    "We instantiate `semopy.Model` with the specification string and fit it to the simulated data.\n"
   ],
   "id": "bfd2ff123796887f"
  },
  {
   "metadata": {
    "ExecuteTime": {
     "end_time": "2025-09-20T08:07:12.320376Z",
     "start_time": "2025-09-20T08:07:12.313479Z"
    }
   },
   "cell_type": "code",
   "source": [
    "model = Model(MODEL_SPEC)\n",
    "res = model.fit(data)\n",
    "print('Fit done. Result type:', type(res).__name__)\n"
   ],
   "id": "4b8afe486b75af59",
   "outputs": [
    {
     "name": "stdout",
     "output_type": "stream",
     "text": [
      "Fit done. Result type: SolverResult\n"
     ]
    }
   ],
   "execution_count": 3
  },
  {
   "metadata": {},
   "cell_type": "markdown",
   "source": [
    "## 3) Inspect estimates and fit statistics\n",
    "\n",
    "Below we display the parameter table and selected fit indices (if available for your version of semopy).\n"
   ],
   "id": "55d9103cd2db6645"
  },
  {
   "metadata": {
    "ExecuteTime": {
     "end_time": "2025-09-20T08:07:12.406948Z",
     "start_time": "2025-09-20T08:07:12.397128Z"
    }
   },
   "cell_type": "code",
   "source": [
    "# Estimates table\n",
    "try:\n",
    "    estimates = model.inspect()\n",
    "except Exception:\n",
    "    estimates = semopy.inspect(model) if hasattr(semopy, 'inspect') else None\n",
    "print(estimates)\n",
    "\n",
    "# Fit statistics\n",
    "stats = None\n",
    "try:\n",
    "    stats = model.calc_stats() if hasattr(model, 'calc_stats') else semopy.calc_stats(model)\n",
    "except TypeError:\n",
    "    try:\n",
    "        stats = semopy.calc_stats(model, data)\n",
    "    except Exception:\n",
    "        stats = None\n",
    "print(stats)\n"
   ],
   "id": "3873e4cb49eda9f0",
   "outputs": [
    {
     "name": "stdout",
     "output_type": "stream",
     "text": [
      "  lval  op rval  Estimate Std. Err z-value p-value\n",
      "0   y1   ~  eta    1.0000        -       -       -\n",
      "1   y2   ~  eta    0.6960   0.0711  9.7933  0.0000\n",
      "2   y3   ~  eta    0.7717   0.0791  9.7621  0.0000\n",
      "3  eta  ~~  eta    1.0000        -       -       -\n",
      "4   y1  ~~   y1    0.1558   0.0727  2.1420  0.0322\n",
      "5   y2  ~~   y2    0.3500   0.0579  6.0425  0.0000\n",
      "6   y3  ~~   y3    0.4354   0.0717  6.0689  0.0000\n",
      "       DoF  DoF Baseline   chi2  chi2 p-value  chi2 Baseline    CFI    GFI  \\\n",
      "Value    1             3 8.2918        0.0040       127.6570 0.9415 0.9350   \n",
      "\n",
      "        AGFI    NFI    TLI  RMSEA    AIC     BIC  LogLik  \n",
      "Value 0.8051 0.9350 0.8245 0.2475 9.8618 23.7993  0.0691  \n"
     ]
    }
   ],
   "execution_count": 4
  },
  {
   "metadata": {},
   "cell_type": "markdown",
   "source": [
    "### Interpreting the estimates and fit indices (Section 3)\n",
    "\n",
    "- Parameter table columns:\n",
    "  - lval: Left-hand variable (left side of the lavaan-style statement).\n",
    "  - op: Operator indicating the relation type. Common values:\n",
    "    - =~ (measurement/loading): latent factor on left, indicator on right.\n",
    "    - ~ (regression/structural path): dependent variable on left, predictor(s) on right.\n",
    "    - ~~ (variance/covariance): variance if lval == rval; covariance otherwise.\n",
    "  - rval: Right-hand variable (right side of the statement).\n",
    "  - Estimate: Point estimate of the parameter (loading, regression coefficient, variance, or covariance).\n",
    "  - Std. Err: Standard error of the estimate.\n",
    "  - z-value: Wald statistic, Estimate / Std. Err, testing H0: parameter = 0.\n",
    "  - p-value: Two-sided p-value for the z-test (vs. 0).\n",
    "\n",
    "- What are lval and rval?\n",
    "  - For a loading row (eta =~ y1), lval = eta, op = =~, rval = y1. The Estimate is the loading of y1 on eta.\n",
    "  - For a variance row (y1 ~~ y1), lval = y1, op = ~~, rval = y1. The Estimate is Var(y1)'s residual variance.\n",
    "  - For the latent variance constraint (eta ~~ 1*eta), the model fixes Var(eta) = 1 (not estimated).\n",
    "\n",
    "- Why do the estimated loadings differ from the generative values (0.8, 0.9, 0.7)?\n",
    "  - Sampling variability: We generated one finite sample (n = 120). Even with a correctly specified model, estimates fluctuate around population values, and may deviate noticeably in a single sample.\n",
    "  - Identification/sign indeterminacy: The factor’s sign is arbitrary. If the algorithm flips the factor sign, all loadings flip sign together; the model fit is identical. Compare magnitudes, not signs.\n",
    "  - Estimation target: ML estimates are chosen to reproduce the sample covariance matrix as well as possible; with finite samples the sample covariances differ from population values.\n",
    "  - Bias at small n: With modest n, small finite-sample bias can occur. Re-running with larger n will typically bring estimates closer to the generating values.\n",
    "  - Note: The z-values and p-values test whether a parameter differs from zero, not whether it equals the generating value. Large |z| means the loading is reliably nonzero.\n",
    "\n",
    "- Fit statistics shown (availability can vary by semopy version):\n",
    "  - DoF: Model degrees of freedom = number of unique elements in the observed covariance matrix minus the number of free parameters. Larger DoF implies more testable restrictions.\n",
    "  - DoF Baseline: Degrees of freedom for the baseline (independence) model where variables are uncorrelated.\n",
    "  - chi2: Model chi-square test statistic assessing exact fit (H0: model-implied covariance equals population). Smaller is better.\n",
    "  - chi2 p-value: p-value for chi2. A large p (e.g., > .05) suggests no evidence against exact fit; small p indicates misfit. This test is sensitive to n.\n",
    "  - chi2 Baseline: Chi-square of the baseline independence model (should be large if variables are strongly related).\n",
    "  - CFI: Comparative Fit Index; compares model vs. baseline improvement. Values close to 1 indicate good fit; common heuristics use >= .95 as strong, >= .90 as acceptable.\n",
    "  - GFI: Goodness-of-Fit Index; proportion of covariance explained by the model (0–1), with higher being better (interpret with caution; it can be sample-size sensitive).\n",
    "\n",
    "- Comment on expected fit quality here:\n",
    "  - Because the data were simulated from the one-factor model we fit, we typically expect excellent fit: very high CFI (≈ .97–1.00), high GFI (≈ .95–1.00), relatively small chi2 with a non-significant p-value (though chi2 can still be significant with some random draws or larger n). If indices depart from these ranges, it is due to sample randomness at n = 120.\n",
    "\n",
    "- About the specific example (e.g., chi2 = 8.2918, chi2 p-value = 0.0040, chi2 Baseline = 127.6570):\n",
    "  - How do we conclude a “low” chi-square? Low is judged relative to the baseline (independence) model and to the model’s degrees of freedom (DoF). Here, the baseline chi2 is very large (≈ 127.7), so our model reduces misfit dramatically to ≈ 8.3, which is small in absolute terms and tiny relative to the baseline. This is consistent with good relative fit indices (e.g., high CFI).\n",
    "  - Why is the chi-square p-value close to 0? The chi2 p-value tests exact fit (H0: the model-implied covariance equals the population covariance exactly). With finite samples, even tiny deviations from exact fit can yield a statistically significant chi2, especially as sample size grows because chi2 roughly scales with n. Thus, you can see a small absolute chi2 yet a small p-value. This is a known sensitivity of the exact-fit test and is why practitioners also report approximate-fit indices (CFI/TLI, RMSEA, SRMR).\n",
    "  - Should we worry? Focus on a suite of indices. A small p-value alone does not necessarily imply practically important misfit when other indices indicate excellent fit and residuals are small.\n",
    "\n",
    "- If we change the sample size (e.g., from n = 120 to n = 129), will the results “improve”?\n",
    "  - Parameter estimates: Precision generally improves with larger n (standard errors shrink), so estimates will be more stable across samples.\n",
    "  - Chi-square and its p-value: For the exact-fit test, chi2 tends to increase with n (greater power to detect tiny misfit), so the p-value often becomes even smaller (appearing to “worsen”). Thus, by the chi2 p-value criterion, increasing n may not look like an improvement.\n",
    "  - Relative/approximate fit indices (CFI, TLI, RMSEA, SRMR): These usually remain similar if the model is correctly specified; RMSEA may even decrease slightly with better precision, though behavior depends on DoF and sample peculiarities.\n",
    "  - Bottom line: Larger n improves estimation precision but can make the exact-fit chi2 test more likely to reject. Judge fit using multiple indices and substantive plausibility, not the chi2 p-value alone.\n"
   ],
   "id": "d2b38da07e291634"
  },
  {
   "metadata": {},
   "cell_type": "markdown",
   "source": [
    "## 4) Visualize the path diagram (Graphviz preferred)\n",
    "\n",
    "We parse the `MODEL_SPEC` string to extract nodes and edges and draw a diagram.\n",
    "If Graphviz (Python package and `dot` executable) is available, we use it to lay out the\n",
    "nodes (ellipses for latents, boxes for observed) and edges (directed for loadings/paths;\n",
    "curved double-headed arrows for covariances). Otherwise, we fall back to matplotlib.\n"
   ],
   "id": "8916293fe6df9166"
  },
  {
   "metadata": {
    "ExecuteTime": {
     "end_time": "2025-09-20T08:07:12.646752Z",
     "start_time": "2025-09-20T08:07:12.449270Z"
    }
   },
   "cell_type": "code",
   "source": [
    "import os, shutil\n",
    "from importlib import util as _util\n",
    "\n",
    "# Parse MODEL_SPEC to determine nodes and edges\n",
    "meas_edges, struct_edges, covar_pairs = [], [], []\n",
    "latents, observed = set(), set()\n",
    "for line in MODEL_SPEC.splitlines():\n",
    "    s = line.strip()\n",
    "    if not s or s.startswith('#'):\n",
    "        continue\n",
    "    if '=~' in s:\n",
    "        lhs, rhs = [t.strip() for t in s.split('=~', 1)]\n",
    "        latents.add(lhs)\n",
    "        for p in [p.strip() for p in rhs.split('+') if p.strip()]:\n",
    "            if '*' in p:\n",
    "                p = p.split('*', 1)[-1].strip()\n",
    "            meas_edges.append((lhs, p))\n",
    "            observed.add(p)\n",
    "    elif '~~' in s:  # residual covariance / correlation\n",
    "        a, b = [t.strip() for t in s.split('~~', 1)]\n",
    "        covar_pairs.append(tuple(sorted((a, b))))\n",
    "    elif '~' in s and '~~' not in s:\n",
    "        lhs, rhs = [t.strip() for t in s.split('~', 1)]\n",
    "        for p in [p.strip() for p in rhs.split('+') if p.strip()]:\n",
    "            if '*' in p:\n",
    "                p = p.split('*', 1)[-1].strip()\n",
    "            struct_edges.append((p, lhs))  # p -> lhs\n",
    "            if lhs not in observed:\n",
    "                latents.add(lhs)\n",
    "            if p not in observed:\n",
    "                latents.add(p)\n",
    "\n",
    "# Output path\n",
    "plot_dir = os.path.join(os.getcwd(), 'bollen_semopy_report', 'plot')\n",
    "os.makedirs(plot_dir, exist_ok=True)\n",
    "base_name = 'semopy_demo_model'\n",
    "save_path = os.path.join(plot_dir, base_name + '.png')\n",
    "\n",
    "# Try Graphviz first\n",
    "has_graphviz_pkg = _util.find_spec('graphviz') is not None\n",
    "dot_path = shutil.which('dot')\n",
    "print(f\"Graphviz Python package: {'available' if has_graphviz_pkg else 'NOT available'}\")\n",
    "print(f\"Graphviz 'dot' executable: {'found at ' + dot_path if dot_path else 'NOT found in PATH'}\")\n",
    "\n",
    "shown = False\n",
    "if has_graphviz_pkg and dot_path:\n",
    "    try:\n",
    "        from graphviz import Digraph\n",
    "        g = Digraph('SemopyDemo', format='png')\n",
    "        g.attr(rankdir='TB', splines='curved')\n",
    "        # Nodes\n",
    "        for l in sorted(latents):\n",
    "            g.node(l, shape='ellipse', style='filled', fillcolor='#e8f0fe', color='#4a70d3')\n",
    "        for o in sorted(observed):\n",
    "            g.node(o, shape='box', style='filled', fillcolor='#fef3e8', color='#d38b4a')\n",
    "        # Edges\n",
    "        for a, b in meas_edges:\n",
    "            g.edge(a, b, color='#2a7f62')\n",
    "        for a, b in struct_edges:\n",
    "            g.edge(a, b, color='#7f2a5a')\n",
    "        # Covariance (curved, double-headed) edges if any\n",
    "        for a, b in sorted(set(covar_pairs)):\n",
    "            # show only between observed variables for clarity\n",
    "            if a in observed and b in observed:\n",
    "                g.edge(a, b, dir='both', arrowhead='vee', arrowtail='vee', color='#444444', constraint='false')\n",
    "        # Save and optionally display\n",
    "        g.render(filename=base_name, directory=plot_dir, cleanup=True)\n",
    "        try:\n",
    "            from importlib import import_module as _import_module\n",
    "            _ip = _import_module('IPython.display')\n",
    "            _ip.display(g)\n",
    "        except Exception:\n",
    "            pass\n",
    "        print(f\"Diagram saved: {save_path}\")\n",
    "        shown = True\n",
    "    except Exception as e:\n",
    "        print('Graphviz rendering failed, falling back to matplotlib:', e)\n",
    "\n",
    "if not shown:\n",
    "    # Matplotlib fallback\n",
    "    import matplotlib.pyplot as plt\n",
    "    from matplotlib.patches import FancyArrowPatch, Ellipse\n",
    "    # Simple layout: latents on top row, observed bottom row\n",
    "    latents_list = sorted(latents)\n",
    "    observed_list = sorted(observed)\n",
    "    nL, nO = len(latents_list), len(observed_list)\n",
    "    pos = {}\n",
    "    for i, node in enumerate(latents_list):\n",
    "        pos[node] = (i if nL <= 1 else i / (nL - 1), 1.0)\n",
    "    for i, node in enumerate(observed_list):\n",
    "        pos[node] = (i if nO <= 1 else i / (nO - 1), 0.0)\n",
    "\n",
    "    fig, ax = plt.subplots(figsize=(6, 4))\n",
    "    for node, (x, y) in pos.items():\n",
    "        is_latent = node in latents\n",
    "        if is_latent:\n",
    "            e = Ellipse((x, y), width=0.22, height=0.16,\n",
    "                        facecolor='#e8f0fe', edgecolor='#4a70d3', linewidth=1.2)\n",
    "            ax.add_patch(e)\n",
    "            ax.text(x, y, node, ha='center', va='center', color='black')\n",
    "        else:\n",
    "            box_style = dict(boxstyle='square', fc='#fef3e8', ec='#d38b4a', lw=1.2)\n",
    "            ax.text(x, y, node, ha='center', va='center', bbox=box_style)\n",
    "\n",
    "    def _arrow(a, b, color):\n",
    "        xa, ya = pos[a]; xb, yb = pos[b]\n",
    "        ax.annotate('', xy=(xb, yb), xytext=(xa, ya),\n",
    "                    arrowprops=dict(arrowstyle='->', color=color, lw=1.6))\n",
    "\n",
    "    for a, b in meas_edges:\n",
    "        _arrow(a, b, '#2a7f62')\n",
    "    for a, b in struct_edges:\n",
    "        _arrow(a, b, '#7f2a5a')\n",
    "\n",
    "    def _cov(a, b, color='#444444', rad=0.25):\n",
    "        if a not in pos or b not in pos:\n",
    "            return\n",
    "        xa, ya = pos[a]; xb, yb = pos[b]\n",
    "        r = rad if xa <= xb else -rad\n",
    "        patch = FancyArrowPatch((xa, ya), (xb, yb),\n",
    "                                connectionstyle=f\"arc3,rad={r}\",\n",
    "                                arrowstyle='<->', color=color, lw=1.4,\n",
    "                                shrinkA=10, shrinkB=10, mutation_scale=10)\n",
    "        ax.add_patch(patch)\n",
    "\n",
    "    for i, (a, b) in enumerate(sorted(set(covar_pairs))):\n",
    "        _cov(a, b, rad=(0.25 if (i % 2 == 0) else 0.18))\n",
    "\n",
    "    ax.set_aspect('equal', adjustable='box')\n",
    "    ax.set_xlim(-0.2, 1.2)\n",
    "    ax.set_ylim(-0.3, 1.3)\n",
    "    ax.axis('off')\n",
    "    ax.set_title('Minimal CFA with semopy')\n",
    "    fig.tight_layout()\n",
    "    plt.savefig(save_path, dpi=150, bbox_inches='tight')\n",
    "    print(f\"Diagram saved: {save_path}\")\n",
    "\n",
    "save_path\n"
   ],
   "id": "1ec2bc264d7fb4cb",
   "outputs": [
    {
     "name": "stdout",
     "output_type": "stream",
     "text": [
      "Graphviz Python package: available\n",
      "Graphviz 'dot' executable: found at /opt/homebrew/bin/dot\n"
     ]
    },
    {
     "data": {
      "image/svg+xml": "<?xml version=\"1.0\" encoding=\"UTF-8\" standalone=\"no\"?>\n<!DOCTYPE svg PUBLIC \"-//W3C//DTD SVG 1.1//EN\"\n \"http://www.w3.org/Graphics/SVG/1.1/DTD/svg11.dtd\">\n<!-- Generated by graphviz version 12.1.2 (20240928.0832)\n -->\n<!-- Title: SemopyDemo Pages: 1 -->\n<svg width=\"206pt\" height=\"116pt\"\n viewBox=\"0.00 0.00 206.00 116.00\" xmlns=\"http://www.w3.org/2000/svg\" xmlns:xlink=\"http://www.w3.org/1999/xlink\">\n<g id=\"graph0\" class=\"graph\" transform=\"scale(1 1) rotate(0) translate(4 112)\">\n<title>SemopyDemo</title>\n<polygon fill=\"white\" stroke=\"none\" points=\"-4,4 -4,-112 202,-112 202,4 -4,4\"/>\n<!-- eta -->\n<g id=\"node1\" class=\"node\">\n<title>eta</title>\n<ellipse fill=\"#e8f0fe\" stroke=\"#4a70d3\" cx=\"99\" cy=\"-90\" rx=\"27\" ry=\"18\"/>\n<text text-anchor=\"middle\" x=\"99\" y=\"-84.95\" font-family=\"Times,serif\" font-size=\"14.00\">eta</text>\n</g>\n<!-- y1 -->\n<g id=\"node2\" class=\"node\">\n<title>y1</title>\n<polygon fill=\"#fef3e8\" stroke=\"#d38b4a\" points=\"54,-36 0,-36 0,0 54,0 54,-36\"/>\n<text text-anchor=\"middle\" x=\"27\" y=\"-12.95\" font-family=\"Times,serif\" font-size=\"14.00\">y1</text>\n</g>\n<!-- eta&#45;&gt;y1 -->\n<g id=\"edge1\" class=\"edge\">\n<title>eta&#45;&gt;y1</title>\n<path fill=\"none\" stroke=\"#2a7f62\" d=\"M79.36,-77.39C57.45,-63.16 47.88,-55.91 40.91,-45.87\"/>\n<polygon fill=\"#2a7f62\" stroke=\"#2a7f62\" points=\"44.03,-44.27 35.96,-37.4 37.98,-47.8 44.03,-44.27\"/>\n</g>\n<!-- y2 -->\n<g id=\"node3\" class=\"node\">\n<title>y2</title>\n<polygon fill=\"#fef3e8\" stroke=\"#d38b4a\" points=\"126,-36 72,-36 72,0 126,0 126,-36\"/>\n<text text-anchor=\"middle\" x=\"99\" y=\"-12.95\" font-family=\"Times,serif\" font-size=\"14.00\">y2</text>\n</g>\n<!-- eta&#45;&gt;y2 -->\n<g id=\"edge2\" class=\"edge\">\n<title>eta&#45;&gt;y2</title>\n<path fill=\"none\" stroke=\"#2a7f62\" d=\"M99,-71.83C99,-64.55 99,-55.98 99,-47.83\"/>\n<polygon fill=\"#2a7f62\" stroke=\"#2a7f62\" points=\"102.5,-47.93 99,-37.93 95.5,-47.93 102.5,-47.93\"/>\n</g>\n<!-- y3 -->\n<g id=\"node4\" class=\"node\">\n<title>y3</title>\n<polygon fill=\"#fef3e8\" stroke=\"#d38b4a\" points=\"198,-36 144,-36 144,0 198,0 198,-36\"/>\n<text text-anchor=\"middle\" x=\"171\" y=\"-12.95\" font-family=\"Times,serif\" font-size=\"14.00\">y3</text>\n</g>\n<!-- eta&#45;&gt;y3 -->\n<g id=\"edge3\" class=\"edge\">\n<title>eta&#45;&gt;y3</title>\n<path fill=\"none\" stroke=\"#2a7f62\" d=\"M118.64,-77.39C140.55,-63.16 150.12,-55.91 157.09,-45.87\"/>\n<polygon fill=\"#2a7f62\" stroke=\"#2a7f62\" points=\"160.02,-47.8 162.04,-37.4 153.97,-44.27 160.02,-47.8\"/>\n</g>\n</g>\n</svg>\n",
      "text/plain": [
       "<graphviz.graphs.Digraph at 0x111467b60>"
      ]
     },
     "metadata": {},
     "output_type": "display_data"
    },
    {
     "name": "stdout",
     "output_type": "stream",
     "text": [
      "Diagram saved: /Volumes/mybook2/BOOK_REVISION/chapter04/sem/bollen_semopy_report/plot/semopy_demo_model.png\n"
     ]
    },
    {
     "data": {
      "text/plain": [
       "'/Volumes/mybook2/BOOK_REVISION/chapter04/sem/bollen_semopy_report/plot/semopy_demo_model.png'"
      ]
     },
     "execution_count": 5,
     "metadata": {},
     "output_type": "execute_result"
    }
   ],
   "execution_count": 5
  }
 ],
 "metadata": {},
 "nbformat": 4,
 "nbformat_minor": 5
}
