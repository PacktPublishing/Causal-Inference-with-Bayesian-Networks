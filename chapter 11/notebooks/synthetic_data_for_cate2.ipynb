{
 "cells": [
  {
   "metadata": {},
   "cell_type": "markdown",
   "source": [
    "<div style=\"font-size: 0.85em;\">\n",
    "\n",
    "# Synthetic Data Generation for Conditional Average Treatment Effect (CATE) Estimation\n",
    "\n",
    "This notebook demonstrates the generation and analysis of synthetic data specifically designed for Conditional Average Treatment Effect (CATE) estimation. CATE represents how treatment effects vary across different subgroups or individuals based on their characteristics.\n",
    "\n",
    "The synthetic data generated in this notebook exhibits several key properties:\n",
    "\n",
    "1. **Heterogeneous Treatment Effects**: Effects vary based on covariates\n",
    "2. **Non-linear Interactions**: Complex relationships between treatment and covariates\n",
    "3. **Variable Effect Sizes**: Different subgroups experience different magnitudes of effects\n",
    "4. **Complex Confounding**: Treatment assignment depends non-linearly on covariates\n",
    "\n",
    "This notebook serves as a practical example of how to generate, visualize, and analyze synthetic data for causal inference research, particularly for evaluating CATE estimation methods.\n",
    "</div>\n"
   ],
   "id": "87650726f1b49250"
  },
  {
   "metadata": {},
   "cell_type": "markdown",
   "source": [
    "<div style=\"font-size: 0.85em;\">\n",
    "\n",
    "# Library Imports\n",
    "\n",
    "- **numpy**: For numerical operations and array manipulation\n",
    "- **pandas**: For data manipulation and analysis using DataFrames\n",
    "- **matplotlib.pyplot**: For creating visualizations\n",
    "- **seaborn**: For statistical data visualization\n",
    "- **synthetic_data_for_cate**: Custom class for generating synthetic data with enhanced heterogeneity for treatment effects\n",
    "</div>\n"
   ],
   "id": "be2b8eb7c49e3f58"
  },
  {
   "metadata": {
    "ExecuteTime": {
     "end_time": "2025-07-17T00:21:07.690014Z",
     "start_time": "2025-07-17T00:21:07.685195Z"
    }
   },
   "cell_type": "code",
   "source": [
    "import seaborn\n",
    "# Import necessary libraries\n",
    "import numpy as np\n",
    "import pandas as pd\n",
    "import matplotlib.pyplot as plt\n",
    "import seaborn as sns\n",
    "from synthetic_data.synthetic_data_for_cate_class import synthetic_data_for_cate"
   ],
   "id": "51af38cbb6e889d6",
   "outputs": [],
   "execution_count": null
  },
  {
   "metadata": {},
   "cell_type": "markdown",
   "source": [
    "<div style=\"font-size: 0.85em;\">\n",
    "\n",
    "# Synthetic Data Generation\n",
    "\n",
    "In this section, we generate synthetic data using the `synthetic_data_for_cate` class with `model_type='model2'`. This creates:\n",
    "\n",
    "- A feature matrix `X` with 5 covariates (by default)\n",
    "- A binary treatment indicator `treatment` (1=treated, 0=control)\n",
    "- An outcome variable `y` that depends on both covariates and treatment\n",
    "\n",
    "The data generation process includes:\n",
    "- Non-linear confounding (treatment assignment depends on X1 and X2)\n",
    "- Heterogeneous treatment effects (effects vary based on all covariates)\n",
    "- Non-linear baseline effects (outcome depends non-linearly on covariates)\n",
    "- Heteroskedastic noise (noise level varies with X1)\n",
    "\n",
    "After generating the data, we organize it into a pandas DataFrame for easier analysis.\n",
    "</div>\n"
   ],
   "id": "4d47af5085cf833e"
  },
  {
   "metadata": {
    "ExecuteTime": {
     "end_time": "2025-07-17T00:21:07.718374Z",
     "start_time": "2025-07-17T00:21:07.713890Z"
    }
   },
   "cell_type": "code",
   "source": [
    "\n",
    "# Create an instance of synthetic_data_for_cate with model2\n",
    "data_generator = synthetic_data_for_cate(model_type='model2')\n",
    "\n",
    "# Generate synthetic data with heterogeneous treatment effects\n",
    "X, treatment, y = data_generator.get_synthetic_data()\n",
    "\n",
    "# Create DataFrame with all variables\n",
    "data = pd.DataFrame({\n",
    "    'treatment': treatment,\n",
    "    'y': y,\n",
    "    'X1': X[:, 0],\n",
    "    'X2': X[:, 1],\n",
    "    'X3': X[:, 2],\n",
    "    'X4': X[:, 3],\n",
    "    'X5': X[:, 4]\n",
    "})\n",
    "\n",
    "# The rest of your analysis code remains the same..."
   ],
   "id": "41132386cfe4c3f8",
   "outputs": [],
   "execution_count": null
  },
  {
   "metadata": {},
   "cell_type": "markdown",
   "source": [
    "<div style=\"font-size: 0.85em;\">\n",
    "\n",
    "# Data Preview\n",
    "\n",
    "Here we display the first few rows of our synthetic dataset to examine its structure. The DataFrame contains:\n",
    "\n",
    "- `treatment`: Binary indicator (1=treated, 0=control)\n",
    "- `y`: Outcome variable\n",
    "- `X1` to `X5`: Covariates that influence both treatment assignment and outcome\n",
    "\n",
    "This preview helps us understand the data structure before proceeding with further analysis.\n",
    "</div>\n"
   ],
   "id": "dcaade935565330"
  },
  {
   "metadata": {
    "ExecuteTime": {
     "end_time": "2025-07-17T00:21:08.343419Z",
     "start_time": "2025-07-17T00:21:08.340491Z"
    }
   },
   "cell_type": "code",
   "source": [
    "print(\"Data Preview:\")\n",
    "print(data.head())\n"
   ],
   "id": "cfd212ec9f723139",
   "outputs": [],
   "execution_count": null
  },
  {
   "metadata": {},
   "cell_type": "markdown",
   "source": [
    "<div style=\"font-size: 0.85em;\">\n",
    "\n",
    "# Required Package Installation\n",
    "\n",
    "Before proceeding with visualization, we need to install several packages:\n",
    "\n",
    "- **networkx**: For creating and manipulating complex networks/graphs\n",
    "- **graphviz**: For graph visualization (Python binding for Graphviz)\n",
    "- **seaborn**: For statistical data visualization\n",
    "\n",
    "Note that Graphviz requires both the Python package and the system-level software.\n",
    "</div>\n"
   ],
   "id": "29c036bb686b0a8a"
  },
  {
   "metadata": {
    "ExecuteTime": {
     "end_time": "2025-07-17T00:21:12.663720Z",
     "start_time": "2025-07-17T00:21:08.360143Z"
    }
   },
   "cell_type": "code",
   "source": [
    "# Note: The 'graphviz' package is the Python binding for Graphviz\n",
    "# You may need to install the system-level Graphviz software separately:\n",
    "# - On Ubuntu/Debian: sudo apt-get install graphviz\n",
    "# - On macOS: brew install graphviz\n",
    "# - On Windows: download and install from https://graphviz.org/download/\n",
    "!pip install networkx graphviz seaborn"
   ],
   "id": "7bd741980feb69f6",
   "outputs": [],
   "execution_count": null
  },
  {
   "metadata": {
    "ExecuteTime": {
     "end_time": "2025-07-17T00:21:13.730959Z",
     "start_time": "2025-07-17T00:21:12.676543Z"
    }
   },
   "cell_type": "code",
   "source": [
    "import networkx as nx\n",
    "import graphviz\n"
   ],
   "id": "21116ef5c6b56b13",
   "outputs": [],
   "execution_count": null
  },
  {
   "metadata": {},
   "cell_type": "markdown",
   "source": [
    "<div style=\"font-size: 0.85em;\">\n",
    "\n",
    "# Causal Graph Visualization\n",
    "\n",
    "Here we create a directed graph to visualize the causal relationships in our synthetic data:\n",
    "\n",
    "- **Nodes**:\n",
    "  - `X`: Covariates (X1-X5) - represented as a box\n",
    "  - `T`: Treatment variable - represented as a circle\n",
    "  - `Y`: Outcome variable - represented as a circle\n",
    "\n",
    "- **Edges**:\n",
    "  - `X \u2192 T`: Covariates influence treatment assignment (confounding)\n",
    "  - `X \u2192 Y`: Covariates directly affect the outcome\n",
    "  - `T \u2192 Y`: Treatment affects the outcome\n",
    "\n",
    "This graph illustrates the causal structure that was used to generate our synthetic data. Understanding this structure is crucial for properly estimating conditional average treatment effects.\n",
    "</div>\n"
   ],
   "id": "3bdec76d9e985789"
  },
  {
   "metadata": {
    "ExecuteTime": {
     "end_time": "2025-07-17T00:21:14.441567Z",
     "start_time": "2025-07-17T00:21:13.741898Z"
    }
   },
   "cell_type": "code",
   "source": [
    "# Create and visualize causal graph\n",
    "G = graphviz.Digraph()\n",
    "G.attr(rankdir='LR')\n",
    "\n",
    "# Add nodes\n",
    "G.node('X', 'Covariates\\n(X1-X5)', shape='box')\n",
    "G.node('T', 'Treatment', shape='circle')\n",
    "G.node('Y', 'Outcome', shape='circle')\n",
    "\n",
    "# Add edges\n",
    "G.edge('X', 'T')\n",
    "G.edge('X', 'Y')\n",
    "G.edge('T', 'Y')\n",
    "\n",
    "# Save the graph as a PNG file\n",
    "G.format = 'png'\n",
    "G.render('images/causal_graph', cleanup=True)\n",
    "print(\"Causal graph saved to images/causal_graph.png\")\n",
    "\n",
    "# Display the graph\n",
    "G"
   ],
   "id": "83bccb8a1db81406",
   "outputs": [],
   "execution_count": null
  },
  {
   "metadata": {},
   "cell_type": "markdown",
   "source": [
    "<div style=\"font-size: 0.85em;\">\n",
    "\n",
    "# Correlation Analysis\n",
    "\n",
    "In this final section, we analyze the correlations between all variables in our dataset:\n",
    "\n",
    "- We calculate the Pearson correlation coefficients between all pairs of variables\n",
    "- We visualize these correlations using a heatmap where:\n",
    "  - Red indicates positive correlation\n",
    "  - Blue indicates negative correlation\n",
    "  - The intensity of color represents correlation strength\n",
    "  - Numerical values show the exact correlation coefficients\n",
    "\n",
    "This analysis helps us understand:\n",
    "- How strongly covariates are related to treatment assignment\n",
    "- How strongly covariates are related to the outcome\n",
    "- How treatment is related to the outcome (before controlling for confounding)\n",
    "- Potential multicollinearity among covariates\n",
    "\n",
    "Note that correlation does not imply causation. The causal graph above shows the true causal relationships, while this correlation analysis shows only the statistical associations.\n",
    "</div>\n"
   ],
   "id": "a7870e15d8ce4c07"
  },
  {
   "metadata": {
    "ExecuteTime": {
     "end_time": "2025-07-17T00:21:14.859972Z",
     "start_time": "2025-07-17T00:21:14.459432Z"
    }
   },
   "cell_type": "code",
   "source": [
    "import seaborn as sns\n",
    "import matplotlib.pyplot as plt\n",
    "# Analyze correlations between variables\n",
    "plt.figure(figsize=(10, 6))\n",
    "correlation_matrix = data[['treatment', 'y', 'X1', 'X2', 'X3', 'X4', 'X5']].corr()\n",
    "sns.heatmap(correlation_matrix, annot=True, cmap='coolwarm', center=0)\n",
    "plt.title('Correlation Heatmap')\n",
    "plt.tight_layout()\n",
    "\n",
    "# Save the heatmap as a PNG file\n",
    "plt.savefig('images/correlation_heatmap.png', dpi=300, bbox_inches='tight')\n",
    "print(\"Correlation heatmap saved to images/correlation_heatmap.png\")\n",
    "\n",
    "# Display the plot\n",
    "plt.show()\n"
   ],
   "id": "c1551a4f46ffb195",
   "outputs": [],
   "execution_count": null
  },
  {
   "metadata": {},
   "cell_type": "markdown",
   "source": [
    "<div style=\"font-size: 0.85em;\">\n",
    "\n",
    "# Correlation Heatmap Analysis\n",
    "\n",
    "Based on the correlation heatmap, we can make several important observations:\n",
    "\n",
    "1. **Covariates and Treatment Assignment**:\n",
    "   - X1 and X2 show moderate positive correlations with treatment (approximately 0.4-0.5), indicating they strongly influence treatment assignment\n",
    "   - X3, X4, and X5 have weak correlations with treatment, suggesting minimal influence on treatment assignment\n",
    "   - This pattern confirms the presence of confounding, as some covariates affect both treatment assignment and outcome\n",
    "\n",
    "2. **Covariates and Outcome**:\n",
    "   - X1 shows a moderate positive correlation with the outcome\n",
    "   - X2 shows a weak negative correlation with the outcome\n",
    "   - X3 and X4 show weak to moderate positive correlations with the outcome\n",
    "   - These relationships indicate that covariates directly influence the outcome, independent of treatment\n",
    "\n",
    "3. **Treatment and Outcome Relationship**:\n",
    "   - The treatment shows a positive correlation with the outcome (before controlling for confounding)\n",
    "   - This raw correlation is confounded by X1 and X2, which influence both treatment and outcome\n",
    "   - The observed correlation does not represent the true causal effect, highlighting the importance of proper causal inference methods\n",
    "\n",
    "4. **Multicollinearity Among Covariates**:\n",
    "   - Most covariates show weak correlations with each other, indicating limited multicollinearity\n",
    "   - This is beneficial for modeling as it reduces estimation problems associated with highly correlated predictors\n",
    "   - However, even with low correlation, there may still be non-linear relationships between covariates that aren't captured by the Pearson correlation coefficient\n",
    "\n",
    "These observations highlight the complexity of the causal structure in this dataset and the importance of methods that can properly account for confounding when estimating treatment effects.\n",
    "</div>\n"
   ],
   "id": "8c26effa7a88717a"
  },
  {
   "metadata": {},
   "cell_type": "markdown",
   "source": [
    "<div style=\"font-size: 0.85em;\">\n",
    "\n",
    "# True CATE Computation\n",
    "\n",
    "In this section, we compute the true Conditional Average Treatment Effect (CATE) for our synthetic data. The true CATE represents the actual causal effect of the treatment on the outcome for each individual, based on their covariates.\n",
    "\n",
    "For our synthetic data, the true CATE is calculated using the `get_true_cate` method of the `synthetic_data_for_cate` class. For model2, the true CATE is defined by the formula:\n",
    "\n",
    "$$\\text{CATE}(X) = 4.0 \\times (X_1 > 0.5) - 3.0 \\times (X_2 > 0.7) + 5.0 \\times (X_3 \\times X_4 > 0.5) - 2.0 \\times (X_5 < 0.3)$$\n",
    "\n",
    "This formula creates heterogeneous treatment effects with the following components:\n",
    "- Positive effect of 4.0 if X1 > 0.5\n",
    "- Negative effect of 3.0 if X2 > 0.7\n",
    "- Positive effect of 5.0 if X3*X4 > 0.5\n",
    "- Negative effect of 2.0 if X5 < 0.3\n",
    "\n",
    "By computing these true CATE values, we can:\n",
    "1. Understand the actual treatment effect heterogeneity in our data\n",
    "2. Use them as ground truth when evaluating CATE estimation methods\n",
    "3. Analyze the distribution of treatment effects across the population\n",
    "</div>\n"
   ],
   "id": "bc6b77cc15020005"
  },
  {
   "metadata": {
    "ExecuteTime": {
     "end_time": "2025-07-17T00:21:14.883635Z",
     "start_time": "2025-07-17T00:21:14.878427Z"
    }
   },
   "cell_type": "code",
   "source": [
    "# Compute true CATE values using the data generator\n",
    "true_cate = data_generator.get_true_cate(X)\n",
    "\n",
    "# Add true CATE to the DataFrame\n",
    "data['true_cate'] = true_cate\n",
    "\n",
    "# Print basic statistics about the true CATE\n",
    "print(f\"True CATE Statistics:\")\n",
    "print(f\"  Mean: {true_cate.mean():.4f}\")\n",
    "print(f\"  Std Dev: {true_cate.std():.4f}\")\n",
    "print(f\"  Min: {true_cate.min():.4f}\")\n",
    "print(f\"  Max: {true_cate.max():.4f}\")\n",
    "\n",
    "# Count the number of positive and negative treatment effects\n",
    "positive_effects = (true_cate > 0).sum()\n",
    "negative_effects = (true_cate < 0).sum()\n",
    "neutral_effects = (true_cate == 0).sum()\n",
    "\n",
    "print(f\"\\nTreatment Effect Distribution:\")\n",
    "print(f\"  Positive Effects: {positive_effects} ({positive_effects/len(true_cate)*100:.1f}%)\")\n",
    "print(f\"  Negative Effects: {negative_effects} ({negative_effects/len(true_cate)*100:.1f}%)\")\n",
    "print(f\"  Neutral Effects: {neutral_effects} ({neutral_effects/len(true_cate)*100:.1f}%)\")\n"
   ],
   "id": "99a2bb45f769acb",
   "outputs": [],
   "execution_count": null
  },
  {
   "metadata": {},
   "cell_type": "markdown",
   "source": [
    "<div style=\"font-size: 0.85em;\">\n",
    "\n",
    "# True CATE Distribution Visualization\n",
    "\n",
    "Visualizing the distribution of true treatment effects helps us understand the heterogeneity in treatment effects across the population. This can reveal:\n",
    "\n",
    "1. **Average Effect**: The center of the distribution shows the average treatment effect\n",
    "2. **Effect Heterogeneity**: The spread of the distribution shows how much treatment effects vary\n",
    "3. **Subgroups**: Multiple peaks might indicate distinct subgroups with different responses\n",
    "4. **Negative/Positive Effects**: The proportion of individuals with negative vs. positive effects\n",
    "\n",
    "A narrow distribution suggests homogeneous treatment effects, while a wide distribution suggests high heterogeneity. Skewness in the distribution might indicate that certain types of individuals benefit more or less from the treatment.\n",
    "</div>\n"
   ],
   "id": "78fe822e8091369e"
  },
  {
   "metadata": {
    "ExecuteTime": {
     "end_time": "2025-07-17T00:26:48.093784Z",
     "start_time": "2025-07-17T00:26:47.767224Z"
    }
   },
   "cell_type": "code",
   "source": [
    "# Create images directory if it doesn't exist\n",
    "import os\n",
    "os.makedirs('images', exist_ok=True)\n",
    "\n",
    "# Plot the distribution of true CATE values\n",
    "plt.figure(figsize=(12, 7))\n",
    "\n",
    "# Plot the distribution with KDE\n",
    "sns.histplot(data=true_cate, kde=True, alpha=0.6, bins=30)\n",
    "\n",
    "# Add vertical lines for mean and zero\n",
    "plt.axvline(x=true_cate.mean(), color='red', linestyle='--', linewidth=2,\n",
    "            label=f'Mean CATE: {true_cate.mean():.4f}')\n",
    "plt.axvline(x=0, color='black', linestyle='-', linewidth=1,\n",
    "            label='No Effect')\n",
    "\n",
    "# Add annotations\n",
    "plt.title('Distribution of True Conditional Average Treatment Effects', fontsize=14)\n",
    "plt.xlabel('Treatment Effect', fontsize=12)\n",
    "plt.ylabel('Frequency', fontsize=12)\n",
    "plt.legend()\n",
    "plt.grid(True, alpha=0.3)\n",
    "\n",
    "# Show percentage of positive and negative effects\n",
    "pos_pct = (true_cate > 0).mean() * 100\n",
    "neg_pct = (true_cate < 0).mean() * 100\n",
    "plt.annotate(f'Positive Effects: {pos_pct:.1f}%',\n",
    "             xy=(0.68, 0.90), xycoords='axes fraction', fontsize=11)\n",
    "plt.annotate(f'Negative Effects: {neg_pct:.1f}%',\n",
    "             xy=(0.68, 0.85), xycoords='axes fraction', fontsize=11)\n",
    "\n",
    "plt.tight_layout()\n",
    "\n",
    "# Save and display plot\n",
    "plt.savefig('images/true_cate_distribution.png', dpi=300, bbox_inches='tight')\n",
    "print(\"True CATE distribution plot saved to images/true_cate_distribution.png\")\n",
    "plt.show()\n"
   ],
   "id": "781bec71950d0714",
   "outputs": [],
   "execution_count": null
  },
  {
   "metadata": {},
   "cell_type": "markdown",
   "source": [
    "<div style=\"font-size: 0.85em;\">\n",
    "\n",
    "# True CATE Distribution Analysis\n",
    "\n",
    "From the true CATE distribution plot, we can draw several important conclusions:\n",
    "\n",
    "1. **Heterogeneous Treatment Effects**: The distribution shows significant spread, indicating that treatment effects vary substantially across individuals. This confirms that the treatment does not affect all individuals equally.\n",
    "\n",
    "2. **Multi-modal Distribution**: The distribution appears to have multiple peaks, suggesting distinct subgroups with different treatment responses. This is a direct result of the threshold-based effects in our data generation process.\n",
    "\n",
    "3. **Positive and Negative Effects**: There's a substantial proportion of both positive and negative treatment effects, indicating that the treatment benefits some individuals while harming others. This highlights the importance of personalized treatment decisions.\n",
    "\n",
    "4. **Average Treatment Effect**: The mean CATE (shown by the red dashed line) is positive, suggesting that the treatment is beneficial on average across the entire population. However, this average masks the significant heterogeneity.\n",
    "\n",
    "These conclusions present several challenges for CATE estimation:\n",
    "\n",
    "1. **Threshold Detection**: The true effects are generated using threshold-based rules (e.g., X1 > 0.5), which create sharp discontinuities. Standard regression methods might struggle to capture these abrupt changes without prior knowledge of the thresholds.\n",
    "\n",
    "2. **Subgroup Identification**: The multi-modal nature of the distribution suggests distinct subgroups with different treatment responses. Identifying these subgroups without prior knowledge is challenging and may require specialized methods like clustering or tree-based approaches.\n",
    "\n",
    "3. **Sign Prediction**: Accurately predicting whether an individual will experience a positive or negative effect is crucial for decision-making but challenging due to the complex interactions between covariates.\n",
    "\n",
    "4. **Balancing Bias and Variance**: Capturing the complex heterogeneity requires flexible models, but such models risk overfitting. Finding the right balance between model complexity and generalizability is a key challenge.\n",
    "\n",
    "These challenges highlight why advanced methods for heterogeneous treatment effect estimation are necessary, as simple approaches may fail to capture the complex patterns in the data.\n",
    "</div>\n"
   ],
   "id": "c6e8f84f38570f0e"
  },
  {
   "metadata": {},
   "cell_type": "markdown",
   "source": [
    "<div style=\"font-size: 0.85em;\">\n",
    "\n",
    "# True CATE vs. Covariates Visualization\n",
    "\n",
    "In this section, we visualize the relationship between each covariate and the true CATE values. These plots help us:\n",
    "\n",
    "1. **Identify Threshold Effects**: Detect if treatment effects change abruptly at certain covariate values\n",
    "2. **Discover Interactions**: Understand how covariates influence treatment effects\n",
    "3. **Visualize Heterogeneity**: See which covariates contribute most to treatment effect variation\n",
    "4. **Detect Patterns**: Identify linear, non-linear, or step-function relationships\n",
    "\n",
    "Each plot shows one covariate (X-axis) against the true CATE (Y-axis), with a horizontal line at y=0 separating positive from negative effects.\n",
    "</div>\n"
   ],
   "id": "682a6ca58249628a"
  },
  {
   "metadata": {
    "ExecuteTime": {
     "end_time": "2025-07-17T00:21:16.101418Z",
     "start_time": "2025-07-17T00:21:15.226917Z"
    }
   },
   "cell_type": "code",
   "source": [
    "# Plot the relationship between covariates and true CATE\n",
    "fig, axs = plt.subplots(2, 3, figsize=(18, 12))\n",
    "axs = axs.flatten()\n",
    "\n",
    "# Plot CATE vs each covariate\n",
    "for i in range(5):\n",
    "    axs[i].scatter(X[:, i], true_cate, alpha=0.5)\n",
    "    axs[i].set_xlabel(f'X{i+1}', fontsize=12)\n",
    "    axs[i].set_ylabel('True CATE', fontsize=12)\n",
    "    axs[i].set_title(f'True CATE vs X{i+1}', fontsize=14)\n",
    "    axs[i].grid(True, alpha=0.3)\n",
    "\n",
    "    # Add a horizontal line at y=0\n",
    "    axs[i].axhline(y=0, color='black', linestyle='-', linewidth=1)\n",
    "\n",
    "# Remove the unused subplot\n",
    "fig.delaxes(axs[5])\n",
    "\n",
    "plt.tight_layout()\n",
    "\n",
    "# Save and display plot\n",
    "plt.savefig('images/true_cate_vs_covariates.png', dpi=300, bbox_inches='tight')\n",
    "print(\"True CATE vs covariates plot saved to images/true_cate_vs_covariates.png\")\n",
    "plt.show()\n"
   ],
   "id": "1eedc94423e6cdaf",
   "outputs": [],
   "execution_count": null
  },
  {
   "metadata": {},
   "cell_type": "markdown",
   "source": [
    "<div style=\"font-size: 0.85em;\">\n",
    "\n",
    "# True CATE vs. Covariates Analysis\n",
    "\n",
    "The plots showing the relationship between each covariate and the true CATE reveal several important patterns:\n",
    "\n",
    "1. **Threshold Effects**: For X1 and X2, we observe clear threshold effects where the CATE values jump at specific values (X1 \u2248 0.5 and X2 \u2248 0.7). This reflects the threshold-based rules used in the data generation process.\n",
    "\n",
    "2. **Interaction Effects**: The relationship between X3/X4 and CATE is more complex and doesn't show a clear pattern when viewed individually. This is because the true effect depends on the interaction X3*X4 > 0.5, which isn't visible in single-variable plots.\n",
    "\n",
    "3. **Step Function for X5**: The plot for X5 shows a clear step function with lower CATE values when X5 < 0.3, directly reflecting the data generation rule.\n",
    "\n",
    "4. **Heterogeneity Sources**: These plots help identify which covariates contribute most to treatment effect heterogeneity. All five covariates influence the treatment effect, but in different ways and with different patterns.\n",
    "\n",
    "These observations present several challenges for CATE estimation:\n",
    "\n",
    "1. **Non-linear Relationships**: The sharp discontinuities and threshold effects are difficult for many standard regression methods to capture accurately. Linear models would completely miss these patterns.\n",
    "\n",
    "2. **Interaction Detection**: The plots for X3 and X4 individually don't reveal the true pattern because it depends on their interaction. Detecting such interactions automatically is challenging and often requires specialized methods or domain knowledge.\n",
    "\n",
    "3. **Variable Selection**: While all covariates influence the treatment effect, their importance and patterns differ. Determining which variables to include in a model and how to model their effects is challenging.\n",
    "\n",
    "4. **Model Specification**: The diverse patterns across covariates suggest that a single functional form (e.g., linear, quadratic) won't adequately capture all relationships. Flexible, non-parametric approaches may be needed.\n",
    "\n",
    "5. **Extrapolation Risk**: The clear threshold effects mean that extrapolating beyond the observed data range is particularly risky, as the pattern might change dramatically at unobserved thresholds.\n",
    "\n",
    "These challenges highlight the importance of using flexible, adaptive methods for CATE estimation that can capture complex, non-linear relationships and interactions between covariates and treatment effects.\n",
    "</div>\n"
   ],
   "id": "a047df4f89058275"
  }
 ],
 "metadata": {
  "kernelspec": {
   "display_name": "Python 3",
   "language": "python",
   "name": "python3"
  },
  "language_info": {
   "codemirror_mode": {
    "name": "ipython",
    "version": 2
   },
   "file_extension": ".py",
   "mimetype": "text/x-python",
   "name": "python",
   "nbconvert_exporter": "python",
   "pygments_lexer": "ipython2",
   "version": "2.7.6"
  }
 },
 "nbformat": 4,
 "nbformat_minor": 5
}