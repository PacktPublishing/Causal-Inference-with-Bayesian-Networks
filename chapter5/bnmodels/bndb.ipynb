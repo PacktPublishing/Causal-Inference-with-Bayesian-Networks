{
 "cells": [
  {
   "cell_type": "code",
   "execution_count": 8,
   "id": "initial_id",
   "metadata": {
    "collapsed": true,
    "ExecuteTime": {
     "end_time": "2024-01-09T07:32:27.702955Z",
     "start_time": "2024-01-09T07:32:27.673248Z"
    }
   },
   "outputs": [],
   "source": [
    "from config import DB_USERNAME, DB_PASSWORD \n",
    "from sqlalchemy import create_engine, text\n",
    "from sqlalchemy.exc import SQLAlchemyError"
   ]
  },
  {
   "cell_type": "code",
   "execution_count": 10,
   "outputs": [],
   "source": [
    "username = DB_USERNAME # use username in your database connection \n",
    "password = DB_PASSWORD # use password in your database connection \n",
    "hostname = \"localhost\"\n",
    "port = \"5432\"\n",
    "database_name = \"m1_db\""
   ],
   "metadata": {
    "collapsed": false,
    "ExecuteTime": {
     "end_time": "2024-01-09T07:48:19.137779Z",
     "start_time": "2024-01-09T07:48:19.121231Z"
    }
   },
   "id": "1048852e9877e098"
  },
  {
   "cell_type": "code",
   "execution_count": 11,
   "outputs": [],
   "source": [
    "# Create the engine\n",
    "db_string = f\"postgresql+psycopg2://{username}:{password}@{hostname}:{port}/{database_name}\"\n",
    "engine = create_engine(db_string)"
   ],
   "metadata": {
    "collapsed": false,
    "ExecuteTime": {
     "end_time": "2024-01-09T07:48:22.543623Z",
     "start_time": "2024-01-09T07:48:22.542063Z"
    }
   },
   "id": "89c00912ec9e1f02"
  },
  {
   "cell_type": "code",
   "execution_count": 12,
   "outputs": [],
   "source": [
    "try:\n",
    "    with engine.begin() as connection:\n",
    "        connection.execute(text('DROP VIEW IF EXISTS JPD;'))\n",
    "        connection.execute(text('DROP TABLE IF EXISTS a;'))\n",
    "        connection.execute(text('DROP TABLE IF EXISTS b;'))\n",
    "        connection.execute(text('DROP TABLE IF EXISTS c;'))\n",
    "except SQLAlchemyError as e:\n",
    "    print(f\"An error occurred: {str(e)}\")"
   ],
   "metadata": {
    "collapsed": false,
    "ExecuteTime": {
     "end_time": "2024-01-09T07:48:25.012551Z",
     "start_time": "2024-01-09T07:48:24.918844Z"
    }
   },
   "id": "62788ccfd824888d"
  },
  {
   "cell_type": "code",
   "execution_count": 13,
   "outputs": [],
   "source": [
    "try:\n",
    "    with engine.begin() as connection:\n",
    "        connection.execute(text('''\n",
    "            CREATE TABLE IF NOT EXISTS public.a\n",
    "            (\n",
    "                id INTEGER NOT NULL PRIMARY KEY,\n",
    "                a boolean NOT NULL,\n",
    "                p_a REAL NOT NULL\n",
    "            )\n",
    "        '''))\n",
    "        connection.execute(text('''\n",
    "                    INSERT INTO a(id, a, p_a)\n",
    "                    VALUES (1, false, 0.75), (2, true, 0.25)\n",
    "                '''))\n",
    "except SQLAlchemyError as e:\n",
    "    print(f\"An error occurred: {str(e)}\")"
   ],
   "metadata": {
    "collapsed": false,
    "ExecuteTime": {
     "end_time": "2024-01-09T08:35:34.955142Z",
     "start_time": "2024-01-09T08:35:34.907881Z"
    }
   },
   "id": "7c3515bf1c1c60fb"
  },
  {
   "cell_type": "code",
   "execution_count": 14,
   "outputs": [],
   "source": [
    "try:\n",
    "    with engine.begin() as connection:\n",
    "        connection.execute(text('''\n",
    "            CREATE TABLE IF NOT EXISTS public.b\n",
    "            (\n",
    "                id INTEGER NOT NULL PRIMARY KEY,\n",
    "                a_id INTEGER NOT NULL,\n",
    "                FOREIGN KEY (a_id) REFERENCES a(id),\n",
    "                b boolean NOT NULL,\n",
    "                p_b_a REAL NOT NULL\n",
    "            )\n",
    "        '''))\n",
    "        connection.execute(text('''\n",
    "                    INSERT INTO b(id, a_id, b, p_b_a)\n",
    "                    VALUES (1, 1, false, 0.2), (2, 1, true, 0.8),\n",
    "                    (3, 2, false, 0.9), (4, 2, true, 0.1)\n",
    "                '''))\n",
    "except SQLAlchemyError as e:\n",
    "    print(f\"An error occurred: {str(e)}\")"
   ],
   "metadata": {
    "collapsed": false,
    "ExecuteTime": {
     "end_time": "2024-01-09T08:44:13.358241Z",
     "start_time": "2024-01-09T08:44:13.337661Z"
    }
   },
   "id": "a49313ee08229f07"
  },
  {
   "cell_type": "code",
   "execution_count": 16,
   "outputs": [],
   "source": [
    "try:\n",
    "    with engine.begin() as connection:\n",
    "        connection.execute(text('''\n",
    "            CREATE TABLE IF NOT EXISTS public.c\n",
    "            (\n",
    "                id INTEGER NOT NULL PRIMARY KEY,\n",
    "                b_id INTEGER NOT NULL,\n",
    "                FOREIGN KEY (b_id) REFERENCES b(id),\n",
    "                c boolean NOT NULL,\n",
    "                p_c_b REAL NOT NULL\n",
    "            )\n",
    "        '''))\n",
    "        connection.execute(text('''\n",
    "                    INSERT INTO c(id, b_id, c, p_c_b)\n",
    "                    VALUES (1, 1, false, 1), \n",
    "                    (2, 2, false, 0.25),(3, 2, true, 0.75), \n",
    "                    (4, 3, false, 1),\n",
    "                    (5, 4, false, 0.25), (6, 4, true, 0.75)\n",
    "                '''))\n",
    "except SQLAlchemyError as e:\n",
    "    print(f\"An error occurred: {str(e)}\")\n",
    "            "
   ],
   "metadata": {
    "collapsed": false,
    "ExecuteTime": {
     "end_time": "2024-01-09T08:57:33.020976Z",
     "start_time": "2024-01-09T08:57:33.004810Z"
    }
   },
   "id": "9f60801135e1789f"
  },
  {
   "cell_type": "code",
   "execution_count": 17,
   "outputs": [
    {
     "name": "stdout",
     "output_type": "stream",
     "text": [
      "(1, False, 0.75)\n",
      "(2, True, 0.25)\n"
     ]
    }
   ],
   "source": [
    "try:\n",
    "    with engine.begin() as connection:\n",
    "        result = connection.execute(text(\"SELECT * FROM a\")).fetchall()\n",
    "        for row in result:\n",
    "            print(row)\n",
    "except SQLAlchemyError as e:\n",
    "    print(f\"An error occurred: {str(e)}\")"
   ],
   "metadata": {
    "collapsed": false,
    "ExecuteTime": {
     "end_time": "2024-01-09T09:01:15.296062Z",
     "start_time": "2024-01-09T09:01:15.290178Z"
    }
   },
   "id": "9f49b6a4d1811ff2"
  },
  {
   "cell_type": "code",
   "execution_count": 18,
   "outputs": [
    {
     "name": "stdout",
     "output_type": "stream",
     "text": [
      "(1, 1, False, 0.2)\n",
      "(2, 1, True, 0.8)\n",
      "(3, 2, False, 0.9)\n",
      "(4, 2, True, 0.1)\n"
     ]
    }
   ],
   "source": [
    "try:\n",
    "    with engine.begin() as connection:\n",
    "        result = connection.execute(text(\"SELECT * FROM b\")).fetchall()\n",
    "        for row in result:\n",
    "            print(row)\n",
    "except SQLAlchemyError as e:\n",
    "    print(f\"An error occurred: {str(e)}\")"
   ],
   "metadata": {
    "collapsed": false,
    "ExecuteTime": {
     "end_time": "2024-01-09T09:02:10.589659Z",
     "start_time": "2024-01-09T09:02:10.524084Z"
    }
   },
   "id": "1329e3c5e037c544"
  },
  {
   "cell_type": "code",
   "execution_count": 19,
   "outputs": [
    {
     "name": "stdout",
     "output_type": "stream",
     "text": [
      "(1, 1, False, 1.0)\n",
      "(2, 2, False, 0.25)\n",
      "(3, 2, True, 0.75)\n",
      "(4, 3, False, 1.0)\n",
      "(5, 4, False, 0.25)\n",
      "(6, 4, True, 0.75)\n"
     ]
    }
   ],
   "source": [
    "try:\n",
    "    with engine.begin() as connection:\n",
    "        result = connection.execute(text(\"SELECT * FROM c\")).fetchall()\n",
    "        for row in result:\n",
    "            print(row)\n",
    "except SQLAlchemyError as e:\n",
    "    print(f\"An error occurred: {str(e)}\")\n"
   ],
   "metadata": {
    "collapsed": false,
    "ExecuteTime": {
     "end_time": "2024-01-09T09:02:54.797236Z",
     "start_time": "2024-01-09T09:02:54.775484Z"
    }
   },
   "id": "5ea3d697bb8b76d4"
  },
  {
   "cell_type": "code",
   "execution_count": 22,
   "outputs": [
    {
     "name": "stdout",
     "output_type": "stream",
     "text": [
      "Created view JPD.\n"
     ]
    }
   ],
   "source": [
    "try:\n",
    "    with engine.begin() as connection:\n",
    "        connection.execute(text('''\n",
    "            CREATE OR REPLACE VIEW JPD\n",
    "            AS\n",
    "            SELECT a.a, b.b, c.c, a.p_a * b.p_b_a * c.p_c_b AS prob\n",
    "            FROM a\n",
    "            JOIN b ON a.id = b.a_id\n",
    "            JOIN c ON c.b_id = b.id  \n",
    "             ''')) \n",
    "        print('Created view JPD.')\n",
    "except SQLAlchemyError as e:\n",
    "    print(f\"An error occurred: {str(e)}\")"
   ],
   "metadata": {
    "collapsed": false,
    "ExecuteTime": {
     "end_time": "2024-01-09T09:48:47.759434Z",
     "start_time": "2024-01-09T09:48:47.745876Z"
    }
   },
   "id": "9035a94f56b2a07a"
  },
  {
   "cell_type": "code",
   "execution_count": 21,
   "outputs": [
    {
     "name": "stdout",
     "output_type": "stream",
     "text": [
      "(False, False, False, 0.15)\n",
      "(False, True, False, 0.15)\n",
      "(False, True, True, 0.45000002)\n",
      "(True, False, False, 0.225)\n",
      "(True, True, False, 0.00625)\n",
      "(True, True, True, 0.01875)\n"
     ]
    }
   ],
   "source": [
    "try:\n",
    "    with engine.begin() as connection:\n",
    "        result = connection.execute(text(\"SELECT * FROM JPD\")).fetchall()\n",
    "        for row in result:\n",
    "            print(row)\n",
    "except SQLAlchemyError as e:\n",
    "    print(f\"An error occurred: {str(e)}\")"
   ],
   "metadata": {
    "collapsed": false,
    "ExecuteTime": {
     "end_time": "2024-01-09T09:45:43.433065Z",
     "start_time": "2024-01-09T09:45:43.423803Z"
    }
   },
   "id": "d2d5b1c6b7849fa8"
  },
  {
   "cell_type": "code",
   "execution_count": 24,
   "outputs": [
    {
     "name": "stdout",
     "output_type": "stream",
     "text": [
      "getting posterior probability of a, b given c is true\n",
      "(False, True, 0.96)\n",
      "(True, True, 0.04)\n"
     ]
    }
   ],
   "source": [
    "try:\n",
    "    with engine.begin() as connection:\n",
    "        print('getting posterior probability of a, b given c is true')\n",
    "\n",
    "        result = connection.execute(text('''\n",
    "            SELECT a, b, Prob / (SELECT SUM(Prob) FROM JPD WHERE c = true) as prob1\n",
    "            FROM JPD \n",
    "            WHERE c = true \n",
    "        '''))\n",
    "\n",
    "        for row in result:\n",
    "            print(row)\n",
    "except SQLAlchemyError as e:\n",
    "    print(f\"An error occurred: {str(e)}\")"
   ],
   "metadata": {
    "collapsed": false,
    "ExecuteTime": {
     "end_time": "2024-01-09T09:51:26.321406Z",
     "start_time": "2024-01-09T09:51:26.311830Z"
    }
   },
   "id": "4afd5ce6eccce387"
  },
  {
   "cell_type": "code",
   "execution_count": 26,
   "outputs": [
    {
     "name": "stdout",
     "output_type": "stream",
     "text": [
      "getting most probable explanation of a, b given c is true\n",
      "(False, True)\n"
     ]
    }
   ],
   "source": [
    "try:\n",
    "    with engine.begin() as connection:\n",
    "        print('getting most probable explanation of a, b given c is true')\n",
    "\n",
    "        result = connection.execute(text('''\n",
    "            SELECT a, b \n",
    "            FROM JPD \n",
    "            WHERE c = true\n",
    "            AND prob = (SELECT Max(prob) from JPD)\n",
    "        '''))\n",
    "\n",
    "        for row in result:\n",
    "            print(row)\n",
    "except SQLAlchemyError as e:\n",
    "    print(f\"An error occurred: {str(e)}\")"
   ],
   "metadata": {
    "collapsed": false,
    "ExecuteTime": {
     "end_time": "2024-01-11T10:08:28.452316Z",
     "start_time": "2024-01-11T10:08:28.412906Z"
    }
   },
   "id": "94362374efec9f99"
  },
  {
   "cell_type": "code",
   "execution_count": null,
   "outputs": [],
   "source": [],
   "metadata": {
    "collapsed": false
   },
   "id": "4985e964d68515a2"
  }
 ],
 "metadata": {
  "kernelspec": {
   "display_name": "Python 3",
   "language": "python",
   "name": "python3"
  },
  "language_info": {
   "codemirror_mode": {
    "name": "ipython",
    "version": 2
   },
   "file_extension": ".py",
   "mimetype": "text/x-python",
   "name": "python",
   "nbconvert_exporter": "python",
   "pygments_lexer": "ipython2",
   "version": "2.7.6"
  }
 },
 "nbformat": 4,
 "nbformat_minor": 5
}
