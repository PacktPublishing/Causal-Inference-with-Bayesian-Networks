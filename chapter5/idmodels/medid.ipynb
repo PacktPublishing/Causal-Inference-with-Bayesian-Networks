{
 "cells": [
  {
   "cell_type": "code",
   "execution_count": 18,
   "id": "initial_id",
   "metadata": {
    "collapsed": true,
    "ExecuteTime": {
     "end_time": "2024-01-09T05:18:42.681238Z",
     "start_time": "2024-01-09T05:18:42.609067Z"
    }
   },
   "outputs": [],
   "source": [
    "import os\n",
    "from sqlalchemy import create_engine, text\n",
    "from sqlalchemy.exc import SQLAlchemyError"
   ]
  },
  {
   "cell_type": "code",
   "execution_count": 22,
   "outputs": [],
   "source": [
    "username = os.getenv('DB_USERNAME') # use username in your database connection \n",
    "password = os.getenv('DB_PASSWORD') # use password in your database connection \n",
    "hostname = \"localhost\"\n",
    "port = \"5432\"\n",
    "database_name = \"medid\""
   ],
   "metadata": {
    "collapsed": false,
    "ExecuteTime": {
     "end_time": "2024-01-09T05:24:42.712905Z",
     "start_time": "2024-01-09T05:24:42.705152Z"
    }
   },
   "id": "3328a71e3d3d6bec"
  },
  {
   "cell_type": "code",
   "execution_count": 20,
   "outputs": [],
   "source": [
    "# Create the engine\n",
    "db_string = f\"postgresql+psycopg2://{username}:{password}@{hostname}:{port}/{database_name}\"\n",
    "engine = create_engine(db_string)"
   ],
   "metadata": {
    "collapsed": false,
    "ExecuteTime": {
     "end_time": "2024-01-09T05:18:50.278017Z",
     "start_time": "2024-01-09T05:18:50.270900Z"
    }
   },
   "id": "13c8bb26f7a4dfc5"
  },
  {
   "cell_type": "code",
   "execution_count": 7,
   "outputs": [],
   "source": [
    "try:\n",
    "    with engine.begin() as connection:\n",
    "        connection.execute(text('DROP VIEW IF EXISTS JPD;'))\n",
    "        connection.execute(text('DROP TABLE IF EXISTS d;'))\n",
    "        connection.execute(text('DROP TABLE IF EXISTS p;'))\n",
    "        connection.execute(text('DROP TABLE IF EXISTS s;'))\n",
    "        connection.execute(text('DROP TABLE IF EXISTS t;'))\n",
    "        connection.execute(text('DROP TABLE IF EXISTS u;'))\n",
    "except SQLAlchemyError as e:\n",
    "    print(f\"An error occurred: {str(e)}\")"
   ],
   "metadata": {
    "collapsed": false,
    "ExecuteTime": {
     "end_time": "2024-01-09T04:22:55.814315Z",
     "start_time": "2024-01-09T04:22:55.722091Z"
    }
   },
   "id": "94d4050df7f151a3"
  },
  {
   "cell_type": "code",
   "execution_count": 8,
   "outputs": [],
   "source": [
    "try:\n",
    "    with engine.begin() as connection:\n",
    "        # disease table\n",
    "        connection.execute(text('''\n",
    "            CREATE TABLE IF NOT EXISTS public.d\n",
    "            (\n",
    "                id INTEGER NOT NULL PRIMARY KEY,\n",
    "                has_disease boolean,\n",
    "                prob REAL NOT NULL\n",
    "            )\n",
    "        '''))\n",
    "        connection.execute(text('''\n",
    "                    INSERT INTO d(id, has_disease, prob)\n",
    "                    VALUES (1, true, 0.1), (2, false, 0.9)\n",
    "                '''))\n",
    "except SQLAlchemyError as e:\n",
    "    print(f\"An error occurred: {str(e)}\")"
   ],
   "metadata": {
    "collapsed": false,
    "ExecuteTime": {
     "end_time": "2024-01-09T04:23:05.244949Z",
     "start_time": "2024-01-09T04:23:05.222017Z"
    }
   },
   "id": "70bbc6732eef00a3"
  },
  {
   "cell_type": "code",
   "execution_count": 9,
   "outputs": [],
   "source": [
    "try:\n",
    "    with engine.begin() as connection:\n",
    "        # disease table\n",
    "        connection.execute(text('''\n",
    "            CREATE TABLE IF NOT EXISTS public.p\n",
    "            (\n",
    "                id INTEGER NOT NULL PRIMARY KEY,\n",
    "                d_id INTEGER,\n",
    "                FOREIGN KEY (d_id) REFERENCES d(id),\n",
    "                has_pathological_state boolean NOT NULL,\n",
    "                prob REAL NOT NULL\n",
    "            )\n",
    "        '''))\n",
    "        connection.execute(text('''\n",
    "                    INSERT INTO p(id, d_id, has_pathological_state, prob)\n",
    "                    VALUES (1, 1, true, 0.8), (2, 1, false, 0.2),\n",
    "                     (3, 2, true, 0.15), (4, 2, false, 0.85)\n",
    "                '''))\n",
    "except SQLAlchemyError as e:\n",
    "    print(f\"An error occurred: {str(e)}\")"
   ],
   "metadata": {
    "collapsed": false,
    "ExecuteTime": {
     "end_time": "2024-01-09T04:23:10.727224Z",
     "start_time": "2024-01-09T04:23:10.710190Z"
    }
   },
   "id": "566aff32213ab28b"
  },
  {
   "cell_type": "code",
   "execution_count": 10,
   "outputs": [],
   "source": [
    "try:\n",
    "    with engine.begin() as connection:\n",
    "        # disease table\n",
    "        connection.execute(text('''\n",
    "            CREATE TABLE IF NOT EXISTS public.s\n",
    "            (\n",
    "                id INTEGER NOT NULL PRIMARY KEY,\n",
    "                p_id INTEGER,\n",
    "                FOREIGN KEY (p_id) REFERENCES p(id),\n",
    "                has_symptom boolean NOT NULL,\n",
    "                prob REAL NOT NULL\n",
    "            )\n",
    "        '''))\n",
    "        connection.execute(text('''\n",
    "                    INSERT INTO s(id, p_id, has_symptom, prob)\n",
    "                    VALUES (1, 1, true, 0.7), (2, 1, false, 0.3),\n",
    "                     (3, 2, true, 0.2), (4, 2, false, 0.8),\n",
    "                     (5, 3, true, 0.7), (6, 3, false, 0.3),\n",
    "                     (7, 4, true, 0.2), (8, 4, false, 0.8)\n",
    "                '''))\n",
    "except SQLAlchemyError as e:\n",
    "    print(f\"An error occurred: {str(e)}\")"
   ],
   "metadata": {
    "collapsed": false,
    "ExecuteTime": {
     "end_time": "2024-01-09T04:23:26.351639Z",
     "start_time": "2024-01-09T04:23:26.340916Z"
    }
   },
   "id": "ff69768deba1501c"
  },
  {
   "cell_type": "code",
   "execution_count": 13,
   "outputs": [],
   "source": [
    "try:\n",
    "    with engine.begin() as connection:\n",
    "        # action table\n",
    "        connection.execute(text('''\n",
    "            CREATE TABLE IF NOT EXISTS public.t\n",
    "            (\n",
    "                id INTEGER NOT NULL PRIMARY KEY,\n",
    "                treat boolean NOT NULL\n",
    "            )\n",
    "        '''))\n",
    "        connection.execute(text('''\n",
    "                    INSERT INTO t(id, treat)\n",
    "                    VALUES (1, TRUE), (2, FALSE)\n",
    "                '''))\n",
    "except SQLAlchemyError as e:\n",
    "    print(f\"An error occurred: {str(e)}\")"
   ],
   "metadata": {
    "collapsed": false,
    "ExecuteTime": {
     "end_time": "2024-01-09T04:28:06.127995Z",
     "start_time": "2024-01-09T04:28:06.104458Z"
    }
   },
   "id": "eb79b37ac0fcd167"
  },
  {
   "cell_type": "code",
   "execution_count": 14,
   "outputs": [],
   "source": [
    "try:\n",
    "    with engine.begin() as connection:\n",
    "        # utility table\n",
    "        connection.execute(text('''\n",
    "            CREATE TABLE IF NOT EXISTS public.u\n",
    "            (              \n",
    "                t_id INTEGER NOT NULL,\n",
    "                p_id INTEGER NOT NULL,\n",
    "                d_id INTEGER NOT NULL,\n",
    "                PRIMARY KEY (t_id, p_id, d_id),\n",
    "                FOREIGN KEY (t_id) REFERENCES t(id),\n",
    "                FOREIGN KEY (p_id) REFERENCES p(id),\n",
    "                FOREIGN KEY (d_id) REFERENCES d(id),\n",
    "                utility INTEGER NOT NULL\n",
    "            )\n",
    "        '''))\n",
    "        connection.execute(text('''\n",
    "                    INSERT INTO u(t_id, p_id, d_id, utility)\n",
    "                    VALUES (1,1,1,10), (1,1,2,6), (1,2,1,8), (1,2,2,4),\n",
    "                    (2,1,1,0), (2,1,2,2), (2,2,1,1), (2,2,2,10)\n",
    "                '''))\n",
    "except SQLAlchemyError as e:\n",
    "    print(f\"An error occurred: {str(e)}\")"
   ],
   "metadata": {
    "collapsed": false,
    "ExecuteTime": {
     "end_time": "2024-01-09T04:30:00.725142Z",
     "start_time": "2024-01-09T04:30:00.714196Z"
    }
   },
   "id": "228cc5c2b28212ac"
  },
  {
   "cell_type": "markdown",
   "source": [
    "The following code computes the joint probability distribution JPD as database view expressed as join query on all chance tables joined on the keys between the d, p, s tables."
   ],
   "metadata": {
    "collapsed": false
   },
   "id": "508875f320fcbf19"
  },
  {
   "cell_type": "code",
   "execution_count": 15,
   "outputs": [
    {
     "name": "stdout",
     "output_type": "stream",
     "text": [
      "Created view JPD.\n"
     ]
    }
   ],
   "source": [
    "try:\n",
    "    with engine.begin() as connection:\n",
    "        connection.execute(text('''\n",
    "        CREATE OR REPLACE VIEW JPD\n",
    "            AS\n",
    "            SELECT d.has_disease, p.has_pathological_state, s.has_symptom, \n",
    "                d.prob * p.prob * s.prob AS prob\n",
    "            FROM d\n",
    "            JOIN p ON p.d_id = d.id\n",
    "            JOIN s on s.p_id = p.id\n",
    "        ''')) \n",
    "        print('Created view JPD.')\n",
    "except SQLAlchemyError as e:\n",
    "    print(f\"An error occurred: {str(e)}\")"
   ],
   "metadata": {
    "collapsed": false,
    "ExecuteTime": {
     "end_time": "2024-01-09T04:30:23.340070Z",
     "start_time": "2024-01-09T04:30:23.328460Z"
    }
   },
   "id": "8189e596c1699ae"
  },
  {
   "cell_type": "markdown",
   "source": [
    "The following code computes all value tuples of the decision, symptom, and expected utility."
   ],
   "metadata": {
    "collapsed": false
   },
   "id": "325bb72be568a0e6"
  },
  {
   "cell_type": "code",
   "execution_count": 23,
   "outputs": [
    {
     "name": "stdout",
     "output_type": "stream",
     "text": [
      "(False, False, 8.977617133408785)\n",
      "(False, True, 4.417328506708145)\n",
      "(True, False, 5.603251768276095)\n",
      "(True, True, 5.759349569678307)\n"
     ]
    }
   ],
   "source": [
    "try:\n",
    "    with engine.begin() as connection:\n",
    "        result = connection.execute(text('''\n",
    "            WITH tot AS (\n",
    "                 SELECT has_symptom, SUM(prob) AS sum_prob FROM jpd GROUP BY has_symptom\n",
    "            ),\n",
    "            prob_data AS \n",
    "            (\n",
    "                SELECT jpd.has_pathological_state, jpd.has_symptom, jpd.has_disease, \n",
    "                       jpd.prob / tot.sum_prob as prob1,\n",
    "                       p.id as p_id, d.id as d_id\n",
    "                FROM jpd\n",
    "                JOIN tot ON jpd.has_symptom = tot.has_symptom\n",
    "                JOIN d ON d.has_disease = jpd.has_disease\n",
    "                JOIN p ON p.has_pathological_state = jpd.has_pathological_state\n",
    "            )\n",
    "\n",
    "            \n",
    "            SELECT prob_data.has_symptom, t.treat, SUM(prob_data.prob1 * u.utility) as sum_utility \n",
    "            FROM prob_data\n",
    "            JOIN u ON (u.p_id = prob_data.p_id AND u.d_id = prob_data.d_id)\n",
    "            JOIN t ON (t.id = u.t_id)\n",
    "            GROUP BY prob_data.has_symptom, t.id;\n",
    "        '''))\n",
    "\n",
    "    \n",
    "    for row in result:\n",
    "        print(row)\n",
    "\n",
    "except SQLAlchemyError as e:\n",
    "    print(f\"An error occurred: {str(e)}\")"
   ],
   "metadata": {
    "collapsed": false,
    "ExecuteTime": {
     "end_time": "2024-01-09T05:24:52.672322Z",
     "start_time": "2024-01-09T05:24:52.661748Z"
    }
   },
   "id": "f2d831afd6d94fbe"
  },
  {
   "cell_type": "markdown",
   "source": [
    "The following code computes all value tuples for (symptom, decision) that maximize the expected utility, the probability of symptom occurrence, and the maximum expected utility resulting in each situation."
   ],
   "metadata": {
    "collapsed": false
   },
   "id": "21b593b777d65e6c"
  },
  {
   "cell_type": "code",
   "execution_count": 24,
   "outputs": [
    {
     "name": "stdout",
     "output_type": "stream",
     "text": [
      "(False, False, 8.977617133408785, 0.6925, 6.2169998220769696)\n",
      "(True, True, 5.759349569678307, 0.3075, 1.771000020138798)\n"
     ]
    }
   ],
   "source": [
    "try:\n",
    "    with engine.begin() as connection:\n",
    "        result = connection.execute(text('''\n",
    "        WITH tot AS (\n",
    "     SELECT has_symptom, SUM(prob) AS sum_prob FROM jpd GROUP BY has_symptom\n",
    "),\n",
    "prob_data AS \n",
    "(\n",
    "    SELECT jpd.has_pathological_state, jpd.has_symptom, jpd.has_disease, \n",
    "           jpd.prob / tot.sum_prob as prob1,\n",
    "           p.id as p_id, d.id as d_id\n",
    "    FROM jpd\n",
    "    JOIN tot ON jpd.has_symptom = tot.has_symptom\n",
    "    JOIN d ON d.has_disease = jpd.has_disease\n",
    "    JOIN p ON p.has_pathological_state = jpd.has_pathological_state\n",
    "),\n",
    "sum_util_data AS \n",
    "(\n",
    "    SELECT prob_data.has_symptom, t.treat, SUM(prob_data.prob1 * u.utility) as sum_utility \n",
    "    FROM prob_data\n",
    "    JOIN u ON (u.p_id = prob_data.p_id AND u.d_id = prob_data.d_id)\n",
    "    JOIN t ON (t.id = u.t_id)\n",
    "    GROUP BY prob_data.has_symptom, t.id\n",
    "),\n",
    "max_utility_data AS\n",
    "(\n",
    "    SELECT *,\n",
    "        RANK() OVER (PARTITION BY has_symptom ORDER BY sum_utility DESC) as rank\n",
    "    FROM sum_util_data\n",
    ")\n",
    "SELECT max_utility_data.has_symptom, max_utility_data.treat, max_utility_data.sum_utility, tot.sum_prob, max_utility_data.sum_utility * tot.sum_prob as total_utility\n",
    "FROM max_utility_data\n",
    "JOIN tot ON max_utility_data.has_symptom = tot.has_symptom\n",
    "WHERE max_utility_data.rank = 1;\n",
    "                                         '''))\n",
    "\n",
    "    for row in result:\n",
    "        print(row)\n",
    "\n",
    "except SQLAlchemyError as e:\n",
    "    print(f\"An error occurred: {str(e)}\")"
   ],
   "metadata": {
    "collapsed": false,
    "ExecuteTime": {
     "end_time": "2024-01-15T11:11:40.428308Z",
     "start_time": "2024-01-15T11:11:40.370703Z"
    }
   },
   "id": "a1144deb012a8409"
  },
  {
   "cell_type": "markdown",
   "source": [
    "The following code gives the overall maximum expected utility from solving the influence diagram."
   ],
   "metadata": {
    "collapsed": false
   },
   "id": "a9ea0f0bf009e01a"
  },
  {
   "cell_type": "code",
   "execution_count": 31,
   "outputs": [
    {
     "name": "stdout",
     "output_type": "stream",
     "text": [
      "7.987999842215768\n"
     ]
    }
   ],
   "source": [
    "try:\n",
    "    with engine.begin() as connection:\n",
    "        result = connection.execute(text('''\n",
    "        WITH tot AS (\n",
    "     SELECT has_symptom, SUM(prob) AS sum_prob FROM jpd GROUP BY has_symptom\n",
    "),\n",
    "prob_data AS \n",
    "(\n",
    "    SELECT jpd.has_pathological_state, jpd.has_symptom, jpd.has_disease, \n",
    "           jpd.prob / tot.sum_prob as prob1,\n",
    "           p.id as p_id, d.id as d_id\n",
    "    FROM jpd\n",
    "    JOIN tot ON jpd.has_symptom = tot.has_symptom\n",
    "    JOIN d ON d.has_disease = jpd.has_disease\n",
    "    JOIN p ON p.has_pathological_state = jpd.has_pathological_state\n",
    "),\n",
    "sum_util_data AS \n",
    "(\n",
    "    SELECT prob_data.has_symptom, t.treat, SUM(prob_data.prob1 * u.utility) as sum_utility \n",
    "    FROM prob_data\n",
    "    JOIN u ON (u.p_id = prob_data.p_id AND u.d_id = prob_data.d_id)\n",
    "    JOIN t ON (t.id = u.t_id)\n",
    "    GROUP BY prob_data.has_symptom, t.id\n",
    "),\n",
    "max_utility_data AS\n",
    "(\n",
    "    SELECT *,\n",
    "        RANK() OVER (PARTITION BY has_symptom ORDER BY sum_utility DESC) as rank\n",
    "    FROM sum_util_data\n",
    "),\n",
    "final_data AS\n",
    "(\n",
    "    SELECT max_utility_data.has_symptom, max_utility_data.treat, max_utility_data.sum_utility, tot.sum_prob, max_utility_data.sum_utility * tot.sum_prob as total_utility\n",
    "    FROM max_utility_data\n",
    "    JOIN tot ON max_utility_data.has_symptom = tot.has_symptom\n",
    "    WHERE max_utility_data.rank = 1\n",
    ")\n",
    "\n",
    "SELECT SUM(total_utility) as sum_total_utility FROM final_data;\n",
    " ''')) \n",
    "        # Fetch the result and print it\n",
    "    for row in result:\n",
    "        print(row[0])  # print only the first element of the tuple\n",
    "except SQLAlchemyError as e:\n",
    "    print(f\"An error occurred: {str(e)}\")"
   ],
   "metadata": {
    "collapsed": false,
    "ExecuteTime": {
     "end_time": "2024-01-15T11:40:48.731270Z",
     "start_time": "2024-01-15T11:40:48.663051Z"
    }
   },
   "id": "f7d8d0b292c11cf5"
  },
  {
   "cell_type": "code",
   "execution_count": null,
   "outputs": [],
   "source": [],
   "metadata": {
    "collapsed": false
   },
   "id": "f09b4a0d8db66427"
  },
  {
   "cell_type": "markdown",
   "source": [],
   "metadata": {
    "collapsed": false
   },
   "id": "19b265b32729eb3f"
  }
 ],
 "metadata": {
  "kernelspec": {
   "display_name": "Python 3",
   "language": "python",
   "name": "python3"
  },
  "language_info": {
   "codemirror_mode": {
    "name": "ipython",
    "version": 2
   },
   "file_extension": ".py",
   "mimetype": "text/x-python",
   "name": "python",
   "nbconvert_exporter": "python",
   "pygments_lexer": "ipython2",
   "version": "2.7.6"
  }
 },
 "nbformat": 4,
 "nbformat_minor": 5
}
