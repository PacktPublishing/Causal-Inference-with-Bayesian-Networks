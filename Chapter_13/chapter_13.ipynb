{
 "cells": [
  {
   "cell_type": "code",
   "execution_count": 1,
   "metadata": {},
   "outputs": [],
   "source": [
    "import pandas as pd\n",
    "import numpy as np\n",
    "import matplotlib.pyplot as plt\n",
    "from causallib.datasets.data_loader import load_nhefs_survival\n",
    "import lifelines\n",
    "from sklearn.linear_model import LogisticRegression\n",
    "from causallib.estimation import IPW\n",
    "from causallib.evaluation import evaluate\n",
    "from causallib.survival.weighted_survival import WeightedSurvival\n",
    "from causallib.survival import StandardizedSurvival\n",
    "from lifelines import CoxPHFitter\n",
    "\n",
    "import warnings\n",
    "warnings.filterwarnings('ignore')"
   ]
  },
  {
   "cell_type": "markdown",
   "metadata": {},
   "source": [
    "### Loading the NHEFS dataset"
   ]
  },
  {
   "cell_type": "code",
   "execution_count": 2,
   "metadata": {},
   "outputs": [
    {
     "data": {
      "text/plain": [
       "(1629, 21)"
      ]
     },
     "execution_count": 2,
     "metadata": {},
     "output_type": "execute_result"
    }
   ],
   "source": [
    "# Load and pre-process NHEFS data\n",
    "data = load_nhefs_survival()\n",
    "nhefs = pd.concat([data.a, data.X, data.t, data.y], axis=1)\n",
    "nhefs.shape"
   ]
  },
  {
   "cell_type": "code",
   "execution_count": 3,
   "metadata": {},
   "outputs": [
    {
     "data": {
      "text/html": [
       "<div>\n",
       "<style scoped>\n",
       "    .dataframe tbody tr th:only-of-type {\n",
       "        vertical-align: middle;\n",
       "    }\n",
       "\n",
       "    .dataframe tbody tr th {\n",
       "        vertical-align: top;\n",
       "    }\n",
       "\n",
       "    .dataframe thead th {\n",
       "        text-align: right;\n",
       "    }\n",
       "</style>\n",
       "<table border=\"1\" class=\"dataframe\">\n",
       "  <thead>\n",
       "    <tr style=\"text-align: right;\">\n",
       "      <th></th>\n",
       "      <th>qsmk</th>\n",
       "      <th>age</th>\n",
       "      <th>race</th>\n",
       "      <th>sex</th>\n",
       "      <th>smokeintensity</th>\n",
       "      <th>smokeyrs</th>\n",
       "      <th>wt71</th>\n",
       "      <th>active_1</th>\n",
       "      <th>active_2</th>\n",
       "      <th>education_2</th>\n",
       "      <th>...</th>\n",
       "      <th>education_4</th>\n",
       "      <th>education_5</th>\n",
       "      <th>exercise_1</th>\n",
       "      <th>exercise_2</th>\n",
       "      <th>age^2</th>\n",
       "      <th>wt71^2</th>\n",
       "      <th>smokeintensity^2</th>\n",
       "      <th>smokeyrs^2</th>\n",
       "      <th>longevity</th>\n",
       "      <th>death</th>\n",
       "    </tr>\n",
       "  </thead>\n",
       "  <tbody>\n",
       "    <tr>\n",
       "      <th>0</th>\n",
       "      <td>0</td>\n",
       "      <td>42</td>\n",
       "      <td>1</td>\n",
       "      <td>0</td>\n",
       "      <td>30</td>\n",
       "      <td>29</td>\n",
       "      <td>79.04</td>\n",
       "      <td>False</td>\n",
       "      <td>False</td>\n",
       "      <td>False</td>\n",
       "      <td>...</td>\n",
       "      <td>False</td>\n",
       "      <td>False</td>\n",
       "      <td>False</td>\n",
       "      <td>True</td>\n",
       "      <td>1764</td>\n",
       "      <td>6247.3216</td>\n",
       "      <td>900</td>\n",
       "      <td>841</td>\n",
       "      <td>120.0</td>\n",
       "      <td>0</td>\n",
       "    </tr>\n",
       "    <tr>\n",
       "      <th>1</th>\n",
       "      <td>0</td>\n",
       "      <td>36</td>\n",
       "      <td>0</td>\n",
       "      <td>0</td>\n",
       "      <td>20</td>\n",
       "      <td>24</td>\n",
       "      <td>58.63</td>\n",
       "      <td>False</td>\n",
       "      <td>False</td>\n",
       "      <td>True</td>\n",
       "      <td>...</td>\n",
       "      <td>False</td>\n",
       "      <td>False</td>\n",
       "      <td>False</td>\n",
       "      <td>False</td>\n",
       "      <td>1296</td>\n",
       "      <td>3437.4769</td>\n",
       "      <td>400</td>\n",
       "      <td>576</td>\n",
       "      <td>120.0</td>\n",
       "      <td>0</td>\n",
       "    </tr>\n",
       "    <tr>\n",
       "      <th>2</th>\n",
       "      <td>0</td>\n",
       "      <td>56</td>\n",
       "      <td>1</td>\n",
       "      <td>1</td>\n",
       "      <td>20</td>\n",
       "      <td>26</td>\n",
       "      <td>56.81</td>\n",
       "      <td>False</td>\n",
       "      <td>False</td>\n",
       "      <td>True</td>\n",
       "      <td>...</td>\n",
       "      <td>False</td>\n",
       "      <td>False</td>\n",
       "      <td>False</td>\n",
       "      <td>True</td>\n",
       "      <td>3136</td>\n",
       "      <td>3227.3761</td>\n",
       "      <td>400</td>\n",
       "      <td>676</td>\n",
       "      <td>120.0</td>\n",
       "      <td>0</td>\n",
       "    </tr>\n",
       "    <tr>\n",
       "      <th>3</th>\n",
       "      <td>0</td>\n",
       "      <td>68</td>\n",
       "      <td>1</td>\n",
       "      <td>0</td>\n",
       "      <td>3</td>\n",
       "      <td>53</td>\n",
       "      <td>59.42</td>\n",
       "      <td>True</td>\n",
       "      <td>False</td>\n",
       "      <td>False</td>\n",
       "      <td>...</td>\n",
       "      <td>False</td>\n",
       "      <td>False</td>\n",
       "      <td>False</td>\n",
       "      <td>True</td>\n",
       "      <td>4624</td>\n",
       "      <td>3530.7364</td>\n",
       "      <td>9</td>\n",
       "      <td>2809</td>\n",
       "      <td>26.0</td>\n",
       "      <td>1</td>\n",
       "    </tr>\n",
       "    <tr>\n",
       "      <th>4</th>\n",
       "      <td>0</td>\n",
       "      <td>40</td>\n",
       "      <td>0</td>\n",
       "      <td>0</td>\n",
       "      <td>20</td>\n",
       "      <td>19</td>\n",
       "      <td>87.09</td>\n",
       "      <td>True</td>\n",
       "      <td>False</td>\n",
       "      <td>True</td>\n",
       "      <td>...</td>\n",
       "      <td>False</td>\n",
       "      <td>False</td>\n",
       "      <td>True</td>\n",
       "      <td>False</td>\n",
       "      <td>1600</td>\n",
       "      <td>7584.6681</td>\n",
       "      <td>400</td>\n",
       "      <td>361</td>\n",
       "      <td>120.0</td>\n",
       "      <td>0</td>\n",
       "    </tr>\n",
       "    <tr>\n",
       "      <th>...</th>\n",
       "      <td>...</td>\n",
       "      <td>...</td>\n",
       "      <td>...</td>\n",
       "      <td>...</td>\n",
       "      <td>...</td>\n",
       "      <td>...</td>\n",
       "      <td>...</td>\n",
       "      <td>...</td>\n",
       "      <td>...</td>\n",
       "      <td>...</td>\n",
       "      <td>...</td>\n",
       "      <td>...</td>\n",
       "      <td>...</td>\n",
       "      <td>...</td>\n",
       "      <td>...</td>\n",
       "      <td>...</td>\n",
       "      <td>...</td>\n",
       "      <td>...</td>\n",
       "      <td>...</td>\n",
       "      <td>...</td>\n",
       "      <td>...</td>\n",
       "    </tr>\n",
       "    <tr>\n",
       "      <th>1624</th>\n",
       "      <td>0</td>\n",
       "      <td>45</td>\n",
       "      <td>0</td>\n",
       "      <td>0</td>\n",
       "      <td>40</td>\n",
       "      <td>29</td>\n",
       "      <td>63.05</td>\n",
       "      <td>False</td>\n",
       "      <td>False</td>\n",
       "      <td>False</td>\n",
       "      <td>...</td>\n",
       "      <td>False</td>\n",
       "      <td>False</td>\n",
       "      <td>False</td>\n",
       "      <td>False</td>\n",
       "      <td>2025</td>\n",
       "      <td>3975.3025</td>\n",
       "      <td>1600</td>\n",
       "      <td>841</td>\n",
       "      <td>120.0</td>\n",
       "      <td>0</td>\n",
       "    </tr>\n",
       "    <tr>\n",
       "      <th>1625</th>\n",
       "      <td>0</td>\n",
       "      <td>47</td>\n",
       "      <td>0</td>\n",
       "      <td>1</td>\n",
       "      <td>20</td>\n",
       "      <td>31</td>\n",
       "      <td>57.72</td>\n",
       "      <td>False</td>\n",
       "      <td>False</td>\n",
       "      <td>False</td>\n",
       "      <td>...</td>\n",
       "      <td>False</td>\n",
       "      <td>False</td>\n",
       "      <td>False</td>\n",
       "      <td>False</td>\n",
       "      <td>2209</td>\n",
       "      <td>3331.5984</td>\n",
       "      <td>400</td>\n",
       "      <td>961</td>\n",
       "      <td>120.0</td>\n",
       "      <td>0</td>\n",
       "    </tr>\n",
       "    <tr>\n",
       "      <th>1626</th>\n",
       "      <td>0</td>\n",
       "      <td>51</td>\n",
       "      <td>0</td>\n",
       "      <td>1</td>\n",
       "      <td>40</td>\n",
       "      <td>30</td>\n",
       "      <td>62.71</td>\n",
       "      <td>False</td>\n",
       "      <td>False</td>\n",
       "      <td>False</td>\n",
       "      <td>...</td>\n",
       "      <td>False</td>\n",
       "      <td>False</td>\n",
       "      <td>False</td>\n",
       "      <td>False</td>\n",
       "      <td>2601</td>\n",
       "      <td>3932.5441</td>\n",
       "      <td>1600</td>\n",
       "      <td>900</td>\n",
       "      <td>120.0</td>\n",
       "      <td>0</td>\n",
       "    </tr>\n",
       "    <tr>\n",
       "      <th>1627</th>\n",
       "      <td>0</td>\n",
       "      <td>68</td>\n",
       "      <td>0</td>\n",
       "      <td>0</td>\n",
       "      <td>15</td>\n",
       "      <td>46</td>\n",
       "      <td>52.39</td>\n",
       "      <td>True</td>\n",
       "      <td>False</td>\n",
       "      <td>False</td>\n",
       "      <td>...</td>\n",
       "      <td>False</td>\n",
       "      <td>False</td>\n",
       "      <td>True</td>\n",
       "      <td>False</td>\n",
       "      <td>4624</td>\n",
       "      <td>2744.7121</td>\n",
       "      <td>225</td>\n",
       "      <td>2116</td>\n",
       "      <td>120.0</td>\n",
       "      <td>0</td>\n",
       "    </tr>\n",
       "    <tr>\n",
       "      <th>1628</th>\n",
       "      <td>1</td>\n",
       "      <td>29</td>\n",
       "      <td>0</td>\n",
       "      <td>0</td>\n",
       "      <td>30</td>\n",
       "      <td>14</td>\n",
       "      <td>90.83</td>\n",
       "      <td>True</td>\n",
       "      <td>False</td>\n",
       "      <td>True</td>\n",
       "      <td>...</td>\n",
       "      <td>False</td>\n",
       "      <td>False</td>\n",
       "      <td>True</td>\n",
       "      <td>False</td>\n",
       "      <td>841</td>\n",
       "      <td>8250.0889</td>\n",
       "      <td>900</td>\n",
       "      <td>196</td>\n",
       "      <td>120.0</td>\n",
       "      <td>0</td>\n",
       "    </tr>\n",
       "  </tbody>\n",
       "</table>\n",
       "<p>1629 rows × 21 columns</p>\n",
       "</div>"
      ],
      "text/plain": [
       "      qsmk  age  race  sex  smokeintensity  smokeyrs   wt71  active_1  \\\n",
       "0        0   42     1    0              30        29  79.04     False   \n",
       "1        0   36     0    0              20        24  58.63     False   \n",
       "2        0   56     1    1              20        26  56.81     False   \n",
       "3        0   68     1    0               3        53  59.42      True   \n",
       "4        0   40     0    0              20        19  87.09      True   \n",
       "...    ...  ...   ...  ...             ...       ...    ...       ...   \n",
       "1624     0   45     0    0              40        29  63.05     False   \n",
       "1625     0   47     0    1              20        31  57.72     False   \n",
       "1626     0   51     0    1              40        30  62.71     False   \n",
       "1627     0   68     0    0              15        46  52.39      True   \n",
       "1628     1   29     0    0              30        14  90.83      True   \n",
       "\n",
       "      active_2  education_2  ...  education_4  education_5  exercise_1  \\\n",
       "0        False        False  ...        False        False       False   \n",
       "1        False         True  ...        False        False       False   \n",
       "2        False         True  ...        False        False       False   \n",
       "3        False        False  ...        False        False       False   \n",
       "4        False         True  ...        False        False        True   \n",
       "...        ...          ...  ...          ...          ...         ...   \n",
       "1624     False        False  ...        False        False       False   \n",
       "1625     False        False  ...        False        False       False   \n",
       "1626     False        False  ...        False        False       False   \n",
       "1627     False        False  ...        False        False        True   \n",
       "1628     False         True  ...        False        False        True   \n",
       "\n",
       "      exercise_2  age^2     wt71^2  smokeintensity^2  smokeyrs^2  longevity  \\\n",
       "0           True   1764  6247.3216               900         841      120.0   \n",
       "1          False   1296  3437.4769               400         576      120.0   \n",
       "2           True   3136  3227.3761               400         676      120.0   \n",
       "3           True   4624  3530.7364                 9        2809       26.0   \n",
       "4          False   1600  7584.6681               400         361      120.0   \n",
       "...          ...    ...        ...               ...         ...        ...   \n",
       "1624       False   2025  3975.3025              1600         841      120.0   \n",
       "1625       False   2209  3331.5984               400         961      120.0   \n",
       "1626       False   2601  3932.5441              1600         900      120.0   \n",
       "1627       False   4624  2744.7121               225        2116      120.0   \n",
       "1628       False    841  8250.0889               900         196      120.0   \n",
       "\n",
       "      death  \n",
       "0         0  \n",
       "1         0  \n",
       "2         0  \n",
       "3         1  \n",
       "4         0  \n",
       "...     ...  \n",
       "1624      0  \n",
       "1625      0  \n",
       "1626      0  \n",
       "1627      0  \n",
       "1628      0  \n",
       "\n",
       "[1629 rows x 21 columns]"
      ]
     },
     "execution_count": 3,
     "metadata": {},
     "output_type": "execute_result"
    }
   ],
   "source": [
    "nhefs"
   ]
  },
  {
   "cell_type": "code",
   "execution_count": 4,
   "metadata": {},
   "outputs": [
    {
     "data": {
      "text/plain": [
       "Index(['qsmk', 'age', 'race', 'sex', 'smokeintensity', 'smokeyrs', 'wt71',\n",
       "       'active_1', 'active_2', 'education_2', 'education_3', 'education_4',\n",
       "       'education_5', 'exercise_1', 'exercise_2', 'age^2', 'wt71^2',\n",
       "       'smokeintensity^2', 'smokeyrs^2', 'longevity', 'death'],\n",
       "      dtype='object')"
      ]
     },
     "execution_count": 4,
     "metadata": {},
     "output_type": "execute_result"
    }
   ],
   "source": [
    "nhefs.columns"
   ]
  },
  {
   "cell_type": "code",
   "execution_count": 5,
   "metadata": {},
   "outputs": [
    {
     "data": {
      "text/plain": [
       "Variable name\n",
       "active            IN YOUR USUAL DAY, HOW ACTIVE ARE YOU? IN 1971...\n",
       "age                                                     AGE IN 1971\n",
       "education         AMOUNT OF EDUCATION BY 1971: 1: 8TH GRADE OR L...\n",
       "exercise          IN RECREATION, HOW MUCH EXERCISE? IN 1971, 0:m...\n",
       "race                             0: WHITE 1: BLACK OR OTHER IN 1971\n",
       "sex                                               0: MALE 1: FEMALE\n",
       "smokeintensity          NUMBER OF CIGARETTES SMOKED PER DAY IN 1971\n",
       "smokeyrs                                           YEARS OF SMOKING\n",
       "wt71                                   WEIGHT IN KILOGRAMS  IN 1971\n",
       "qsmk              QUIT SMOKING BETWEEN 1ST QUESTIONNAIRE AND 198...\n",
       "wt82_71                                  WEIGHT CHANGE IN KILOGRAMS\n",
       "Name: Description, dtype: object"
      ]
     },
     "execution_count": 5,
     "metadata": {},
     "output_type": "execute_result"
    }
   ],
   "source": [
    "data['descriptors']"
   ]
  },
  {
   "cell_type": "markdown",
   "metadata": {},
   "source": [
    "### EDA analysis"
   ]
  },
  {
   "cell_type": "code",
   "execution_count": 6,
   "metadata": {},
   "outputs": [],
   "source": [
    "X = data.X\n",
    "A = nhefs['qsmk']\n",
    "Y = nhefs['death']\n",
    "T = nhefs['longevity']"
   ]
  },
  {
   "cell_type": "code",
   "execution_count": 7,
   "metadata": {},
   "outputs": [
    {
     "data": {
      "text/plain": [
       "np.int64(318)"
      ]
     },
     "execution_count": 7,
     "metadata": {},
     "output_type": "execute_result"
    }
   ],
   "source": [
    "(Y==1).sum()"
   ]
  },
  {
   "cell_type": "code",
   "execution_count": 8,
   "metadata": {},
   "outputs": [
    {
     "data": {
      "text/plain": [
       "qsmk\n",
       "0    0.737262\n",
       "1    0.262738\n",
       "Name: proportion, dtype: float64"
      ]
     },
     "execution_count": 8,
     "metadata": {},
     "output_type": "execute_result"
    }
   ],
   "source": [
    "A.value_counts(normalize=True)"
   ]
  },
  {
   "cell_type": "code",
   "execution_count": 9,
   "metadata": {},
   "outputs": [
    {
     "data": {
      "text/html": [
       "<div>\n",
       "<style scoped>\n",
       "    .dataframe tbody tr th:only-of-type {\n",
       "        vertical-align: middle;\n",
       "    }\n",
       "\n",
       "    .dataframe tbody tr th {\n",
       "        vertical-align: top;\n",
       "    }\n",
       "\n",
       "    .dataframe thead th {\n",
       "        text-align: right;\n",
       "    }\n",
       "</style>\n",
       "<table border=\"1\" class=\"dataframe\">\n",
       "  <thead>\n",
       "    <tr style=\"text-align: right;\">\n",
       "      <th>death</th>\n",
       "      <th>0</th>\n",
       "      <th>1</th>\n",
       "    </tr>\n",
       "    <tr>\n",
       "      <th>qsmk</th>\n",
       "      <th></th>\n",
       "      <th></th>\n",
       "    </tr>\n",
       "  </thead>\n",
       "  <tbody>\n",
       "    <tr>\n",
       "      <th>0</th>\n",
       "      <td>82.01</td>\n",
       "      <td>17.99</td>\n",
       "    </tr>\n",
       "    <tr>\n",
       "      <th>1</th>\n",
       "      <td>76.17</td>\n",
       "      <td>23.83</td>\n",
       "    </tr>\n",
       "  </tbody>\n",
       "</table>\n",
       "</div>"
      ],
      "text/plain": [
       "death      0      1\n",
       "qsmk               \n",
       "0      82.01  17.99\n",
       "1      76.17  23.83"
      ]
     },
     "execution_count": 9,
     "metadata": {},
     "output_type": "execute_result"
    }
   ],
   "source": [
    "np.round(pd.crosstab(A, Y, normalize='index')*100, 2)"
   ]
  },
  {
   "cell_type": "code",
   "execution_count": 10,
   "metadata": {},
   "outputs": [
    {
     "data": {
      "text/html": [
       "<div>\n",
       "<style scoped>\n",
       "    .dataframe tbody tr th:only-of-type {\n",
       "        vertical-align: middle;\n",
       "    }\n",
       "\n",
       "    .dataframe tbody tr th {\n",
       "        vertical-align: top;\n",
       "    }\n",
       "\n",
       "    .dataframe thead th {\n",
       "        text-align: right;\n",
       "    }\n",
       "</style>\n",
       "<table border=\"1\" class=\"dataframe\">\n",
       "  <thead>\n",
       "    <tr style=\"text-align: right;\">\n",
       "      <th></th>\n",
       "      <th>age</th>\n",
       "      <th>sex</th>\n",
       "      <th>race</th>\n",
       "      <th>exercise_2</th>\n",
       "      <th>active_2</th>\n",
       "    </tr>\n",
       "    <tr>\n",
       "      <th>qsmk</th>\n",
       "      <th></th>\n",
       "      <th></th>\n",
       "      <th></th>\n",
       "      <th></th>\n",
       "      <th></th>\n",
       "    </tr>\n",
       "  </thead>\n",
       "  <tbody>\n",
       "    <tr>\n",
       "      <th>0</th>\n",
       "      <td>42.92</td>\n",
       "      <td>0.53</td>\n",
       "      <td>0.15</td>\n",
       "      <td>0.38</td>\n",
       "      <td>0.09</td>\n",
       "    </tr>\n",
       "    <tr>\n",
       "      <th>1</th>\n",
       "      <td>46.70</td>\n",
       "      <td>0.45</td>\n",
       "      <td>0.09</td>\n",
       "      <td>0.41</td>\n",
       "      <td>0.11</td>\n",
       "    </tr>\n",
       "  </tbody>\n",
       "</table>\n",
       "</div>"
      ],
      "text/plain": [
       "        age   sex  race  exercise_2  active_2\n",
       "qsmk                                         \n",
       "0     42.92  0.53  0.15        0.38      0.09\n",
       "1     46.70  0.45  0.09        0.41      0.11"
      ]
     },
     "execution_count": 10,
     "metadata": {},
     "output_type": "execute_result"
    }
   ],
   "source": [
    "nhefs.groupby('qsmk')[['age', 'sex', 'race', 'exercise_2', 'active_2']].mean().round(2)"
   ]
  },
  {
   "cell_type": "markdown",
   "metadata": {},
   "source": [
    "### Causal survival analysis"
   ]
  },
  {
   "cell_type": "code",
   "execution_count": 11,
   "metadata": {},
   "outputs": [
    {
     "data": {
      "image/png": "[encoded data removed]",
      "text/plain": [
       "<Figure size 640x480 with 1 Axes>"
      ]
     },
     "metadata": {},
     "output_type": "display_data"
    }
   ],
   "source": [
    "kmf = lifelines.KaplanMeierFitter()\n",
    "kmf.fit(durations=T[A == 0], event_observed=Y[A == 0], label=\"A=0\")\n",
    "kmf.plot_survival_function()\n",
    "kmf.fit(durations=T[A == 1], event_observed=Y[A == 1], label=\"A=1\")\n",
    "kmf.plot_survival_function()\n",
    "plt.xlabel(\"T (months)\", fontsize=12)\n",
    "plt.ylabel(\"Survival probability\", fontsize=12)\n",
    "plt.show()"
   ]
  },
  {
   "cell_type": "markdown",
   "metadata": {},
   "source": [
    "### Estimation using Inverse Probability Weighting "
   ]
  },
  {
   "cell_type": "code",
   "execution_count": 12,
   "metadata": {},
   "outputs": [
    {
     "name": "stdout",
     "output_type": "stream",
     "text": [
      "0       0.107488\n",
      "1       0.161227\n",
      "2       0.135014\n",
      "3       0.446085\n",
      "4       0.276189\n",
      "          ...   \n",
      "1624    0.173549\n",
      "1625    0.146316\n",
      "1626    0.131917\n",
      "1627    0.495877\n",
      "1628    0.184031\n",
      "Name: 1, Length: 1629, dtype: float64\n"
     ]
    }
   ],
   "source": [
    "learner = LogisticRegression(penalty=None, solver='lbfgs',\n",
    "                             max_iter=5000)\n",
    "ipw = IPW(learner)\n",
    "ipw.fit(X, A)\n",
    "propensity_scores = ipw.compute_propensity(X, A, treatment_values=1)\n",
    "print(propensity_scores)"
   ]
  },
  {
   "cell_type": "code",
   "execution_count": 13,
   "metadata": {},
   "outputs": [
    {
     "name": "stdout",
     "output_type": "stream",
     "text": [
      "0       1.120433\n",
      "1       1.192218\n",
      "2       1.156088\n",
      "3       1.805330\n",
      "4       1.381575\n",
      "          ...   \n",
      "1624    1.209993\n",
      "1625    1.171394\n",
      "1626    1.151964\n",
      "1627    1.983643\n",
      "1628    5.433867\n",
      "Length: 1629, dtype: float64\n"
     ]
    }
   ],
   "source": [
    "weights = ipw.compute_weights(X, A)\n",
    "print(weights)"
   ]
  },
  {
   "cell_type": "code",
   "execution_count": 14,
   "metadata": {},
   "outputs": [
    {
     "data": {
      "image/png": "[encoded data removed]",
      "text/plain": [
       "<Figure size 640x480 with 1 Axes>"
      ]
     },
     "metadata": {},
     "output_type": "display_data"
    }
   ],
   "source": [
    "kmf = lifelines.KaplanMeierFitter()\n",
    "kmf.fit(durations=T[A==0], event_observed=Y[A==0], weights=weights[A==0],   \n",
    "        label=\"A=0\")\n",
    "kmf.plot_survival_function()  \n",
    "kmf.fit(durations=T[A==1], event_observed=Y[A==1], weights=weights[A==1],   \n",
    "        label=\"A=1\")\n",
    "kmf.plot_survival_function()  \n",
    "\n",
    "plt.xlabel(\"T (months)\", fontsize=12)\n",
    "plt.ylabel(\"Survival probability\", fontsize=12)\n",
    "plt.show()"
   ]
  },
  {
   "cell_type": "code",
   "execution_count": 15,
   "metadata": {},
   "outputs": [
    {
     "data": {
      "image/png": "[encoded data removed]",
      "text/plain": [
       "<Figure size 640x480 with 1 Axes>"
      ]
     },
     "metadata": {},
     "output_type": "display_data"
    }
   ],
   "source": [
    "evaluation_results = evaluate(ipw, X, A, Y)\n",
    "evaluation_results.plot_covariate_balance(kind=\"love\")\n",
    "plt.show()"
   ]
  },
  {
   "cell_type": "markdown",
   "metadata": {},
   "source": [
    "### Estimation using Standardization"
   ]
  },
  {
   "cell_type": "code",
   "execution_count": 16,
   "metadata": {},
   "outputs": [
    {
     "name": "stdout",
     "output_type": "stream",
     "text": [
      "covariate\n",
      "qsmk                0.028795\n",
      "age                 0.081665\n",
      "race                0.047359\n",
      "sex                -0.436450\n",
      "smokeintensity     -0.000086\n",
      "smokeyrs            0.019047\n",
      "wt71               -0.061347\n",
      "active_1            0.160250\n",
      "active_2            0.234973\n",
      "education_2        -0.132926\n",
      "education_3        -0.433116\n",
      "education_4        -0.228105\n",
      "education_5        -0.381206\n",
      "exercise_1         -0.140340\n",
      "exercise_2          0.155111\n",
      "age^2              -0.000027\n",
      "wt71^2              0.000399\n",
      "smokeintensity^2    0.000085\n",
      "smokeyrs^2          0.000015\n",
      "Name: coef, dtype: float64\n"
     ]
    }
   ],
   "source": [
    "cph = CoxPHFitter()\n",
    "cph.fit(nhefs, duration_col='longevity', event_col='death')\n",
    "\n",
    "print(cph.params_)"
   ]
  },
  {
   "cell_type": "code",
   "execution_count": 17,
   "metadata": {},
   "outputs": [
    {
     "name": "stdout",
     "output_type": "stream",
     "text": [
      "       baseline hazard\n",
      "1.0           0.000260\n",
      "2.0           0.000261\n",
      "4.0           0.000262\n",
      "5.0           0.000263\n",
      "7.0           0.000527\n",
      "...                ...\n",
      "114.0         0.001597\n",
      "115.0         0.001608\n",
      "118.0         0.001076\n",
      "119.0         0.001615\n",
      "120.0         0.000549\n",
      "\n",
      "[109 rows x 1 columns]\n"
     ]
    }
   ],
   "source": [
    "print(cph.baseline_hazard_)"
   ]
  },
  {
   "cell_type": "code",
   "execution_count": 18,
   "metadata": {},
   "outputs": [
    {
     "name": "stdout",
     "output_type": "stream",
     "text": [
      "109\n"
     ]
    }
   ],
   "source": [
    "print(len(np.unique(nhefs['longevity'])))"
   ]
  },
  {
   "cell_type": "code",
   "execution_count": 19,
   "metadata": {},
   "outputs": [
    {
     "data": {
      "text/html": [
       "<div>\n",
       "<style scoped>\n",
       "    .dataframe tbody tr th:only-of-type {\n",
       "        vertical-align: middle;\n",
       "    }\n",
       "\n",
       "    .dataframe tbody tr th {\n",
       "        vertical-align: top;\n",
       "    }\n",
       "\n",
       "    .dataframe thead th {\n",
       "        text-align: right;\n",
       "    }\n",
       "</style>\n",
       "<table border=\"1\" class=\"dataframe\">\n",
       "  <thead>\n",
       "    <tr style=\"text-align: right;\">\n",
       "      <th></th>\n",
       "      <th>0</th>\n",
       "    </tr>\n",
       "  </thead>\n",
       "  <tbody>\n",
       "    <tr>\n",
       "      <th>1.0</th>\n",
       "      <td>0.999601</td>\n",
       "    </tr>\n",
       "    <tr>\n",
       "      <th>2.0</th>\n",
       "      <td>0.999201</td>\n",
       "    </tr>\n",
       "    <tr>\n",
       "      <th>4.0</th>\n",
       "      <td>0.998799</td>\n",
       "    </tr>\n",
       "    <tr>\n",
       "      <th>5.0</th>\n",
       "      <td>0.998397</td>\n",
       "    </tr>\n",
       "    <tr>\n",
       "      <th>7.0</th>\n",
       "      <td>0.997590</td>\n",
       "    </tr>\n",
       "    <tr>\n",
       "      <th>...</th>\n",
       "      <td>...</td>\n",
       "    </tr>\n",
       "    <tr>\n",
       "      <th>114.0</th>\n",
       "      <td>0.836746</td>\n",
       "    </tr>\n",
       "    <tr>\n",
       "      <th>115.0</th>\n",
       "      <td>0.834686</td>\n",
       "    </tr>\n",
       "    <tr>\n",
       "      <th>118.0</th>\n",
       "      <td>0.833311</td>\n",
       "    </tr>\n",
       "    <tr>\n",
       "      <th>119.0</th>\n",
       "      <td>0.831251</td>\n",
       "    </tr>\n",
       "    <tr>\n",
       "      <th>120.0</th>\n",
       "      <td>0.830552</td>\n",
       "    </tr>\n",
       "  </tbody>\n",
       "</table>\n",
       "<p>109 rows × 1 columns</p>\n",
       "</div>"
      ],
      "text/plain": [
       "              0\n",
       "1.0    0.999601\n",
       "2.0    0.999201\n",
       "4.0    0.998799\n",
       "5.0    0.998397\n",
       "7.0    0.997590\n",
       "...         ...\n",
       "114.0  0.836746\n",
       "115.0  0.834686\n",
       "118.0  0.833311\n",
       "119.0  0.831251\n",
       "120.0  0.830552\n",
       "\n",
       "[109 rows x 1 columns]"
      ]
     },
     "execution_count": 19,
     "metadata": {},
     "output_type": "execute_result"
    }
   ],
   "source": [
    "survival_curve = cph.predict_survival_function(nhefs[cph.params_.index].iloc[[0]])\n",
    "survival_curve"
   ]
  },
  {
   "cell_type": "code",
   "execution_count": 20,
   "metadata": {},
   "outputs": [],
   "source": [
    "cph = CoxPHFitter()\n",
    "cph.fit(nhefs, duration_col=\"longevity\", event_col=\"death\")\n",
    "pop_avg_survival_curves = {}\n",
    "for a in [0, 1]:\n",
    "    temp = nhefs.copy()\n",
    "    temp[\"qsmk\"] = a\n",
    "    ind_surv_curves = cph.predict_survival_function(temp)\n",
    "    pop_avg_survival_curves[a] = ind_surv_curves.mean(axis=1)"
   ]
  },
  {
   "cell_type": "code",
   "execution_count": 21,
   "metadata": {},
   "outputs": [
    {
     "data": {
      "text/plain": [
       "1.0      0.999393\n",
       "2.0      0.998786\n",
       "4.0      0.998176\n",
       "5.0      0.997567\n",
       "7.0      0.996350\n",
       "           ...   \n",
       "114.0    0.812805\n",
       "115.0    0.810947\n",
       "118.0    0.809710\n",
       "119.0    0.807866\n",
       "120.0    0.807241\n",
       "Length: 109, dtype: float64"
      ]
     },
     "execution_count": 21,
     "metadata": {},
     "output_type": "execute_result"
    }
   ],
   "source": [
    "pop_avg_survival_curves[0]"
   ]
  },
  {
   "cell_type": "code",
   "execution_count": 22,
   "metadata": {},
   "outputs": [
    {
     "data": {
      "text/plain": [
       "1.0      0.999375\n",
       "2.0      0.998750\n",
       "4.0      0.998123\n",
       "5.0      0.997496\n",
       "7.0      0.996244\n",
       "           ...   \n",
       "114.0    0.808895\n",
       "115.0    0.807010\n",
       "118.0    0.805756\n",
       "119.0    0.803885\n",
       "120.0    0.803252\n",
       "Length: 109, dtype: float64"
      ]
     },
     "execution_count": 22,
     "metadata": {},
     "output_type": "execute_result"
    }
   ],
   "source": [
    "pop_avg_survival_curves[1]"
   ]
  },
  {
   "cell_type": "code",
   "execution_count": 23,
   "metadata": {},
   "outputs": [
    {
     "data": {
      "text/html": [
       "<div>\n",
       "<style scoped>\n",
       "    .dataframe tbody tr th:only-of-type {\n",
       "        vertical-align: middle;\n",
       "    }\n",
       "\n",
       "    .dataframe tbody tr th {\n",
       "        vertical-align: top;\n",
       "    }\n",
       "\n",
       "    .dataframe thead th {\n",
       "        text-align: right;\n",
       "    }\n",
       "</style>\n",
       "<table border=\"1\" class=\"dataframe\">\n",
       "  <thead>\n",
       "    <tr style=\"text-align: right;\">\n",
       "      <th>qsmk</th>\n",
       "      <th>0</th>\n",
       "      <th>1</th>\n",
       "    </tr>\n",
       "    <tr>\n",
       "      <th>longevity</th>\n",
       "      <th></th>\n",
       "      <th></th>\n",
       "    </tr>\n",
       "  </thead>\n",
       "  <tbody>\n",
       "    <tr>\n",
       "      <th>1.0</th>\n",
       "      <td>0.999062</td>\n",
       "      <td>0.998249</td>\n",
       "    </tr>\n",
       "    <tr>\n",
       "      <th>2.0</th>\n",
       "      <td>0.999062</td>\n",
       "      <td>0.996486</td>\n",
       "    </tr>\n",
       "    <tr>\n",
       "      <th>3.0</th>\n",
       "      <td>0.999062</td>\n",
       "      <td>0.996130</td>\n",
       "    </tr>\n",
       "    <tr>\n",
       "      <th>4.0</th>\n",
       "      <td>0.999062</td>\n",
       "      <td>0.995774</td>\n",
       "    </tr>\n",
       "    <tr>\n",
       "      <th>5.0</th>\n",
       "      <td>0.998123</td>\n",
       "      <td>0.995420</td>\n",
       "    </tr>\n",
       "    <tr>\n",
       "      <th>...</th>\n",
       "      <td>...</td>\n",
       "      <td>...</td>\n",
       "    </tr>\n",
       "    <tr>\n",
       "      <th>116.0</th>\n",
       "      <td>0.809910</td>\n",
       "      <td>0.810058</td>\n",
       "    </tr>\n",
       "    <tr>\n",
       "      <th>117.0</th>\n",
       "      <td>0.809308</td>\n",
       "      <td>0.810058</td>\n",
       "    </tr>\n",
       "    <tr>\n",
       "      <th>118.0</th>\n",
       "      <td>0.808708</td>\n",
       "      <td>0.810058</td>\n",
       "    </tr>\n",
       "    <tr>\n",
       "      <th>119.0</th>\n",
       "      <td>0.806022</td>\n",
       "      <td>0.810058</td>\n",
       "    </tr>\n",
       "    <tr>\n",
       "      <th>120.0</th>\n",
       "      <td>0.805112</td>\n",
       "      <td>0.810058</td>\n",
       "    </tr>\n",
       "  </tbody>\n",
       "</table>\n",
       "<p>120 rows × 2 columns</p>\n",
       "</div>"
      ],
      "text/plain": [
       "qsmk              0         1\n",
       "longevity                    \n",
       "1.0        0.999062  0.998249\n",
       "2.0        0.999062  0.996486\n",
       "3.0        0.999062  0.996130\n",
       "4.0        0.999062  0.995774\n",
       "5.0        0.998123  0.995420\n",
       "...             ...       ...\n",
       "116.0      0.809910  0.810058\n",
       "117.0      0.809308  0.810058\n",
       "118.0      0.808708  0.810058\n",
       "119.0      0.806022  0.810058\n",
       "120.0      0.805112  0.810058\n",
       "\n",
       "[120 rows x 2 columns]"
      ]
     },
     "execution_count": 23,
     "metadata": {},
     "output_type": "execute_result"
    }
   ],
   "source": [
    "standardized_survival_cox = StandardizedSurvival(survival_model=lifelines.CoxPHFitter())\n",
    "standardized_survival_cox.fit(X, A, T, Y)\n",
    "pop_avg_survival_curves = standardized_survival_cox.estimate_population_outcome(X, A, T)\n",
    "pop_avg_survival_curves"
   ]
  },
  {
   "cell_type": "code",
   "execution_count": 24,
   "metadata": {},
   "outputs": [
    {
     "data": {
      "image/png": "[encoded data removed]",
      "text/plain": [
       "<Figure size 640x480 with 1 Axes>"
      ]
     },
     "metadata": {},
     "output_type": "display_data"
    }
   ],
   "source": [
    "plt.step(pop_avg_survival_curves.index, \n",
    "         pop_avg_survival_curves[0].values,\n",
    "         where=\"post\", label=\"A=0\")\n",
    "plt.step(pop_avg_survival_curves.index, \n",
    "         pop_avg_survival_curves[1].values,\n",
    "         where=\"post\", label=\"A=1\")\n",
    "plt.legend()\n",
    "plt.xlabel(\"T (months)\", fontsize=12)\n",
    "plt.ylabel(\"Survival probability\", fontsize=12)\n",
    "plt.show()"
   ]
  },
  {
   "cell_type": "code",
   "execution_count": null,
   "metadata": {},
   "outputs": [],
   "source": []
  }
 ],
 "metadata": {
  "kernelspec": {
   "display_name": "Python 3 (ipykernel)",
   "language": "python",
   "name": "python3"
  },
  "language_info": {
   "codemirror_mode": {
    "name": "ipython",
    "version": 3
   },
   "file_extension": ".py",
   "mimetype": "text/x-python",
   "name": "python",
   "nbconvert_exporter": "python",
   "pygments_lexer": "ipython3",
   "version": "3.9.0"
  },
  "vscode": {
   "interpreter": {
    "hash": "69f88c614e1e3c90b1e7d1bcdbafb917f9042edfca4477b05464240f7cf41bf5"
   }
  }
 },
 "nbformat": 4,
 "nbformat_minor": 4
}
