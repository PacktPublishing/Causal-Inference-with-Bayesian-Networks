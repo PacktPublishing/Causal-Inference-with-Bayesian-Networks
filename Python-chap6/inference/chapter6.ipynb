{
 "cells": [
  {
   "cell_type": "markdown",
   "id": "d563b26c388b7fda",
   "metadata": {
    "collapsed": false
   },
   "source": [
    "# Chapter 6\n",
    "## Belief Propagation with Join Trees\n",
    "\n",
    "First we import pgmpy libraries"
   ]
  },
  {
   "cell_type": "code",
   "execution_count": 1,
   "id": "ef4db8eb9cdd720f",
   "metadata": {
    "collapsed": false,
    "ExecuteTime": {
     "end_time": "2024-03-05T01:21:52.394576Z",
     "start_time": "2024-03-05T01:21:47.534817Z"
    }
   },
   "outputs": [
    {
     "ename": "NameError",
     "evalue": "name 'np' is not defined",
     "output_type": "error",
     "traceback": [
      "\u001B[0;31m---------------------------------------------------------------------------\u001B[0m",
      "\u001B[0;31mNameError\u001B[0m                                 Traceback (most recent call last)",
      "Cell \u001B[0;32mIn[1], line 12\u001B[0m\n\u001B[1;32m      8\u001B[0m \u001B[38;5;28;01mimport\u001B[39;00m \u001B[38;5;21;01mwarnings\u001B[39;00m\n\u001B[1;32m     10\u001B[0m warnings\u001B[38;5;241m.\u001B[39mfilterwarnings(\u001B[38;5;124m'\u001B[39m\u001B[38;5;124mignore\u001B[39m\u001B[38;5;124m'\u001B[39m, category\u001B[38;5;241m=\u001B[39m\u001B[38;5;167;01mDeprecationWarning\u001B[39;00m)\n\u001B[0;32m---> 12\u001B[0m warnings\u001B[38;5;241m.\u001B[39mfilterwarnings(\u001B[38;5;124m'\u001B[39m\u001B[38;5;124mignore\u001B[39m\u001B[38;5;124m'\u001B[39m, category\u001B[38;5;241m=\u001B[39m\u001B[43mnp\u001B[49m\u001B[38;5;241m.\u001B[39mDeprecationWarning)  \u001B[38;5;66;03m# It will ignore all numpy deprecation warnings\u001B[39;00m\n",
      "\u001B[0;31mNameError\u001B[0m: name 'np' is not defined"
     ]
    }
   ],
   "source": [
    "from pgmpy.models import BayesianNetwork, MarkovNetwork\n",
    "from pgmpy.inference import BeliefPropagation\n",
    "from pgmpy.factors.discrete import TabularCPD\n",
    "from pgmpy.factors.discrete import DiscreteFactor\n",
    "from pgmpy.base import DAG\n",
    "from contextlib import redirect_stdout\n",
    "from pgmpy.models import JunctionTree\n",
    "import warnings\n",
    "\n",
    "warnings.filterwarnings('ignore', category=DeprecationWarning)\n",
    "\n",
    "warnings.filterwarnings('ignore', category=np.DeprecationWarning)  # It will ignore all numpy deprecation warnings\n"
   ]
  },
  {
   "cell_type": "markdown",
   "id": "5099b465b85daa80",
   "metadata": {
    "collapsed": false
   },
   "source": [
    "## Circuit diagnosis Bayesian Network\n",
    "![circuit diagnosis example](circuit.png)\n",
    "#### Create the BN model and specify its structure\n",
    "The following code creates the circuit diagnosis BN model. The model factors according to a  DAG having 10 nodes and 12 edges. \n",
    " \n",
    "The nodes are the following network variables.  \n",
    "A1 A3 Y  A2 X  Z  E  D  A4 F\n",
    "The following variables represent hypotheses about the working condition of the four NOR gates of the circuit.  \n",
    "A1 A2 A3 A4\n",
    "All network variables are binary taking values 0 and 1.  \n",
    "\n",
    "The directed edges of the DAG are as follows:  \n",
    "A1->Z A3->E Y ->Z Y ->E A2->D X ->Z X ->D Z ->E Z ->D E ->F D ->F A4->F   "
   ]
  },
  {
   "cell_type": "code",
   "execution_count": 3,
   "id": "d8e043bfcdfb48f5",
   "metadata": {
    "collapsed": false,
    "ExecuteTime": {
     "end_time": "2024-03-05T01:22:32.538031Z",
     "start_time": "2024-03-05T01:22:32.531738Z"
    }
   },
   "outputs": [],
   "source": [
    "def circuit():\n",
    "    circuit: BayesianNetwork = BayesianNetwork()\n",
    "    circuit.add_nodes_from([\"X\", \"Y\", \"Z\", \"D\", \"E\", \"F\", \"A1\", \"A2\", \"A3\", \"A4\"])\n",
    "    circuit.add_edge(\"X\", \"Z\")\n",
    "    circuit.add_edge(\"Y\", \"Z\")\n",
    "    circuit.add_edge(\"A1\", \"Z\")\n",
    "    circuit.add_edge(\"X\", \"D\")\n",
    "    circuit.add_edge(\"Z\", \"D\")\n",
    "    circuit.add_edge(\"A2\", \"D\")\n",
    "    circuit.add_edge(\"Z\", \"E\")\n",
    "    circuit.add_edge(\"Y\", \"E\")\n",
    "    circuit.add_edge(\"A3\", \"E\")\n",
    "    circuit.add_edge(\"D\", \"F\")\n",
    "    circuit.add_edge(\"A4\", \"F\")\n",
    "    circuit.add_edge(\"E\", \"F\")\n",
    "    return circuit\n"
   ]
  },
  {
   "cell_type": "markdown",
   "id": "5303d749c5cc8ebd",
   "metadata": {
    "collapsed": false
   },
   "source": [
    "#### Create the Qualitative Component\n",
    "The following code creates the graph object to represent the BN structure having the nodes and edges specified for the BN model."
   ]
  },
  {
   "cell_type": "code",
   "execution_count": 4,
   "id": "56471c11852b2ed0",
   "metadata": {
    "collapsed": false,
    "ExecuteTime": {
     "end_time": "2024-03-05T01:22:37.807338Z",
     "start_time": "2024-03-05T01:22:37.801485Z"
    }
   },
   "outputs": [
    {
     "name": "stdout",
     "output_type": "stream",
     "text": [
      "creating the directed acyclic graph for the circuit diagnosis example\n"
     ]
    }
   ],
   "source": [
    "def circuit_dag():\n",
    "    model = circuit()\n",
    "    G = DAG()\n",
    "    nodes = model.nodes\n",
    "    edges = model.edges\n",
    "    G.add_nodes_from(nodes)\n",
    "    G.add_edges_from(edges)\n",
    "    return G\n",
    "\n",
    "print(f\"creating the directed acyclic graph for the circuit diagnosis example\")\n",
    "G = circuit_dag()\n",
    "print(G)"
   ]
  },
  {
   "cell_type": "markdown",
   "id": "871280b3053b5a60",
   "metadata": {
    "collapsed": false
   },
   "source": [
    "#### Create the Quantitative Component\n",
    "The following code specifies the condition probability distributions for all the network variables and add the CPDs to the model. After quantifying the BN model for the circuit diagnosis example we check the model if it is specifying correctly. The function check_model() should return True if the checking is successful."
   ]
  },
  {
   "cell_type": "code",
   "execution_count": 5,
   "id": "8bfc782faa2addaf",
   "metadata": {
    "collapsed": false,
    "ExecuteTime": {
     "end_time": "2024-03-05T01:22:43.742901Z",
     "start_time": "2024-03-05T01:22:43.724090Z"
    }
   },
   "outputs": [
    {
     "name": "stdout",
     "output_type": "stream",
     "text": [
      "True\n"
     ]
    }
   ],
   "source": [
    "\n",
    "model = circuit()\n",
    "cpd_X = TabularCPD(variable=\"X\", variable_card=2, values=[[0.5], [0.5]])\n",
    "cpd_Y = TabularCPD(variable=\"Y\", variable_card=2, values=[[0.5], [0.5]])\n",
    "cpd_A1 = TabularCPD(variable=\"A1\", variable_card=2, values=[[0.95], [0.05]])\n",
    "cpd_A2 = TabularCPD(variable=\"A2\", variable_card=2, values=[[0.95], [0.05]])\n",
    "cpd_A3 = TabularCPD(variable=\"A3\", variable_card=2, values=[[0.95], [0.05]])\n",
    "cpd_A4 = TabularCPD(variable=\"A4\", variable_card=2, values=[[0.95], [0.05]])\n",
    "cpd_Z = TabularCPD(\n",
    "    variable=\"Z\",\n",
    "    variable_card=2,\n",
    "    values=[\n",
    "        [1e-9, 1 - 1e-9, 1 - 1e-9, 1 - 1e-9, 0.5, 0.5, 0.5, 0.5],\n",
    "        [1 - 1e-9, 1e-9, 1e-9, 1e-9, 0.5, 0.5, 0.5, 0.5],\n",
    "    ],\n",
    "    evidence=[\"A1\", \"X\", \"Y\"],\n",
    "    evidence_card=[2, 2, 2],\n",
    ")\n",
    "cpd_D = TabularCPD(\n",
    "    variable=\"D\",\n",
    "    variable_card=2,\n",
    "    values=[\n",
    "        [1e-9, 1 - 1e-9, 1 - 1e-9, 1 - 1e-9, 0.5, 0.5, 0.5, 0.5],\n",
    "        [1 - 1e-9, 1e-9, 1e-9, 1e-9, 0.5, 0.5, 0.5, 0.5],\n",
    "    ],\n",
    "    evidence=[\"A2\", \"X\", \"Z\"],\n",
    "    evidence_card=[2, 2, 2],\n",
    ")\n",
    "cpd_E = TabularCPD(\n",
    "    variable=\"E\",\n",
    "    variable_card=2,\n",
    "    values=[\n",
    "        [1e-9, 1 - 1e-9, 1 - 1e-9, 1 - 1e-9, 0.5, 0.5, 0.5, 0.5],\n",
    "        [1 - 1e-9, 1e-9, 1e-9, 1e-9, 0.5, 0.5, 0.5, 0.5],\n",
    "    ],\n",
    "    evidence=[\"A3\", \"Y\", \"Z\"],\n",
    "    evidence_card=[2, 2, 2],\n",
    ")\n",
    "cpd_F = TabularCPD(\n",
    "    variable=\"F\",\n",
    "    variable_card=2,\n",
    "    values=[\n",
    "        [1e-9, 1 - 1e-9, 1 - 1e-9, 1 - 1e-9, 0.5, 0.5, 0.5, 0.5],\n",
    "        [1 - 1e-9, 1e-9, 1e-9, 1e-9, 0.5, 0.5, 0.5, 0.5],\n",
    "    ],\n",
    "    evidence=[\"A4\", \"D\", \"E\"],\n",
    "    evidence_card=[2, 2, 2],\n",
    ")\n",
    "\n",
    "model.add_cpds(cpd_X, cpd_Y, cpd_Z, cpd_D, cpd_E, cpd_F, cpd_A1, cpd_A2, cpd_A3, cpd_A4, cpd_F)\n",
    "\n",
    "print(model.check_model())"
   ]
  },
  {
   "cell_type": "code",
   "execution_count": 6,
   "id": "5d785dbef8e221a4",
   "metadata": {
    "collapsed": false,
    "ExecuteTime": {
     "end_time": "2024-03-05T01:22:54.806168Z",
     "start_time": "2024-03-05T01:22:54.796012Z"
    }
   },
   "outputs": [
    {
     "name": "stdout",
     "output_type": "stream",
     "text": [
      "+------+----------+\n",
      "| X    |   phi(X) |\n",
      "+======+==========+\n",
      "| X(0) |   0.5000 |\n",
      "+------+----------+\n",
      "| X(1) |   0.5000 |\n",
      "+------+----------+\n",
      "+------+----------+\n",
      "| Y    |   phi(Y) |\n",
      "+======+==========+\n",
      "| Y(0) |   0.5000 |\n",
      "+------+----------+\n",
      "| Y(1) |   0.5000 |\n",
      "+------+----------+\n",
      "+------+-------+------+------+-----------------+\n",
      "| Z    | A1    | X    | Y    |   phi(Z,A1,X,Y) |\n",
      "+======+=======+======+======+=================+\n",
      "| Z(0) | A1(0) | X(0) | Y(0) |          0.0000 |\n",
      "+------+-------+------+------+-----------------+\n",
      "| Z(0) | A1(0) | X(0) | Y(1) |          1.0000 |\n",
      "+------+-------+------+------+-----------------+\n",
      "| Z(0) | A1(0) | X(1) | Y(0) |          1.0000 |\n",
      "+------+-------+------+------+-----------------+\n",
      "| Z(0) | A1(0) | X(1) | Y(1) |          1.0000 |\n",
      "+------+-------+------+------+-----------------+\n",
      "| Z(0) | A1(1) | X(0) | Y(0) |          0.5000 |\n",
      "+------+-------+------+------+-----------------+\n",
      "| Z(0) | A1(1) | X(0) | Y(1) |          0.5000 |\n",
      "+------+-------+------+------+-----------------+\n",
      "| Z(0) | A1(1) | X(1) | Y(0) |          0.5000 |\n",
      "+------+-------+------+------+-----------------+\n",
      "| Z(0) | A1(1) | X(1) | Y(1) |          0.5000 |\n",
      "+------+-------+------+------+-----------------+\n",
      "| Z(1) | A1(0) | X(0) | Y(0) |          1.0000 |\n",
      "+------+-------+------+------+-----------------+\n",
      "| Z(1) | A1(0) | X(0) | Y(1) |          0.0000 |\n",
      "+------+-------+------+------+-----------------+\n",
      "| Z(1) | A1(0) | X(1) | Y(0) |          0.0000 |\n",
      "+------+-------+------+------+-----------------+\n",
      "| Z(1) | A1(0) | X(1) | Y(1) |          0.0000 |\n",
      "+------+-------+------+------+-----------------+\n",
      "| Z(1) | A1(1) | X(0) | Y(0) |          0.5000 |\n",
      "+------+-------+------+------+-----------------+\n",
      "| Z(1) | A1(1) | X(0) | Y(1) |          0.5000 |\n",
      "+------+-------+------+------+-----------------+\n",
      "| Z(1) | A1(1) | X(1) | Y(0) |          0.5000 |\n",
      "+------+-------+------+------+-----------------+\n",
      "| Z(1) | A1(1) | X(1) | Y(1) |          0.5000 |\n",
      "+------+-------+------+------+-----------------+\n",
      "+------+-------+------+------+-----------------+\n",
      "| D    | A2    | X    | Z    |   phi(D,A2,X,Z) |\n",
      "+======+=======+======+======+=================+\n",
      "| D(0) | A2(0) | X(0) | Z(0) |          0.0000 |\n",
      "+------+-------+------+------+-----------------+\n",
      "| D(0) | A2(0) | X(0) | Z(1) |          1.0000 |\n",
      "+------+-------+------+------+-----------------+\n",
      "| D(0) | A2(0) | X(1) | Z(0) |          1.0000 |\n",
      "+------+-------+------+------+-----------------+\n",
      "| D(0) | A2(0) | X(1) | Z(1) |          1.0000 |\n",
      "+------+-------+------+------+-----------------+\n",
      "| D(0) | A2(1) | X(0) | Z(0) |          0.5000 |\n",
      "+------+-------+------+------+-----------------+\n",
      "| D(0) | A2(1) | X(0) | Z(1) |          0.5000 |\n",
      "+------+-------+------+------+-----------------+\n",
      "| D(0) | A2(1) | X(1) | Z(0) |          0.5000 |\n",
      "+------+-------+------+------+-----------------+\n",
      "| D(0) | A2(1) | X(1) | Z(1) |          0.5000 |\n",
      "+------+-------+------+------+-----------------+\n",
      "| D(1) | A2(0) | X(0) | Z(0) |          1.0000 |\n",
      "+------+-------+------+------+-----------------+\n",
      "| D(1) | A2(0) | X(0) | Z(1) |          0.0000 |\n",
      "+------+-------+------+------+-----------------+\n",
      "| D(1) | A2(0) | X(1) | Z(0) |          0.0000 |\n",
      "+------+-------+------+------+-----------------+\n",
      "| D(1) | A2(0) | X(1) | Z(1) |          0.0000 |\n",
      "+------+-------+------+------+-----------------+\n",
      "| D(1) | A2(1) | X(0) | Z(0) |          0.5000 |\n",
      "+------+-------+------+------+-----------------+\n",
      "| D(1) | A2(1) | X(0) | Z(1) |          0.5000 |\n",
      "+------+-------+------+------+-----------------+\n",
      "| D(1) | A2(1) | X(1) | Z(0) |          0.5000 |\n",
      "+------+-------+------+------+-----------------+\n",
      "| D(1) | A2(1) | X(1) | Z(1) |          0.5000 |\n",
      "+------+-------+------+------+-----------------+\n",
      "+------+-------+------+------+-----------------+\n",
      "| E    | A3    | Y    | Z    |   phi(E,A3,Y,Z) |\n",
      "+======+=======+======+======+=================+\n",
      "| E(0) | A3(0) | Y(0) | Z(0) |          0.0000 |\n",
      "+------+-------+------+------+-----------------+\n",
      "| E(0) | A3(0) | Y(0) | Z(1) |          1.0000 |\n",
      "+------+-------+------+------+-----------------+\n",
      "| E(0) | A3(0) | Y(1) | Z(0) |          1.0000 |\n",
      "+------+-------+------+------+-----------------+\n",
      "| E(0) | A3(0) | Y(1) | Z(1) |          1.0000 |\n",
      "+------+-------+------+------+-----------------+\n",
      "| E(0) | A3(1) | Y(0) | Z(0) |          0.5000 |\n",
      "+------+-------+------+------+-----------------+\n",
      "| E(0) | A3(1) | Y(0) | Z(1) |          0.5000 |\n",
      "+------+-------+------+------+-----------------+\n",
      "| E(0) | A3(1) | Y(1) | Z(0) |          0.5000 |\n",
      "+------+-------+------+------+-----------------+\n",
      "| E(0) | A3(1) | Y(1) | Z(1) |          0.5000 |\n",
      "+------+-------+------+------+-----------------+\n",
      "| E(1) | A3(0) | Y(0) | Z(0) |          1.0000 |\n",
      "+------+-------+------+------+-----------------+\n",
      "| E(1) | A3(0) | Y(0) | Z(1) |          0.0000 |\n",
      "+------+-------+------+------+-----------------+\n",
      "| E(1) | A3(0) | Y(1) | Z(0) |          0.0000 |\n",
      "+------+-------+------+------+-----------------+\n",
      "| E(1) | A3(0) | Y(1) | Z(1) |          0.0000 |\n",
      "+------+-------+------+------+-----------------+\n",
      "| E(1) | A3(1) | Y(0) | Z(0) |          0.5000 |\n",
      "+------+-------+------+------+-----------------+\n",
      "| E(1) | A3(1) | Y(0) | Z(1) |          0.5000 |\n",
      "+------+-------+------+------+-----------------+\n",
      "| E(1) | A3(1) | Y(1) | Z(0) |          0.5000 |\n",
      "+------+-------+------+------+-----------------+\n",
      "| E(1) | A3(1) | Y(1) | Z(1) |          0.5000 |\n",
      "+------+-------+------+------+-----------------+\n",
      "+------+-------+------+------+-----------------+\n",
      "| F    | A4    | D    | E    |   phi(F,A4,D,E) |\n",
      "+======+=======+======+======+=================+\n",
      "| F(0) | A4(0) | D(0) | E(0) |          0.0000 |\n",
      "+------+-------+------+------+-----------------+\n",
      "| F(0) | A4(0) | D(0) | E(1) |          1.0000 |\n",
      "+------+-------+------+------+-----------------+\n",
      "| F(0) | A4(0) | D(1) | E(0) |          1.0000 |\n",
      "+------+-------+------+------+-----------------+\n",
      "| F(0) | A4(0) | D(1) | E(1) |          1.0000 |\n",
      "+------+-------+------+------+-----------------+\n",
      "| F(0) | A4(1) | D(0) | E(0) |          0.5000 |\n",
      "+------+-------+------+------+-----------------+\n",
      "| F(0) | A4(1) | D(0) | E(1) |          0.5000 |\n",
      "+------+-------+------+------+-----------------+\n",
      "| F(0) | A4(1) | D(1) | E(0) |          0.5000 |\n",
      "+------+-------+------+------+-----------------+\n",
      "| F(0) | A4(1) | D(1) | E(1) |          0.5000 |\n",
      "+------+-------+------+------+-----------------+\n",
      "| F(1) | A4(0) | D(0) | E(0) |          1.0000 |\n",
      "+------+-------+------+------+-----------------+\n",
      "| F(1) | A4(0) | D(0) | E(1) |          0.0000 |\n",
      "+------+-------+------+------+-----------------+\n",
      "| F(1) | A4(0) | D(1) | E(0) |          0.0000 |\n",
      "+------+-------+------+------+-----------------+\n",
      "| F(1) | A4(0) | D(1) | E(1) |          0.0000 |\n",
      "+------+-------+------+------+-----------------+\n",
      "| F(1) | A4(1) | D(0) | E(0) |          0.5000 |\n",
      "+------+-------+------+------+-----------------+\n",
      "| F(1) | A4(1) | D(0) | E(1) |          0.5000 |\n",
      "+------+-------+------+------+-----------------+\n",
      "| F(1) | A4(1) | D(1) | E(0) |          0.5000 |\n",
      "+------+-------+------+------+-----------------+\n",
      "| F(1) | A4(1) | D(1) | E(1) |          0.5000 |\n",
      "+------+-------+------+------+-----------------+\n",
      "+-------+-----------+\n",
      "| A1    |   phi(A1) |\n",
      "+=======+===========+\n",
      "| A1(0) |    0.9500 |\n",
      "+-------+-----------+\n",
      "| A1(1) |    0.0500 |\n",
      "+-------+-----------+\n",
      "+-------+-----------+\n",
      "| A2    |   phi(A2) |\n",
      "+=======+===========+\n",
      "| A2(0) |    0.9500 |\n",
      "+-------+-----------+\n",
      "| A2(1) |    0.0500 |\n",
      "+-------+-----------+\n",
      "+-------+-----------+\n",
      "| A3    |   phi(A3) |\n",
      "+=======+===========+\n",
      "| A3(0) |    0.9500 |\n",
      "+-------+-----------+\n",
      "| A3(1) |    0.0500 |\n",
      "+-------+-----------+\n",
      "+-------+-----------+\n",
      "| A4    |   phi(A4) |\n",
      "+=======+===========+\n",
      "| A4(0) |    0.9500 |\n",
      "+-------+-----------+\n",
      "| A4(1) |    0.0500 |\n",
      "+-------+-----------+\n"
     ]
    }
   ],
   "source": [
    "markovmodel = model.to_markov_model()\n",
    "factors = markovmodel.get_factors()\n",
    "for factor in factors:\n",
    "    print(factor)"
   ]
  },
  {
   "cell_type": "code",
   "execution_count": 7,
   "id": "9eb7ef4cfbd11bcf",
   "metadata": {
    "collapsed": false,
    "ExecuteTime": {
     "end_time": "2024-03-05T01:22:59.953081Z",
     "start_time": "2024-03-05T01:22:59.944827Z"
    }
   },
   "outputs": [
    {
     "data": {
      "text/plain": "True"
     },
     "execution_count": 7,
     "metadata": {},
     "output_type": "execute_result"
    }
   ],
   "source": [
    "markovmodel.check_model()"
   ]
  },
  {
   "cell_type": "code",
   "execution_count": 8,
   "id": "628bfbfb063b0e9f",
   "metadata": {
    "collapsed": false,
    "ExecuteTime": {
     "end_time": "2024-03-05T01:23:06.834218Z",
     "start_time": "2024-03-05T01:23:06.827795Z"
    }
   },
   "outputs": [
    {
     "data": {
      "text/plain": "1.0000000000000002"
     },
     "execution_count": 8,
     "metadata": {},
     "output_type": "execute_result"
    }
   ],
   "source": [
    "markovmodel.get_partition_function()"
   ]
  },
  {
   "cell_type": "code",
   "execution_count": 9,
   "id": "59cec277a70b7454",
   "metadata": {
    "collapsed": false,
    "ExecuteTime": {
     "end_time": "2024-03-05T01:23:21.636258Z",
     "start_time": "2024-03-05T01:23:21.631777Z"
    }
   },
   "outputs": [
    {
     "name": "stdout",
     "output_type": "stream",
     "text": [
      "['X', 'Z', 'D', 'Y', 'A1', 'A2', 'E', 'A3', 'F', 'A4', 'phi_X', 'phi_Y', 'phi_Z_A1_X_Y', 'phi_D_A2_X_Z', 'phi_E_A3_Y_Z', 'phi_F_A4_D_E', 'phi_A1', 'phi_A2', 'phi_A3', 'phi_A4']\n",
      "[('X', 'phi_X'), ('X', 'phi_Z_A1_X_Y'), ('X', 'phi_D_A2_X_Z'), ('Z', 'phi_Z_A1_X_Y'), ('Z', 'phi_D_A2_X_Z'), ('Z', 'phi_E_A3_Y_Z'), ('D', 'phi_D_A2_X_Z'), ('D', 'phi_F_A4_D_E'), ('Y', 'phi_Y'), ('Y', 'phi_Z_A1_X_Y'), ('Y', 'phi_E_A3_Y_Z'), ('A1', 'phi_Z_A1_X_Y'), ('A1', 'phi_A1'), ('A2', 'phi_D_A2_X_Z'), ('A2', 'phi_A2'), ('E', 'phi_E_A3_Y_Z'), ('E', 'phi_F_A4_D_E'), ('A3', 'phi_E_A3_Y_Z'), ('A3', 'phi_A3'), ('F', 'phi_F_A4_D_E'), ('A4', 'phi_F_A4_D_E'), ('A4', 'phi_A4')]\n"
     ]
    }
   ],
   "source": [
    "factor_graph = markovmodel.to_factor_graph()\n",
    "print(factor_graph.nodes)\n",
    "print(factor_graph.edges)"
   ]
  },
  {
   "cell_type": "code",
   "execution_count": 10,
   "id": "d17b24d4c315bbba",
   "metadata": {
    "collapsed": false,
    "ExecuteTime": {
     "end_time": "2024-03-05T01:23:39.803219Z",
     "start_time": "2024-03-05T01:23:38.847006Z"
    }
   },
   "outputs": [],
   "source": [
    "from util.graphics import gviz\n",
    "gviz(factor_graph.nodes, factor_graph.edges, \"factor_graph\")"
   ]
  },
  {
   "cell_type": "markdown",
   "id": "51211cca39b5dfc7",
   "metadata": {
    "collapsed": false
   },
   "source": [
    "![Factor graph for the circuit Markov Network](factor_graph.png)"
   ]
  },
  {
   "cell_type": "markdown",
   "id": "5ef33f6e7828c3aa",
   "metadata": {
    "collapsed": false
   },
   "source": [
    "#### Get the minimal d-separator set \n",
    "The following returns the minimal d-separator set between the node \"\"E\" and the node \"X\" in the directed acyclic graph G for the circuit model."
   ]
  },
  {
   "cell_type": "code",
   "execution_count": 11,
   "id": "70c766fddfe5d5fe",
   "metadata": {
    "collapsed": false,
    "ExecuteTime": {
     "end_time": "2024-03-05T01:24:04.953745Z",
     "start_time": "2024-03-05T01:24:04.944481Z"
    }
   },
   "outputs": [
    {
     "data": {
      "text/plain": "{'Y', 'Z'}"
     },
     "execution_count": 11,
     "metadata": {},
     "output_type": "execute_result"
    }
   ],
   "source": [
    "G.minimal_dseparator(\"E\", \"X\")"
   ]
  },
  {
   "cell_type": "markdown",
   "id": "8c4e11d1169e2b29",
   "metadata": {
    "collapsed": false
   },
   "source": [
    "### Get all d-separations in the DAG\n",
    "The following code gets all the d-separations in the directed acyclic graph for the BN circuit example and write them in a text file."
   ]
  },
  {
   "cell_type": "code",
   "execution_count": 12,
   "id": "332e8006e63d2569",
   "metadata": {
    "collapsed": false,
    "ExecuteTime": {
     "end_time": "2024-03-05T01:24:11.775946Z",
     "start_time": "2024-03-05T01:24:11.673544Z"
    }
   },
   "outputs": [
    {
     "name": "stdout",
     "output_type": "stream",
     "text": [
      "finding all d-separations in the circuit DAG\n",
      "wrote all d-separations for the circuit DAG into file [circuit_dag_d-separations.txt]\n"
     ]
    }
   ],
   "source": [
    "print(f\"finding all d-separations in the circuit DAG\")\n",
    "with open(\"circuit_dag_d-separations.txt\", \"w\") as f:\n",
    "    with redirect_stdout(f):\n",
    "        print(G.get_independencies())\n",
    "f.close()\n",
    "print(\n",
    "    f\"wrote all d-separations for the circuit DAG into file [circuit_dag_d-separations.txt]\"\n",
    ")"
   ]
  },
  {
   "cell_type": "markdown",
   "id": "8cbbd21f0015c59e",
   "metadata": {
    "collapsed": false
   },
   "source": [
    "### Get all conditional independencies \n",
    "The following code gets all the conditional independencies in the circuit BN model and write them to a text file."
   ]
  },
  {
   "cell_type": "code",
   "execution_count": 13,
   "id": "4cc780432c66be74",
   "metadata": {
    "collapsed": false,
    "ExecuteTime": {
     "end_time": "2024-03-05T01:24:17.960823Z",
     "start_time": "2024-03-05T01:24:17.855627Z"
    }
   },
   "outputs": [
    {
     "name": "stdout",
     "output_type": "stream",
     "text": [
      "finding all independencies in the circuit BN\n",
      "wrote all independencies for the circuit BN model into file [circuit_bn_independencies.txt]\n"
     ]
    }
   ],
   "source": [
    "print(f\"finding all independencies in the circuit BN\")\n",
    "with open(\"circuit_bn_independencies.txt\", \"w\") as f:\n",
    "    with redirect_stdout(f):\n",
    "        print(model.get_independencies())\n",
    "f.close()\n",
    "print(\n",
    "    f\"wrote all independencies for the circuit BN model into file [circuit_bn_independencies.txt]\"\n",
    ")"
   ]
  },
  {
   "cell_type": "code",
   "execution_count": 14,
   "id": "a432b9f9f6361e9d",
   "metadata": {
    "collapsed": false,
    "ExecuteTime": {
     "end_time": "2024-03-05T01:24:31.202353Z",
     "start_time": "2024-03-05T01:24:31.197202Z"
    }
   },
   "outputs": [
    {
     "data": {
      "text/plain": "(X ⟂ A4, E, A3, F | D, Z, A2, A1, Y)\n(Z ⟂ A4, F | D, A2, A1, A3, X, Y, E)\n(D ⟂ Y, A1, A3 | A4, Z, A2, X, E, F)\n(Y ⟂ D, A4, A2, F | Z, A1, A3, X, E)\n(A1 ⟂ D, A4, A2, A3, E, F | Y, Z, X)\n(A2 ⟂ A4, A1, A3, Y, E, F | D, Z, X)\n(E ⟂ A2, A1, X | D, A4, Z, A3, Y, F)\n(A3 ⟂ D, A4, A2, A1, X, F | Y, Z, E)\n(F ⟂ Z, A2, A1, A3, X, Y | D, A4, E)\n(A4 ⟂ Z, A2, A1, A3, X, Y | D, E, F)"
     },
     "execution_count": 14,
     "metadata": {},
     "output_type": "execute_result"
    }
   ],
   "source": [
    "markovmodel.get_local_independencies()"
   ]
  },
  {
   "cell_type": "code",
   "execution_count": 15,
   "id": "c2f49c6dcb1c6630",
   "metadata": {
    "collapsed": false,
    "ExecuteTime": {
     "end_time": "2024-03-05T01:24:55.015959Z",
     "start_time": "2024-03-05T01:24:55.009208Z"
    }
   },
   "outputs": [
    {
     "name": "stdout",
     "output_type": "stream",
     "text": [
      "pgmpy version: 0.1.23\n",
      "networkx version: 2.5.1\n"
     ]
    }
   ],
   "source": [
    "import pgmpy\n",
    "import networkx as nx\n",
    "\n",
    "print(f\"pgmpy version: {pgmpy.__version__}\")\n",
    "print(f\"networkx version: {nx.__version__}\")\n"
   ]
  },
  {
   "cell_type": "code",
   "execution_count": 16,
   "id": "7c140aff0ec5ae06",
   "metadata": {
    "collapsed": false,
    "ExecuteTime": {
     "end_time": "2024-03-05T01:26:04.514237Z",
     "start_time": "2024-03-05T01:26:04.511234Z"
    }
   },
   "outputs": [
    {
     "name": "stdout",
     "output_type": "stream",
     "text": [
      "/Users/yousrielfattah/anaconda3/bin/python\n"
     ]
    }
   ],
   "source": [
    "import sys\n",
    "\n",
    "print(sys.executable)"
   ]
  },
  {
   "cell_type": "code",
   "execution_count": 17,
   "id": "f9507f0a64375357",
   "metadata": {
    "collapsed": false,
    "scrolled": true,
    "ExecuteTime": {
     "end_time": "2024-03-05T01:26:11.066227Z",
     "start_time": "2024-03-05T01:26:11.048033Z"
    }
   },
   "outputs": [],
   "source": [
    "markovmodel = model.to_markov_model()\n",
    "JT = markovmodel.to_junction_tree()"
   ]
  },
  {
   "cell_type": "code",
   "execution_count": 18,
   "id": "692556fa7a9bb188",
   "metadata": {
    "collapsed": false,
    "ExecuteTime": {
     "end_time": "2024-03-05T01:26:20.971112Z",
     "start_time": "2024-03-05T01:26:20.967674Z"
    }
   },
   "outputs": [
    {
     "name": "stdout",
     "output_type": "stream",
     "text": [
      "[<DiscreteFactor representing phi(D:2, A4:2, Z:2, X:2, A2:2, E:2, F:2) at 0x1b45102b0>, <DiscreteFactor representing phi(Z:2, A2:2, A1:2, A3:2, X:2, Y:2, E:2, F:2) at 0x1b4512d40>]\n"
     ]
    }
   ],
   "source": [
    "print(JT.factors)"
   ]
  },
  {
   "cell_type": "code",
   "execution_count": 19,
   "id": "ae1dbff9c11bd791",
   "metadata": {
    "collapsed": false,
    "ExecuteTime": {
     "end_time": "2024-03-05T01:30:32.420342Z",
     "start_time": "2024-03-05T01:30:32.415600Z"
    }
   },
   "outputs": [
    {
     "name": "stdout",
     "output_type": "stream",
     "text": [
      "[('Z', 'A2', 'X', 'E', 'F', 'D', 'A4'), ('Z', 'A2', 'X', 'E', 'F', 'A1', 'Y', 'A3')]\n"
     ]
    }
   ],
   "source": [
    "print(JT.nodes)"
   ]
  },
  {
   "cell_type": "code",
   "outputs": [
    {
     "ename": "TypeError",
     "evalue": "unhashable type: 'list'",
     "output_type": "error",
     "traceback": [
      "\u001B[0;31m---------------------------------------------------------------------------\u001B[0m",
      "\u001B[0;31mTypeError\u001B[0m                                 Traceback (most recent call last)",
      "Cell \u001B[0;32mIn[36], line 1\u001B[0m\n\u001B[0;32m----> 1\u001B[0m \u001B[43mG\u001B[49m\u001B[38;5;241;43m.\u001B[39;49m\u001B[43mis_dconnected\u001B[49m\u001B[43m(\u001B[49m\u001B[43m[\u001B[49m\u001B[38;5;124;43m'\u001B[39;49m\u001B[38;5;124;43mD\u001B[39;49m\u001B[38;5;124;43m'\u001B[39;49m\u001B[43m,\u001B[49m\u001B[43m \u001B[49m\u001B[38;5;124;43m'\u001B[39;49m\u001B[38;5;124;43mA4\u001B[39;49m\u001B[38;5;124;43m'\u001B[39;49m\u001B[43m]\u001B[49m\u001B[43m,\u001B[49m\u001B[43m \u001B[49m\u001B[43m[\u001B[49m\u001B[38;5;124;43m'\u001B[39;49m\u001B[38;5;124;43mA1\u001B[39;49m\u001B[38;5;124;43m'\u001B[39;49m\u001B[43m,\u001B[49m\u001B[43m \u001B[49m\u001B[38;5;124;43m'\u001B[39;49m\u001B[38;5;124;43mY\u001B[39;49m\u001B[38;5;124;43m'\u001B[39;49m\u001B[43m,\u001B[49m\u001B[43m \u001B[49m\u001B[38;5;124;43m'\u001B[39;49m\u001B[38;5;124;43mA3\u001B[39;49m\u001B[38;5;124;43m'\u001B[39;49m\u001B[43m]\u001B[49m\u001B[43m,\u001B[49m\u001B[43m \u001B[49m\u001B[43m[\u001B[49m\u001B[38;5;124;43m'\u001B[39;49m\u001B[38;5;124;43mZ\u001B[39;49m\u001B[38;5;124;43m'\u001B[39;49m\u001B[43m,\u001B[49m\u001B[43m \u001B[49m\u001B[38;5;124;43m'\u001B[39;49m\u001B[38;5;124;43mA2\u001B[39;49m\u001B[38;5;124;43m'\u001B[39;49m\u001B[43m,\u001B[49m\u001B[43m \u001B[49m\u001B[38;5;124;43m'\u001B[39;49m\u001B[38;5;124;43mX\u001B[39;49m\u001B[38;5;124;43m'\u001B[39;49m\u001B[43m,\u001B[49m\u001B[43m \u001B[49m\u001B[38;5;124;43m'\u001B[39;49m\u001B[38;5;124;43mE\u001B[39;49m\u001B[38;5;124;43m'\u001B[39;49m\u001B[43m,\u001B[49m\u001B[43m \u001B[49m\u001B[38;5;124;43m'\u001B[39;49m\u001B[38;5;124;43mF\u001B[39;49m\u001B[38;5;124;43m'\u001B[39;49m\u001B[43m]\u001B[49m\u001B[43m)\u001B[49m\n",
      "File \u001B[0;32m~/anaconda3/lib/python3.10/site-packages/pgmpy/base/DAG.py:582\u001B[0m, in \u001B[0;36mDAG.is_dconnected\u001B[0;34m(self, start, end, observed)\u001B[0m\n\u001B[1;32m    556\u001B[0m \u001B[38;5;28;01mdef\u001B[39;00m \u001B[38;5;21mis_dconnected\u001B[39m(\u001B[38;5;28mself\u001B[39m, start, end, observed\u001B[38;5;241m=\u001B[39m\u001B[38;5;28;01mNone\u001B[39;00m):\n\u001B[1;32m    557\u001B[0m \u001B[38;5;250m    \u001B[39m\u001B[38;5;124;03m\"\"\"\u001B[39;00m\n\u001B[1;32m    558\u001B[0m \u001B[38;5;124;03m    Returns True if there is an active trail (i.e. d-connection) between\u001B[39;00m\n\u001B[1;32m    559\u001B[0m \u001B[38;5;124;03m    `start` and `end` node given that `observed` is observed.\u001B[39;00m\n\u001B[0;32m   (...)\u001B[0m\n\u001B[1;32m    580\u001B[0m \u001B[38;5;124;03m    True\u001B[39;00m\n\u001B[1;32m    581\u001B[0m \u001B[38;5;124;03m    \"\"\"\u001B[39;00m\n\u001B[0;32m--> 582\u001B[0m     \u001B[38;5;28;01mif\u001B[39;00m end \u001B[38;5;129;01min\u001B[39;00m \u001B[38;5;28;43mself\u001B[39;49m\u001B[38;5;241;43m.\u001B[39;49m\u001B[43mactive_trail_nodes\u001B[49m\u001B[43m(\u001B[49m\u001B[43mstart\u001B[49m\u001B[43m,\u001B[49m\u001B[43m \u001B[49m\u001B[43mobserved\u001B[49m\u001B[43m)\u001B[49m\u001B[43m[\u001B[49m\u001B[43mstart\u001B[49m\u001B[43m]\u001B[49m:\n\u001B[1;32m    583\u001B[0m         \u001B[38;5;28;01mreturn\u001B[39;00m \u001B[38;5;28;01mTrue\u001B[39;00m\n\u001B[1;32m    584\u001B[0m     \u001B[38;5;28;01melse\u001B[39;00m:\n",
      "\u001B[0;31mTypeError\u001B[0m: unhashable type: 'list'"
     ]
    }
   ],
   "source": [
    "G.is_dconnected(['D', 'A4'], ['A1', 'Y', 'A3'], ['Z', 'A2', 'X', 'E', 'F'])"
   ],
   "metadata": {
    "collapsed": false,
    "ExecuteTime": {
     "end_time": "2024-03-05T05:06:59.112329Z",
     "start_time": "2024-03-05T05:06:58.986285Z"
    }
   },
   "id": "d69729c063191e77",
   "execution_count": 36
  },
  {
   "cell_type": "code",
   "execution_count": 21,
   "id": "d2a951ae9fc6d7fe",
   "metadata": {
    "collapsed": false,
    "ExecuteTime": {
     "end_time": "2024-03-05T01:33:57.590878Z",
     "start_time": "2024-03-05T01:33:57.586961Z"
    }
   },
   "outputs": [],
   "source": [
    "circuit_JT = JunctionTree()\n",
    "circuit_JT.add_nodes_from([('Z', 'X', 'Y', 'A1'), ('Z', 'X', 'Y', 'E'), ('Z', 'A3', 'Y', 'E'), ('Z', 'X', 'D', 'E'), ('Z', 'X', 'A2', 'D'), ('A4', 'E', 'D', 'F')])\n",
    "circuit_JT.add_edges_from([(('Z', 'X', 'Y', 'A1'), ('Z', 'X', 'Y', 'E')),(('Z', 'X', 'Y', 'E'), ('Z', 'A3', 'Y', 'E')),(('Z', 'X', 'Y', 'E'),('Z', 'X', 'D', 'E')),(('Z', 'X', 'D', 'E'),('Z', 'X', 'A2', 'D')),(('Z', 'X', 'D', 'E'),('A4', 'E', 'D', 'F'))])\n",
    "\n",
    "# circuit_JT.check_model()"
   ]
  },
  {
   "cell_type": "code",
   "execution_count": 22,
   "id": "966373ab468b97c8",
   "metadata": {
    "collapsed": false,
    "ExecuteTime": {
     "end_time": "2024-03-05T01:34:29.015508Z",
     "start_time": "2024-03-05T01:34:29.002622Z"
    }
   },
   "outputs": [
    {
     "name": "stdout",
     "output_type": "stream",
     "text": [
      "phi_A1: +-------+-----------+\n",
      "| A1    |   phi(A1) |\n",
      "+=======+===========+\n",
      "| A1(0) |    0.9500 |\n",
      "+-------+-----------+\n",
      "| A1(1) |    0.0500 |\n",
      "+-------+-----------+\n",
      "phi_A2: +-------+-----------+\n",
      "| A2    |   phi(A2) |\n",
      "+=======+===========+\n",
      "| A2(0) |    0.9500 |\n",
      "+-------+-----------+\n",
      "| A2(1) |    0.0500 |\n",
      "+-------+-----------+\n",
      "phi_A3: +-------+-----------+\n",
      "| A3    |   phi(A3) |\n",
      "+=======+===========+\n",
      "| A3(0) |    0.9500 |\n",
      "+-------+-----------+\n",
      "| A3(1) |    0.0500 |\n",
      "+-------+-----------+\n",
      "phi_A4: +-------+-----------+\n",
      "| A4    |   phi(A4) |\n",
      "+=======+===========+\n",
      "| A4(0) |    0.9500 |\n",
      "+-------+-----------+\n",
      "| A4(1) |    0.0500 |\n",
      "+-------+-----------+\n",
      "phi_X: +------+----------+\n",
      "| X    |   phi(X) |\n",
      "+======+==========+\n",
      "| X(0) |   0.5000 |\n",
      "+------+----------+\n",
      "| X(1) |   0.5000 |\n",
      "+------+----------+\n",
      "phi_Y: +------+----------+\n",
      "| Y    |   phi(Y) |\n",
      "+======+==========+\n",
      "| Y(0) |   0.5000 |\n",
      "+------+----------+\n",
      "| Y(1) |   0.5000 |\n",
      "+------+----------+\n",
      "phi_Z: +------+-------+------+------+-----------------+\n",
      "| Z    | A1    | X    | Y    |   phi(Z,A1,X,Y) |\n",
      "+======+=======+======+======+=================+\n",
      "| Z(0) | A1(0) | X(0) | Y(0) |          0.0000 |\n",
      "+------+-------+------+------+-----------------+\n",
      "| Z(0) | A1(0) | X(0) | Y(1) |          1.0000 |\n",
      "+------+-------+------+------+-----------------+\n",
      "| Z(0) | A1(0) | X(1) | Y(0) |          1.0000 |\n",
      "+------+-------+------+------+-----------------+\n",
      "| Z(0) | A1(0) | X(1) | Y(1) |          1.0000 |\n",
      "+------+-------+------+------+-----------------+\n",
      "| Z(0) | A1(1) | X(0) | Y(0) |          0.5000 |\n",
      "+------+-------+------+------+-----------------+\n",
      "| Z(0) | A1(1) | X(0) | Y(1) |          0.5000 |\n",
      "+------+-------+------+------+-----------------+\n",
      "| Z(0) | A1(1) | X(1) | Y(0) |          0.5000 |\n",
      "+------+-------+------+------+-----------------+\n",
      "| Z(0) | A1(1) | X(1) | Y(1) |          0.5000 |\n",
      "+------+-------+------+------+-----------------+\n",
      "| Z(1) | A1(0) | X(0) | Y(0) |          1.0000 |\n",
      "+------+-------+------+------+-----------------+\n",
      "| Z(1) | A1(0) | X(0) | Y(1) |          0.0000 |\n",
      "+------+-------+------+------+-----------------+\n",
      "| Z(1) | A1(0) | X(1) | Y(0) |          0.0000 |\n",
      "+------+-------+------+------+-----------------+\n",
      "| Z(1) | A1(0) | X(1) | Y(1) |          0.0000 |\n",
      "+------+-------+------+------+-----------------+\n",
      "| Z(1) | A1(1) | X(0) | Y(0) |          0.5000 |\n",
      "+------+-------+------+------+-----------------+\n",
      "| Z(1) | A1(1) | X(0) | Y(1) |          0.5000 |\n",
      "+------+-------+------+------+-----------------+\n",
      "| Z(1) | A1(1) | X(1) | Y(0) |          0.5000 |\n",
      "+------+-------+------+------+-----------------+\n",
      "| Z(1) | A1(1) | X(1) | Y(1) |          0.5000 |\n",
      "+------+-------+------+------+-----------------+\n",
      "phi_D: +------+-------+------+------+-----------------+\n",
      "| D    | A2    | X    | Z    |   phi(D,A2,X,Z) |\n",
      "+======+=======+======+======+=================+\n",
      "| D(0) | A2(0) | X(0) | Z(0) |          0.0000 |\n",
      "+------+-------+------+------+-----------------+\n",
      "| D(0) | A2(0) | X(0) | Z(1) |          1.0000 |\n",
      "+------+-------+------+------+-----------------+\n",
      "| D(0) | A2(0) | X(1) | Z(0) |          1.0000 |\n",
      "+------+-------+------+------+-----------------+\n",
      "| D(0) | A2(0) | X(1) | Z(1) |          1.0000 |\n",
      "+------+-------+------+------+-----------------+\n",
      "| D(0) | A2(1) | X(0) | Z(0) |          0.5000 |\n",
      "+------+-------+------+------+-----------------+\n",
      "| D(0) | A2(1) | X(0) | Z(1) |          0.5000 |\n",
      "+------+-------+------+------+-----------------+\n",
      "| D(0) | A2(1) | X(1) | Z(0) |          0.5000 |\n",
      "+------+-------+------+------+-----------------+\n",
      "| D(0) | A2(1) | X(1) | Z(1) |          0.5000 |\n",
      "+------+-------+------+------+-----------------+\n",
      "| D(1) | A2(0) | X(0) | Z(0) |          1.0000 |\n",
      "+------+-------+------+------+-----------------+\n",
      "| D(1) | A2(0) | X(0) | Z(1) |          0.0000 |\n",
      "+------+-------+------+------+-----------------+\n",
      "| D(1) | A2(0) | X(1) | Z(0) |          0.0000 |\n",
      "+------+-------+------+------+-----------------+\n",
      "| D(1) | A2(0) | X(1) | Z(1) |          0.0000 |\n",
      "+------+-------+------+------+-----------------+\n",
      "| D(1) | A2(1) | X(0) | Z(0) |          0.5000 |\n",
      "+------+-------+------+------+-----------------+\n",
      "| D(1) | A2(1) | X(0) | Z(1) |          0.5000 |\n",
      "+------+-------+------+------+-----------------+\n",
      "| D(1) | A2(1) | X(1) | Z(0) |          0.5000 |\n",
      "+------+-------+------+------+-----------------+\n",
      "| D(1) | A2(1) | X(1) | Z(1) |          0.5000 |\n",
      "+------+-------+------+------+-----------------+\n",
      "phi_E: +------+-------+------+------+-----------------+\n",
      "| E    | A3    | Y    | Z    |   phi(E,A3,Y,Z) |\n",
      "+======+=======+======+======+=================+\n",
      "| E(0) | A3(0) | Y(0) | Z(0) |          0.0000 |\n",
      "+------+-------+------+------+-----------------+\n",
      "| E(0) | A3(0) | Y(0) | Z(1) |          1.0000 |\n",
      "+------+-------+------+------+-----------------+\n",
      "| E(0) | A3(0) | Y(1) | Z(0) |          1.0000 |\n",
      "+------+-------+------+------+-----------------+\n",
      "| E(0) | A3(0) | Y(1) | Z(1) |          1.0000 |\n",
      "+------+-------+------+------+-----------------+\n",
      "| E(0) | A3(1) | Y(0) | Z(0) |          0.5000 |\n",
      "+------+-------+------+------+-----------------+\n",
      "| E(0) | A3(1) | Y(0) | Z(1) |          0.5000 |\n",
      "+------+-------+------+------+-----------------+\n",
      "| E(0) | A3(1) | Y(1) | Z(0) |          0.5000 |\n",
      "+------+-------+------+------+-----------------+\n",
      "| E(0) | A3(1) | Y(1) | Z(1) |          0.5000 |\n",
      "+------+-------+------+------+-----------------+\n",
      "| E(1) | A3(0) | Y(0) | Z(0) |          1.0000 |\n",
      "+------+-------+------+------+-----------------+\n",
      "| E(1) | A3(0) | Y(0) | Z(1) |          0.0000 |\n",
      "+------+-------+------+------+-----------------+\n",
      "| E(1) | A3(0) | Y(1) | Z(0) |          0.0000 |\n",
      "+------+-------+------+------+-----------------+\n",
      "| E(1) | A3(0) | Y(1) | Z(1) |          0.0000 |\n",
      "+------+-------+------+------+-----------------+\n",
      "| E(1) | A3(1) | Y(0) | Z(0) |          0.5000 |\n",
      "+------+-------+------+------+-----------------+\n",
      "| E(1) | A3(1) | Y(0) | Z(1) |          0.5000 |\n",
      "+------+-------+------+------+-----------------+\n",
      "| E(1) | A3(1) | Y(1) | Z(0) |          0.5000 |\n",
      "+------+-------+------+------+-----------------+\n",
      "| E(1) | A3(1) | Y(1) | Z(1) |          0.5000 |\n",
      "+------+-------+------+------+-----------------+\n",
      "phi_F: +------+-------+------+------+-----------------+\n",
      "| F    | A4    | D    | E    |   phi(F,A4,D,E) |\n",
      "+======+=======+======+======+=================+\n",
      "| F(0) | A4(0) | D(0) | E(0) |          0.0000 |\n",
      "+------+-------+------+------+-----------------+\n",
      "| F(0) | A4(0) | D(0) | E(1) |          1.0000 |\n",
      "+------+-------+------+------+-----------------+\n",
      "| F(0) | A4(0) | D(1) | E(0) |          1.0000 |\n",
      "+------+-------+------+------+-----------------+\n",
      "| F(0) | A4(0) | D(1) | E(1) |          1.0000 |\n",
      "+------+-------+------+------+-----------------+\n",
      "| F(0) | A4(1) | D(0) | E(0) |          0.5000 |\n",
      "+------+-------+------+------+-----------------+\n",
      "| F(0) | A4(1) | D(0) | E(1) |          0.5000 |\n",
      "+------+-------+------+------+-----------------+\n",
      "| F(0) | A4(1) | D(1) | E(0) |          0.5000 |\n",
      "+------+-------+------+------+-----------------+\n",
      "| F(0) | A4(1) | D(1) | E(1) |          0.5000 |\n",
      "+------+-------+------+------+-----------------+\n",
      "| F(1) | A4(0) | D(0) | E(0) |          1.0000 |\n",
      "+------+-------+------+------+-----------------+\n",
      "| F(1) | A4(0) | D(0) | E(1) |          0.0000 |\n",
      "+------+-------+------+------+-----------------+\n",
      "| F(1) | A4(0) | D(1) | E(0) |          0.0000 |\n",
      "+------+-------+------+------+-----------------+\n",
      "| F(1) | A4(0) | D(1) | E(1) |          0.0000 |\n",
      "+------+-------+------+------+-----------------+\n",
      "| F(1) | A4(1) | D(0) | E(0) |          0.5000 |\n",
      "+------+-------+------+------+-----------------+\n",
      "| F(1) | A4(1) | D(0) | E(1) |          0.5000 |\n",
      "+------+-------+------+------+-----------------+\n",
      "| F(1) | A4(1) | D(1) | E(0) |          0.5000 |\n",
      "+------+-------+------+------+-----------------+\n",
      "| F(1) | A4(1) | D(1) | E(1) |          0.5000 |\n",
      "+------+-------+------+------+-----------------+\n"
     ]
    }
   ],
   "source": [
    "phi_A1 = cpd_A1.to_factor()\n",
    "phi_A2 = cpd_A2.to_factor()\n",
    "phi_A3 = cpd_A3.to_factor()\n",
    "phi_A4 = cpd_A4.to_factor()\n",
    "phi_X = cpd_X.to_factor()\n",
    "phi_Y = cpd_Y.to_factor()\n",
    "phi_Z = cpd_Z.to_factor()\n",
    "phi_D = cpd_D.to_factor()\n",
    "phi_E = cpd_E.to_factor()\n",
    "phi_F = cpd_F.to_factor()\n",
    "\n",
    "# print all the variables before performing the product operation\n",
    "print(f\"phi_A1: {phi_A1}\")\n",
    "print(f\"phi_A2: {phi_A2}\")\n",
    "print(f\"phi_A3: {phi_A3}\")\n",
    "print(f\"phi_A4: {phi_A4}\")\n",
    "print(f\"phi_X: {phi_X}\")\n",
    "print(f\"phi_Y: {phi_Y}\")\n",
    "print(f\"phi_Z: {phi_Z}\")\n",
    "print(f\"phi_D: {phi_D}\")\n",
    "print(f\"phi_E: {phi_E}\")\n",
    "print(f\"phi_F: {phi_F}\")\n",
    "\n"
   ]
  },
  {
   "cell_type": "code",
   "execution_count": 23,
   "id": "85db62ac113d10c5",
   "metadata": {
    "collapsed": false,
    "ExecuteTime": {
     "end_time": "2024-03-05T01:34:54.467144Z",
     "start_time": "2024-03-05T01:34:54.463816Z"
    }
   },
   "outputs": [
    {
     "name": "stdout",
     "output_type": "stream",
     "text": [
      "Before product operation:  +------+----------+\n",
      "| X    |   phi(X) |\n",
      "+======+==========+\n",
      "| X(0) |   0.5000 |\n",
      "+------+----------+\n",
      "| X(1) |   0.5000 |\n",
      "+------+----------+\n",
      "After product operation:  +-------+------+-------------+\n",
      "| A1    | X    |   phi(A1,X) |\n",
      "+=======+======+=============+\n",
      "| A1(0) | X(0) |      0.4750 |\n",
      "+-------+------+-------------+\n",
      "| A1(0) | X(1) |      0.4750 |\n",
      "+-------+------+-------------+\n",
      "| A1(1) | X(0) |      0.0250 |\n",
      "+-------+------+-------------+\n",
      "| A1(1) | X(1) |      0.0250 |\n",
      "+-------+------+-------------+\n"
     ]
    }
   ],
   "source": [
    "print(\"Before product operation: \", phi_X)\n",
    "phi_X.product(phi_A1)  # Performing the product operation\n",
    "print(\"After product operation: \", phi_X)\n"
   ]
  },
  {
   "cell_type": "code",
   "execution_count": 24,
   "id": "95d754a8610622ab",
   "metadata": {
    "collapsed": false,
    "ExecuteTime": {
     "end_time": "2024-03-05T01:34:56.881070Z",
     "start_time": "2024-03-05T01:34:56.878364Z"
    }
   },
   "outputs": [
    {
     "name": "stdout",
     "output_type": "stream",
     "text": [
      "+-------+------+-------------+\n",
      "| A1    | X    |   phi(A1,X) |\n",
      "+=======+======+=============+\n",
      "| A1(0) | X(0) |      0.4750 |\n",
      "+-------+------+-------------+\n",
      "| A1(0) | X(1) |      0.4750 |\n",
      "+-------+------+-------------+\n",
      "| A1(1) | X(0) |      0.0250 |\n",
      "+-------+------+-------------+\n",
      "| A1(1) | X(1) |      0.0250 |\n",
      "+-------+------+-------------+\n"
     ]
    }
   ],
   "source": [
    "print(phi_X)\n"
   ]
  },
  {
   "cell_type": "code",
   "execution_count": 25,
   "id": "b645556f33ef2d7a",
   "metadata": {
    "collapsed": false,
    "ExecuteTime": {
     "end_time": "2024-03-05T01:35:14.777181Z",
     "start_time": "2024-03-05T01:35:14.764906Z"
    }
   },
   "outputs": [
    {
     "name": "stdout",
     "output_type": "stream",
     "text": [
      "+------+-------+------+------+-----------------+\n",
      "| Y    | A1    | Z    | X    |   phi(Y,A1,Z,X) |\n",
      "+======+=======+======+======+=================+\n",
      "| Y(0) | A1(0) | Z(0) | X(0) |          0.0000 |\n",
      "+------+-------+------+------+-----------------+\n",
      "| Y(0) | A1(0) | Z(0) | X(1) |          0.2256 |\n",
      "+------+-------+------+------+-----------------+\n",
      "| Y(0) | A1(0) | Z(1) | X(0) |          0.2256 |\n",
      "+------+-------+------+------+-----------------+\n",
      "| Y(0) | A1(0) | Z(1) | X(1) |          0.0000 |\n",
      "+------+-------+------+------+-----------------+\n",
      "| Y(0) | A1(1) | Z(0) | X(0) |          0.0003 |\n",
      "+------+-------+------+------+-----------------+\n",
      "| Y(0) | A1(1) | Z(0) | X(1) |          0.0003 |\n",
      "+------+-------+------+------+-----------------+\n",
      "| Y(0) | A1(1) | Z(1) | X(0) |          0.0003 |\n",
      "+------+-------+------+------+-----------------+\n",
      "| Y(0) | A1(1) | Z(1) | X(1) |          0.0003 |\n",
      "+------+-------+------+------+-----------------+\n",
      "| Y(1) | A1(0) | Z(0) | X(0) |          0.2256 |\n",
      "+------+-------+------+------+-----------------+\n",
      "| Y(1) | A1(0) | Z(0) | X(1) |          0.2256 |\n",
      "+------+-------+------+------+-----------------+\n",
      "| Y(1) | A1(0) | Z(1) | X(0) |          0.0000 |\n",
      "+------+-------+------+------+-----------------+\n",
      "| Y(1) | A1(0) | Z(1) | X(1) |          0.0000 |\n",
      "+------+-------+------+------+-----------------+\n",
      "| Y(1) | A1(1) | Z(0) | X(0) |          0.0003 |\n",
      "+------+-------+------+------+-----------------+\n",
      "| Y(1) | A1(1) | Z(0) | X(1) |          0.0003 |\n",
      "+------+-------+------+------+-----------------+\n",
      "| Y(1) | A1(1) | Z(1) | X(0) |          0.0003 |\n",
      "+------+-------+------+------+-----------------+\n",
      "| Y(1) | A1(1) | Z(1) | X(1) |          0.0003 |\n",
      "+------+-------+------+------+-----------------+\n",
      "+------+------+------+------+----------------+\n",
      "| Z    | X    | Y    | E    |   phi(Z,X,Y,E) |\n",
      "+======+======+======+======+================+\n",
      "| Z(0) | X(0) | Y(0) | E(0) |         1.0000 |\n",
      "+------+------+------+------+----------------+\n",
      "| Z(0) | X(0) | Y(0) | E(1) |         1.0000 |\n",
      "+------+------+------+------+----------------+\n",
      "| Z(0) | X(0) | Y(1) | E(0) |         1.0000 |\n",
      "+------+------+------+------+----------------+\n",
      "| Z(0) | X(0) | Y(1) | E(1) |         1.0000 |\n",
      "+------+------+------+------+----------------+\n",
      "| Z(0) | X(1) | Y(0) | E(0) |         1.0000 |\n",
      "+------+------+------+------+----------------+\n",
      "| Z(0) | X(1) | Y(0) | E(1) |         1.0000 |\n",
      "+------+------+------+------+----------------+\n",
      "| Z(0) | X(1) | Y(1) | E(0) |         1.0000 |\n",
      "+------+------+------+------+----------------+\n",
      "| Z(0) | X(1) | Y(1) | E(1) |         1.0000 |\n",
      "+------+------+------+------+----------------+\n",
      "| Z(1) | X(0) | Y(0) | E(0) |         1.0000 |\n",
      "+------+------+------+------+----------------+\n",
      "| Z(1) | X(0) | Y(0) | E(1) |         1.0000 |\n",
      "+------+------+------+------+----------------+\n",
      "| Z(1) | X(0) | Y(1) | E(0) |         1.0000 |\n",
      "+------+------+------+------+----------------+\n",
      "| Z(1) | X(0) | Y(1) | E(1) |         1.0000 |\n",
      "+------+------+------+------+----------------+\n",
      "| Z(1) | X(1) | Y(0) | E(0) |         1.0000 |\n",
      "+------+------+------+------+----------------+\n",
      "| Z(1) | X(1) | Y(0) | E(1) |         1.0000 |\n",
      "+------+------+------+------+----------------+\n",
      "| Z(1) | X(1) | Y(1) | E(0) |         1.0000 |\n",
      "+------+------+------+------+----------------+\n",
      "| Z(1) | X(1) | Y(1) | E(1) |         1.0000 |\n",
      "+------+------+------+------+----------------+\n",
      "+------+------+-------+------+-----------------+\n",
      "| Y    | E    | A3    | Z    |   phi(Y,E,A3,Z) |\n",
      "+======+======+=======+======+=================+\n",
      "| Y(0) | E(0) | A3(0) | Z(0) |          0.0000 |\n",
      "+------+------+-------+------+-----------------+\n",
      "| Y(0) | E(0) | A3(0) | Z(1) |          0.9500 |\n",
      "+------+------+-------+------+-----------------+\n",
      "| Y(0) | E(0) | A3(1) | Z(0) |          0.0250 |\n",
      "+------+------+-------+------+-----------------+\n",
      "| Y(0) | E(0) | A3(1) | Z(1) |          0.0250 |\n",
      "+------+------+-------+------+-----------------+\n",
      "| Y(0) | E(1) | A3(0) | Z(0) |          0.9500 |\n",
      "+------+------+-------+------+-----------------+\n",
      "| Y(0) | E(1) | A3(0) | Z(1) |          0.0000 |\n",
      "+------+------+-------+------+-----------------+\n",
      "| Y(0) | E(1) | A3(1) | Z(0) |          0.0250 |\n",
      "+------+------+-------+------+-----------------+\n",
      "| Y(0) | E(1) | A3(1) | Z(1) |          0.0250 |\n",
      "+------+------+-------+------+-----------------+\n",
      "| Y(1) | E(0) | A3(0) | Z(0) |          0.9500 |\n",
      "+------+------+-------+------+-----------------+\n",
      "| Y(1) | E(0) | A3(0) | Z(1) |          0.9500 |\n",
      "+------+------+-------+------+-----------------+\n",
      "| Y(1) | E(0) | A3(1) | Z(0) |          0.0250 |\n",
      "+------+------+-------+------+-----------------+\n",
      "| Y(1) | E(0) | A3(1) | Z(1) |          0.0250 |\n",
      "+------+------+-------+------+-----------------+\n",
      "| Y(1) | E(1) | A3(0) | Z(0) |          0.0000 |\n",
      "+------+------+-------+------+-----------------+\n",
      "| Y(1) | E(1) | A3(0) | Z(1) |          0.0000 |\n",
      "+------+------+-------+------+-----------------+\n",
      "| Y(1) | E(1) | A3(1) | Z(0) |          0.0250 |\n",
      "+------+------+-------+------+-----------------+\n",
      "| Y(1) | E(1) | A3(1) | Z(1) |          0.0250 |\n",
      "+------+------+-------+------+-----------------+\n",
      "+------+------+------+------+----------------+\n",
      "| Z    | X    | D    | E    |   phi(Z,X,D,E) |\n",
      "+======+======+======+======+================+\n",
      "| Z(0) | X(0) | D(0) | E(0) |         1.0000 |\n",
      "+------+------+------+------+----------------+\n",
      "| Z(0) | X(0) | D(0) | E(1) |         1.0000 |\n",
      "+------+------+------+------+----------------+\n",
      "| Z(0) | X(0) | D(1) | E(0) |         1.0000 |\n",
      "+------+------+------+------+----------------+\n",
      "| Z(0) | X(0) | D(1) | E(1) |         1.0000 |\n",
      "+------+------+------+------+----------------+\n",
      "| Z(0) | X(1) | D(0) | E(0) |         1.0000 |\n",
      "+------+------+------+------+----------------+\n",
      "| Z(0) | X(1) | D(0) | E(1) |         1.0000 |\n",
      "+------+------+------+------+----------------+\n",
      "| Z(0) | X(1) | D(1) | E(0) |         1.0000 |\n",
      "+------+------+------+------+----------------+\n",
      "| Z(0) | X(1) | D(1) | E(1) |         1.0000 |\n",
      "+------+------+------+------+----------------+\n",
      "| Z(1) | X(0) | D(0) | E(0) |         1.0000 |\n",
      "+------+------+------+------+----------------+\n",
      "| Z(1) | X(0) | D(0) | E(1) |         1.0000 |\n",
      "+------+------+------+------+----------------+\n",
      "| Z(1) | X(0) | D(1) | E(0) |         1.0000 |\n",
      "+------+------+------+------+----------------+\n",
      "| Z(1) | X(0) | D(1) | E(1) |         1.0000 |\n",
      "+------+------+------+------+----------------+\n",
      "| Z(1) | X(1) | D(0) | E(0) |         1.0000 |\n",
      "+------+------+------+------+----------------+\n",
      "| Z(1) | X(1) | D(0) | E(1) |         1.0000 |\n",
      "+------+------+------+------+----------------+\n",
      "| Z(1) | X(1) | D(1) | E(0) |         1.0000 |\n",
      "+------+------+------+------+----------------+\n",
      "| Z(1) | X(1) | D(1) | E(1) |         1.0000 |\n",
      "+------+------+------+------+----------------+\n",
      "+------+-------+------+------+-----------------+\n",
      "| D    | A2    | Z    | X    |   phi(D,A2,Z,X) |\n",
      "+======+=======+======+======+=================+\n",
      "| D(0) | A2(0) | Z(0) | X(0) |          0.0000 |\n",
      "+------+-------+------+------+-----------------+\n",
      "| D(0) | A2(0) | Z(0) | X(1) |          0.9500 |\n",
      "+------+-------+------+------+-----------------+\n",
      "| D(0) | A2(0) | Z(1) | X(0) |          0.9500 |\n",
      "+------+-------+------+------+-----------------+\n",
      "| D(0) | A2(0) | Z(1) | X(1) |          0.9500 |\n",
      "+------+-------+------+------+-----------------+\n",
      "| D(0) | A2(1) | Z(0) | X(0) |          0.0250 |\n",
      "+------+-------+------+------+-----------------+\n",
      "| D(0) | A2(1) | Z(0) | X(1) |          0.0250 |\n",
      "+------+-------+------+------+-----------------+\n",
      "| D(0) | A2(1) | Z(1) | X(0) |          0.0250 |\n",
      "+------+-------+------+------+-----------------+\n",
      "| D(0) | A2(1) | Z(1) | X(1) |          0.0250 |\n",
      "+------+-------+------+------+-----------------+\n",
      "| D(1) | A2(0) | Z(0) | X(0) |          0.9500 |\n",
      "+------+-------+------+------+-----------------+\n",
      "| D(1) | A2(0) | Z(0) | X(1) |          0.0000 |\n",
      "+------+-------+------+------+-----------------+\n",
      "| D(1) | A2(0) | Z(1) | X(0) |          0.0000 |\n",
      "+------+-------+------+------+-----------------+\n",
      "| D(1) | A2(0) | Z(1) | X(1) |          0.0000 |\n",
      "+------+-------+------+------+-----------------+\n",
      "| D(1) | A2(1) | Z(0) | X(0) |          0.0250 |\n",
      "+------+-------+------+------+-----------------+\n",
      "| D(1) | A2(1) | Z(0) | X(1) |          0.0250 |\n",
      "+------+-------+------+------+-----------------+\n",
      "| D(1) | A2(1) | Z(1) | X(0) |          0.0250 |\n",
      "+------+-------+------+------+-----------------+\n",
      "| D(1) | A2(1) | Z(1) | X(1) |          0.0250 |\n",
      "+------+-------+------+------+-----------------+\n",
      "+------+-------+------+------+-----------------+\n",
      "| D    | A4    | E    | F    |   phi(D,A4,E,F) |\n",
      "+======+=======+======+======+=================+\n",
      "| D(0) | A4(0) | E(0) | F(0) |          0.0000 |\n",
      "+------+-------+------+------+-----------------+\n",
      "| D(0) | A4(0) | E(0) | F(1) |          0.9500 |\n",
      "+------+-------+------+------+-----------------+\n",
      "| D(0) | A4(0) | E(1) | F(0) |          0.9500 |\n",
      "+------+-------+------+------+-----------------+\n",
      "| D(0) | A4(0) | E(1) | F(1) |          0.0000 |\n",
      "+------+-------+------+------+-----------------+\n",
      "| D(0) | A4(1) | E(0) | F(0) |          0.0250 |\n",
      "+------+-------+------+------+-----------------+\n",
      "| D(0) | A4(1) | E(0) | F(1) |          0.0250 |\n",
      "+------+-------+------+------+-----------------+\n",
      "| D(0) | A4(1) | E(1) | F(0) |          0.0250 |\n",
      "+------+-------+------+------+-----------------+\n",
      "| D(0) | A4(1) | E(1) | F(1) |          0.0250 |\n",
      "+------+-------+------+------+-----------------+\n",
      "| D(1) | A4(0) | E(0) | F(0) |          0.9500 |\n",
      "+------+-------+------+------+-----------------+\n",
      "| D(1) | A4(0) | E(0) | F(1) |          0.0000 |\n",
      "+------+-------+------+------+-----------------+\n",
      "| D(1) | A4(0) | E(1) | F(0) |          0.9500 |\n",
      "+------+-------+------+------+-----------------+\n",
      "| D(1) | A4(0) | E(1) | F(1) |          0.0000 |\n",
      "+------+-------+------+------+-----------------+\n",
      "| D(1) | A4(1) | E(0) | F(0) |          0.0250 |\n",
      "+------+-------+------+------+-----------------+\n",
      "| D(1) | A4(1) | E(0) | F(1) |          0.0250 |\n",
      "+------+-------+------+------+-----------------+\n",
      "| D(1) | A4(1) | E(1) | F(0) |          0.0250 |\n",
      "+------+-------+------+------+-----------------+\n",
      "| D(1) | A4(1) | E(1) | F(1) |          0.0250 |\n",
      "+------+-------+------+------+-----------------+\n"
     ]
    }
   ],
   "source": [
    "# [('Z', 'X', 'Y', 'A1'), ('Z', 'X', 'Y', 'E'), ('Z', 'A3', 'Y', 'E'), ('Z', 'X', 'D', 'E'), ('Z', 'X', 'A2', 'D'), ('A4', 'E', 'D', 'F')])\n",
    "import numpy as np\n",
    "# clique C1: ('Z', 'X', 'Y', 'A1')\n",
    "phi_C1 = phi_Z\n",
    "phi_C1.product(phi_X)\n",
    "phi_C1.product(phi_Y)\n",
    "phi_C1.product(phi_A1)\n",
    "print(phi_C1)\n",
    "# clique C2: ('Z', 'X', 'Y', 'E')\n",
    "phi_C2 = DiscreteFactor(['Z', 'X', 'Y', 'E'], [2, 2, 2, 2], np.ones(16) )\n",
    "print(phi_C2)\n",
    "# clique C3: ('Z', 'A3', 'Y', 'E')\n",
    "phi_C3 = phi_E\n",
    "phi_C3.product(phi_A3)\n",
    "print(phi_C3)\n",
    "# clique C4: ('Z', 'X', 'D', 'E')\n",
    "phi_C4 = DiscreteFactor(('Z', 'X', 'D', 'E'), [2, 2, 2, 2], np.ones(16))\n",
    "print(phi_C4)\n",
    "# clique C5: ('Z', 'X', 'A2', 'D')\n",
    "phi_C5 = phi_D\n",
    "phi_C5.product(phi_A2)\n",
    "print(phi_C5)\n",
    "# clique C6: ('A4', 'E', 'D', 'F')\n",
    "phi_C6 = phi_F\n",
    "phi_C6.product(phi_A4)\n",
    "print(phi_C6)"
   ]
  },
  {
   "cell_type": "code",
   "execution_count": 26,
   "id": "2f7c990a6fb42107",
   "metadata": {
    "collapsed": false,
    "ExecuteTime": {
     "end_time": "2024-03-05T01:35:49.365477Z",
     "start_time": "2024-03-05T01:35:49.362588Z"
    }
   },
   "outputs": [],
   "source": [
    "circuit_JT.add_factors(phi_C1, phi_C2, phi_C3, phi_C4, phi_C5, phi_C6)"
   ]
  },
  {
   "cell_type": "code",
   "execution_count": 27,
   "id": "e32d8184966b8ad7",
   "metadata": {
    "collapsed": false,
    "ExecuteTime": {
     "end_time": "2024-03-05T01:35:51.921210Z",
     "start_time": "2024-03-05T01:35:51.915347Z"
    }
   },
   "outputs": [
    {
     "data": {
      "text/plain": "True"
     },
     "execution_count": 27,
     "metadata": {},
     "output_type": "execute_result"
    }
   ],
   "source": [
    "circuit_JT.check_model()"
   ]
  },
  {
   "cell_type": "code",
   "execution_count": 28,
   "id": "8ab3709a4ab060cf",
   "metadata": {
    "collapsed": false,
    "ExecuteTime": {
     "end_time": "2024-03-05T01:36:19.037463Z",
     "start_time": "2024-03-05T01:36:19.021825Z"
    }
   },
   "outputs": [
    {
     "name": "stdout",
     "output_type": "stream",
     "text": [
      "+-------+-------+-------+-------+--------------------+\n",
      "| A1    | A2    | A3    | A4    |   phi(A1,A2,A3,A4) |\n",
      "+=======+=======+=======+=======+====================+\n",
      "| A1(0) | A2(0) | A3(0) | A4(0) |             0.0000 |\n",
      "+-------+-------+-------+-------+--------------------+\n",
      "| A1(0) | A2(0) | A3(0) | A4(1) |             0.3129 |\n",
      "+-------+-------+-------+-------+--------------------+\n",
      "| A1(0) | A2(0) | A3(1) | A4(0) |             0.3129 |\n",
      "+-------+-------+-------+-------+--------------------+\n",
      "| A1(0) | A2(0) | A3(1) | A4(1) |             0.0165 |\n",
      "+-------+-------+-------+-------+--------------------+\n",
      "| A1(0) | A2(1) | A3(0) | A4(0) |             0.3129 |\n",
      "+-------+-------+-------+-------+--------------------+\n",
      "| A1(0) | A2(1) | A3(0) | A4(1) |             0.0165 |\n",
      "+-------+-------+-------+-------+--------------------+\n",
      "| A1(0) | A2(1) | A3(1) | A4(0) |             0.0247 |\n",
      "+-------+-------+-------+-------+--------------------+\n",
      "| A1(0) | A2(1) | A3(1) | A4(1) |             0.0009 |\n",
      "+-------+-------+-------+-------+--------------------+\n",
      "| A1(1) | A2(0) | A3(0) | A4(0) |             0.0000 |\n",
      "+-------+-------+-------+-------+--------------------+\n",
      "| A1(1) | A2(0) | A3(0) | A4(1) |             0.0009 |\n",
      "+-------+-------+-------+-------+--------------------+\n",
      "| A1(1) | A2(0) | A3(1) | A4(0) |             0.0009 |\n",
      "+-------+-------+-------+-------+--------------------+\n",
      "| A1(1) | A2(0) | A3(1) | A4(1) |             0.0000 |\n",
      "+-------+-------+-------+-------+--------------------+\n",
      "| A1(1) | A2(1) | A3(0) | A4(0) |             0.0009 |\n",
      "+-------+-------+-------+-------+--------------------+\n",
      "| A1(1) | A2(1) | A3(0) | A4(1) |             0.0000 |\n",
      "+-------+-------+-------+-------+--------------------+\n",
      "| A1(1) | A2(1) | A3(1) | A4(0) |             0.0001 |\n",
      "+-------+-------+-------+-------+--------------------+\n",
      "| A1(1) | A2(1) | A3(1) | A4(1) |             0.0000 |\n",
      "+-------+-------+-------+-------+--------------------+\n"
     ]
    }
   ],
   "source": [
    "from pgmpy.inference.ExactInference import BeliefPropagation\n",
    "\n",
    "belief_propagation = BeliefPropagation(circuit_JT)\n",
    "res1 = belief_propagation.query(variables=['A1', 'A2', 'A3', 'A4'],\n",
    "                             evidence={'X': 1, 'Y': 1, 'F': 0})\n",
    "print(res1)"
   ]
  },
  {
   "cell_type": "code",
   "execution_count": 29,
   "id": "7bdbc84d085f4688",
   "metadata": {
    "collapsed": false,
    "ExecuteTime": {
     "end_time": "2024-03-05T01:36:24.695990Z",
     "start_time": "2024-03-05T01:36:24.677688Z"
    }
   },
   "outputs": [
    {
     "name": "stdout",
     "output_type": "stream",
     "text": [
      "+-------+-------+-------+-------+--------------------+\n",
      "| A1    | A2    | A3    | A4    |   phi(A1,A2,A3,A4) |\n",
      "+=======+=======+=======+=======+====================+\n",
      "| A1(0) | A2(0) | A3(0) | A4(0) |             0.0000 |\n",
      "+-------+-------+-------+-------+--------------------+\n",
      "| A1(0) | A2(0) | A3(0) | A4(1) |             0.0000 |\n",
      "+-------+-------+-------+-------+--------------------+\n",
      "| A1(0) | A2(0) | A3(1) | A4(0) |             0.0000 |\n",
      "+-------+-------+-------+-------+--------------------+\n",
      "| A1(0) | A2(0) | A3(1) | A4(1) |             0.0000 |\n",
      "+-------+-------+-------+-------+--------------------+\n",
      "| A1(0) | A2(1) | A3(0) | A4(0) |             0.9231 |\n",
      "+-------+-------+-------+-------+--------------------+\n",
      "| A1(0) | A2(1) | A3(0) | A4(1) |             0.0243 |\n",
      "+-------+-------+-------+-------+--------------------+\n",
      "| A1(0) | A2(1) | A3(1) | A4(0) |             0.0486 |\n",
      "+-------+-------+-------+-------+--------------------+\n",
      "| A1(0) | A2(1) | A3(1) | A4(1) |             0.0013 |\n",
      "+-------+-------+-------+-------+--------------------+\n",
      "| A1(1) | A2(0) | A3(0) | A4(0) |             0.0000 |\n",
      "+-------+-------+-------+-------+--------------------+\n",
      "| A1(1) | A2(0) | A3(0) | A4(1) |             0.0000 |\n",
      "+-------+-------+-------+-------+--------------------+\n",
      "| A1(1) | A2(0) | A3(1) | A4(0) |             0.0000 |\n",
      "+-------+-------+-------+-------+--------------------+\n",
      "| A1(1) | A2(0) | A3(1) | A4(1) |             0.0000 |\n",
      "+-------+-------+-------+-------+--------------------+\n",
      "| A1(1) | A2(1) | A3(0) | A4(0) |             0.0026 |\n",
      "+-------+-------+-------+-------+--------------------+\n",
      "| A1(1) | A2(1) | A3(0) | A4(1) |             0.0001 |\n",
      "+-------+-------+-------+-------+--------------------+\n",
      "| A1(1) | A2(1) | A3(1) | A4(0) |             0.0001 |\n",
      "+-------+-------+-------+-------+--------------------+\n",
      "| A1(1) | A2(1) | A3(1) | A4(1) |             0.0000 |\n",
      "+-------+-------+-------+-------+--------------------+\n"
     ]
    }
   ],
   "source": [
    "res2 = belief_propagation.query(variables=['A1', 'A2', 'A3', 'A4'],\n",
    "                                   evidence={'X': 1, 'Y': 1, 'F': 0, 'D': 1})\n",
    "print(res2)"
   ]
  },
  {
   "cell_type": "code",
   "execution_count": 38,
   "id": "1014e40142903791",
   "metadata": {
    "collapsed": false,
    "ExecuteTime": {
     "end_time": "2024-03-06T05:18:17.604955Z",
     "start_time": "2024-03-06T05:18:17.575295Z"
    }
   },
   "outputs": [
    {
     "name": "stdout",
     "output_type": "stream",
     "text": [
      "{'A1': 0, 'A2': 0, 'A3': 0, 'A4': 1, 'Z': 0, 'D': 0, 'E': 0}\n"
     ]
    }
   ],
   "source": [
    "res3 = belief_propagation.map_query(variables=['A1', 'A2', 'A3', 'A4','Z', 'D','E'],\n",
    "                                   evidence={'X': 1, 'Y': 1, 'F': 0})\n",
    "print(res3)"
   ]
  },
  {
   "cell_type": "code",
   "execution_count": 39,
   "id": "b394dbcda07d94b1",
   "metadata": {
    "collapsed": false,
    "ExecuteTime": {
     "end_time": "2024-03-06T05:20:28.058091Z",
     "start_time": "2024-03-06T05:20:28.044294Z"
    }
   },
   "outputs": [
    {
     "name": "stdout",
     "output_type": "stream",
     "text": [
      "{'A1': 0, 'A2': 1, 'A3': 0, 'A4': 0, 'Z': 0, 'E': 0}\n"
     ]
    }
   ],
   "source": [
    "res4 = belief_propagation.map_query(variables=['A1', 'A2', 'A3', 'A4', 'Z', 'E'],\n",
    "                                   evidence={'X': 1, 'Y': 1, 'F': 0, 'D': 1})\n",
    "print(res4)"
   ]
  },
  {
   "cell_type": "code",
   "execution_count": null,
   "id": "c6cd8a05c21e21b3",
   "metadata": {
    "collapsed": false
   },
   "outputs": [],
   "source": []
  }
 ],
 "metadata": {
  "kernelspec": {
   "display_name": "Python 3 (ipykernel)",
   "language": "python",
   "name": "python3"
  },
  "language_info": {
   "codemirror_mode": {
    "name": "ipython",
    "version": 3
   },
   "file_extension": ".py",
   "mimetype": "text/x-python",
   "name": "python",
   "nbconvert_exporter": "python",
   "pygments_lexer": "ipython3",
   "version": "3.10.13"
  }
 },
 "nbformat": 4,
 "nbformat_minor": 5
}
