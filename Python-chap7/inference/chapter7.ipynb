{
 "cells": [
  {
   "cell_type": "markdown",
   "source": [
    "# Chapter 7\n",
    "# Probabilistic Inference with Join Tree Clustering"
   ],
   "metadata": {
    "collapsed": false
   },
   "id": "fdbd86573c75b070"
  },
  {
   "cell_type": "markdown",
   "source": [
    "## Graph Layout and Drawing\n",
    "The following two functions use **Graphviz** to perform the graph layout and drawing tasks for directed acyclic and undirected graphs.\n",
    "### dagviz(nodes, edges, name)\n",
    "This function takes the **nodes** and **edges** for a directed acyclic graph, does the graph layout, creates a *dot* and *PNG* files for drawing the DAG, and writes them in files with the given **name**.\n",
    "### gviz(nodes, edges, name)\n",
    "This function takes the **nodes** and e**dges** for an undirected graph, does the graph layout, creates a *dot* and *PNG* files for drawing the undirected graph, and writes them in files with the given **name**."
   ],
   "metadata": {
    "collapsed": false
   },
   "id": "3d4740e65e63330a"
  },
  {
   "cell_type": "code",
   "source": [
    "import pygraphviz as pgv\n",
    "\n",
    "\n",
    "def dagviz(nodes, edges, name):\n",
    "    G = pgv.AGraph(strict=False, directed=True)\n",
    "    G.add_nodes_from(nodes)\n",
    "    for edge in edges:\n",
    "        G.add_edge(edge)\n",
    "    G.write(name + \".dot\")\n",
    "    # use dot\n",
    "    G.layout(prog=\"dot\")\n",
    "    # write previously positioned graph to PNG file\n",
    "    G.draw(name + \".png\")\n",
    "\n",
    "\n",
    "def gviz(nodes, edges, name):\n",
    "    A = pgv.AGraph()\n",
    "    A.add_nodes_from(nodes)\n",
    "    for edge in edges:\n",
    "        A.add_edge(edge)\n",
    "    A.write(name + \".dot\")\n",
    "    # use dot\n",
    "    A.layout(prog=\"dot\")\n",
    "    # write previously positioned graph to PNG file\n",
    "    A.draw(name + \".png\")"
   ],
   "metadata": {
    "collapsed": false,
    "ExecuteTime": {
     "end_time": "2024-05-02T22:27:13.745829Z",
     "start_time": "2024-05-02T22:27:13.743483Z"
    }
   },
   "id": "3894af14445ef24a",
   "outputs": [],
   "execution_count": 198
  },
  {
   "cell_type": "markdown",
   "source": [
    "## Circuit diagnosis Bayesian Network\n",
    "![circuit diagnosis example](circuit.png)\n",
    "#### Create the BN model and specify its structure\n",
    "The following code creates the circuit diagnosis BN model. The model factors according to a  DAG having 10 nodes and 12 edges. \n",
    " \n",
    "The nodes are the following network variables:\n",
    "\n",
    "\tA1, A3, Y. A2, X, Z, E, D, A4, F\n",
    "\n",
    "Four of the above variables network variables\n",
    "\n",
    "\tA1, A2, A3, A4 \n",
    "\n",
    "represent hypotheses about the working condition of respective NOR gates of the circuit.\n",
    "\n",
    "All network variables are binary, taking values 0 and 1.\n",
    "\n",
    "The directed edges of the DAG are as follows:\n",
    "\t\n",
    "\tA1 -> Z, A3 -> E, Y -> Z , Y -> E, A2 -> D, \n",
    "\tX -> Z, X -> D, Z -> E, Z -> D, E -> F, \n",
    "\tD -> F, A4 -> F  "
   ],
   "metadata": {
    "collapsed": false
   },
   "id": "ef0583d0db514f2a"
  },
  {
   "cell_type": "markdown",
   "source": [
    "##  Qualitative Specification of the Bayesian Network\n",
    "The following code creates the qualitative component of the circuit diagnosis Bayesian network model.\n",
    "\n",
    "### 1. Specifying the nodes and directed edges of the Bayesian network\n",
    "\n",
    "The following code specifies the nodes which are the network variables and the directed edges which represents direct probabilistic influence between distinct pairs of network variables."
   ],
   "metadata": {
    "collapsed": false
   },
   "id": "e3fd0bff6efbbe38"
  },
  {
   "cell_type": "code",
   "source": [
    "from pgmpy.models import BayesianNetwork\n",
    "def circuit():\n",
    "    circuit: BayesianNetwork = BayesianNetwork()\n",
    "    circuit.add_nodes_from([\"X\", \"Y\", \"Z\", \"D\", \"E\", \"F\", \"A1\", \"A2\", \"A3\", \"A4\"])\n",
    "    circuit.add_edge(\"X\", \"Z\")\n",
    "    circuit.add_edge(\"Y\", \"Z\")\n",
    "    circuit.add_edge(\"A1\", \"Z\")\n",
    "    circuit.add_edge(\"X\", \"D\")\n",
    "    circuit.add_edge(\"Z\", \"D\")\n",
    "    circuit.add_edge(\"A2\", \"D\")\n",
    "    circuit.add_edge(\"Z\", \"E\")\n",
    "    circuit.add_edge(\"Y\", \"E\")\n",
    "    circuit.add_edge(\"A3\", \"E\")\n",
    "    circuit.add_edge(\"D\", \"F\")\n",
    "    circuit.add_edge(\"A4\", \"F\")\n",
    "    circuit.add_edge(\"E\", \"F\")\n",
    "    return circuit"
   ],
   "metadata": {
    "collapsed": false,
    "ExecuteTime": {
     "end_time": "2024-05-02T22:27:13.926440Z",
     "start_time": "2024-05-02T22:27:13.923608Z"
    }
   },
   "id": "4adff600f684140d",
   "outputs": [],
   "execution_count": 199
  },
  {
   "cell_type": "markdown",
   "source": [
    "### 2. Creating a directed acyclic graph representing the Bayesian network model\n",
    "\n",
    "directed acyclic graph object to represent the BN structure having the nodes and edges specified for the BN model."
   ],
   "metadata": {
    "collapsed": false
   },
   "id": "545fd4fa2876c055"
  },
  {
   "cell_type": "code",
   "source": [
    "from pgmpy.base import DAG\n",
    "def circuit_dag():\n",
    "    model = circuit()\n",
    "    G = DAG()\n",
    "    nodes = model.nodes\n",
    "    edges = model.edges\n",
    "    G.add_nodes_from(nodes)\n",
    "    G.add_edges_from(edges)\n",
    "    return G\n",
    "\n",
    "print(f\"creating the directed acyclic graph for the circuit diagnosis example\")\n",
    "G = circuit_dag()\n",
    "print(G)"
   ],
   "metadata": {
    "collapsed": false,
    "ExecuteTime": {
     "end_time": "2024-05-02T22:27:13.938118Z",
     "start_time": "2024-05-02T22:27:13.935822Z"
    }
   },
   "id": "56719fc74fa5f0a9",
   "outputs": [
    {
     "name": "stdout",
     "output_type": "stream",
     "text": [
      "creating the directed acyclic graph for the circuit diagnosis example\n",
      "DAG with 10 nodes and 12 edges\n"
     ]
    }
   ],
   "execution_count": 200
  },
  {
   "cell_type": "markdown",
   "source": [
    "## Creating DOT and PNG files for the DAG of the circuit diagnosis BN\n",
    "\n",
    "The following code uses our **dagviz()** function to create the **DOT** and **PNG** files named *DAG_Circuit* for the circuit diagnosis BN. Note that the nodes and edges parameters for **dagviz()** are inputted from the nodes and edges of the DAG object *G*."
   ],
   "metadata": {
    "collapsed": false
   },
   "id": "ce34726e9f435f2c"
  },
  {
   "cell_type": "code",
   "source": [
    "dagviz(G.nodes, G.edges, \"DAG_circuit\")"
   ],
   "metadata": {
    "collapsed": false,
    "ExecuteTime": {
     "end_time": "2024-05-02T22:27:14.350965Z",
     "start_time": "2024-05-02T22:27:13.940015Z"
    }
   },
   "id": "75e4f0725b4b60b9",
   "outputs": [],
   "execution_count": 201
  },
  {
   "cell_type": "markdown",
   "source": [
    "## Getting the minimal d-separator set between two nodes\n",
    "\n",
    "The following code uses the **minimal_dseparator()** method of the **DAG** object, *G*, to get the minimal d-separator set separating the node \"E\" from the node \"X.\" The two variables for the two nodes are conditionally independent given the values of the variables in a d-separator set."
   ],
   "metadata": {
    "collapsed": false
   },
   "id": "8563513d8db54ae7"
  },
  {
   "cell_type": "code",
   "source": [
    "G.minimal_dseparator(\"E\", \"X\")"
   ],
   "metadata": {
    "collapsed": false,
    "ExecuteTime": {
     "end_time": "2024-05-02T22:27:14.354345Z",
     "start_time": "2024-05-02T22:27:14.351867Z"
    }
   },
   "id": "b7ea13f2da0a30b8",
   "outputs": [
    {
     "data": {
      "text/plain": [
       "{'Y', 'Z'}"
      ]
     },
     "execution_count": 202,
     "metadata": {},
     "output_type": "execute_result"
    }
   ],
   "execution_count": 202
  },
  {
   "cell_type": "markdown",
   "source": [
    "## Finding all independencies in the circuit diagnosis Bayesian Network\n",
    "\n",
    "The following code uses the **get_independencies()** method of the **DAG** object, *G*, to compute all the d-separations in *G*, which implies conditional independencies in the probabilistic model. The result is written in a text file."
   ],
   "metadata": {
    "collapsed": false
   },
   "id": "a5856db28bb34719"
  },
  {
   "cell_type": "code",
   "source": [
    "from contextlib import redirect_stdout\n",
    "\n",
    "with open(\"circuit_dag_d-separations.txt\", \"w\") as f:\n",
    "    with redirect_stdout(f):\n",
    "        print(G.get_independencies())\n",
    "f.close()\n",
    "print(\n",
    "    f\"Wrote all d-separations for the circuit DAG into file [circuit_dag_d-separations.txt]\"\n",
    ")"
   ],
   "metadata": {
    "collapsed": false,
    "ExecuteTime": {
     "end_time": "2024-05-02T22:27:14.473296Z",
     "start_time": "2024-05-02T22:27:14.354939Z"
    }
   },
   "id": "1650412ffb874c7f",
   "outputs": [
    {
     "name": "stdout",
     "output_type": "stream",
     "text": [
      "Wrote all d-separations for the circuit DAG into file [circuit_dag_d-separations.txt]\n"
     ]
    }
   ],
   "execution_count": 203
  },
  {
   "cell_type": "markdown",
   "source": [
    "## Quantitative Specification of the Bayesian Network\n",
    "\n",
    "The following code specifies the quantitative component of the circuit diagnosis Bayesian network model.\n",
    "\n",
    "The following code specifies the condition probability distributions (**CPD**s) for all the network variables and adds the **CPD**s to the model. \n",
    "\n",
    "After quantifying the BN model for the circuit diagnosis example, we check the model to see if its specification is correct. The function **check_model()** should return *True* if the checking is successful."
   ],
   "metadata": {
    "collapsed": false
   },
   "id": "990fe4ee48b3ca5a"
  },
  {
   "cell_type": "code",
   "source": [
    "from pgmpy.factors.discrete import TabularCPD\n",
    "model = circuit()\n",
    "cpd_X = TabularCPD(variable=\"X\", variable_card=2, values=[[0.5], [0.5]])\n",
    "cpd_Y = TabularCPD(variable=\"Y\", variable_card=2, values=[[0.5], [0.5]])\n",
    "cpd_A1 = TabularCPD(variable=\"A1\", variable_card=2, values=[[0.95], [0.05]])\n",
    "cpd_A2 = TabularCPD(variable=\"A2\", variable_card=2, values=[[0.95], [0.05]])\n",
    "cpd_A3 = TabularCPD(variable=\"A3\", variable_card=2, values=[[0.95], [0.05]])\n",
    "cpd_A4 = TabularCPD(variable=\"A4\", variable_card=2, values=[[0.95], [0.05]])\n",
    "cpd_Z = TabularCPD(\n",
    "    variable=\"Z\",\n",
    "    variable_card=2,\n",
    "    values=[\n",
    "        [1e-9, 1 - 1e-9, 1 - 1e-9, 1 - 1e-9, 0.5, 0.5, 0.5, 0.5],\n",
    "        [1 - 1e-9, 1e-9, 1e-9, 1e-9, 0.5, 0.5, 0.5, 0.5],\n",
    "    ],\n",
    "    evidence=[\"A1\", \"X\", \"Y\"],\n",
    "    evidence_card=[2, 2, 2],\n",
    ")\n",
    "cpd_D = TabularCPD(\n",
    "    variable=\"D\",\n",
    "    variable_card=2,\n",
    "    values=[\n",
    "        [1e-9, 1 - 1e-9, 1 - 1e-9, 1 - 1e-9, 0.5, 0.5, 0.5, 0.5],\n",
    "        [1 - 1e-9, 1e-9, 1e-9, 1e-9, 0.5, 0.5, 0.5, 0.5],\n",
    "    ],\n",
    "    evidence=[\"A2\", \"X\", \"Z\"],\n",
    "    evidence_card=[2, 2, 2],\n",
    ")\n",
    "cpd_E = TabularCPD(\n",
    "    variable=\"E\",\n",
    "    variable_card=2,\n",
    "    values=[\n",
    "        [1e-9, 1 - 1e-9, 1 - 1e-9, 1 - 1e-9, 0.5, 0.5, 0.5, 0.5],\n",
    "        [1 - 1e-9, 1e-9, 1e-9, 1e-9, 0.5, 0.5, 0.5, 0.5],\n",
    "    ],\n",
    "    evidence=[\"A3\", \"Y\", \"Z\"],\n",
    "    evidence_card=[2, 2, 2],\n",
    ")\n",
    "cpd_F = TabularCPD(\n",
    "    variable=\"F\",\n",
    "    variable_card=2,\n",
    "    values=[\n",
    "        [1e-9, 1 - 1e-9, 1 - 1e-9, 1 - 1e-9, 0.5, 0.5, 0.5, 0.5],\n",
    "        [1 - 1e-9, 1e-9, 1e-9, 1e-9, 0.5, 0.5, 0.5, 0.5],\n",
    "    ],\n",
    "    evidence=[\"A4\", \"D\", \"E\"],\n",
    "    evidence_card=[2, 2, 2],\n",
    ")\n",
    "\n",
    "model.add_cpds(cpd_X, cpd_Y, cpd_Z, cpd_D, cpd_E, cpd_F, cpd_A1, cpd_A2, cpd_A3, cpd_A4)\n",
    "\n",
    "print(model.check_model())"
   ],
   "metadata": {
    "collapsed": false,
    "ExecuteTime": {
     "end_time": "2024-05-02T22:27:14.479986Z",
     "start_time": "2024-05-02T22:27:14.474545Z"
    }
   },
   "id": "cc4dbdcb16c3e6e7",
   "outputs": [
    {
     "name": "stdout",
     "output_type": "stream",
     "text": [
      "True\n"
     ]
    }
   ],
   "execution_count": 204
  },
  {
   "cell_type": "markdown",
   "source": [
    "## Markov Network Model \n",
    "\n",
    "The following code uses the method **to_markov_model()** for the **BayesianNetwork** object *model* to map the BN model of our circuit diagnosis example to a representation as a Markov network model. The Markov network model will map the **CPD**s of the Bayesian network to **factors**. We use the method **get_factors()** for the **MarkovNetwork** object, *markovmodel*, and then we print all the factors of the model using a **for** loop."
   ],
   "metadata": {
    "collapsed": false
   },
   "id": "890b7c98eefde724"
  },
  {
   "cell_type": "code",
   "source": [
    "from pgmpy.models import MarkovNetwork\n",
    "markovmodel = model.to_markov_model()\n",
    "factors = markovmodel.get_factors()\n",
    "for factor in factors:\n",
    "    print(factor)"
   ],
   "metadata": {
    "collapsed": false,
    "ExecuteTime": {
     "end_time": "2024-05-02T22:27:14.484705Z",
     "start_time": "2024-05-02T22:27:14.480709Z"
    }
   },
   "id": "acf89d35b174b7fb",
   "outputs": [
    {
     "name": "stdout",
     "output_type": "stream",
     "text": [
      "+------+----------+\n",
      "| X    |   phi(X) |\n",
      "+======+==========+\n",
      "| X(0) |   0.5000 |\n",
      "+------+----------+\n",
      "| X(1) |   0.5000 |\n",
      "+------+----------+\n",
      "+------+----------+\n",
      "| Y    |   phi(Y) |\n",
      "+======+==========+\n",
      "| Y(0) |   0.5000 |\n",
      "+------+----------+\n",
      "| Y(1) |   0.5000 |\n",
      "+------+----------+\n",
      "+------+-------+------+------+-----------------+\n",
      "| Z    | A1    | X    | Y    |   phi(Z,A1,X,Y) |\n",
      "+======+=======+======+======+=================+\n",
      "| Z(0) | A1(0) | X(0) | Y(0) |          0.0000 |\n",
      "+------+-------+------+------+-----------------+\n",
      "| Z(0) | A1(0) | X(0) | Y(1) |          1.0000 |\n",
      "+------+-------+------+------+-----------------+\n",
      "| Z(0) | A1(0) | X(1) | Y(0) |          1.0000 |\n",
      "+------+-------+------+------+-----------------+\n",
      "| Z(0) | A1(0) | X(1) | Y(1) |          1.0000 |\n",
      "+------+-------+------+------+-----------------+\n",
      "| Z(0) | A1(1) | X(0) | Y(0) |          0.5000 |\n",
      "+------+-------+------+------+-----------------+\n",
      "| Z(0) | A1(1) | X(0) | Y(1) |          0.5000 |\n",
      "+------+-------+------+------+-----------------+\n",
      "| Z(0) | A1(1) | X(1) | Y(0) |          0.5000 |\n",
      "+------+-------+------+------+-----------------+\n",
      "| Z(0) | A1(1) | X(1) | Y(1) |          0.5000 |\n",
      "+------+-------+------+------+-----------------+\n",
      "| Z(1) | A1(0) | X(0) | Y(0) |          1.0000 |\n",
      "+------+-------+------+------+-----------------+\n",
      "| Z(1) | A1(0) | X(0) | Y(1) |          0.0000 |\n",
      "+------+-------+------+------+-----------------+\n",
      "| Z(1) | A1(0) | X(1) | Y(0) |          0.0000 |\n",
      "+------+-------+------+------+-----------------+\n",
      "| Z(1) | A1(0) | X(1) | Y(1) |          0.0000 |\n",
      "+------+-------+------+------+-----------------+\n",
      "| Z(1) | A1(1) | X(0) | Y(0) |          0.5000 |\n",
      "+------+-------+------+------+-----------------+\n",
      "| Z(1) | A1(1) | X(0) | Y(1) |          0.5000 |\n",
      "+------+-------+------+------+-----------------+\n",
      "| Z(1) | A1(1) | X(1) | Y(0) |          0.5000 |\n",
      "+------+-------+------+------+-----------------+\n",
      "| Z(1) | A1(1) | X(1) | Y(1) |          0.5000 |\n",
      "+------+-------+------+------+-----------------+\n",
      "+------+-------+------+------+-----------------+\n",
      "| D    | A2    | X    | Z    |   phi(D,A2,X,Z) |\n",
      "+======+=======+======+======+=================+\n",
      "| D(0) | A2(0) | X(0) | Z(0) |          0.0000 |\n",
      "+------+-------+------+------+-----------------+\n",
      "| D(0) | A2(0) | X(0) | Z(1) |          1.0000 |\n",
      "+------+-------+------+------+-----------------+\n",
      "| D(0) | A2(0) | X(1) | Z(0) |          1.0000 |\n",
      "+------+-------+------+------+-----------------+\n",
      "| D(0) | A2(0) | X(1) | Z(1) |          1.0000 |\n",
      "+------+-------+------+------+-----------------+\n",
      "| D(0) | A2(1) | X(0) | Z(0) |          0.5000 |\n",
      "+------+-------+------+------+-----------------+\n",
      "| D(0) | A2(1) | X(0) | Z(1) |          0.5000 |\n",
      "+------+-------+------+------+-----------------+\n",
      "| D(0) | A2(1) | X(1) | Z(0) |          0.5000 |\n",
      "+------+-------+------+------+-----------------+\n",
      "| D(0) | A2(1) | X(1) | Z(1) |          0.5000 |\n",
      "+------+-------+------+------+-----------------+\n",
      "| D(1) | A2(0) | X(0) | Z(0) |          1.0000 |\n",
      "+------+-------+------+------+-----------------+\n",
      "| D(1) | A2(0) | X(0) | Z(1) |          0.0000 |\n",
      "+------+-------+------+------+-----------------+\n",
      "| D(1) | A2(0) | X(1) | Z(0) |          0.0000 |\n",
      "+------+-------+------+------+-----------------+\n",
      "| D(1) | A2(0) | X(1) | Z(1) |          0.0000 |\n",
      "+------+-------+------+------+-----------------+\n",
      "| D(1) | A2(1) | X(0) | Z(0) |          0.5000 |\n",
      "+------+-------+------+------+-----------------+\n",
      "| D(1) | A2(1) | X(0) | Z(1) |          0.5000 |\n",
      "+------+-------+------+------+-----------------+\n",
      "| D(1) | A2(1) | X(1) | Z(0) |          0.5000 |\n",
      "+------+-------+------+------+-----------------+\n",
      "| D(1) | A2(1) | X(1) | Z(1) |          0.5000 |\n",
      "+------+-------+------+------+-----------------+\n",
      "+------+-------+------+------+-----------------+\n",
      "| E    | A3    | Y    | Z    |   phi(E,A3,Y,Z) |\n",
      "+======+=======+======+======+=================+\n",
      "| E(0) | A3(0) | Y(0) | Z(0) |          0.0000 |\n",
      "+------+-------+------+------+-----------------+\n",
      "| E(0) | A3(0) | Y(0) | Z(1) |          1.0000 |\n",
      "+------+-------+------+------+-----------------+\n",
      "| E(0) | A3(0) | Y(1) | Z(0) |          1.0000 |\n",
      "+------+-------+------+------+-----------------+\n",
      "| E(0) | A3(0) | Y(1) | Z(1) |          1.0000 |\n",
      "+------+-------+------+------+-----------------+\n",
      "| E(0) | A3(1) | Y(0) | Z(0) |          0.5000 |\n",
      "+------+-------+------+------+-----------------+\n",
      "| E(0) | A3(1) | Y(0) | Z(1) |          0.5000 |\n",
      "+------+-------+------+------+-----------------+\n",
      "| E(0) | A3(1) | Y(1) | Z(0) |          0.5000 |\n",
      "+------+-------+------+------+-----------------+\n",
      "| E(0) | A3(1) | Y(1) | Z(1) |          0.5000 |\n",
      "+------+-------+------+------+-----------------+\n",
      "| E(1) | A3(0) | Y(0) | Z(0) |          1.0000 |\n",
      "+------+-------+------+------+-----------------+\n",
      "| E(1) | A3(0) | Y(0) | Z(1) |          0.0000 |\n",
      "+------+-------+------+------+-----------------+\n",
      "| E(1) | A3(0) | Y(1) | Z(0) |          0.0000 |\n",
      "+------+-------+------+------+-----------------+\n",
      "| E(1) | A3(0) | Y(1) | Z(1) |          0.0000 |\n",
      "+------+-------+------+------+-----------------+\n",
      "| E(1) | A3(1) | Y(0) | Z(0) |          0.5000 |\n",
      "+------+-------+------+------+-----------------+\n",
      "| E(1) | A3(1) | Y(0) | Z(1) |          0.5000 |\n",
      "+------+-------+------+------+-----------------+\n",
      "| E(1) | A3(1) | Y(1) | Z(0) |          0.5000 |\n",
      "+------+-------+------+------+-----------------+\n",
      "| E(1) | A3(1) | Y(1) | Z(1) |          0.5000 |\n",
      "+------+-------+------+------+-----------------+\n",
      "+------+-------+------+------+-----------------+\n",
      "| F    | A4    | D    | E    |   phi(F,A4,D,E) |\n",
      "+======+=======+======+======+=================+\n",
      "| F(0) | A4(0) | D(0) | E(0) |          0.0000 |\n",
      "+------+-------+------+------+-----------------+\n",
      "| F(0) | A4(0) | D(0) | E(1) |          1.0000 |\n",
      "+------+-------+------+------+-----------------+\n",
      "| F(0) | A4(0) | D(1) | E(0) |          1.0000 |\n",
      "+------+-------+------+------+-----------------+\n",
      "| F(0) | A4(0) | D(1) | E(1) |          1.0000 |\n",
      "+------+-------+------+------+-----------------+\n",
      "| F(0) | A4(1) | D(0) | E(0) |          0.5000 |\n",
      "+------+-------+------+------+-----------------+\n",
      "| F(0) | A4(1) | D(0) | E(1) |          0.5000 |\n",
      "+------+-------+------+------+-----------------+\n",
      "| F(0) | A4(1) | D(1) | E(0) |          0.5000 |\n",
      "+------+-------+------+------+-----------------+\n",
      "| F(0) | A4(1) | D(1) | E(1) |          0.5000 |\n",
      "+------+-------+------+------+-----------------+\n",
      "| F(1) | A4(0) | D(0) | E(0) |          1.0000 |\n",
      "+------+-------+------+------+-----------------+\n",
      "| F(1) | A4(0) | D(0) | E(1) |          0.0000 |\n",
      "+------+-------+------+------+-----------------+\n",
      "| F(1) | A4(0) | D(1) | E(0) |          0.0000 |\n",
      "+------+-------+------+------+-----------------+\n",
      "| F(1) | A4(0) | D(1) | E(1) |          0.0000 |\n",
      "+------+-------+------+------+-----------------+\n",
      "| F(1) | A4(1) | D(0) | E(0) |          0.5000 |\n",
      "+------+-------+------+------+-----------------+\n",
      "| F(1) | A4(1) | D(0) | E(1) |          0.5000 |\n",
      "+------+-------+------+------+-----------------+\n",
      "| F(1) | A4(1) | D(1) | E(0) |          0.5000 |\n",
      "+------+-------+------+------+-----------------+\n",
      "| F(1) | A4(1) | D(1) | E(1) |          0.5000 |\n",
      "+------+-------+------+------+-----------------+\n",
      "+-------+-----------+\n",
      "| A1    |   phi(A1) |\n",
      "+=======+===========+\n",
      "| A1(0) |    0.9500 |\n",
      "+-------+-----------+\n",
      "| A1(1) |    0.0500 |\n",
      "+-------+-----------+\n",
      "+-------+-----------+\n",
      "| A2    |   phi(A2) |\n",
      "+=======+===========+\n",
      "| A2(0) |    0.9500 |\n",
      "+-------+-----------+\n",
      "| A2(1) |    0.0500 |\n",
      "+-------+-----------+\n",
      "+-------+-----------+\n",
      "| A3    |   phi(A3) |\n",
      "+=======+===========+\n",
      "| A3(0) |    0.9500 |\n",
      "+-------+-----------+\n",
      "| A3(1) |    0.0500 |\n",
      "+-------+-----------+\n",
      "+-------+-----------+\n",
      "| A4    |   phi(A4) |\n",
      "+=======+===========+\n",
      "| A4(0) |    0.9500 |\n",
      "+-------+-----------+\n",
      "| A4(1) |    0.0500 |\n",
      "+-------+-----------+\n"
     ]
    }
   ],
   "execution_count": 205
  },
  {
   "cell_type": "markdown",
   "source": [
    "## Checking the Markov Model is correct \n",
    "\n",
    "The following code uses the **check_model()** method of the **MarkovModel** object, *markovmodel*, to verify that the model specification is correct."
   ],
   "metadata": {
    "collapsed": false
   },
   "id": "5e76f18b3bf89591"
  },
  {
   "cell_type": "code",
   "source": [
    "markovmodel.check_model()"
   ],
   "metadata": {
    "collapsed": false,
    "ExecuteTime": {
     "end_time": "2024-05-02T22:27:14.487279Z",
     "start_time": "2024-05-02T22:27:14.485330Z"
    }
   },
   "id": "95713adc6090b006",
   "outputs": [
    {
     "data": {
      "text/plain": [
       "True"
      ]
     },
     "execution_count": 206,
     "metadata": {},
     "output_type": "execute_result"
    }
   ],
   "execution_count": 206
  },
  {
   "cell_type": "markdown",
   "source": [
    "## Getting the Partition Function for the Markov model\n",
    "\n",
    "The following code uses the **get_partition_function()** method of the **MarkovNetwork** object, *markovmodel*, to get the partition function of the Markov model factors. The method returns a number that normalizes the product of all factors to produce a probability distribution when divided by the partition function. A probability distribution must sum up to 1 on all the network variables and all values from their domains."
   ],
   "metadata": {
    "collapsed": false
   },
   "id": "5805ffc85c2e408"
  },
  {
   "cell_type": "code",
   "source": [
    "markovmodel.get_partition_function()"
   ],
   "metadata": {
    "collapsed": false,
    "ExecuteTime": {
     "end_time": "2024-05-02T22:27:14.490405Z",
     "start_time": "2024-05-02T22:27:14.487766Z"
    }
   },
   "id": "a07e568b371c6bd",
   "outputs": [
    {
     "data": {
      "text/plain": [
       "1.0000000000000002"
      ]
     },
     "execution_count": 207,
     "metadata": {},
     "output_type": "execute_result"
    }
   ],
   "execution_count": 207
  },
  {
   "cell_type": "markdown",
   "source": [
    "## Getting the nodes and edges of the factor graph\n",
    "\n",
    "To get the undirected graph, *factor_graph*,  of the circuit diagnosis example' Markov network model, *markovmodel*, we use the method **to_factor_graph()**. We then print the nodes and edges of the undirected graph, factor_graph. The factor graph consists of two subsets of nodes; one contains the network variables, and the other contains the factors, which are the potential functions of the Markov model."
   ],
   "metadata": {
    "collapsed": false
   },
   "id": "ea62cbc263f165bd"
  },
  {
   "cell_type": "code",
   "source": [
    "factor_graph = markovmodel.to_factor_graph()\n",
    "print(factor_graph.nodes)\n",
    "print(factor_graph.edges)"
   ],
   "metadata": {
    "collapsed": false,
    "ExecuteTime": {
     "end_time": "2024-05-02T22:27:14.493063Z",
     "start_time": "2024-05-02T22:27:14.490889Z"
    }
   },
   "id": "d89b80635753ea72",
   "outputs": [
    {
     "name": "stdout",
     "output_type": "stream",
     "text": [
      "['X', 'Z', 'D', 'Y', 'A1', 'A2', 'E', 'A3', 'F', 'A4', 'phi_X', 'phi_Y', 'phi_Z_A1_X_Y', 'phi_D_A2_X_Z', 'phi_E_A3_Y_Z', 'phi_F_A4_D_E', 'phi_A1', 'phi_A2', 'phi_A3', 'phi_A4']\n",
      "[('X', 'phi_X'), ('X', 'phi_Z_A1_X_Y'), ('X', 'phi_D_A2_X_Z'), ('Z', 'phi_Z_A1_X_Y'), ('Z', 'phi_D_A2_X_Z'), ('Z', 'phi_E_A3_Y_Z'), ('D', 'phi_D_A2_X_Z'), ('D', 'phi_F_A4_D_E'), ('Y', 'phi_Y'), ('Y', 'phi_Z_A1_X_Y'), ('Y', 'phi_E_A3_Y_Z'), ('A1', 'phi_Z_A1_X_Y'), ('A1', 'phi_A1'), ('A2', 'phi_D_A2_X_Z'), ('A2', 'phi_A2'), ('E', 'phi_E_A3_Y_Z'), ('E', 'phi_F_A4_D_E'), ('A3', 'phi_E_A3_Y_Z'), ('A3', 'phi_A3'), ('F', 'phi_F_A4_D_E'), ('A4', 'phi_F_A4_D_E'), ('A4', 'phi_A4')]\n"
     ]
    }
   ],
   "execution_count": 208
  },
  {
   "cell_type": "markdown",
   "source": [
    "## Creating DOT and PNG files for the undirected factor graph of the circuit diagnosis BN\n",
    "\n",
    "The following code uses our **gviz()** function to create the **DOT** and **PNG** files named *factor_graph* for the circuit diagnosis Markov model. Note that the nodes and edges parameters for **gviz()** are inputted from the nodes and edges of the undirected factor graph object *factor_graph*."
   ],
   "metadata": {
    "collapsed": false
   },
   "id": "d7998367fbc7d428"
  },
  {
   "cell_type": "code",
   "source": [
    "gviz(factor_graph.nodes, factor_graph.edges, \"factor_graph\")"
   ],
   "metadata": {
    "collapsed": false,
    "ExecuteTime": {
     "end_time": "2024-05-02T22:27:14.633917Z",
     "start_time": "2024-05-02T22:27:14.494101Z"
    }
   },
   "id": "ef03fccd01836ee9",
   "outputs": [],
   "execution_count": 209
  },
  {
   "cell_type": "markdown",
   "source": [
    "## Using the Pgmpy library to get a join tree from the Markov model \n",
    "\n",
    "The following code gets the junction tree structure built by the **Pgmpy** library by using the **to_junction_tree()** method of the Markov model object, *markovmodel*. The code prints the factors for the junction tree model for our circuit diagnosis example."
   ],
   "metadata": {
    "collapsed": false
   },
   "id": "7a28dfb00b00d7d6"
  },
  {
   "cell_type": "code",
   "source": [
    "from pgmpy.models import JunctionTree\n",
    "JT = markovmodel.to_junction_tree()\n",
    "print(JT.factors)"
   ],
   "metadata": {
    "collapsed": false,
    "ExecuteTime": {
     "end_time": "2024-05-02T22:27:14.645510Z",
     "start_time": "2024-05-02T22:27:14.636027Z"
    }
   },
   "id": "1ec740110a84957c",
   "outputs": [
    {
     "name": "stdout",
     "output_type": "stream",
     "text": [
      "[<DiscreteFactor representing phi(X:2, A2:2, Z:2, D:2) at 0x141486bd0>, <DiscreteFactor representing phi(X:2, Z:2, A4:2, A3:2, Y:2, A1:2, D:2) at 0x16c7fb1a0>, <DiscreteFactor representing phi(Z:2, A4:2, E:2, A3:2, F:2, Y:2, D:2) at 0x16c7f92b0>]\n"
     ]
    }
   ],
   "execution_count": 210
  },
  {
   "cell_type": "code",
   "source": [
    "print(JT.nodes)"
   ],
   "metadata": {
    "collapsed": false,
    "ExecuteTime": {
     "end_time": "2024-05-02T22:27:14.648374Z",
     "start_time": "2024-05-02T22:27:14.646126Z"
    }
   },
   "id": "195fc4c205be785d",
   "outputs": [
    {
     "name": "stdout",
     "output_type": "stream",
     "text": [
      "[('D', 'Z', 'A2', 'X'), ('D', 'Z', 'Y', 'A4', 'A3', 'X', 'A1'), ('D', 'Z', 'Y', 'A4', 'A3', 'F', 'E')]\n"
     ]
    }
   ],
   "execution_count": 211
  },
  {
   "metadata": {},
   "cell_type": "markdown",
   "source": [
    "## Creating DOT and PNG files for the Pgmpy Join Tree\n",
    "\n",
    "The following code uses our **gviz()** function to create the **DOT** and **PNG** files named *pgmpy_JT* for the circuit diagnosis Join Tree computed by the Pgmpy library. Note that the nodes and edges parameters for **gviz()** are inputted from the nodes and edges of the **JunctionTree** object *JT*."
   ],
   "id": "ee23664f880954a2"
  },
  {
   "cell_type": "code",
   "source": "gviz(JT.nodes, JT.edges, \"pgmpy_JT\")",
   "metadata": {
    "collapsed": false,
    "ExecuteTime": {
     "end_time": "2024-05-02T22:27:14.781113Z",
     "start_time": "2024-05-02T22:27:14.649021Z"
    }
   },
   "id": "da2dcab8ad24730e",
   "outputs": [],
   "execution_count": 212
  },
  {
   "cell_type": "markdown",
   "source": [
    "## Showing the maximum cliques computed by the Pgmpy library\n",
    "\n",
    "The following code prints the nodes of the junction tree object, *JT*, computed by the **Pgmpy** library. The result shows four maximum cliques compared to the six maximum cliques from our join tree computation. Our join tree clustering computations are superior as they significantly reduce the clique size, which translates to an exponential decrease in the space requirements for making inferences."
   ],
   "metadata": {
    "collapsed": false
   },
   "id": "9508739e977f0056"
  },
  {
   "cell_type": "markdown",
   "source": [
    "**Building the join tree, computed from the join tree clustering algorithm, for the circuit diagnosis BN**.\n",
    "\n",
    "This process involves creating a join tree structure specific to our Bayesian network model. \n",
    "\n",
    "We use the **JunctionTree()** constructor to create a join tree structure as an object of the *JunctionTree* class from the *Pgmpy* library.\n",
    "\n",
    "Then, we add the nodes and edges for the join tree computed from the join tree clustering algorithm for the circuit diagnosis DAG of its Bayesian network model. The nodes are the maximum cliques, and the edges are pairs of nodes connected by an edge in the join tree. \n",
    "\n",
    "We add the nodes by feeding the list of nodes to the **add_nodes_from()** method for the JunctionTree object, *circuit_JT*. We add the edges by feeding the list of edges to the **add_edges_from()** method for the JunctionTree object, *circuit_JT*."
   ],
   "metadata": {
    "collapsed": false
   },
   "id": "3372088bd1045e78"
  },
  {
   "cell_type": "code",
   "source": [
    "circuit_JT = JunctionTree()\n",
    "circuit_JT.add_nodes_from([('Z', 'X', 'Y', 'A1'), ('Z', 'X', 'Y', 'E'), ('Z', 'A3', 'Y', 'E'), ('Z', 'X', 'D', 'E'), ('Z', 'X', 'A2', 'D'), ('A4', 'E', 'D', 'F')])\n",
    "circuit_JT.add_edges_from([(('Z', 'X', 'Y', 'A1'), ('Z', 'X', 'Y', 'E')),(('Z', 'X', 'Y', 'E'), ('Z', 'A3', 'Y', 'E')),(('Z', 'X', 'Y', 'E'),('Z', 'X', 'D', 'E')),(('Z', 'X', 'D', 'E'),('Z', 'X', 'A2', 'D')),(('Z', 'X', 'D', 'E'),('A4', 'E', 'D', 'F'))])\n"
   ],
   "metadata": {
    "collapsed": false,
    "ExecuteTime": {
     "end_time": "2024-05-02T22:27:14.785274Z",
     "start_time": "2024-05-02T22:27:14.782639Z"
    }
   },
   "id": "18e107dda64038f9",
   "outputs": [],
   "execution_count": 213
  },
  {
   "metadata": {},
   "cell_type": "markdown",
   "source": [
    "## Creating DOT and PNG files for the Join Tree from the Tree Clustering Algorithm \n",
    "\n",
    "The following code uses our **gviz()** function to create the **DOT** and **PNG** files named *circuit_JT* for the circuit diagnosis Join Tree computed by the Tree clustering algorithm. Note that the nodes and edges parameters for **gviz()** are inputted from the nodes and edges of the **JunctionTree** object *circuit_JT*."
   ],
   "id": "b55615b00ba67b38"
  },
  {
   "metadata": {
    "ExecuteTime": {
     "end_time": "2024-05-02T22:27:14.943610Z",
     "start_time": "2024-05-02T22:27:14.785880Z"
    }
   },
   "cell_type": "code",
   "source": "gviz(circuit_JT.nodes, circuit_JT.edges, \"circuit_JT\")",
   "id": "9ed843d04b449a56",
   "outputs": [],
   "execution_count": 214
  },
  {
   "cell_type": "markdown",
   "source": [
    "## Getting the Potential Functions of the Markov Model\n",
    "\n",
    "The following code maps the CPDs of the Bayesian network, which are *Pgmpy* library type **TabularCPD** objects to *Pgmpy* **DiscreteFactor** objects using the **to_factor()** method applied to the **TabularCPD** objects. \n",
    "\n",
    "The code transforms the representation of the circuit BN to a Markov model where the *DiscreteFactor* objects represent the potential functions of the Markov model."
   ],
   "metadata": {
    "collapsed": false
   },
   "id": "9680410035162610"
  },
  {
   "cell_type": "code",
   "source": [
    "phi_A1 = cpd_A1.to_factor()\n",
    "phi_A2 = cpd_A2.to_factor()\n",
    "phi_A3 = cpd_A3.to_factor()\n",
    "phi_A4 = cpd_A4.to_factor()\n",
    "phi_X = cpd_X.to_factor()\n",
    "phi_Y = cpd_Y.to_factor()\n",
    "phi_Z = cpd_Z.to_factor()\n",
    "phi_D = cpd_D.to_factor()\n",
    "phi_E = cpd_E.to_factor()\n",
    "phi_F = cpd_F.to_factor()\n"
   ],
   "metadata": {
    "collapsed": false,
    "ExecuteTime": {
     "end_time": "2024-05-02T22:27:14.946647Z",
     "start_time": "2024-05-02T22:27:14.944278Z"
    }
   },
   "id": "8607f99752884232",
   "outputs": [],
   "execution_count": 215
  },
  {
   "cell_type": "markdown",
   "source": [
    "**Computing the Potential Fuctions for the Join Tree**\n",
    "\n",
    "The following code computes the potential functions for the maximum cliques computed by the tree clustering algorithm for our circuit diagnosis Bayesian network. \n",
    "\n",
    "The computed join tree has six cliques, which are the following subsets of the Bayesian network variables:\n",
    "\n",
    "C1: ('Z', 'X', 'Y', 'A1'),  \n",
    "C2: ('Z', 'X', 'Y', 'E'),  \n",
    "C3: ('Z', 'A3', 'Y', 'E'),  \n",
    "C4: ('Z', 'X', 'D', 'E'),  \n",
    "C5: ('Z', 'X', 'A2', 'D'),  \n",
    "C6: ('A4', 'E', 'D', 'F')\n",
    "\n",
    "To compute the potential function for each clique, we multiply all potential functions of the Markov model allocated to the clique. If a clique does not have any potential function allocated, we assign a potential function for the clique whose value equals 1 for all value instantiations of the clique variables. \n",
    "\n",
    "We use the **Numpy** library to multiplicate the *DiscreteFactor* objects and define potential functions whose values are equal to 1."
   ],
   "metadata": {
    "collapsed": false
   },
   "id": "f9bc86b8d810f2a3"
  },
  {
   "cell_type": "code",
   "source": [
    "from pgmpy.factors.discrete import DiscreteFactor\n",
    "import numpy as np\n",
    "# clique C1: ('Z', 'X', 'Y', 'A1')\n",
    "phi_C1 = phi_Z\n",
    "phi_C1.product(phi_X)\n",
    "phi_C1.product(phi_Y)\n",
    "phi_C1.product(phi_A1)\n",
    "print(phi_C1)\n",
    "# clique C2: ('Z', 'X', 'Y', 'E')\n",
    "phi_C2 = DiscreteFactor(['Z', 'X', 'Y', 'E'], [2, 2, 2, 2], np.ones(16) )\n",
    "print(phi_C2)\n",
    "# clique C3: ('Z', 'A3', 'Y', 'E')\n",
    "phi_C3 = phi_E\n",
    "phi_C3.product(phi_A3)\n",
    "print(phi_C3)\n",
    "# clique C4: ('Z', 'X', 'D', 'E')\n",
    "phi_C4 = DiscreteFactor(('Z', 'X', 'D', 'E'), [2, 2, 2, 2], np.ones(16))\n",
    "print(phi_C4)\n",
    "# clique C5: ('Z', 'X', 'A2', 'D')\n",
    "phi_C5 = phi_D\n",
    "phi_C5.product(phi_A2)\n",
    "print(phi_C5)\n",
    "# clique C6: ('A4', 'E', 'D', 'F')\n",
    "phi_C6 = phi_F\n",
    "phi_C6.product(phi_A4)\n",
    "print(phi_C6)"
   ],
   "metadata": {
    "collapsed": false,
    "ExecuteTime": {
     "end_time": "2024-05-02T22:27:14.952807Z",
     "start_time": "2024-05-02T22:27:14.947299Z"
    }
   },
   "id": "982ea7635b3ec4b2",
   "outputs": [
    {
     "name": "stdout",
     "output_type": "stream",
     "text": [
      "+------+------+------+-------+-----------------+\n",
      "| X    | Z    | Y    | A1    |   phi(X,Z,Y,A1) |\n",
      "+======+======+======+=======+=================+\n",
      "| X(0) | Z(0) | Y(0) | A1(0) |          0.0000 |\n",
      "+------+------+------+-------+-----------------+\n",
      "| X(0) | Z(0) | Y(0) | A1(1) |          0.0063 |\n",
      "+------+------+------+-------+-----------------+\n",
      "| X(0) | Z(0) | Y(1) | A1(0) |          0.2375 |\n",
      "+------+------+------+-------+-----------------+\n",
      "| X(0) | Z(0) | Y(1) | A1(1) |          0.0063 |\n",
      "+------+------+------+-------+-----------------+\n",
      "| X(0) | Z(1) | Y(0) | A1(0) |          0.2375 |\n",
      "+------+------+------+-------+-----------------+\n",
      "| X(0) | Z(1) | Y(0) | A1(1) |          0.0063 |\n",
      "+------+------+------+-------+-----------------+\n",
      "| X(0) | Z(1) | Y(1) | A1(0) |          0.0000 |\n",
      "+------+------+------+-------+-----------------+\n",
      "| X(0) | Z(1) | Y(1) | A1(1) |          0.0063 |\n",
      "+------+------+------+-------+-----------------+\n",
      "| X(1) | Z(0) | Y(0) | A1(0) |          0.2375 |\n",
      "+------+------+------+-------+-----------------+\n",
      "| X(1) | Z(0) | Y(0) | A1(1) |          0.0063 |\n",
      "+------+------+------+-------+-----------------+\n",
      "| X(1) | Z(0) | Y(1) | A1(0) |          0.2375 |\n",
      "+------+------+------+-------+-----------------+\n",
      "| X(1) | Z(0) | Y(1) | A1(1) |          0.0063 |\n",
      "+------+------+------+-------+-----------------+\n",
      "| X(1) | Z(1) | Y(0) | A1(0) |          0.0000 |\n",
      "+------+------+------+-------+-----------------+\n",
      "| X(1) | Z(1) | Y(0) | A1(1) |          0.0063 |\n",
      "+------+------+------+-------+-----------------+\n",
      "| X(1) | Z(1) | Y(1) | A1(0) |          0.0000 |\n",
      "+------+------+------+-------+-----------------+\n",
      "| X(1) | Z(1) | Y(1) | A1(1) |          0.0063 |\n",
      "+------+------+------+-------+-----------------+\n",
      "+------+------+------+------+----------------+\n",
      "| Z    | X    | Y    | E    |   phi(Z,X,Y,E) |\n",
      "+======+======+======+======+================+\n",
      "| Z(0) | X(0) | Y(0) | E(0) |         1.0000 |\n",
      "+------+------+------+------+----------------+\n",
      "| Z(0) | X(0) | Y(0) | E(1) |         1.0000 |\n",
      "+------+------+------+------+----------------+\n",
      "| Z(0) | X(0) | Y(1) | E(0) |         1.0000 |\n",
      "+------+------+------+------+----------------+\n",
      "| Z(0) | X(0) | Y(1) | E(1) |         1.0000 |\n",
      "+------+------+------+------+----------------+\n",
      "| Z(0) | X(1) | Y(0) | E(0) |         1.0000 |\n",
      "+------+------+------+------+----------------+\n",
      "| Z(0) | X(1) | Y(0) | E(1) |         1.0000 |\n",
      "+------+------+------+------+----------------+\n",
      "| Z(0) | X(1) | Y(1) | E(0) |         1.0000 |\n",
      "+------+------+------+------+----------------+\n",
      "| Z(0) | X(1) | Y(1) | E(1) |         1.0000 |\n",
      "+------+------+------+------+----------------+\n",
      "| Z(1) | X(0) | Y(0) | E(0) |         1.0000 |\n",
      "+------+------+------+------+----------------+\n",
      "| Z(1) | X(0) | Y(0) | E(1) |         1.0000 |\n",
      "+------+------+------+------+----------------+\n",
      "| Z(1) | X(0) | Y(1) | E(0) |         1.0000 |\n",
      "+------+------+------+------+----------------+\n",
      "| Z(1) | X(0) | Y(1) | E(1) |         1.0000 |\n",
      "+------+------+------+------+----------------+\n",
      "| Z(1) | X(1) | Y(0) | E(0) |         1.0000 |\n",
      "+------+------+------+------+----------------+\n",
      "| Z(1) | X(1) | Y(0) | E(1) |         1.0000 |\n",
      "+------+------+------+------+----------------+\n",
      "| Z(1) | X(1) | Y(1) | E(0) |         1.0000 |\n",
      "+------+------+------+------+----------------+\n",
      "| Z(1) | X(1) | Y(1) | E(1) |         1.0000 |\n",
      "+------+------+------+------+----------------+\n",
      "+------+------+------+-------+-----------------+\n",
      "| Y    | E    | Z    | A3    |   phi(Y,E,Z,A3) |\n",
      "+======+======+======+=======+=================+\n",
      "| Y(0) | E(0) | Z(0) | A3(0) |          0.0000 |\n",
      "+------+------+------+-------+-----------------+\n",
      "| Y(0) | E(0) | Z(0) | A3(1) |          0.0250 |\n",
      "+------+------+------+-------+-----------------+\n",
      "| Y(0) | E(0) | Z(1) | A3(0) |          0.9500 |\n",
      "+------+------+------+-------+-----------------+\n",
      "| Y(0) | E(0) | Z(1) | A3(1) |          0.0250 |\n",
      "+------+------+------+-------+-----------------+\n",
      "| Y(0) | E(1) | Z(0) | A3(0) |          0.9500 |\n",
      "+------+------+------+-------+-----------------+\n",
      "| Y(0) | E(1) | Z(0) | A3(1) |          0.0250 |\n",
      "+------+------+------+-------+-----------------+\n",
      "| Y(0) | E(1) | Z(1) | A3(0) |          0.0000 |\n",
      "+------+------+------+-------+-----------------+\n",
      "| Y(0) | E(1) | Z(1) | A3(1) |          0.0250 |\n",
      "+------+------+------+-------+-----------------+\n",
      "| Y(1) | E(0) | Z(0) | A3(0) |          0.9500 |\n",
      "+------+------+------+-------+-----------------+\n",
      "| Y(1) | E(0) | Z(0) | A3(1) |          0.0250 |\n",
      "+------+------+------+-------+-----------------+\n",
      "| Y(1) | E(0) | Z(1) | A3(0) |          0.9500 |\n",
      "+------+------+------+-------+-----------------+\n",
      "| Y(1) | E(0) | Z(1) | A3(1) |          0.0250 |\n",
      "+------+------+------+-------+-----------------+\n",
      "| Y(1) | E(1) | Z(0) | A3(0) |          0.0000 |\n",
      "+------+------+------+-------+-----------------+\n",
      "| Y(1) | E(1) | Z(0) | A3(1) |          0.0250 |\n",
      "+------+------+------+-------+-----------------+\n",
      "| Y(1) | E(1) | Z(1) | A3(0) |          0.0000 |\n",
      "+------+------+------+-------+-----------------+\n",
      "| Y(1) | E(1) | Z(1) | A3(1) |          0.0250 |\n",
      "+------+------+------+-------+-----------------+\n",
      "+------+------+------+------+----------------+\n",
      "| Z    | X    | D    | E    |   phi(Z,X,D,E) |\n",
      "+======+======+======+======+================+\n",
      "| Z(0) | X(0) | D(0) | E(0) |         1.0000 |\n",
      "+------+------+------+------+----------------+\n",
      "| Z(0) | X(0) | D(0) | E(1) |         1.0000 |\n",
      "+------+------+------+------+----------------+\n",
      "| Z(0) | X(0) | D(1) | E(0) |         1.0000 |\n",
      "+------+------+------+------+----------------+\n",
      "| Z(0) | X(0) | D(1) | E(1) |         1.0000 |\n",
      "+------+------+------+------+----------------+\n",
      "| Z(0) | X(1) | D(0) | E(0) |         1.0000 |\n",
      "+------+------+------+------+----------------+\n",
      "| Z(0) | X(1) | D(0) | E(1) |         1.0000 |\n",
      "+------+------+------+------+----------------+\n",
      "| Z(0) | X(1) | D(1) | E(0) |         1.0000 |\n",
      "+------+------+------+------+----------------+\n",
      "| Z(0) | X(1) | D(1) | E(1) |         1.0000 |\n",
      "+------+------+------+------+----------------+\n",
      "| Z(1) | X(0) | D(0) | E(0) |         1.0000 |\n",
      "+------+------+------+------+----------------+\n",
      "| Z(1) | X(0) | D(0) | E(1) |         1.0000 |\n",
      "+------+------+------+------+----------------+\n",
      "| Z(1) | X(0) | D(1) | E(0) |         1.0000 |\n",
      "+------+------+------+------+----------------+\n",
      "| Z(1) | X(0) | D(1) | E(1) |         1.0000 |\n",
      "+------+------+------+------+----------------+\n",
      "| Z(1) | X(1) | D(0) | E(0) |         1.0000 |\n",
      "+------+------+------+------+----------------+\n",
      "| Z(1) | X(1) | D(0) | E(1) |         1.0000 |\n",
      "+------+------+------+------+----------------+\n",
      "| Z(1) | X(1) | D(1) | E(0) |         1.0000 |\n",
      "+------+------+------+------+----------------+\n",
      "| Z(1) | X(1) | D(1) | E(1) |         1.0000 |\n",
      "+------+------+------+------+----------------+\n",
      "+------+-------+------+------+-----------------+\n",
      "| X    | A2    | Z    | D    |   phi(X,A2,Z,D) |\n",
      "+======+=======+======+======+=================+\n",
      "| X(0) | A2(0) | Z(0) | D(0) |          0.0000 |\n",
      "+------+-------+------+------+-----------------+\n",
      "| X(0) | A2(0) | Z(0) | D(1) |          0.9500 |\n",
      "+------+-------+------+------+-----------------+\n",
      "| X(0) | A2(0) | Z(1) | D(0) |          0.9500 |\n",
      "+------+-------+------+------+-----------------+\n",
      "| X(0) | A2(0) | Z(1) | D(1) |          0.0000 |\n",
      "+------+-------+------+------+-----------------+\n",
      "| X(0) | A2(1) | Z(0) | D(0) |          0.0250 |\n",
      "+------+-------+------+------+-----------------+\n",
      "| X(0) | A2(1) | Z(0) | D(1) |          0.0250 |\n",
      "+------+-------+------+------+-----------------+\n",
      "| X(0) | A2(1) | Z(1) | D(0) |          0.0250 |\n",
      "+------+-------+------+------+-----------------+\n",
      "| X(0) | A2(1) | Z(1) | D(1) |          0.0250 |\n",
      "+------+-------+------+------+-----------------+\n",
      "| X(1) | A2(0) | Z(0) | D(0) |          0.9500 |\n",
      "+------+-------+------+------+-----------------+\n",
      "| X(1) | A2(0) | Z(0) | D(1) |          0.0000 |\n",
      "+------+-------+------+------+-----------------+\n",
      "| X(1) | A2(0) | Z(1) | D(0) |          0.9500 |\n",
      "+------+-------+------+------+-----------------+\n",
      "| X(1) | A2(0) | Z(1) | D(1) |          0.0000 |\n",
      "+------+-------+------+------+-----------------+\n",
      "| X(1) | A2(1) | Z(0) | D(0) |          0.0250 |\n",
      "+------+-------+------+------+-----------------+\n",
      "| X(1) | A2(1) | Z(0) | D(1) |          0.0250 |\n",
      "+------+-------+------+------+-----------------+\n",
      "| X(1) | A2(1) | Z(1) | D(0) |          0.0250 |\n",
      "+------+-------+------+------+-----------------+\n",
      "| X(1) | A2(1) | Z(1) | D(1) |          0.0250 |\n",
      "+------+-------+------+------+-----------------+\n",
      "+------+-------+------+------+-----------------+\n",
      "| F    | A4    | E    | D    |   phi(F,A4,E,D) |\n",
      "+======+=======+======+======+=================+\n",
      "| F(0) | A4(0) | E(0) | D(0) |          0.0000 |\n",
      "+------+-------+------+------+-----------------+\n",
      "| F(0) | A4(0) | E(0) | D(1) |          0.9500 |\n",
      "+------+-------+------+------+-----------------+\n",
      "| F(0) | A4(0) | E(1) | D(0) |          0.9500 |\n",
      "+------+-------+------+------+-----------------+\n",
      "| F(0) | A4(0) | E(1) | D(1) |          0.9500 |\n",
      "+------+-------+------+------+-----------------+\n",
      "| F(0) | A4(1) | E(0) | D(0) |          0.0250 |\n",
      "+------+-------+------+------+-----------------+\n",
      "| F(0) | A4(1) | E(0) | D(1) |          0.0250 |\n",
      "+------+-------+------+------+-----------------+\n",
      "| F(0) | A4(1) | E(1) | D(0) |          0.0250 |\n",
      "+------+-------+------+------+-----------------+\n",
      "| F(0) | A4(1) | E(1) | D(1) |          0.0250 |\n",
      "+------+-------+------+------+-----------------+\n",
      "| F(1) | A4(0) | E(0) | D(0) |          0.9500 |\n",
      "+------+-------+------+------+-----------------+\n",
      "| F(1) | A4(0) | E(0) | D(1) |          0.0000 |\n",
      "+------+-------+------+------+-----------------+\n",
      "| F(1) | A4(0) | E(1) | D(0) |          0.0000 |\n",
      "+------+-------+------+------+-----------------+\n",
      "| F(1) | A4(0) | E(1) | D(1) |          0.0000 |\n",
      "+------+-------+------+------+-----------------+\n",
      "| F(1) | A4(1) | E(0) | D(0) |          0.0250 |\n",
      "+------+-------+------+------+-----------------+\n",
      "| F(1) | A4(1) | E(0) | D(1) |          0.0250 |\n",
      "+------+-------+------+------+-----------------+\n",
      "| F(1) | A4(1) | E(1) | D(0) |          0.0250 |\n",
      "+------+-------+------+------+-----------------+\n",
      "| F(1) | A4(1) | E(1) | D(1) |          0.0250 |\n",
      "+------+-------+------+------+-----------------+\n"
     ]
    }
   ],
   "execution_count": 216
  },
  {
   "cell_type": "markdown",
   "source": [
    "## Quantification of the Join Tree\n",
    "\n",
    "The following code quantifies the join tree by adding all the potential functions of the cliques, which are the join tree factors of *Pgmpy* type *DiscreteFactor* objects.\n",
    " \n",
    "To add the factors to the join tree object, *circuit_JT*,  we use the **add_factors()** method of the *Pgmpy* *JunctionTree* object.\n",
    "\n",
    "Next, we use the **check_model()** method of the *pgmpy JunctionTree* object to verify the join tree model."
   ],
   "metadata": {
    "collapsed": false
   },
   "id": "45e236cfb68c26f3"
  },
  {
   "cell_type": "code",
   "source": [
    "circuit_JT.add_factors(phi_C1, phi_C2, phi_C3, phi_C4, phi_C5, phi_C6)\n",
    "circuit_JT.check_model()"
   ],
   "metadata": {
    "collapsed": false,
    "ExecuteTime": {
     "end_time": "2024-05-02T22:27:14.955960Z",
     "start_time": "2024-05-02T22:27:14.953818Z"
    }
   },
   "id": "60ced97272736143",
   "outputs": [
    {
     "data": {
      "text/plain": [
       "True"
      ]
     },
     "execution_count": 217,
     "metadata": {},
     "output_type": "execute_result"
    }
   ],
   "execution_count": 217
  },
  {
   "cell_type": "markdown",
   "source": [
    "## Inference by Belief Propagation\n",
    "\n",
    "The following code imports the **BeliefProbpagation** library from the **Pgmpy.inference.ExactInference** package.\n",
    "\n",
    "The code uses the **query()** method of the **BeliefPropagation** object\n",
    "\n",
    "The query takes two parameters:\n",
    "\n",
    "1. a list of variables on whom the posterior distribution is defined\n",
    "\n",
    "2. a list of observed variable value pairs on which the posterior distribution is conditioned."
   ],
   "metadata": {
    "collapsed": false
   },
   "id": "ac114652e300fbd4"
  },
  {
   "cell_type": "markdown",
   "source": [
    "## Belief Propagation using the Pgmpy Join Tree\n",
    "\n",
    "In the following, we formulate queries for inference tasks using belief propagation with the join tree \n",
    "\n",
    "***JT***\n",
    "\n",
    "computed by the **Pgmpy** method\n",
    "\n",
    "### Query 1.1 Finding the Posterior Probability on assumption variables given evidence e1\n",
    "\n",
    "The query in the code below returns the posterior probability distribution over all four variables\n",
    " \n",
    "['A1', 'A2', 'A3', 'A4'] \n",
    "\n",
    "conditioned on the evidence corresponding to the evidence e1 where the input variables 'X' and 'Y' being on (value 1) and the output variable 'F' being off (value 0). \n",
    "\n",
    "{'X': 1, 'Y': 1, 'F': 0})\n",
    "\n",
    "The posterior probability distribution determines the probability over all single and multiple faults for the circuit components.\n"
   ],
   "metadata": {
    "collapsed": false
   },
   "id": "4328b9c5d23ff0eb"
  },
  {
   "cell_type": "code",
   "source": [
    "from pgmpy.inference.ExactInference import BeliefPropagation\n",
    "\n",
    "belief_propagation = BeliefPropagation(JT)\n",
    "res1 = belief_propagation.query(\n",
    "    variables=['A1', 'A2', 'A3', 'A4'],\n",
    "    evidence={'X': 1, 'Y': 1, 'F': 0})\n",
    "print(res1)"
   ],
   "metadata": {
    "collapsed": false,
    "ExecuteTime": {
     "end_time": "2024-05-03T23:54:55.042745Z",
     "start_time": "2024-05-03T23:54:55.015582Z"
    }
   },
   "id": "fe8bbf1877cced51",
   "outputs": [
    {
     "name": "stdout",
     "output_type": "stream",
     "text": [
      "+-------+-------+-------+-------+--------------------+\n",
      "| A1    | A2    | A3    | A4    |   phi(A1,A2,A3,A4) |\n",
      "+=======+=======+=======+=======+====================+\n",
      "| A1(0) | A2(0) | A3(0) | A4(0) |             0.0000 |\n",
      "+-------+-------+-------+-------+--------------------+\n",
      "| A1(0) | A2(0) | A3(0) | A4(1) |             0.2981 |\n",
      "+-------+-------+-------+-------+--------------------+\n",
      "| A1(0) | A2(0) | A3(1) | A4(0) |             0.2981 |\n",
      "+-------+-------+-------+-------+--------------------+\n",
      "| A1(0) | A2(0) | A3(1) | A4(1) |             0.0157 |\n",
      "+-------+-------+-------+-------+--------------------+\n",
      "| A1(0) | A2(1) | A3(0) | A4(0) |             0.2981 |\n",
      "+-------+-------+-------+-------+--------------------+\n",
      "| A1(0) | A2(1) | A3(0) | A4(1) |             0.0157 |\n",
      "+-------+-------+-------+-------+--------------------+\n",
      "| A1(0) | A2(1) | A3(1) | A4(0) |             0.0235 |\n",
      "+-------+-------+-------+-------+--------------------+\n",
      "| A1(0) | A2(1) | A3(1) | A4(1) |             0.0008 |\n",
      "+-------+-------+-------+-------+--------------------+\n",
      "| A1(1) | A2(0) | A3(0) | A4(0) |             0.0000 |\n",
      "+-------+-------+-------+-------+--------------------+\n",
      "| A1(1) | A2(0) | A3(0) | A4(1) |             0.0157 |\n",
      "+-------+-------+-------+-------+--------------------+\n",
      "| A1(1) | A2(0) | A3(1) | A4(0) |             0.0157 |\n",
      "+-------+-------+-------+-------+--------------------+\n",
      "| A1(1) | A2(0) | A3(1) | A4(1) |             0.0008 |\n",
      "+-------+-------+-------+-------+--------------------+\n",
      "| A1(1) | A2(1) | A3(0) | A4(0) |             0.0157 |\n",
      "+-------+-------+-------+-------+--------------------+\n",
      "| A1(1) | A2(1) | A3(0) | A4(1) |             0.0008 |\n",
      "+-------+-------+-------+-------+--------------------+\n",
      "| A1(1) | A2(1) | A3(1) | A4(0) |             0.0012 |\n",
      "+-------+-------+-------+-------+--------------------+\n",
      "| A1(1) | A2(1) | A3(1) | A4(1) |             0.0000 |\n",
      "+-------+-------+-------+-------+--------------------+\n"
     ]
    }
   ],
   "execution_count": 230
  },
  {
   "cell_type": "markdown",
   "source": [
    "### Query 1.2- Finding the Posterior Probability on assumption variables given evidence e2\n",
    "\n",
    "The query in the code below finds the posterior probability distribution over all four variables, \n",
    "\n",
    "['A1', 'A2', 'A3', 'A4'] \n",
    "\n",
    "given the evidence **e2** where the input variables 'X' and 'Y' are on (value 1), the output variable 'F' is off (value 0), and the output variable 'D' of component #2 is on (value 1)\n",
    "\n",
    "{'X': 1, 'Y': 1, 'F': 0, 'D': 1}\n",
    "\n",
    "The query results are expected to give us a comprehensive probability distribution over all single and multiple faults for the circuit components. \n",
    "\n",
    "Relative to query 1, the results of query 2 due to added observation will significantly strengthen our inference, making it more specific and reliable.."
   ],
   "metadata": {
    "collapsed": false
   },
   "id": "4b7aada72a2fd331"
  },
  {
   "cell_type": "code",
   "source": [
    "from pgmpy.inference.ExactInference import BeliefPropagation\n",
    "\n",
    "belief_propagation = BeliefPropagation(JT)\n",
    "res2 = belief_propagation.query(\n",
    "    variables=['A1', 'A2', 'A3', 'A4'],\n",
    "    evidence={'X': 1, 'Y': 1, 'F': 0, 'D': 1})\n",
    "print(res2)"
   ],
   "metadata": {
    "collapsed": false,
    "ExecuteTime": {
     "end_time": "2024-05-02T22:27:14.966549Z",
     "start_time": "2024-05-02T22:27:14.962150Z"
    }
   },
   "id": "2599819eb159d8c6",
   "outputs": [
    {
     "name": "stdout",
     "output_type": "stream",
     "text": [
      "+-------+-------+-------+-------+--------------------+\n",
      "| A1    | A2    | A3    | A4    |   phi(A1,A2,A3,A4) |\n",
      "+=======+=======+=======+=======+====================+\n",
      "| A1(0) | A2(0) | A3(0) | A4(0) |             0.0000 |\n",
      "+-------+-------+-------+-------+--------------------+\n",
      "| A1(0) | A2(0) | A3(0) | A4(1) |             0.0000 |\n",
      "+-------+-------+-------+-------+--------------------+\n",
      "| A1(0) | A2(0) | A3(1) | A4(0) |             0.0000 |\n",
      "+-------+-------+-------+-------+--------------------+\n",
      "| A1(0) | A2(0) | A3(1) | A4(1) |             0.0000 |\n",
      "+-------+-------+-------+-------+--------------------+\n",
      "| A1(0) | A2(1) | A3(0) | A4(0) |             0.8794 |\n",
      "+-------+-------+-------+-------+--------------------+\n",
      "| A1(0) | A2(1) | A3(0) | A4(1) |             0.0231 |\n",
      "+-------+-------+-------+-------+--------------------+\n",
      "| A1(0) | A2(1) | A3(1) | A4(0) |             0.0463 |\n",
      "+-------+-------+-------+-------+--------------------+\n",
      "| A1(0) | A2(1) | A3(1) | A4(1) |             0.0012 |\n",
      "+-------+-------+-------+-------+--------------------+\n",
      "| A1(1) | A2(0) | A3(0) | A4(0) |             0.0000 |\n",
      "+-------+-------+-------+-------+--------------------+\n",
      "| A1(1) | A2(0) | A3(0) | A4(1) |             0.0000 |\n",
      "+-------+-------+-------+-------+--------------------+\n",
      "| A1(1) | A2(0) | A3(1) | A4(0) |             0.0000 |\n",
      "+-------+-------+-------+-------+--------------------+\n",
      "| A1(1) | A2(0) | A3(1) | A4(1) |             0.0000 |\n",
      "+-------+-------+-------+-------+--------------------+\n",
      "| A1(1) | A2(1) | A3(0) | A4(0) |             0.0463 |\n",
      "+-------+-------+-------+-------+--------------------+\n",
      "| A1(1) | A2(1) | A3(0) | A4(1) |             0.0012 |\n",
      "+-------+-------+-------+-------+--------------------+\n",
      "| A1(1) | A2(1) | A3(1) | A4(0) |             0.0024 |\n",
      "+-------+-------+-------+-------+--------------------+\n",
      "| A1(1) | A2(1) | A3(1) | A4(1) |             0.0001 |\n",
      "+-------+-------+-------+-------+--------------------+\n"
     ]
    }
   ],
   "execution_count": 219
  },
  {
   "cell_type": "markdown",
   "source": [
    "## Query 1.3- Computing the MAP for assumption variables given evidence e1\n",
    "\n",
    "The query in the code below is designed to compute the Maximum Posteriori Hypothesis (MAP) over all four variables,\n",
    "\n",
    "['A1', 'A2', 'A3', 'A4'],\n",
    "\n",
    "subject to the evidence **e1** where the input variables 'X' and 'Y' are on (value 1) and the output variable 'F' is off (value 0),\n",
    "\n",
    "{'X': 1, 'Y': 1, 'F': 0})\n",
    "\n",
    "The MAP query is designed to return the value assignment for the four assumption variables, which have the maximum posterior probability over all value instantiations of other unobserved variables, given the evidence **e1**. "
   ],
   "metadata": {
    "collapsed": false
   },
   "id": "cb254cff092db62"
  },
  {
   "cell_type": "code",
   "source": [
    "from pgmpy.inference.ExactInference import BeliefPropagation\n",
    "\n",
    "belief_propagation = BeliefPropagation(JT)\n",
    "res3 = belief_propagation.map_query(\n",
    "    variables=['A1', 'A2', 'A3', 'A4'],\n",
    "    evidence={'X': 1, 'Y': 1, 'F': 0})\n",
    "print(res3)"
   ],
   "metadata": {
    "collapsed": false,
    "ExecuteTime": {
     "end_time": "2024-05-02T22:27:14.971063Z",
     "start_time": "2024-05-02T22:27:14.967117Z"
    }
   },
   "id": "6d92377aab2ed8cb",
   "outputs": [
    {
     "name": "stdout",
     "output_type": "stream",
     "text": [
      "{'A1': 0, 'A2': 0, 'A3': 1, 'A4': 0}\n"
     ]
    }
   ],
   "execution_count": 220
  },
  {
   "cell_type": "markdown",
   "source": [
    "## Query 1.4- Computing the MAP for assumption variables given evidence e2\n",
    "\n",
    "The query in the code below is designed to compute the Maximum Posteriori Hypothesis (MAP) over all four variables,\n",
    "\n",
    "['A1', 'A2', 'A3', 'A4'],\n",
    "\n",
    "given the evidence **e2** where the input variables 'X' and 'Y' are on (value 1), the output variable 'F' is off (value 0), and the output variable 'D' of component #2 is on (value 1)\n",
    "\n",
    "{'X': 1, 'Y': 1, 'F': 0, 'D': 1}\n",
    "\n",
    "Relative to query 3, the results of query 4 due to added observation will significantly strengthen our confidence in the computed maximum posterior hypothesis."
   ],
   "metadata": {
    "collapsed": false
   },
   "id": "67ea41874f305117"
  },
  {
   "cell_type": "code",
   "source": [
    "from pgmpy.inference.ExactInference import BeliefPropagation\n",
    "\n",
    "belief_propagation = BeliefPropagation(JT)\n",
    "res4 = belief_propagation.map_query(\n",
    "    variables=['A1', 'A2', 'A3', 'A4'],\n",
    "    evidence={'X': 1, 'Y': 1, 'F': 0, 'D': 1})\n",
    "print(res4)"
   ],
   "metadata": {
    "collapsed": false,
    "ExecuteTime": {
     "end_time": "2024-05-02T22:27:14.975689Z",
     "start_time": "2024-05-02T22:27:14.971772Z"
    }
   },
   "id": "bb41c078e7c12a78",
   "outputs": [
    {
     "name": "stdout",
     "output_type": "stream",
     "text": [
      "{'A1': 0, 'A2': 1, 'A3': 0, 'A4': 0}\n"
     ]
    }
   ],
   "execution_count": 221
  },
  {
   "cell_type": "markdown",
   "source": [
    "## Query 1.5- Computing the MPE given evidence e1\n",
    "\n",
    "The code below computes the most probable explanation (MPE) over the unobserved variables,\n",
    " \n",
    "['A1', 'A2', 'A3', 'A4', 'Z', 'D', 'E']\n",
    "\n",
    "subject to the evidence **e1** where the input variables 'X' and 'Y' are on (value 1) and the output variable 'F' is off (value 0),\n",
    "\n",
    "{'X': 1, 'Y': 1, 'F': 0})"
   ],
   "metadata": {
    "collapsed": false
   },
   "id": "b5e41fe8a4b274a8"
  },
  {
   "cell_type": "code",
   "source": [
    "from pgmpy.inference.ExactInference import BeliefPropagation\n",
    "\n",
    "belief_propagation = BeliefPropagation(JT)\n",
    "res5 = belief_propagation.map_query(\n",
    "    variables=['A1', 'A2', 'A3', 'A4', 'Z', 'D', 'E'],\n",
    "    evidence={'X': 1, 'Y': 1, 'F': 0})\n",
    "print(res5)"
   ],
   "metadata": {
    "collapsed": false,
    "ExecuteTime": {
     "end_time": "2024-05-02T22:27:14.980483Z",
     "start_time": "2024-05-02T22:27:14.976343Z"
    }
   },
   "id": "901119e120777257",
   "outputs": [
    {
     "name": "stdout",
     "output_type": "stream",
     "text": [
      "{'A1': 0, 'A2': 0, 'A3': 1, 'A4': 0, 'Z': 0, 'D': 0, 'E': 1}\n"
     ]
    }
   ],
   "execution_count": 222
  },
  {
   "cell_type": "markdown",
   "source": [
    "### Query 1.6- Computing the MPE given evidence e2\n",
    "\n",
    "The code below computes the most probable explanation (MPE) over the unobserved variables,\n",
    " \n",
    "['A1', 'A2', 'A3', 'A4', 'Z', 'E']\n",
    "\n",
    "given the evidence **e2** where the input variables 'X' and 'Y' are on (value 1), the output variable 'F' is off (value 0), and the output variable 'D' of component #2 is on (value 1)\n",
    "\n",
    "{'X': 1, 'Y': 1, 'F': 0, 'D': 1}"
   ],
   "metadata": {
    "collapsed": false
   },
   "id": "2fca5a349802c4ae"
  },
  {
   "cell_type": "code",
   "source": [
    "from pgmpy.inference.ExactInference import BeliefPropagation\n",
    "\n",
    "belief_propagation = BeliefPropagation(JT)\n",
    "res6 = belief_propagation.map_query(\n",
    "     variables=['A1', 'A2', 'A3', 'A4', 'Z', 'E'],\n",
    "    evidence={'X': 1, 'Y': 1, 'F': 0, 'D': 1})\n",
    "print(res6)\n"
   ],
   "metadata": {
    "collapsed": false,
    "ExecuteTime": {
     "end_time": "2024-05-02T22:27:14.986033Z",
     "start_time": "2024-05-02T22:27:14.981193Z"
    }
   },
   "id": "f688bb6fa64e153f",
   "outputs": [
    {
     "name": "stdout",
     "output_type": "stream",
     "text": [
      "{'A1': 0, 'A2': 1, 'A3': 0, 'A4': 0, 'Z': 0, 'E': 0}\n"
     ]
    }
   ],
   "execution_count": 223
  },
  {
   "cell_type": "markdown",
   "source": [
    "## Belief Propagation Computed by the Tree Clustering Algorithm\n",
    "\n",
    "In the following, we formulate queries for inference tasks using belief propagation with the join tree \n",
    "\n",
    "***circuit_JT***\n",
    "\n",
    "computed by the *Tree Clustering Algorithm*.\n",
    "\n",
    "### Query 2.1- Finding the Posterior Probability on assumption variables given evidence e1\n",
    "\n",
    "The query in the code below returns the posterior probability distribution over all four variables\n",
    " \n",
    "['A1', 'A2', 'A3', 'A4'] \n",
    "\n",
    "conditioned on the evidence corresponding to the evidence e1 where the input variables 'X' and 'Y' being on (value 1) and the output variable 'F' being off (value 0). \n",
    "\n",
    "{'X': 1, 'Y': 1, 'F': 0})\n",
    "\n",
    "The posterior probability distribution determines the probability over all single and multiple faults for the circuit components."
   ],
   "metadata": {
    "collapsed": false
   },
   "id": "88300ba55f2bb27a"
  },
  {
   "cell_type": "code",
   "source": [
    "from pgmpy.inference.ExactInference import BeliefPropagation\n",
    "\n",
    "belief_propagation = BeliefPropagation(circuit_JT)\n",
    "res1 = belief_propagation.query(\n",
    "    variables=['A1', 'A2', 'A3', 'A4'],\n",
    "    evidence={'X': 1, 'Y': 1, 'F': 0})\n",
    "print(res1)"
   ],
   "metadata": {
    "collapsed": false,
    "ExecuteTime": {
     "end_time": "2024-05-02T22:27:14.994505Z",
     "start_time": "2024-05-02T22:27:14.986648Z"
    }
   },
   "id": "1af447846c8d130e",
   "outputs": [
    {
     "name": "stdout",
     "output_type": "stream",
     "text": [
      "+-------+-------+-------+-------+--------------------+\n",
      "| A1    | A2    | A3    | A4    |   phi(A1,A2,A3,A4) |\n",
      "+=======+=======+=======+=======+====================+\n",
      "| A1(0) | A2(0) | A3(0) | A4(0) |             0.0000 |\n",
      "+-------+-------+-------+-------+--------------------+\n",
      "| A1(0) | A2(0) | A3(0) | A4(1) |             0.2981 |\n",
      "+-------+-------+-------+-------+--------------------+\n",
      "| A1(0) | A2(0) | A3(1) | A4(0) |             0.2981 |\n",
      "+-------+-------+-------+-------+--------------------+\n",
      "| A1(0) | A2(0) | A3(1) | A4(1) |             0.0157 |\n",
      "+-------+-------+-------+-------+--------------------+\n",
      "| A1(0) | A2(1) | A3(0) | A4(0) |             0.2981 |\n",
      "+-------+-------+-------+-------+--------------------+\n",
      "| A1(0) | A2(1) | A3(0) | A4(1) |             0.0157 |\n",
      "+-------+-------+-------+-------+--------------------+\n",
      "| A1(0) | A2(1) | A3(1) | A4(0) |             0.0235 |\n",
      "+-------+-------+-------+-------+--------------------+\n",
      "| A1(0) | A2(1) | A3(1) | A4(1) |             0.0008 |\n",
      "+-------+-------+-------+-------+--------------------+\n",
      "| A1(1) | A2(0) | A3(0) | A4(0) |             0.0000 |\n",
      "+-------+-------+-------+-------+--------------------+\n",
      "| A1(1) | A2(0) | A3(0) | A4(1) |             0.0157 |\n",
      "+-------+-------+-------+-------+--------------------+\n",
      "| A1(1) | A2(0) | A3(1) | A4(0) |             0.0157 |\n",
      "+-------+-------+-------+-------+--------------------+\n",
      "| A1(1) | A2(0) | A3(1) | A4(1) |             0.0008 |\n",
      "+-------+-------+-------+-------+--------------------+\n",
      "| A1(1) | A2(1) | A3(0) | A4(0) |             0.0157 |\n",
      "+-------+-------+-------+-------+--------------------+\n",
      "| A1(1) | A2(1) | A3(0) | A4(1) |             0.0008 |\n",
      "+-------+-------+-------+-------+--------------------+\n",
      "| A1(1) | A2(1) | A3(1) | A4(0) |             0.0012 |\n",
      "+-------+-------+-------+-------+--------------------+\n",
      "| A1(1) | A2(1) | A3(1) | A4(1) |             0.0000 |\n",
      "+-------+-------+-------+-------+--------------------+\n"
     ]
    }
   ],
   "execution_count": 224
  },
  {
   "cell_type": "markdown",
   "source": [
    "### Query 2.2- Finding the Posterior Probability on assumption variables given evidence e2\n",
    "\n",
    "The query in the code below finds the posterior probability distribution over all four variables, \n",
    "\n",
    "['A1', 'A2', 'A3', 'A4'] \n",
    "\n",
    "given the evidence **e2** where the input variables 'X' and 'Y' are on (value 1), the output variable 'F' is off (value 0), and the output variable 'D' of component #2 is on (value 1)\n",
    "\n",
    "{'X': 1, 'Y': 1, 'F': 0, 'D': 1}\n",
    "\n",
    "The query results are expected to give us a comprehensive probability distribution over all single and multiple faults for the circuit components. \n",
    "\n",
    "Relative to query 1, the results of query 2 due to added observation will significantly strengthen our inference, making it more specific and reliable."
   ],
   "metadata": {
    "collapsed": false
   },
   "id": "4bd37c09feeced1b"
  },
  {
   "cell_type": "code",
   "source": [
    "from pgmpy.inference.ExactInference import BeliefPropagation\n",
    "\n",
    "belief_propagation = BeliefPropagation(circuit_JT)\n",
    "res2 = belief_propagation.query(\n",
    "    variables=['A1', 'A2', 'A3', 'A4'],\n",
    "    evidence={'X': 1, 'Y': 1, 'F': 0, 'D': 1})\n",
    "print(res2)"
   ],
   "metadata": {
    "collapsed": false,
    "ExecuteTime": {
     "end_time": "2024-05-02T22:27:15.003208Z",
     "start_time": "2024-05-02T22:27:14.995323Z"
    }
   },
   "id": "3d3cb097fe911ee0",
   "outputs": [
    {
     "name": "stdout",
     "output_type": "stream",
     "text": [
      "+-------+-------+-------+-------+--------------------+\n",
      "| A1    | A2    | A3    | A4    |   phi(A1,A2,A3,A4) |\n",
      "+=======+=======+=======+=======+====================+\n",
      "| A1(0) | A2(0) | A3(0) | A4(0) |             0.0000 |\n",
      "+-------+-------+-------+-------+--------------------+\n",
      "| A1(0) | A2(0) | A3(0) | A4(1) |             0.0000 |\n",
      "+-------+-------+-------+-------+--------------------+\n",
      "| A1(0) | A2(0) | A3(1) | A4(0) |             0.0000 |\n",
      "+-------+-------+-------+-------+--------------------+\n",
      "| A1(0) | A2(0) | A3(1) | A4(1) |             0.0000 |\n",
      "+-------+-------+-------+-------+--------------------+\n",
      "| A1(0) | A2(1) | A3(0) | A4(0) |             0.8794 |\n",
      "+-------+-------+-------+-------+--------------------+\n",
      "| A1(0) | A2(1) | A3(0) | A4(1) |             0.0231 |\n",
      "+-------+-------+-------+-------+--------------------+\n",
      "| A1(0) | A2(1) | A3(1) | A4(0) |             0.0463 |\n",
      "+-------+-------+-------+-------+--------------------+\n",
      "| A1(0) | A2(1) | A3(1) | A4(1) |             0.0012 |\n",
      "+-------+-------+-------+-------+--------------------+\n",
      "| A1(1) | A2(0) | A3(0) | A4(0) |             0.0000 |\n",
      "+-------+-------+-------+-------+--------------------+\n",
      "| A1(1) | A2(0) | A3(0) | A4(1) |             0.0000 |\n",
      "+-------+-------+-------+-------+--------------------+\n",
      "| A1(1) | A2(0) | A3(1) | A4(0) |             0.0000 |\n",
      "+-------+-------+-------+-------+--------------------+\n",
      "| A1(1) | A2(0) | A3(1) | A4(1) |             0.0000 |\n",
      "+-------+-------+-------+-------+--------------------+\n",
      "| A1(1) | A2(1) | A3(0) | A4(0) |             0.0463 |\n",
      "+-------+-------+-------+-------+--------------------+\n",
      "| A1(1) | A2(1) | A3(0) | A4(1) |             0.0012 |\n",
      "+-------+-------+-------+-------+--------------------+\n",
      "| A1(1) | A2(1) | A3(1) | A4(0) |             0.0024 |\n",
      "+-------+-------+-------+-------+--------------------+\n",
      "| A1(1) | A2(1) | A3(1) | A4(1) |             0.0001 |\n",
      "+-------+-------+-------+-------+--------------------+\n"
     ]
    }
   ],
   "execution_count": 225
  },
  {
   "metadata": {},
   "cell_type": "markdown",
   "source": [
    "## Query 2.3- Computing the MAP for assumption variables given evidence e1\n",
    "\n",
    "The query in the code below is designed to compute the Maximum Posteriori Hypothesis (MAP) over all four variables,\n",
    "\n",
    "['A1', 'A2', 'A3', 'A4'],\n",
    "\n",
    "subject to the evidence **e1** where the input variables 'X' and 'Y' are on (value 1) and the output variable 'F' is off (value 0),\n",
    "\n",
    "{'X': 1, 'Y': 1, 'F': 0})\n",
    "\n",
    "The MAP query is designed to return the value assignment for the four assumption variables, which have the maximum posterior probability over all value instantiations of other unobserved variables, given the evidence **e1**. "
   ],
   "id": "23ab6c26db41861a"
  },
  {
   "metadata": {
    "ExecuteTime": {
     "end_time": "2024-05-02T22:27:15.009736Z",
     "start_time": "2024-05-02T22:27:15.003710Z"
    }
   },
   "cell_type": "code",
   "source": [
    "from pgmpy.inference.ExactInference import BeliefPropagation\n",
    "\n",
    "belief_propagation = BeliefPropagation(circuit_JT)\n",
    "res3 = belief_propagation.map_query(\n",
    "    variables=['A1', 'A2', 'A3', 'A4'],\n",
    "    evidence={'X': 1, 'Y': 1, 'F': 0})\n",
    "print(res3)"
   ],
   "id": "f605ffcacad599f4",
   "outputs": [
    {
     "name": "stdout",
     "output_type": "stream",
     "text": [
      "{'A1': 0, 'A2': 0, 'A3': 1, 'A4': 0}\n"
     ]
    }
   ],
   "execution_count": 226
  },
  {
   "metadata": {},
   "cell_type": "markdown",
   "source": [
    "## Query 2.4- Computing the MAP for assumption variables given evidence e2\n",
    "\n",
    "The query in the code below is designed to compute the Maximum Posteriori Hypothesis (MAP) over all four variables,\n",
    "\n",
    "['A1', 'A2', 'A3', 'A4'],\n",
    "\n",
    "given the evidence **e2** where the input variables 'X' and 'Y' are on (value 1), the output variable 'F' is off (value 0), and the output variable 'D' of component #2 is on (value 1)\n",
    "\n",
    "{'X': 1, 'Y': 1, 'F': 0, 'D': 1}\n",
    "\n",
    "Relative to query 3, the results of query 4 due to added observation will significantly strengthen our confidence in the computed maximum posterior hypothesis."
   ],
   "id": "f4d5d45439a51823"
  },
  {
   "metadata": {
    "ExecuteTime": {
     "end_time": "2024-05-02T22:27:15.017900Z",
     "start_time": "2024-05-02T22:27:15.010559Z"
    }
   },
   "cell_type": "code",
   "source": [
    "from pgmpy.inference.ExactInference import BeliefPropagation\n",
    "\n",
    "belief_propagation = BeliefPropagation(circuit_JT)\n",
    "res4 = belief_propagation.map_query(\n",
    "    variables=['A1', 'A2', 'A3', 'A4'],\n",
    "    evidence={'X': 1, 'Y': 1, 'F': 0, 'D': 1})\n",
    "print(res4)"
   ],
   "id": "b42c4bf5048f6636",
   "outputs": [
    {
     "name": "stdout",
     "output_type": "stream",
     "text": [
      "{'A1': 0, 'A2': 1, 'A3': 0, 'A4': 0}\n"
     ]
    }
   ],
   "execution_count": 227
  },
  {
   "cell_type": "markdown",
   "source": [
    "## Query 2.5- Computing the MPE given evidence e1\n",
    "\n",
    "The code below computes the most probable explanation (MPE) over the unobserved variables,\n",
    " \n",
    "['A1', 'A2', 'A3', 'A4', 'Z', 'D', 'E']\n",
    "\n",
    "subject to the evidence **e1** where the input variables 'X' and 'Y' are on (value 1) and the output variable 'F' is off (value 0),\n",
    "\n",
    "{'X': 1, 'Y': 1, 'F': 0})\n"
   ],
   "metadata": {
    "collapsed": false
   },
   "id": "c946b1fd9edaa661"
  },
  {
   "cell_type": "code",
   "source": [
    "from pgmpy.inference.ExactInference import BeliefPropagation\n",
    "\n",
    "belief_propagation = BeliefPropagation(circuit_JT)\n",
    "res5 = belief_propagation.map_query(\n",
    "    variables=['A1', 'A2', 'A3', 'A4','Z', 'D','E'],\n",
    "    evidence={'X': 1, 'Y': 1, 'F': 0})\n",
    "print(res5)"
   ],
   "metadata": {
    "collapsed": false,
    "ExecuteTime": {
     "end_time": "2024-05-02T22:27:15.028764Z",
     "start_time": "2024-05-02T22:27:15.022556Z"
    }
   },
   "id": "2652103bde902444",
   "outputs": [
    {
     "name": "stdout",
     "output_type": "stream",
     "text": [
      "{'A1': 0, 'A2': 0, 'A3': 0, 'A4': 1, 'Z': 0, 'D': 0, 'E': 0}\n"
     ]
    }
   ],
   "execution_count": 228
  },
  {
   "cell_type": "markdown",
   "source": [
    "### Query 2.6- Computing the MPE given evidence e2\n",
    "\n",
    "The code below computes the most probable explanation (MPE) over the unobserved variables,\n",
    " \n",
    "['A1', 'A2', 'A3', 'A4', 'Z', 'E']\n",
    "\n",
    "given the evidence **e2** where the input variables 'X' and 'Y' are on (value 1), the output variable 'F' is off (value 0), and the output variable 'D' of component #2 is on (value 1)\n",
    "\n",
    "{'X': 1, 'Y': 1, 'F': 0, 'D': 1} "
   ],
   "metadata": {
    "collapsed": false
   },
   "id": "a5836ecc557c6caa"
  },
  {
   "cell_type": "code",
   "source": [
    "from pgmpy.inference.ExactInference import BeliefPropagation\n",
    "\n",
    "belief_propagation = BeliefPropagation(circuit_JT)\n",
    "res6 = belief_propagation.map_query(\n",
    "     variables=['A1', 'A2', 'A3', 'A4', 'Z', 'E'],\n",
    "    evidence={'X': 1, 'Y': 1, 'F': 0, 'D': 1})\n",
    "print(res6)"
   ],
   "metadata": {
    "collapsed": false,
    "ExecuteTime": {
     "end_time": "2024-05-02T22:27:15.035985Z",
     "start_time": "2024-05-02T22:27:15.029395Z"
    }
   },
   "id": "147d877751c89231",
   "outputs": [
    {
     "name": "stdout",
     "output_type": "stream",
     "text": [
      "{'A1': 0, 'A2': 1, 'A3': 0, 'A4': 0, 'Z': 0, 'E': 0}\n"
     ]
    }
   ],
   "execution_count": 229
  }
 ],
 "metadata": {
  "kernelspec": {
   "display_name": "Python 3",
   "language": "python",
   "name": "python3"
  },
  "language_info": {
   "codemirror_mode": {
    "name": "ipython",
    "version": 2
   },
   "file_extension": ".py",
   "mimetype": "text/x-python",
   "name": "python",
   "nbconvert_exporter": "python",
   "pygments_lexer": "ipython2",
   "version": "2.7.6"
  }
 },
 "nbformat": 4,
 "nbformat_minor": 5
}
