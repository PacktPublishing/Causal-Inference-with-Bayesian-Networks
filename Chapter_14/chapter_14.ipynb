{
 "cells": [
  {
   "cell_type": "markdown",
   "id": "015e2b51-b6bb-4ec8-b405-6f356af9d20a",
   "metadata": {},
   "source": [
    "## Chapter 14: Causal Social Science Research "
   ]
  },
  {
   "cell_type": "code",
   "execution_count": 1,
   "id": "802beadb-dd0e-4d53-9ccb-cde73d313386",
   "metadata": {},
   "outputs": [],
   "source": [
    "import numpy as np\n",
    "import pandas as pd\n",
    "import matplotlib.pyplot as plt\n",
    "import seaborn as sns\n",
    "import statsmodels.api as sm\n",
    "import requests\n",
    "import zipfile\n",
    "from io import BytesIO, TextIOWrapper\n",
    "from causallib.estimation import IPW\n",
    "from causallib.evaluation import evaluate\n",
    "from sklearn.linear_model import LogisticRegression\n",
    "\n",
    "%matplotlib inline"
   ]
  },
  {
   "cell_type": "code",
   "execution_count": 2,
   "id": "1578b301-c96d-4c01-9795-812bae2b4778",
   "metadata": {},
   "outputs": [],
   "source": [
    "import warnings\n",
    "warnings.filterwarnings('ignore')"
   ]
  },
  {
   "cell_type": "markdown",
   "id": "a1447bf4-d1cc-4b1b-bf3d-de9a4564f676",
   "metadata": {},
   "source": [
    "### Loading the datasets"
   ]
  },
  {
   "cell_type": "code",
   "execution_count": 3,
   "id": "ed8314ed",
   "metadata": {},
   "outputs": [],
   "source": [
    "# Download and unzip NJ minimum wage dataset\n",
    "url = \"https://davidcard.berkeley.edu/data_sets/njmin.zip\"\n",
    "response = requests.get(url)\n",
    "z = zipfile.ZipFile(BytesIO(response.content))\n",
    "\n",
    "# Load the main dataset\n",
    "df = (\n",
    "    pd.read_csv(\n",
    "        z.open(\"public.dat\"),\n",
    "        sep=r\"\\s+\",\n",
    "        header=None,\n",
    "        engine=\"python\"\n",
    "    )\n",
    "    .applymap(lambda x: pd.to_numeric(x, errors=\"coerce\"))\n",
    ")\n",
    "\n",
    "# Read the codebook (contains column names and descriptions)\n",
    "with TextIOWrapper(z.open(\"codebook\"), encoding=\"cp437\") as f:\n",
    "    codebook = f.readlines()\n",
    "\n",
    "# Extract relevant lines (skip formatting/headers)\n",
    "relevant_lines = (\n",
    "    codebook[7:11] + codebook[13:19] + codebook[21:38] + codebook[40:59]\n",
    ")\n",
    "\n",
    "# Parse column names and descriptions\n",
    "cols = [line.split()[0] for line in relevant_lines]\n",
    "descriptions = [\" \".join(line.split()[4:]).strip() for line in relevant_lines]\n",
    "\n",
    "# Assign column names\n",
    "df.columns = cols\n",
    "\n",
    "# Create dictionary of column -> description\n",
    "column_descriptions = dict(zip(cols, descriptions))"
   ]
  },
  {
   "cell_type": "code",
   "execution_count": 4,
   "id": "23d890ec",
   "metadata": {},
   "outputs": [
    {
     "data": {
      "text/html": [
       "<div>\n",
       "<style scoped>\n",
       "    .dataframe tbody tr th:only-of-type {\n",
       "        vertical-align: middle;\n",
       "    }\n",
       "\n",
       "    .dataframe tbody tr th {\n",
       "        vertical-align: top;\n",
       "    }\n",
       "\n",
       "    .dataframe thead th {\n",
       "        text-align: right;\n",
       "    }\n",
       "</style>\n",
       "<table border=\"1\" class=\"dataframe\">\n",
       "  <thead>\n",
       "    <tr style=\"text-align: right;\">\n",
       "      <th></th>\n",
       "      <th>SHEET</th>\n",
       "      <th>CHAIN</th>\n",
       "      <th>CO_OWNED</th>\n",
       "      <th>STATE</th>\n",
       "      <th>SOUTHJ</th>\n",
       "      <th>CENTRALJ</th>\n",
       "      <th>NORTHJ</th>\n",
       "      <th>PA1</th>\n",
       "      <th>PA2</th>\n",
       "      <th>SHORE</th>\n",
       "      <th>...</th>\n",
       "      <th>FIRSTIN2</th>\n",
       "      <th>SPECIAL2</th>\n",
       "      <th>MEALS2</th>\n",
       "      <th>OPEN2R</th>\n",
       "      <th>HRSOPEN2</th>\n",
       "      <th>PSODA2</th>\n",
       "      <th>PFRY2</th>\n",
       "      <th>PENTREE2</th>\n",
       "      <th>NREGS2</th>\n",
       "      <th>NREGS112</th>\n",
       "    </tr>\n",
       "  </thead>\n",
       "  <tbody>\n",
       "    <tr>\n",
       "      <th>0</th>\n",
       "      <td>46</td>\n",
       "      <td>1</td>\n",
       "      <td>0</td>\n",
       "      <td>0</td>\n",
       "      <td>0</td>\n",
       "      <td>0</td>\n",
       "      <td>0</td>\n",
       "      <td>1</td>\n",
       "      <td>0</td>\n",
       "      <td>0</td>\n",
       "      <td>...</td>\n",
       "      <td>0.08</td>\n",
       "      <td>1.0</td>\n",
       "      <td>2.0</td>\n",
       "      <td>6.5</td>\n",
       "      <td>16.5</td>\n",
       "      <td>1.03</td>\n",
       "      <td>NaN</td>\n",
       "      <td>0.94</td>\n",
       "      <td>4.0</td>\n",
       "      <td>4.0</td>\n",
       "    </tr>\n",
       "    <tr>\n",
       "      <th>1</th>\n",
       "      <td>49</td>\n",
       "      <td>2</td>\n",
       "      <td>0</td>\n",
       "      <td>0</td>\n",
       "      <td>0</td>\n",
       "      <td>0</td>\n",
       "      <td>0</td>\n",
       "      <td>1</td>\n",
       "      <td>0</td>\n",
       "      <td>0</td>\n",
       "      <td>...</td>\n",
       "      <td>0.05</td>\n",
       "      <td>0.0</td>\n",
       "      <td>2.0</td>\n",
       "      <td>10.0</td>\n",
       "      <td>13.0</td>\n",
       "      <td>1.01</td>\n",
       "      <td>0.89</td>\n",
       "      <td>2.35</td>\n",
       "      <td>4.0</td>\n",
       "      <td>4.0</td>\n",
       "    </tr>\n",
       "    <tr>\n",
       "      <th>2</th>\n",
       "      <td>506</td>\n",
       "      <td>2</td>\n",
       "      <td>1</td>\n",
       "      <td>0</td>\n",
       "      <td>0</td>\n",
       "      <td>0</td>\n",
       "      <td>0</td>\n",
       "      <td>1</td>\n",
       "      <td>0</td>\n",
       "      <td>0</td>\n",
       "      <td>...</td>\n",
       "      <td>0.25</td>\n",
       "      <td>NaN</td>\n",
       "      <td>1.0</td>\n",
       "      <td>11.0</td>\n",
       "      <td>11.0</td>\n",
       "      <td>0.95</td>\n",
       "      <td>0.74</td>\n",
       "      <td>2.33</td>\n",
       "      <td>4.0</td>\n",
       "      <td>3.0</td>\n",
       "    </tr>\n",
       "    <tr>\n",
       "      <th>3</th>\n",
       "      <td>56</td>\n",
       "      <td>4</td>\n",
       "      <td>1</td>\n",
       "      <td>0</td>\n",
       "      <td>0</td>\n",
       "      <td>0</td>\n",
       "      <td>0</td>\n",
       "      <td>1</td>\n",
       "      <td>0</td>\n",
       "      <td>0</td>\n",
       "      <td>...</td>\n",
       "      <td>0.15</td>\n",
       "      <td>0.0</td>\n",
       "      <td>2.0</td>\n",
       "      <td>10.0</td>\n",
       "      <td>12.0</td>\n",
       "      <td>0.92</td>\n",
       "      <td>0.79</td>\n",
       "      <td>0.87</td>\n",
       "      <td>2.0</td>\n",
       "      <td>2.0</td>\n",
       "    </tr>\n",
       "    <tr>\n",
       "      <th>4</th>\n",
       "      <td>61</td>\n",
       "      <td>4</td>\n",
       "      <td>1</td>\n",
       "      <td>0</td>\n",
       "      <td>0</td>\n",
       "      <td>0</td>\n",
       "      <td>0</td>\n",
       "      <td>1</td>\n",
       "      <td>0</td>\n",
       "      <td>0</td>\n",
       "      <td>...</td>\n",
       "      <td>0.15</td>\n",
       "      <td>0.0</td>\n",
       "      <td>2.0</td>\n",
       "      <td>10.0</td>\n",
       "      <td>12.0</td>\n",
       "      <td>1.01</td>\n",
       "      <td>0.84</td>\n",
       "      <td>0.95</td>\n",
       "      <td>2.0</td>\n",
       "      <td>2.0</td>\n",
       "    </tr>\n",
       "    <tr>\n",
       "      <th>...</th>\n",
       "      <td>...</td>\n",
       "      <td>...</td>\n",
       "      <td>...</td>\n",
       "      <td>...</td>\n",
       "      <td>...</td>\n",
       "      <td>...</td>\n",
       "      <td>...</td>\n",
       "      <td>...</td>\n",
       "      <td>...</td>\n",
       "      <td>...</td>\n",
       "      <td>...</td>\n",
       "      <td>...</td>\n",
       "      <td>...</td>\n",
       "      <td>...</td>\n",
       "      <td>...</td>\n",
       "      <td>...</td>\n",
       "      <td>...</td>\n",
       "      <td>...</td>\n",
       "      <td>...</td>\n",
       "      <td>...</td>\n",
       "      <td>...</td>\n",
       "    </tr>\n",
       "    <tr>\n",
       "      <th>405</th>\n",
       "      <td>423</td>\n",
       "      <td>2</td>\n",
       "      <td>1</td>\n",
       "      <td>1</td>\n",
       "      <td>0</td>\n",
       "      <td>0</td>\n",
       "      <td>1</td>\n",
       "      <td>0</td>\n",
       "      <td>0</td>\n",
       "      <td>0</td>\n",
       "      <td>...</td>\n",
       "      <td>0.50</td>\n",
       "      <td>0.0</td>\n",
       "      <td>1.0</td>\n",
       "      <td>11.0</td>\n",
       "      <td>11.0</td>\n",
       "      <td>1.05</td>\n",
       "      <td>0.84</td>\n",
       "      <td>2.32</td>\n",
       "      <td>3.0</td>\n",
       "      <td>2.0</td>\n",
       "    </tr>\n",
       "    <tr>\n",
       "      <th>406</th>\n",
       "      <td>424</td>\n",
       "      <td>2</td>\n",
       "      <td>1</td>\n",
       "      <td>1</td>\n",
       "      <td>0</td>\n",
       "      <td>0</td>\n",
       "      <td>1</td>\n",
       "      <td>0</td>\n",
       "      <td>0</td>\n",
       "      <td>0</td>\n",
       "      <td>...</td>\n",
       "      <td>0.50</td>\n",
       "      <td>0.0</td>\n",
       "      <td>1.0</td>\n",
       "      <td>11.0</td>\n",
       "      <td>14.0</td>\n",
       "      <td>1.05</td>\n",
       "      <td>0.94</td>\n",
       "      <td>2.32</td>\n",
       "      <td>5.0</td>\n",
       "      <td>3.0</td>\n",
       "    </tr>\n",
       "    <tr>\n",
       "      <th>407</th>\n",
       "      <td>426</td>\n",
       "      <td>3</td>\n",
       "      <td>1</td>\n",
       "      <td>1</td>\n",
       "      <td>0</td>\n",
       "      <td>0</td>\n",
       "      <td>1</td>\n",
       "      <td>0</td>\n",
       "      <td>0</td>\n",
       "      <td>0</td>\n",
       "      <td>...</td>\n",
       "      <td>0.25</td>\n",
       "      <td>1.0</td>\n",
       "      <td>2.0</td>\n",
       "      <td>6.0</td>\n",
       "      <td>18.0</td>\n",
       "      <td>1.11</td>\n",
       "      <td>1.05</td>\n",
       "      <td>1.05</td>\n",
       "      <td>6.0</td>\n",
       "      <td>5.0</td>\n",
       "    </tr>\n",
       "    <tr>\n",
       "      <th>408</th>\n",
       "      <td>427</td>\n",
       "      <td>4</td>\n",
       "      <td>0</td>\n",
       "      <td>1</td>\n",
       "      <td>0</td>\n",
       "      <td>0</td>\n",
       "      <td>1</td>\n",
       "      <td>0</td>\n",
       "      <td>0</td>\n",
       "      <td>0</td>\n",
       "      <td>...</td>\n",
       "      <td>NaN</td>\n",
       "      <td>1.0</td>\n",
       "      <td>2.0</td>\n",
       "      <td>10.5</td>\n",
       "      <td>12.5</td>\n",
       "      <td>1.11</td>\n",
       "      <td>1.09</td>\n",
       "      <td>2.07</td>\n",
       "      <td>2.0</td>\n",
       "      <td>2.0</td>\n",
       "    </tr>\n",
       "    <tr>\n",
       "      <th>409</th>\n",
       "      <td>428</td>\n",
       "      <td>4</td>\n",
       "      <td>0</td>\n",
       "      <td>1</td>\n",
       "      <td>0</td>\n",
       "      <td>0</td>\n",
       "      <td>1</td>\n",
       "      <td>0</td>\n",
       "      <td>0</td>\n",
       "      <td>0</td>\n",
       "      <td>...</td>\n",
       "      <td>0.10</td>\n",
       "      <td>0.0</td>\n",
       "      <td>2.0</td>\n",
       "      <td>10.5</td>\n",
       "      <td>12.5</td>\n",
       "      <td>1.05</td>\n",
       "      <td>0.89</td>\n",
       "      <td>2.11</td>\n",
       "      <td>2.0</td>\n",
       "      <td>2.0</td>\n",
       "    </tr>\n",
       "  </tbody>\n",
       "</table>\n",
       "<p>410 rows × 46 columns</p>\n",
       "</div>"
      ],
      "text/plain": [
       "     SHEET  CHAIN  CO_OWNED  STATE  SOUTHJ  CENTRALJ  NORTHJ  PA1  PA2  SHORE  \\\n",
       "0       46      1         0      0       0         0       0    1    0      0   \n",
       "1       49      2         0      0       0         0       0    1    0      0   \n",
       "2      506      2         1      0       0         0       0    1    0      0   \n",
       "3       56      4         1      0       0         0       0    1    0      0   \n",
       "4       61      4         1      0       0         0       0    1    0      0   \n",
       "..     ...    ...       ...    ...     ...       ...     ...  ...  ...    ...   \n",
       "405    423      2         1      1       0         0       1    0    0      0   \n",
       "406    424      2         1      1       0         0       1    0    0      0   \n",
       "407    426      3         1      1       0         0       1    0    0      0   \n",
       "408    427      4         0      1       0         0       1    0    0      0   \n",
       "409    428      4         0      1       0         0       1    0    0      0   \n",
       "\n",
       "     ...  FIRSTIN2  SPECIAL2  MEALS2  OPEN2R  HRSOPEN2  PSODA2  PFRY2  \\\n",
       "0    ...      0.08       1.0     2.0     6.5      16.5    1.03    NaN   \n",
       "1    ...      0.05       0.0     2.0    10.0      13.0    1.01   0.89   \n",
       "2    ...      0.25       NaN     1.0    11.0      11.0    0.95   0.74   \n",
       "3    ...      0.15       0.0     2.0    10.0      12.0    0.92   0.79   \n",
       "4    ...      0.15       0.0     2.0    10.0      12.0    1.01   0.84   \n",
       "..   ...       ...       ...     ...     ...       ...     ...    ...   \n",
       "405  ...      0.50       0.0     1.0    11.0      11.0    1.05   0.84   \n",
       "406  ...      0.50       0.0     1.0    11.0      14.0    1.05   0.94   \n",
       "407  ...      0.25       1.0     2.0     6.0      18.0    1.11   1.05   \n",
       "408  ...       NaN       1.0     2.0    10.5      12.5    1.11   1.09   \n",
       "409  ...      0.10       0.0     2.0    10.5      12.5    1.05   0.89   \n",
       "\n",
       "     PENTREE2  NREGS2  NREGS112  \n",
       "0        0.94     4.0       4.0  \n",
       "1        2.35     4.0       4.0  \n",
       "2        2.33     4.0       3.0  \n",
       "3        0.87     2.0       2.0  \n",
       "4        0.95     2.0       2.0  \n",
       "..        ...     ...       ...  \n",
       "405      2.32     3.0       2.0  \n",
       "406      2.32     5.0       3.0  \n",
       "407      1.05     6.0       5.0  \n",
       "408      2.07     2.0       2.0  \n",
       "409      2.11     2.0       2.0  \n",
       "\n",
       "[410 rows x 46 columns]"
      ]
     },
     "execution_count": 4,
     "metadata": {},
     "output_type": "execute_result"
    }
   ],
   "source": [
    "df"
   ]
  },
  {
   "cell_type": "markdown",
   "id": "5fed6a93",
   "metadata": {},
   "source": [
    "### Feature description"
   ]
  },
  {
   "cell_type": "code",
   "execution_count": 5,
   "id": "3929a9d0",
   "metadata": {},
   "outputs": [
    {
     "data": {
      "text/plain": [
       "{'SHEET': 'sheet number (unique store id)',\n",
       " 'CHAIN': 'chain 1=bk; 2=kfc; 3=roys; 4=wendys',\n",
       " 'CO_OWNED': '1 if company owned',\n",
       " 'STATE': '1 if NJ; 0 if Pa',\n",
       " 'SOUTHJ': '1 if in southern NJ',\n",
       " 'CENTRALJ': '1 if in central NJ',\n",
       " 'NORTHJ': '1 if in northern NJ',\n",
       " 'PA1': '1 if in PA, northeast suburbs of Phila',\n",
       " 'PA2': '1 if in PA, Easton etc',\n",
       " 'SHORE': '1 if on NJ shore',\n",
       " 'NCALLS': 'number of call-backs*',\n",
       " 'EMPFT': '# full-time employees',\n",
       " 'EMPPT': '# part-time employees',\n",
       " 'NMGRS': \"# managers/ass't managers\",\n",
       " 'WAGE_ST': 'starting wage ($/hr)',\n",
       " 'INCTIME': 'months to usual first raise',\n",
       " 'FIRSTINC': 'usual amount of first raise ($/hr)',\n",
       " 'BONUS': '1 if cash bounty for new workers',\n",
       " 'PCTAFF': '% employees affected by new minimum',\n",
       " 'MEALS': 'free/reduced price code (See below)',\n",
       " 'OPEN': 'hour of opening',\n",
       " 'HRSOPEN': 'number hrs open per day',\n",
       " 'PSODA': 'price of medium soda, including tax',\n",
       " 'PFRY': 'price of small fries, including tax',\n",
       " 'PENTREE': 'price of entree, including tax',\n",
       " 'NREGS': 'number of cash registers in store',\n",
       " 'NREGS11': 'number of registers open at 11:00 am',\n",
       " 'TYPE2': 'type 2nd interview 1=phone; 2=personal',\n",
       " 'STATUS2': 'status of second interview: see below',\n",
       " 'DATE2': 'date of second interview MMDDYY format',\n",
       " 'NCALLS2': 'number of call-backs*',\n",
       " 'EMPFT2': '# full-time employees',\n",
       " 'EMPPT2': '# part-time employees',\n",
       " 'NMGRS2': \"# managers/ass't managers\",\n",
       " 'WAGE_ST2': 'starting wage ($/hr)',\n",
       " 'INCTIME2': 'months to usual first raise',\n",
       " 'FIRSTIN2': 'usual amount of first raise ($/hr)',\n",
       " 'SPECIAL2': '1 if special program for new workers',\n",
       " 'MEALS2': 'free/reduced price code (See below)',\n",
       " 'OPEN2R': 'hour of opening',\n",
       " 'HRSOPEN2': 'number hrs open per day',\n",
       " 'PSODA2': 'price of medium soda, including tax',\n",
       " 'PFRY2': 'price of small fries, including tax',\n",
       " 'PENTREE2': 'price of entree, including tax',\n",
       " 'NREGS2': 'number of cash registers in store',\n",
       " 'NREGS112': 'number of registers open at 11:00 am'}"
      ]
     },
     "execution_count": 5,
     "metadata": {},
     "output_type": "execute_result"
    }
   ],
   "source": [
    "column_descriptions"
   ]
  },
  {
   "cell_type": "code",
   "execution_count": 6,
   "id": "a5c9e230",
   "metadata": {},
   "outputs": [
    {
     "data": {
      "text/plain": [
       "(410, 46)"
      ]
     },
     "execution_count": 6,
     "metadata": {},
     "output_type": "execute_result"
    }
   ],
   "source": [
    "df.shape"
   ]
  },
  {
   "cell_type": "code",
   "execution_count": 7,
   "id": "f08fa185",
   "metadata": {},
   "outputs": [
    {
     "data": {
      "text/plain": [
       "Index(['SHEET', 'CHAIN', 'CO_OWNED', 'STATE', 'SOUTHJ', 'CENTRALJ', 'NORTHJ',\n",
       "       'PA1', 'PA2', 'SHORE', 'NCALLS', 'EMPFT', 'EMPPT', 'NMGRS', 'WAGE_ST',\n",
       "       'INCTIME', 'FIRSTINC', 'BONUS', 'PCTAFF', 'MEALS', 'OPEN', 'HRSOPEN',\n",
       "       'PSODA', 'PFRY', 'PENTREE', 'NREGS', 'NREGS11', 'TYPE2', 'STATUS2',\n",
       "       'DATE2', 'NCALLS2', 'EMPFT2', 'EMPPT2', 'NMGRS2', 'WAGE_ST2',\n",
       "       'INCTIME2', 'FIRSTIN2', 'SPECIAL2', 'MEALS2', 'OPEN2R', 'HRSOPEN2',\n",
       "       'PSODA2', 'PFRY2', 'PENTREE2', 'NREGS2', 'NREGS112'],\n",
       "      dtype='object')"
      ]
     },
     "execution_count": 7,
     "metadata": {},
     "output_type": "execute_result"
    }
   ],
   "source": [
    "df.columns"
   ]
  },
  {
   "cell_type": "markdown",
   "id": "8e14fe07",
   "metadata": {},
   "source": [
    "### EDA Analysis"
   ]
  },
  {
   "cell_type": "code",
   "execution_count": 8,
   "id": "034c9914",
   "metadata": {},
   "outputs": [],
   "source": [
    "df['FTE_EMP'] = df['EMPFT'] + df['NMGRS'] + 0.5 * df['EMPPT']\n",
    "df['FTE_EMP2'] = df['EMPFT2'] + df['NMGRS2'] + 0.5 * df['EMPPT2']\n",
    "df['price_full_meal'] = df['PENTREE'] + df['PFRY'] + df['PSODA']\n",
    "df['price_full_meal2'] = df['PENTREE2'] + df['PFRY2'] + df['PSODA2']\n",
    "df['fulltime_employee_perc'] = df['EMPFT'] / df['FTE_EMP']\n",
    "df['fulltime_employee_perc2'] = df['EMPFT2'] / df['FTE_EMP2']\n",
    "\n",
    "df['salary1'] = df['WAGE_ST'] == 4.25\n",
    "df['salary2'] = df['WAGE_ST2'] == 4.25\n",
    "df['salary3'] = df['WAGE_ST2'] == 5.05\n",
    "\n",
    "state_map = {0: \"PA\", 1: \"NJ\"}  \n",
    "df[\"state\"] = df[\"STATE\"].map(state_map)"
   ]
  },
  {
   "cell_type": "code",
   "execution_count": 9,
   "id": "aa43b40e",
   "metadata": {},
   "outputs": [
    {
     "data": {
      "text/html": [
       "<div>\n",
       "<style scoped>\n",
       "    .dataframe tbody tr th:only-of-type {\n",
       "        vertical-align: middle;\n",
       "    }\n",
       "\n",
       "    .dataframe tbody tr th {\n",
       "        vertical-align: top;\n",
       "    }\n",
       "\n",
       "    .dataframe thead th {\n",
       "        text-align: right;\n",
       "    }\n",
       "</style>\n",
       "<table border=\"1\" class=\"dataframe\">\n",
       "  <thead>\n",
       "    <tr style=\"text-align: right;\">\n",
       "      <th></th>\n",
       "      <th>NJ</th>\n",
       "      <th>PA</th>\n",
       "    </tr>\n",
       "  </thead>\n",
       "  <tbody>\n",
       "    <tr>\n",
       "      <th>Burger King</th>\n",
       "      <td>41.09</td>\n",
       "      <td>44.30</td>\n",
       "    </tr>\n",
       "    <tr>\n",
       "      <th>KFC</th>\n",
       "      <td>20.54</td>\n",
       "      <td>15.19</td>\n",
       "    </tr>\n",
       "    <tr>\n",
       "      <th>Roy Rogers</th>\n",
       "      <td>24.77</td>\n",
       "      <td>21.52</td>\n",
       "    </tr>\n",
       "    <tr>\n",
       "      <th>Wendy's</th>\n",
       "      <td>13.60</td>\n",
       "      <td>18.99</td>\n",
       "    </tr>\n",
       "  </tbody>\n",
       "</table>\n",
       "</div>"
      ],
      "text/plain": [
       "                NJ     PA\n",
       "Burger King  41.09  44.30\n",
       "KFC          20.54  15.19\n",
       "Roy Rogers   24.77  21.52\n",
       "Wendy's      13.60  18.99"
      ]
     },
     "execution_count": 9,
     "metadata": {},
     "output_type": "execute_result"
    }
   ],
   "source": [
    "df = pd.get_dummies(df, prefix=\"C\", dtype=int, columns=[\"CHAIN\"]).rename(\n",
    "        columns={'C_1': \"Burger King\", 'C_2': \"KFC\",\n",
    "                  'C_3': \"Roy Rogers\", 'C_4': \"Wendy's\"})\n",
    "\n",
    "chains = ['Burger King', 'KFC', 'Roy Rogers', 'Wendy\\'s']\n",
    "result_chains = df.groupby(['state'])[chains].mean()\n",
    "result_chains.index.name = None \n",
    "result_chains = result_chains.T*100\n",
    "result_chains.round(2)"
   ]
  },
  {
   "cell_type": "code",
   "execution_count": 10,
   "id": "770b2579",
   "metadata": {},
   "outputs": [
    {
     "data": {
      "text/html": [
       "<div>\n",
       "<style scoped>\n",
       "    .dataframe tbody tr th:only-of-type {\n",
       "        vertical-align: middle;\n",
       "    }\n",
       "\n",
       "    .dataframe tbody tr th {\n",
       "        vertical-align: top;\n",
       "    }\n",
       "\n",
       "    .dataframe thead th {\n",
       "        text-align: right;\n",
       "    }\n",
       "</style>\n",
       "<table border=\"1\" class=\"dataframe\">\n",
       "  <thead>\n",
       "    <tr style=\"text-align: right;\">\n",
       "      <th></th>\n",
       "      <th>PA</th>\n",
       "      <th>NJ</th>\n",
       "    </tr>\n",
       "  </thead>\n",
       "  <tbody>\n",
       "    <tr>\n",
       "      <th>Company-owned (%)</th>\n",
       "      <td>35.44</td>\n",
       "      <td>34.14</td>\n",
       "    </tr>\n",
       "  </tbody>\n",
       "</table>\n",
       "</div>"
      ],
      "text/plain": [
       "                      PA     NJ\n",
       "Company-owned (%)  35.44  34.14"
      ]
     },
     "execution_count": 10,
     "metadata": {},
     "output_type": "execute_result"
    }
   ],
   "source": [
    "result_coowned = df.groupby(['STATE'])['CO_OWNED'].mean().to_frame()\n",
    "result_coowned.index.name = None \n",
    "result_coowned = result_coowned.rename(index={0: \"PA\", 1: \"NJ\"},\n",
    "                    columns={'CO_OWNED': 'Company-owned (%)'}).T*100\n",
    "result_coowned.round(2)"
   ]
  },
  {
   "cell_type": "code",
   "execution_count": 11,
   "id": "e2d7a4e9",
   "metadata": {},
   "outputs": [
    {
     "data": {
      "text/html": [
       "<div>\n",
       "<style scoped>\n",
       "    .dataframe tbody tr th:only-of-type {\n",
       "        vertical-align: middle;\n",
       "    }\n",
       "\n",
       "    .dataframe tbody tr th {\n",
       "        vertical-align: top;\n",
       "    }\n",
       "\n",
       "    .dataframe thead th {\n",
       "        text-align: right;\n",
       "    }\n",
       "</style>\n",
       "<table border=\"1\" class=\"dataframe\">\n",
       "  <thead>\n",
       "    <tr style=\"text-align: right;\">\n",
       "      <th></th>\n",
       "      <th>NJ</th>\n",
       "      <th>PA</th>\n",
       "    </tr>\n",
       "  </thead>\n",
       "  <tbody>\n",
       "    <tr>\n",
       "      <th>FTE Employment</th>\n",
       "      <td>20.44</td>\n",
       "      <td>23.33</td>\n",
       "    </tr>\n",
       "    <tr>\n",
       "      <th>Full-time employees (%)</th>\n",
       "      <td>32.85</td>\n",
       "      <td>35.04</td>\n",
       "    </tr>\n",
       "    <tr>\n",
       "      <th>Starting Wage</th>\n",
       "      <td>4.61</td>\n",
       "      <td>4.63</td>\n",
       "    </tr>\n",
       "    <tr>\n",
       "      <th>Wage = $4.25 (percentage)</th>\n",
       "      <td>30.51</td>\n",
       "      <td>32.91</td>\n",
       "    </tr>\n",
       "    <tr>\n",
       "      <th>Price of full meal</th>\n",
       "      <td>3.35</td>\n",
       "      <td>3.04</td>\n",
       "    </tr>\n",
       "    <tr>\n",
       "      <th>Hours open on weekdays</th>\n",
       "      <td>14.42</td>\n",
       "      <td>14.53</td>\n",
       "    </tr>\n",
       "  </tbody>\n",
       "</table>\n",
       "</div>"
      ],
      "text/plain": [
       "                              NJ     PA\n",
       "FTE Employment             20.44  23.33\n",
       "Full-time employees (%)    32.85  35.04\n",
       "Starting Wage               4.61   4.63\n",
       "Wage = $4.25 (percentage)  30.51  32.91\n",
       "Price of full meal          3.35   3.04\n",
       "Hours open on weekdays     14.42  14.53"
      ]
     },
     "execution_count": 11,
     "metadata": {},
     "output_type": "execute_result"
    }
   ],
   "source": [
    "pre_treat_cols = ['FTE_EMP', 'fulltime_employee_perc', 'WAGE_ST',\n",
    "                  'salary1', 'price_full_meal', 'HRSOPEN']\n",
    "result_w1 = df.groupby(['state'])[pre_treat_cols].mean()\n",
    "result_w1.index.name = None \n",
    "result_w1 = result_w1.rename(\n",
    "            columns={'FTE_EMP': 'FTE Employment',\n",
    "                    'fulltime_employee_perc': 'Full-time employees (%)',\n",
    "                    'WAGE_ST': 'Starting Wage',\n",
    "                    'salary1': 'Wage = $4.25 (percentage)',\n",
    "                    'price_full_meal': 'Price of full meal',\n",
    "                    'HRSOPEN': 'Hours open on weekdays'}).T\n",
    "result_w1.loc['Full-time employees (%)'] *= 100\n",
    "result_w1.loc['Wage = $4.25 (percentage)'] *= 100\n",
    "result_w1.round(2)"
   ]
  },
  {
   "cell_type": "code",
   "execution_count": 12,
   "id": "79051a78",
   "metadata": {},
   "outputs": [
    {
     "data": {
      "text/html": [
       "<div>\n",
       "<style scoped>\n",
       "    .dataframe tbody tr th:only-of-type {\n",
       "        vertical-align: middle;\n",
       "    }\n",
       "\n",
       "    .dataframe tbody tr th {\n",
       "        vertical-align: top;\n",
       "    }\n",
       "\n",
       "    .dataframe thead th {\n",
       "        text-align: right;\n",
       "    }\n",
       "</style>\n",
       "<table border=\"1\" class=\"dataframe\">\n",
       "  <thead>\n",
       "    <tr style=\"text-align: right;\">\n",
       "      <th></th>\n",
       "      <th>NJ</th>\n",
       "      <th>PA</th>\n",
       "    </tr>\n",
       "  </thead>\n",
       "  <tbody>\n",
       "    <tr>\n",
       "      <th>FTE Employment</th>\n",
       "      <td>21.03</td>\n",
       "      <td>21.17</td>\n",
       "    </tr>\n",
       "    <tr>\n",
       "      <th>Full-time employees (%)</th>\n",
       "      <td>35.87</td>\n",
       "      <td>30.38</td>\n",
       "    </tr>\n",
       "    <tr>\n",
       "      <th>Starting Wage</th>\n",
       "      <td>5.08</td>\n",
       "      <td>4.62</td>\n",
       "    </tr>\n",
       "    <tr>\n",
       "      <th>Wage = $4.25 (percentage)</th>\n",
       "      <td>0.00</td>\n",
       "      <td>25.32</td>\n",
       "    </tr>\n",
       "    <tr>\n",
       "      <th>Wage = $5.05 (percentage)</th>\n",
       "      <td>85.50</td>\n",
       "      <td>1.27</td>\n",
       "    </tr>\n",
       "    <tr>\n",
       "      <th>Price of full meal</th>\n",
       "      <td>3.41</td>\n",
       "      <td>3.03</td>\n",
       "    </tr>\n",
       "    <tr>\n",
       "      <th>Hours open on weekdays</th>\n",
       "      <td>14.42</td>\n",
       "      <td>14.65</td>\n",
       "    </tr>\n",
       "  </tbody>\n",
       "</table>\n",
       "</div>"
      ],
      "text/plain": [
       "                              NJ     PA\n",
       "FTE Employment             21.03  21.17\n",
       "Full-time employees (%)    35.87  30.38\n",
       "Starting Wage               5.08   4.62\n",
       "Wage = $4.25 (percentage)   0.00  25.32\n",
       "Wage = $5.05 (percentage)  85.50   1.27\n",
       "Price of full meal          3.41   3.03\n",
       "Hours open on weekdays     14.42  14.65"
      ]
     },
     "execution_count": 12,
     "metadata": {},
     "output_type": "execute_result"
    }
   ],
   "source": [
    "post_treat_cols = ['FTE_EMP2','fulltime_employee_perc2','WAGE_ST2',\n",
    "                   'salary2', 'salary3', 'price_full_meal2', 'HRSOPEN2']\n",
    "result_w2 = df.groupby(['state'])[post_treat_cols].mean()\n",
    "result_w2.index.name = None \n",
    "result_w2 = result_w2.rename(\n",
    "            columns={'FTE_EMP2': 'FTE Employment',\n",
    "                     'fulltime_employee_perc2': 'Full-time employees (%)',\n",
    "                     'WAGE_ST2': 'Starting Wage',\n",
    "                     'salary2': 'Wage = $4.25 (percentage)',\n",
    "                     'salary3': 'Wage = $5.05 (percentage)',\n",
    "                     'price_full_meal2': 'Price of full meal',\n",
    "                     'HRSOPEN2': 'Hours open on weekdays'}).T\n",
    "result_w2.loc['Full-time employees (%)'] *= 100\n",
    "result_w2.loc['Wage = $4.25 (percentage)'] *= 100\n",
    "result_w2.loc['Wage = $5.05 (percentage)'] *= 100\n",
    "result_w2.round(2)"
   ]
  },
  {
   "cell_type": "code",
   "execution_count": 13,
   "id": "88a2ea93",
   "metadata": {},
   "outputs": [
    {
     "data": {
      "image/png": "[encoded data removed]",
      "text/plain": [
       "<Figure size 800x1000 with 2 Axes>"
      ]
     },
     "metadata": {},
     "output_type": "display_data"
    }
   ],
   "source": [
    "cols = [\"WAGE_ST\", \"WAGE_ST2\"]\n",
    "titles = [\n",
    "    \"Pre-treatment (February-March 1992)\",\n",
    "    \"Post-treatment (November-December 1992)\"\n",
    "]\n",
    "\n",
    "plt.figure(figsize=(8, 10))  \n",
    "\n",
    "for i, (col, title) in enumerate(zip(cols, titles), start=1):\n",
    "    ax = plt.subplot(2, 1, i)  \n",
    "    sns.histplot(\n",
    "        data=df,\n",
    "        x=col,\n",
    "        hue=\"state\",\n",
    "        binwidth=0.1,\n",
    "        stat=\"percent\",\n",
    "        common_norm=False,\n",
    "        multiple=\"dodge\",\n",
    "        ax=ax\n",
    "    )\n",
    "    ax.set_title(title, fontsize=13)\n",
    "    ax.set_xlabel(\"Wage Range\", fontsize=13)\n",
    "    ax.set_ylabel(\"Percentage of Stores\", fontsize=13)\n",
    "    ax.set_xticks(np.arange(4.25, df[col].max(), 0.2))\n",
    "\n",
    "plt.subplots_adjust(hspace=0.35)\n",
    "plt.show()"
   ]
  },
  {
   "cell_type": "markdown",
   "id": "096cebc8",
   "metadata": {},
   "source": [
    "### Causal model"
   ]
  },
  {
   "cell_type": "code",
   "execution_count": 14,
   "id": "8dc621fa",
   "metadata": {},
   "outputs": [
    {
     "data": {
      "text/plain": [
       "np.float64(-0.13815494849977483)"
      ]
     },
     "execution_count": 14,
     "metadata": {},
     "output_type": "execute_result"
    }
   ],
   "source": [
    "T = df['STATE']\n",
    "Y = df['FTE_EMP2']\n",
    "Y[T==1].mean()-Y[T==0].mean()"
   ]
  },
  {
   "cell_type": "code",
   "execution_count": 15,
   "id": "4ea1f362",
   "metadata": {},
   "outputs": [
    {
     "data": {
      "text/plain": [
       "np.float64(-2.1655844155844157)"
      ]
     },
     "execution_count": 15,
     "metadata": {},
     "output_type": "execute_result"
    }
   ],
   "source": [
    "df[df['STATE'] == 0]['FTE_EMP2'].mean() - df[df['STATE'] == 0]['FTE_EMP'].mean()"
   ]
  },
  {
   "cell_type": "code",
   "execution_count": 16,
   "id": "83cada06",
   "metadata": {},
   "outputs": [
    {
     "data": {
      "text/plain": [
       "np.float64(0.5880213673961663)"
      ]
     },
     "execution_count": 16,
     "metadata": {},
     "output_type": "execute_result"
    }
   ],
   "source": [
    "df[df['STATE'] == 1]['FTE_EMP2'].mean() - df[df['STATE'] == 1]['FTE_EMP'].mean()"
   ]
  },
  {
   "cell_type": "code",
   "execution_count": 17,
   "id": "d43ea42b",
   "metadata": {},
   "outputs": [
    {
     "data": {
      "text/plain": [
       "2.753605782980582"
      ]
     },
     "execution_count": 17,
     "metadata": {},
     "output_type": "execute_result"
    }
   ],
   "source": [
    "0.5880213673961663+2.1655844155844157"
   ]
  },
  {
   "cell_type": "code",
   "execution_count": 18,
   "id": "b487f6a1",
   "metadata": {},
   "outputs": [
    {
     "name": "stdout",
     "output_type": "stream",
     "text": [
      "SMD for FTE_EMP: -0.194\n",
      "SMD for KFC: 0.099\n",
      "SMD for Wendy's: -0.104\n"
     ]
    }
   ],
   "source": [
    "covariates = ['FTE_EMP', 'KFC', 'Wendy\\'s']\n",
    "for covariate in covariates:\n",
    "    mean_xi_t = df[df['STATE']==1][covariate].mean()\n",
    "    mean_xi_c = df[df['STATE']==0][covariate].mean()\n",
    "    std_xi_t = df[df['STATE']==1][covariate].std(ddof=0)\n",
    "    std_xi_c = df[df['STATE']==0][covariate].std(ddof=0)\n",
    "    smd = (mean_xi_t - mean_xi_c) / np.sqrt(std_xi_t**2 + std_xi_c**2)\n",
    "    print(f\"SMD for {covariate}:\", np.round(smd, 3))\n"
   ]
  },
  {
   "cell_type": "markdown",
   "id": "99321323",
   "metadata": {},
   "source": [
    "### Estimation using Linear regression"
   ]
  },
  {
   "cell_type": "code",
   "execution_count": 19,
   "id": "ae196b69",
   "metadata": {},
   "outputs": [
    {
     "data": {
      "text/html": [
       "<div>\n",
       "<style scoped>\n",
       "    .dataframe tbody tr th:only-of-type {\n",
       "        vertical-align: middle;\n",
       "    }\n",
       "\n",
       "    .dataframe tbody tr th {\n",
       "        vertical-align: top;\n",
       "    }\n",
       "\n",
       "    .dataframe thead th {\n",
       "        text-align: right;\n",
       "    }\n",
       "</style>\n",
       "<table border=\"1\" class=\"dataframe\">\n",
       "  <thead>\n",
       "    <tr style=\"text-align: right;\">\n",
       "      <th></th>\n",
       "      <th>Estimation</th>\n",
       "      <th>Standard error</th>\n",
       "      <th>p-value</th>\n",
       "      <th>95% conf interval</th>\n",
       "    </tr>\n",
       "  </thead>\n",
       "  <tbody>\n",
       "    <tr>\n",
       "      <th>STATE</th>\n",
       "      <td>2.282</td>\n",
       "      <td>1.197</td>\n",
       "      <td>0.057</td>\n",
       "      <td>[-0.073, 4.636]</td>\n",
       "    </tr>\n",
       "  </tbody>\n",
       "</table>\n",
       "</div>"
      ],
      "text/plain": [
       "       Estimation  Standard error  p-value 95% conf interval\n",
       "STATE       2.282           1.197    0.057   [-0.073, 4.636]"
      ]
     },
     "execution_count": 19,
     "metadata": {},
     "output_type": "execute_result"
    }
   ],
   "source": [
    "df['delta_emp'] = df['FTE_EMP2'] - df['FTE_EMP']\n",
    "final_df = df.dropna(subset=['FTE_EMP2', 'FTE_EMP',\n",
    "                             'WAGE_ST', 'WAGE_ST2'])\n",
    "\n",
    "model1 = sm.OLS(final_df['delta_emp'],\n",
    "                sm.add_constant(final_df[['Roy Rogers',                                              \n",
    "               'KFC', 'Wendy\\'s', 'STATE', 'CO_OWNED']]))\n",
    "results = model1.fit()\n",
    "cols = {\"Estimation\": [results.params['STATE']],\n",
    "   \"Standard error\": [results.bse['STATE']],\n",
    "   \"p-value\": [results.pvalues['STATE']],\n",
    "   \"95% conf interval\":   \n",
    "       [results.conf_int().loc[\"STATE\"].round(3).tolist()]}\n",
    "\n",
    "output = pd.DataFrame(cols, index=[\"STATE\"])\n",
    "output.round(3)"
   ]
  },
  {
   "cell_type": "code",
   "execution_count": 20,
   "id": "dd10c156",
   "metadata": {},
   "outputs": [
    {
     "data": {
      "text/html": [
       "<div>\n",
       "<style scoped>\n",
       "    .dataframe tbody tr th:only-of-type {\n",
       "        vertical-align: middle;\n",
       "    }\n",
       "\n",
       "    .dataframe tbody tr th {\n",
       "        vertical-align: top;\n",
       "    }\n",
       "\n",
       "    .dataframe thead th {\n",
       "        text-align: right;\n",
       "    }\n",
       "</style>\n",
       "<table border=\"1\" class=\"dataframe\">\n",
       "  <thead>\n",
       "    <tr style=\"text-align: right;\">\n",
       "      <th></th>\n",
       "      <th>Estimation</th>\n",
       "      <th>Standard error</th>\n",
       "      <th>p-value</th>\n",
       "      <th>95% conf interval</th>\n",
       "    </tr>\n",
       "  </thead>\n",
       "  <tbody>\n",
       "    <tr>\n",
       "      <th>GAP</th>\n",
       "      <td>16.363</td>\n",
       "      <td>6.237</td>\n",
       "      <td>0.009</td>\n",
       "      <td>[4.095, 28.631]</td>\n",
       "    </tr>\n",
       "  </tbody>\n",
       "</table>\n",
       "</div>"
      ],
      "text/plain": [
       "     Estimation  Standard error  p-value 95% conf interval\n",
       "GAP      16.363           6.237    0.009   [4.095, 28.631]"
      ]
     },
     "execution_count": 20,
     "metadata": {},
     "output_type": "execute_result"
    }
   ],
   "source": [
    "df['GAP'] = np.where(\n",
    "    (df['STATE'] == 1) & (df['WAGE_ST'] < 5.05),\n",
    "    (5.05 - df['WAGE_ST']) / df['WAGE_ST'],\n",
    "    0\n",
    ")\n",
    "final_df = df.dropna(subset=['FTE_EMP2', 'FTE_EMP',\n",
    "                             'WAGE_ST', 'WAGE_ST2'])\n",
    "\n",
    "model2 = sm.OLS(final_df['delta_emp'], \n",
    "                sm.add_constant(final_df[['Roy Rogers', \n",
    "               'KFC', 'Wendy\\'s', 'CO_OWNED', 'GAP',\n",
    "               ]]))\n",
    "results = model2.fit()\n",
    "cols = {\"Estimation\": [results.params['GAP']],\n",
    "   \"Standard error\": [results.bse['GAP']],\n",
    "   \"p-value\": [results.pvalues['GAP']], \n",
    "   \"95% conf interval\":   \n",
    "       [results.conf_int().loc[\"GAP\"].round(3).tolist()]}\n",
    "output = pd.DataFrame(cols, index=[\"GAP\"])\n",
    "output.round(3)"
   ]
  },
  {
   "cell_type": "code",
   "execution_count": 21,
   "id": "3eb1fa3e",
   "metadata": {},
   "outputs": [
    {
     "data": {
      "text/plain": [
       "np.float64(1.7109302862753615)"
      ]
     },
     "execution_count": 21,
     "metadata": {},
     "output_type": "execute_result"
    }
   ],
   "source": [
    "final_df[final_df['STATE']==1]['GAP'].mean() * 16.363\t"
   ]
  },
  {
   "cell_type": "markdown",
   "id": "fd09034a",
   "metadata": {},
   "source": [
    "### Estimation using IPTW"
   ]
  },
  {
   "cell_type": "code",
   "execution_count": 22,
   "id": "73e7b995",
   "metadata": {},
   "outputs": [
    {
     "name": "stdout",
     "output_type": "stream",
     "text": [
      "Outcomes:\n",
      "0    20.714231\n",
      "1    21.398265\n",
      "dtype: float64\n",
      "Effect:  0.684033518110752\n"
     ]
    }
   ],
   "source": [
    "final_df = df.dropna(subset=['FTE_EMP2', 'FTE_EMP',\n",
    "                             'WAGE_ST', 'WAGE_ST2'])\n",
    "\n",
    "cov_list = ['FTE_EMP', 'KFC', 'Roy Rogers', \n",
    "            'Wendy\\'s', 'WAGE_ST', 'CO_OWNED']\n",
    "\n",
    "X = final_df[cov_list]\n",
    "Y = final_df['FTE_EMP2']  \n",
    "T = final_df['STATE']\n",
    "\n",
    "learner = LogisticRegression(penalty=None, solver='lbfgs',\n",
    "                             max_iter=500)    \n",
    "\n",
    "\n",
    "ipw = IPW(learner)\n",
    "ipw.fit(X, T)\n",
    "\n",
    "outcomes = ipw.estimate_population_outcome(X, T, Y)\n",
    "effect = ipw.estimate_effect(outcomes[1], outcomes[0])\n",
    "print(\"Outcomes:\")\n",
    "print(outcomes)\n",
    "print(\"Effect: \", effect['diff'])"
   ]
  },
  {
   "cell_type": "code",
   "execution_count": 23,
   "id": "01cb3ad8",
   "metadata": {},
   "outputs": [
    {
     "data": {
      "image/png": "[encoded data removed]",
      "text/plain": [
       "<Figure size 700x400 with 1 Axes>"
      ]
     },
     "metadata": {},
     "output_type": "display_data"
    }
   ],
   "source": [
    "evaluation_results = evaluate(ipw, X, T, Y)\n",
    "plt.figure(figsize=(7, 4))\n",
    "evaluation_results.plot_covariate_balance(kind=\"love\", \n",
    "                                          thresh=0.1)\n",
    "plt.show()"
   ]
  },
  {
   "cell_type": "code",
   "execution_count": null,
   "id": "3bc56385",
   "metadata": {},
   "outputs": [],
   "source": []
  }
 ],
 "metadata": {
  "kernelspec": {
   "display_name": "Python 3",
   "language": "python",
   "name": "python3"
  },
  "language_info": {
   "codemirror_mode": {
    "name": "ipython",
    "version": 3
   },
   "file_extension": ".py",
   "mimetype": "text/x-python",
   "name": "python",
   "nbconvert_exporter": "python",
   "pygments_lexer": "ipython3",
   "version": "3.13.7"
  }
 },
 "nbformat": 4,
 "nbformat_minor": 5
}
